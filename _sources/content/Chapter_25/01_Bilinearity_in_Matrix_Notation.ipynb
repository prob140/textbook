{
 "cells": [
  {
   "cell_type": "code",
   "execution_count": 1,
   "metadata": {
    "tags": [
     "remove_cell"
    ]
   },
   "outputs": [],
   "source": [
    "# HIDDEN\n",
    "from datascience import *\n",
    "from prob140 import *\n",
    "import matplotlib.pyplot as plt\n",
    "plt.style.use('fivethirtyeight')\n",
    "%matplotlib inline\n",
    "from scipy import stats"
   ]
  },
  {
   "cell_type": "markdown",
   "metadata": {},
   "source": [
    "## Bilinearity in Matrix Notation ##"
   ]
  },
  {
   "cell_type": "markdown",
   "metadata": {},
   "source": [
    "As a preliminary to regression, we will express bilinearity in a compact form using matrix notation. The results of this section are not new. They are simply restatements of familiar results about variances and covariances, using new notation and matrix representations.\n",
    "\n",
    "Let $\\mathbf{X}$ be a $p \\times 1$ vector of predictor variables. We know that for an $m \\times p$ matrix $\\mathbf{A}$ and an $m \\times 1$ vector $\\mathbf{b}$,\n",
    "\n",
    "$$\n",
    "Var(\\mathbf{AX} + \\mathbf{b}) ~ = ~ \\mathbf{A}\\boldsymbol{\\Sigma}_\\mathbf{X} \\mathbf{A}^T\n",
    "$$\n",
    "\n",
    "The results below are special cases of this."
   ]
  },
  {
   "cell_type": "markdown",
   "metadata": {},
   "source": [
    "### Linear Combinations ###\n",
    "To define two generic linear combinations of elements of $\\mathbf{X}$, let\n",
    "\n",
    "$$\n",
    "\\mathbf{A} ~ = ~ \n",
    "\\begin{bmatrix}\n",
    "a_1 & a_2 & \\cdots & a_p \\\\\n",
    "c_1 & c_2 & \\cdots & c_p \n",
    "\\end{bmatrix}\n",
    "~ = ~ \n",
    "\\begin{bmatrix}\n",
    "\\mathbf{a}^T \\\\\n",
    "\\mathbf{c}^T\n",
    "\\end{bmatrix}\n",
    "~~~~~~ \\text{and} ~~~~~~\n",
    "\\mathbf{b} ~ = ~\n",
    "\\begin{bmatrix}\n",
    "b \\\\\n",
    "d\n",
    "\\end{bmatrix}\n",
    "$$\n",
    "\n",
    "Then\n",
    "\n",
    "$$\n",
    "\\mathbf{AX} + \\mathbf{b} ~ = ~ \n",
    "\\begin{bmatrix}\n",
    "a_1X_1 + a_2X_2 + \\cdots + a_pX_p + b \\\\\n",
    "c_1X_1 + c_2X_2 + \\cdots + c_pX_p + d\n",
    "\\end{bmatrix}\n",
    "~ = ~ \n",
    "\\begin{bmatrix}\n",
    "\\mathbf{a}^T\\mathbf{X} + b \\\\\n",
    "\\mathbf{c}^T\\mathbf{X} + d\n",
    "\\end{bmatrix}\n",
    "$$"
   ]
  },
  {
   "cell_type": "markdown",
   "metadata": {},
   "source": [
    "### Covariance of Two Linear Combinations ###\n",
    "The covariance of the two linear combinations is the $(1, 2)$ element of the covariance matrix of $\\mathbf{AX} + \\mathbf{b}$, which is the $(1, 2)$ element of $\\mathbf{A}\\boldsymbol{\\Sigma}_\\mathbf{X}\\mathbf{A}^T$.\n",
    "\n",
    "$$\n",
    "Cov(\\mathbf{a}^T\\mathbf{X} + b, \\mathbf{c}^T\\mathbf{X} + d) \n",
    "~ = ~ \\mathbf{a}^T \\boldsymbol{\\Sigma}_\\mathbf{X} \\mathbf{c}\n",
    "$$"
   ]
  },
  {
   "cell_type": "markdown",
   "metadata": {},
   "source": [
    "### Variance of a Linear Combination ###\n",
    "The variance of the first linear combination is the $(1, 1)$ element of $\\mathbf{A}\\boldsymbol{\\Sigma}_\\mathbf{X}\\mathbf{A}^T$.\n",
    "\n",
    "$$\n",
    "Var(\\mathbf{a}^T\\mathbf{X} + b) ~ = ~ \n",
    "\\mathbf{a}^T \\boldsymbol{\\Sigma}_\\mathbf{X} \\mathbf{a}\n",
    "$$"
   ]
  },
  {
   "cell_type": "markdown",
   "metadata": {},
   "source": [
    "### Covariance Vector ###\n",
    "To predict $Y$ based on $\\mathbf{X}$ we will need to work with the covariance of $Y$ and each of the elements of $\\mathbf{X}$. Let\n",
    "\n",
    "$$\n",
    "\\sigma_{X_i, Y} ~ = ~ Cov(X_i, Y) \n",
    "$$\n",
    "\n",
    "and define the *covariance vector* of $\\mathbf{X}$ and $Y$ to be\n",
    "\n",
    "$$\n",
    "\\boldsymbol{\\Sigma}_{\\mathbf{X}, Y} ~ = ~ \n",
    "\\begin{bmatrix}\n",
    "\\sigma_{X_1, Y} \\\\\n",
    "\\sigma_{X_2, Y} \\\\\n",
    "\\vdots \\\\\n",
    "\\sigma_{X_p, Y}\n",
    "\\end{bmatrix}\n",
    "$$\n",
    "\n",
    "It will be convenient to also have a notation for the transpose of the covariance vector:\n",
    "\n",
    "$$\n",
    "\\boldsymbol{\\Sigma}_\\mathbf{Y, X} ~ = ~ \\boldsymbol{\\Sigma}_\\mathbf{X, Y}^T ~ = ~\n",
    "[\\sigma_{X_1, Y} ~ \\sigma_{X_2, Y} ~ \\ldots ~ \\sigma_{X_p, Y}]\n",
    "$$\n",
    "\n",
    "By the linearity of covariance,\n",
    "\n",
    "$$\n",
    "Cov(\\mathbf{a}^T\\mathbf{X}, Y) ~ = ~ \\mathbf{a}^T \\boldsymbol{\\Sigma}_{\\mathbf{X}, Y}\n",
    "$$"
   ]
  },
  {
   "cell_type": "code",
   "execution_count": 2,
   "metadata": {},
   "outputs": [],
   "source": []
  }
 ],
 "metadata": {
  "kernelspec": {
   "display_name": "Python 3",
   "language": "python",
   "name": "python3"
  },
  "language_info": {
   "codemirror_mode": {
    "name": "ipython",
    "version": 3
   },
   "file_extension": ".py",
   "mimetype": "text/x-python",
   "name": "python",
   "nbconvert_exporter": "python",
   "pygments_lexer": "ipython3",
   "version": "3.8.4"
  }
 },
 "nbformat": 4,
 "nbformat_minor": 2
}
