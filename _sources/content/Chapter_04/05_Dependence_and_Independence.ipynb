{
 "cells": [
  {
   "cell_type": "code",
   "execution_count": 1,
   "metadata": {
    "tags": [
     "remove_cell"
    ]
   },
   "outputs": [],
   "source": [
    "# HIDDEN\n",
    "from datascience import *\n",
    "from prob140 import *\n",
    "import numpy as np\n",
    "import matplotlib.pyplot as plt\n",
    "plt.style.use('fivethirtyeight')\n",
    "%matplotlib inline\n",
    "import math\n",
    "from scipy import stats"
   ]
  },
  {
   "cell_type": "code",
   "execution_count": 3,
   "metadata": {
    "tags": [
     "remove_cell"
    ]
   },
   "outputs": [],
   "source": [
    "# HIDDEN\n",
    "def joint(i, j):\n",
    "    if i+j <= 3:\n",
    "        mult = math.factorial(3)/(math.factorial(i)*math.factorial(j)*math.factorial(3-i-j))\n",
    "        return mult*((1/6)**(i))*((2/6)**(j))*((3/6)**(3-i-j))\n",
    "    else:\n",
    "        return 0\n",
    "\n",
    "die1 = range(4)\n",
    "die56 = range(4)\n",
    "dist1 = Table().values(die1, die56).probability_function(joint)"
   ]
  },
  {
   "cell_type": "code",
   "execution_count": 5,
   "metadata": {
    "tags": [
     "remove_cell"
    ]
   },
   "outputs": [],
   "source": [
    "# HIDDEN\n",
    "xx = [3, 4]\n",
    "yy = [5, 6, 7]\n",
    "pp = [0.1, 0.2, 0.3, 0.1, 0.2, 0.1]\n",
    "dist2 = Table().values(xx, yy).probabilities(pp)"
   ]
  },
  {
   "cell_type": "code",
   "execution_count": 6,
   "metadata": {
    "tags": [
     "remove_cell"
    ]
   },
   "outputs": [],
   "source": [
    "# HIDDEN\n",
    "xxx = range(4)\n",
    "yyy = range(5)\n",
    "def p_ind(x, y):\n",
    "    return stats.binom.pmf(x, 3, 1/2)*stats.binom.pmf(y, 4, 1/6)\n",
    "dist3 = Table().values(xxx, yyy).probability_function(p_ind)"
   ]
  },
  {
   "cell_type": "markdown",
   "metadata": {},
   "source": [
    "## Dependence and Independence ##"
   ]
  },
  {
   "cell_type": "markdown",
   "metadata": {},
   "source": [
    "Conditional distributions help us formalize our intuitive ideas about whether two random variables are independent of each other. Let $X$ and $Y$ be two random variables, and suppose we are given the value of $X$. Does that change our opinion about $Y$? If the answer is yes, then we will say that $X$ and $Y$ are dependent. If the answer is no regardless of the given value of $X$, then we will say that $X$ and $Y$ are independent.\n",
    "\n",
    "Let's start with some examples and then move to precise definitions and results."
   ]
  },
  {
   "cell_type": "markdown",
   "metadata": {},
   "source": [
    "### Dependence ###\n",
    "Here is the joint distribution of two random variables $X$ and $Y$. From this, what can we say about whether $X$ and $Y$ are dependent or independent?"
   ]
  },
  {
   "cell_type": "code",
   "execution_count": 7,
   "metadata": {},
   "outputs": [
    {
     "data": {
      "text/html": [
       "<div>\n",
       "<style scoped>\n",
       "    .dataframe tbody tr th:only-of-type {\n",
       "        vertical-align: middle;\n",
       "    }\n",
       "\n",
       "    .dataframe tbody tr th {\n",
       "        vertical-align: top;\n",
       "    }\n",
       "\n",
       "    .dataframe thead th {\n",
       "        text-align: right;\n",
       "    }\n",
       "</style>\n",
       "<table border=\"1\" class=\"dataframe\">\n",
       "  <thead>\n",
       "    <tr style=\"text-align: right;\">\n",
       "      <th></th>\n",
       "      <th>X=0</th>\n",
       "      <th>X=1</th>\n",
       "      <th>X=2</th>\n",
       "      <th>X=3</th>\n",
       "    </tr>\n",
       "  </thead>\n",
       "  <tbody>\n",
       "    <tr>\n",
       "      <th>Y=3</th>\n",
       "      <td>0.037037</td>\n",
       "      <td>0.000000</td>\n",
       "      <td>0.000000</td>\n",
       "      <td>0.00000</td>\n",
       "    </tr>\n",
       "    <tr>\n",
       "      <th>Y=2</th>\n",
       "      <td>0.166667</td>\n",
       "      <td>0.055556</td>\n",
       "      <td>0.000000</td>\n",
       "      <td>0.00000</td>\n",
       "    </tr>\n",
       "    <tr>\n",
       "      <th>Y=1</th>\n",
       "      <td>0.250000</td>\n",
       "      <td>0.166667</td>\n",
       "      <td>0.027778</td>\n",
       "      <td>0.00000</td>\n",
       "    </tr>\n",
       "    <tr>\n",
       "      <th>Y=0</th>\n",
       "      <td>0.125000</td>\n",
       "      <td>0.125000</td>\n",
       "      <td>0.041667</td>\n",
       "      <td>0.00463</td>\n",
       "    </tr>\n",
       "  </tbody>\n",
       "</table>\n",
       "</div>"
      ],
      "text/plain": [
       "          X=0       X=1       X=2      X=3\n",
       "Y=3  0.037037  0.000000  0.000000  0.00000\n",
       "Y=2  0.166667  0.055556  0.000000  0.00000\n",
       "Y=1  0.250000  0.166667  0.027778  0.00000\n",
       "Y=0  0.125000  0.125000  0.041667  0.00463"
      ]
     },
     "execution_count": 7,
     "metadata": {},
     "output_type": "execute_result"
    }
   ],
   "source": [
    "dist1"
   ]
  },
  {
   "cell_type": "markdown",
   "metadata": {},
   "source": [
    "You can see at once that if $X = 3$ then $Y$ can only be 0, whereas if $X = 2$ then $Y$ can be either 0 or 1. Knowing the value of $X$ changes the distribution of $Y$. That's dependence. "
   ]
  },
  {
   "cell_type": "markdown",
   "metadata": {},
   "source": [
    "Here is an example in which you can't quickly determine dependence or independence by just looking at the possible values."
   ]
  },
  {
   "cell_type": "code",
   "execution_count": 8,
   "metadata": {},
   "outputs": [
    {
     "data": {
      "text/html": [
       "<div>\n",
       "<style scoped>\n",
       "    .dataframe tbody tr th:only-of-type {\n",
       "        vertical-align: middle;\n",
       "    }\n",
       "\n",
       "    .dataframe tbody tr th {\n",
       "        vertical-align: top;\n",
       "    }\n",
       "\n",
       "    .dataframe thead th {\n",
       "        text-align: right;\n",
       "    }\n",
       "</style>\n",
       "<table border=\"1\" class=\"dataframe\">\n",
       "  <thead>\n",
       "    <tr style=\"text-align: right;\">\n",
       "      <th></th>\n",
       "      <th>X=3</th>\n",
       "      <th>X=4</th>\n",
       "    </tr>\n",
       "  </thead>\n",
       "  <tbody>\n",
       "    <tr>\n",
       "      <th>Y=7</th>\n",
       "      <td>0.3</td>\n",
       "      <td>0.1</td>\n",
       "    </tr>\n",
       "    <tr>\n",
       "      <th>Y=6</th>\n",
       "      <td>0.2</td>\n",
       "      <td>0.2</td>\n",
       "    </tr>\n",
       "    <tr>\n",
       "      <th>Y=5</th>\n",
       "      <td>0.1</td>\n",
       "      <td>0.1</td>\n",
       "    </tr>\n",
       "  </tbody>\n",
       "</table>\n",
       "</div>"
      ],
      "text/plain": [
       "     X=3  X=4\n",
       "Y=7  0.3  0.1\n",
       "Y=6  0.2  0.2\n",
       "Y=5  0.1  0.1"
      ]
     },
     "execution_count": 8,
     "metadata": {},
     "output_type": "execute_result"
    }
   ],
   "source": [
    "dist2"
   ]
  },
  {
   "cell_type": "markdown",
   "metadata": {},
   "source": [
    "But you can tell by looking at the conditional distributions of $X$ given $Y$. Two of them are the same, but the third is different. Knowing the value of $Y$ affects the chances for $X$. "
   ]
  },
  {
   "cell_type": "code",
   "execution_count": 11,
   "metadata": {},
   "outputs": [
    {
     "data": {
      "text/html": [
       "<div>\n",
       "<style scoped>\n",
       "    .dataframe tbody tr th:only-of-type {\n",
       "        vertical-align: middle;\n",
       "    }\n",
       "\n",
       "    .dataframe tbody tr th {\n",
       "        vertical-align: top;\n",
       "    }\n",
       "\n",
       "    .dataframe thead th {\n",
       "        text-align: right;\n",
       "    }\n",
       "</style>\n",
       "<table border=\"1\" class=\"dataframe\">\n",
       "  <thead>\n",
       "    <tr style=\"text-align: right;\">\n",
       "      <th></th>\n",
       "      <th>X=3</th>\n",
       "      <th>X=4</th>\n",
       "      <th>Sum</th>\n",
       "    </tr>\n",
       "  </thead>\n",
       "  <tbody>\n",
       "    <tr>\n",
       "      <th>Dist. of X | Y=7</th>\n",
       "      <td>0.75</td>\n",
       "      <td>0.25</td>\n",
       "      <td>1.0</td>\n",
       "    </tr>\n",
       "    <tr>\n",
       "      <th>Dist. of X | Y=6</th>\n",
       "      <td>0.50</td>\n",
       "      <td>0.50</td>\n",
       "      <td>1.0</td>\n",
       "    </tr>\n",
       "    <tr>\n",
       "      <th>Dist. of X | Y=5</th>\n",
       "      <td>0.50</td>\n",
       "      <td>0.50</td>\n",
       "      <td>1.0</td>\n",
       "    </tr>\n",
       "    <tr>\n",
       "      <th>Marginal of X</th>\n",
       "      <td>0.60</td>\n",
       "      <td>0.40</td>\n",
       "      <td>1.0</td>\n",
       "    </tr>\n",
       "  </tbody>\n",
       "</table>\n",
       "</div>"
      ],
      "text/plain": [
       "                   X=3   X=4  Sum\n",
       "Dist. of X | Y=7  0.75  0.25  1.0\n",
       "Dist. of X | Y=6  0.50  0.50  1.0\n",
       "Dist. of X | Y=5  0.50  0.50  1.0\n",
       "Marginal of X     0.60  0.40  1.0"
      ]
     },
     "execution_count": 11,
     "metadata": {},
     "output_type": "execute_result"
    }
   ],
   "source": [
    "dist2.conditional_dist('X', 'Y')"
   ]
  },
  {
   "cell_type": "markdown",
   "metadata": {},
   "source": [
    "It follows (and you should try to prove this), that at least some of the conditional distributions of $Y$ given the different values of $X$ will also be different from each other and from the marginal of $Y$.\n",
    "\n",
    "In this example, all three conditional distributions of $Y$ given the three different values of $X$ are different from each other."
   ]
  },
  {
   "cell_type": "code",
   "execution_count": 12,
   "metadata": {},
   "outputs": [
    {
     "data": {
      "text/html": [
       "<div>\n",
       "<style scoped>\n",
       "    .dataframe tbody tr th:only-of-type {\n",
       "        vertical-align: middle;\n",
       "    }\n",
       "\n",
       "    .dataframe tbody tr th {\n",
       "        vertical-align: top;\n",
       "    }\n",
       "\n",
       "    .dataframe thead th {\n",
       "        text-align: right;\n",
       "    }\n",
       "</style>\n",
       "<table border=\"1\" class=\"dataframe\">\n",
       "  <thead>\n",
       "    <tr style=\"text-align: right;\">\n",
       "      <th></th>\n",
       "      <th>Dist. of Y | X=3</th>\n",
       "      <th>Dist. of Y | X=4</th>\n",
       "      <th>Marginal of Y</th>\n",
       "    </tr>\n",
       "  </thead>\n",
       "  <tbody>\n",
       "    <tr>\n",
       "      <th>Y=7</th>\n",
       "      <td>0.500000</td>\n",
       "      <td>0.25</td>\n",
       "      <td>0.4</td>\n",
       "    </tr>\n",
       "    <tr>\n",
       "      <th>Y=6</th>\n",
       "      <td>0.333333</td>\n",
       "      <td>0.50</td>\n",
       "      <td>0.4</td>\n",
       "    </tr>\n",
       "    <tr>\n",
       "      <th>Y=5</th>\n",
       "      <td>0.166667</td>\n",
       "      <td>0.25</td>\n",
       "      <td>0.2</td>\n",
       "    </tr>\n",
       "    <tr>\n",
       "      <th>Sum</th>\n",
       "      <td>1.000000</td>\n",
       "      <td>1.00</td>\n",
       "      <td>1.0</td>\n",
       "    </tr>\n",
       "  </tbody>\n",
       "</table>\n",
       "</div>"
      ],
      "text/plain": [
       "     Dist. of Y | X=3  Dist. of Y | X=4  Marginal of Y\n",
       "Y=7          0.500000              0.25            0.4\n",
       "Y=6          0.333333              0.50            0.4\n",
       "Y=5          0.166667              0.25            0.2\n",
       "Sum          1.000000              1.00            1.0"
      ]
     },
     "execution_count": 12,
     "metadata": {},
     "output_type": "execute_result"
    }
   ],
   "source": [
    "dist2.conditional_dist('Y', 'X')"
   ]
  },
  {
   "cell_type": "markdown",
   "metadata": {},
   "source": [
    "### Independence ###"
   ]
  },
  {
   "cell_type": "markdown",
   "metadata": {},
   "source": [
    "Here is a joint distribution table in which you can't immediately tell whether there is dependence. "
   ]
  },
  {
   "cell_type": "code",
   "execution_count": 13,
   "metadata": {},
   "outputs": [
    {
     "data": {
      "text/html": [
       "<div>\n",
       "<style scoped>\n",
       "    .dataframe tbody tr th:only-of-type {\n",
       "        vertical-align: middle;\n",
       "    }\n",
       "\n",
       "    .dataframe tbody tr th {\n",
       "        vertical-align: top;\n",
       "    }\n",
       "\n",
       "    .dataframe thead th {\n",
       "        text-align: right;\n",
       "    }\n",
       "</style>\n",
       "<table border=\"1\" class=\"dataframe\">\n",
       "  <thead>\n",
       "    <tr style=\"text-align: right;\">\n",
       "      <th></th>\n",
       "      <th>X=0</th>\n",
       "      <th>X=1</th>\n",
       "      <th>X=2</th>\n",
       "      <th>X=3</th>\n",
       "    </tr>\n",
       "  </thead>\n",
       "  <tbody>\n",
       "    <tr>\n",
       "      <th>Y=4</th>\n",
       "      <td>0.000096</td>\n",
       "      <td>0.000289</td>\n",
       "      <td>0.000289</td>\n",
       "      <td>0.000096</td>\n",
       "    </tr>\n",
       "    <tr>\n",
       "      <th>Y=3</th>\n",
       "      <td>0.001929</td>\n",
       "      <td>0.005787</td>\n",
       "      <td>0.005787</td>\n",
       "      <td>0.001929</td>\n",
       "    </tr>\n",
       "    <tr>\n",
       "      <th>Y=2</th>\n",
       "      <td>0.014468</td>\n",
       "      <td>0.043403</td>\n",
       "      <td>0.043403</td>\n",
       "      <td>0.014468</td>\n",
       "    </tr>\n",
       "    <tr>\n",
       "      <th>Y=1</th>\n",
       "      <td>0.048225</td>\n",
       "      <td>0.144676</td>\n",
       "      <td>0.144676</td>\n",
       "      <td>0.048225</td>\n",
       "    </tr>\n",
       "    <tr>\n",
       "      <th>Y=0</th>\n",
       "      <td>0.060282</td>\n",
       "      <td>0.180845</td>\n",
       "      <td>0.180845</td>\n",
       "      <td>0.060282</td>\n",
       "    </tr>\n",
       "  </tbody>\n",
       "</table>\n",
       "</div>"
      ],
      "text/plain": [
       "          X=0       X=1       X=2       X=3\n",
       "Y=4  0.000096  0.000289  0.000289  0.000096\n",
       "Y=3  0.001929  0.005787  0.005787  0.001929\n",
       "Y=2  0.014468  0.043403  0.043403  0.014468\n",
       "Y=1  0.048225  0.144676  0.144676  0.048225\n",
       "Y=0  0.060282  0.180845  0.180845  0.060282"
      ]
     },
     "execution_count": 13,
     "metadata": {},
     "output_type": "execute_result"
    }
   ],
   "source": [
    "dist3"
   ]
  },
  {
   "cell_type": "markdown",
   "metadata": {},
   "source": [
    "But look what happens when you condition $X$ on $Y$."
   ]
  },
  {
   "cell_type": "code",
   "execution_count": 14,
   "metadata": {},
   "outputs": [
    {
     "data": {
      "text/html": [
       "<div>\n",
       "<style scoped>\n",
       "    .dataframe tbody tr th:only-of-type {\n",
       "        vertical-align: middle;\n",
       "    }\n",
       "\n",
       "    .dataframe tbody tr th {\n",
       "        vertical-align: top;\n",
       "    }\n",
       "\n",
       "    .dataframe thead th {\n",
       "        text-align: right;\n",
       "    }\n",
       "</style>\n",
       "<table border=\"1\" class=\"dataframe\">\n",
       "  <thead>\n",
       "    <tr style=\"text-align: right;\">\n",
       "      <th></th>\n",
       "      <th>X=0</th>\n",
       "      <th>X=1</th>\n",
       "      <th>X=2</th>\n",
       "      <th>X=3</th>\n",
       "      <th>Sum</th>\n",
       "    </tr>\n",
       "  </thead>\n",
       "  <tbody>\n",
       "    <tr>\n",
       "      <th>Dist. of X | Y=4</th>\n",
       "      <td>0.125</td>\n",
       "      <td>0.375</td>\n",
       "      <td>0.375</td>\n",
       "      <td>0.125</td>\n",
       "      <td>1.0</td>\n",
       "    </tr>\n",
       "    <tr>\n",
       "      <th>Dist. of X | Y=3</th>\n",
       "      <td>0.125</td>\n",
       "      <td>0.375</td>\n",
       "      <td>0.375</td>\n",
       "      <td>0.125</td>\n",
       "      <td>1.0</td>\n",
       "    </tr>\n",
       "    <tr>\n",
       "      <th>Dist. of X | Y=2</th>\n",
       "      <td>0.125</td>\n",
       "      <td>0.375</td>\n",
       "      <td>0.375</td>\n",
       "      <td>0.125</td>\n",
       "      <td>1.0</td>\n",
       "    </tr>\n",
       "    <tr>\n",
       "      <th>Dist. of X | Y=1</th>\n",
       "      <td>0.125</td>\n",
       "      <td>0.375</td>\n",
       "      <td>0.375</td>\n",
       "      <td>0.125</td>\n",
       "      <td>1.0</td>\n",
       "    </tr>\n",
       "    <tr>\n",
       "      <th>Dist. of X | Y=0</th>\n",
       "      <td>0.125</td>\n",
       "      <td>0.375</td>\n",
       "      <td>0.375</td>\n",
       "      <td>0.125</td>\n",
       "      <td>1.0</td>\n",
       "    </tr>\n",
       "    <tr>\n",
       "      <th>Marginal of X</th>\n",
       "      <td>0.125</td>\n",
       "      <td>0.375</td>\n",
       "      <td>0.375</td>\n",
       "      <td>0.125</td>\n",
       "      <td>1.0</td>\n",
       "    </tr>\n",
       "  </tbody>\n",
       "</table>\n",
       "</div>"
      ],
      "text/plain": [
       "                    X=0    X=1    X=2    X=3  Sum\n",
       "Dist. of X | Y=4  0.125  0.375  0.375  0.125  1.0\n",
       "Dist. of X | Y=3  0.125  0.375  0.375  0.125  1.0\n",
       "Dist. of X | Y=2  0.125  0.375  0.375  0.125  1.0\n",
       "Dist. of X | Y=1  0.125  0.375  0.375  0.125  1.0\n",
       "Dist. of X | Y=0  0.125  0.375  0.375  0.125  1.0\n",
       "Marginal of X     0.125  0.375  0.375  0.125  1.0"
      ]
     },
     "execution_count": 14,
     "metadata": {},
     "output_type": "execute_result"
    }
   ],
   "source": [
    "dist3.conditional_dist('X', 'Y')"
   ]
  },
  {
   "cell_type": "markdown",
   "metadata": {},
   "source": [
    "All the rows are the same. That is, all the conditional distributions of $X$ given different values of $Y$ are the same, and hence are the same as the marginal of $X$ too. \n",
    "\n",
    "Given the value of $Y$, the probabilities for $X$ don't change at all. That's independence.\n",
    "\n",
    "You could have drawn the same conclusion by conditioning $Y$ on $X$:"
   ]
  },
  {
   "cell_type": "code",
   "execution_count": 15,
   "metadata": {},
   "outputs": [
    {
     "data": {
      "text/html": [
       "<div>\n",
       "<style scoped>\n",
       "    .dataframe tbody tr th:only-of-type {\n",
       "        vertical-align: middle;\n",
       "    }\n",
       "\n",
       "    .dataframe tbody tr th {\n",
       "        vertical-align: top;\n",
       "    }\n",
       "\n",
       "    .dataframe thead th {\n",
       "        text-align: right;\n",
       "    }\n",
       "</style>\n",
       "<table border=\"1\" class=\"dataframe\">\n",
       "  <thead>\n",
       "    <tr style=\"text-align: right;\">\n",
       "      <th></th>\n",
       "      <th>Dist. of Y | X=0</th>\n",
       "      <th>Dist. of Y | X=1</th>\n",
       "      <th>Dist. of Y | X=2</th>\n",
       "      <th>Dist. of Y | X=3</th>\n",
       "      <th>Marginal of Y</th>\n",
       "    </tr>\n",
       "  </thead>\n",
       "  <tbody>\n",
       "    <tr>\n",
       "      <th>Y=4</th>\n",
       "      <td>0.000772</td>\n",
       "      <td>0.000772</td>\n",
       "      <td>0.000772</td>\n",
       "      <td>0.000772</td>\n",
       "      <td>0.000772</td>\n",
       "    </tr>\n",
       "    <tr>\n",
       "      <th>Y=3</th>\n",
       "      <td>0.015432</td>\n",
       "      <td>0.015432</td>\n",
       "      <td>0.015432</td>\n",
       "      <td>0.015432</td>\n",
       "      <td>0.015432</td>\n",
       "    </tr>\n",
       "    <tr>\n",
       "      <th>Y=2</th>\n",
       "      <td>0.115741</td>\n",
       "      <td>0.115741</td>\n",
       "      <td>0.115741</td>\n",
       "      <td>0.115741</td>\n",
       "      <td>0.115741</td>\n",
       "    </tr>\n",
       "    <tr>\n",
       "      <th>Y=1</th>\n",
       "      <td>0.385802</td>\n",
       "      <td>0.385802</td>\n",
       "      <td>0.385802</td>\n",
       "      <td>0.385802</td>\n",
       "      <td>0.385802</td>\n",
       "    </tr>\n",
       "    <tr>\n",
       "      <th>Y=0</th>\n",
       "      <td>0.482253</td>\n",
       "      <td>0.482253</td>\n",
       "      <td>0.482253</td>\n",
       "      <td>0.482253</td>\n",
       "      <td>0.482253</td>\n",
       "    </tr>\n",
       "    <tr>\n",
       "      <th>Sum</th>\n",
       "      <td>1.000000</td>\n",
       "      <td>1.000000</td>\n",
       "      <td>1.000000</td>\n",
       "      <td>1.000000</td>\n",
       "      <td>1.000000</td>\n",
       "    </tr>\n",
       "  </tbody>\n",
       "</table>\n",
       "</div>"
      ],
      "text/plain": [
       "     Dist. of Y | X=0  Dist. of Y | X=1  Dist. of Y | X=2  Dist. of Y | X=3  \\\n",
       "Y=4          0.000772          0.000772          0.000772          0.000772   \n",
       "Y=3          0.015432          0.015432          0.015432          0.015432   \n",
       "Y=2          0.115741          0.115741          0.115741          0.115741   \n",
       "Y=1          0.385802          0.385802          0.385802          0.385802   \n",
       "Y=0          0.482253          0.482253          0.482253          0.482253   \n",
       "Sum          1.000000          1.000000          1.000000          1.000000   \n",
       "\n",
       "     Marginal of Y  \n",
       "Y=4       0.000772  \n",
       "Y=3       0.015432  \n",
       "Y=2       0.115741  \n",
       "Y=1       0.385802  \n",
       "Y=0       0.482253  \n",
       "Sum       1.000000  "
      ]
     },
     "execution_count": 15,
     "metadata": {},
     "output_type": "execute_result"
    }
   ],
   "source": [
    "dist3.conditional_dist('Y', 'X')"
   ]
  },
  {
   "cell_type": "code",
   "execution_count": 1,
   "metadata": {
    "tags": [
     "remove-input",
     "hide-output"
    ]
   },
   "outputs": [
    {
     "data": {
      "text/html": [
       "\n",
       "        <iframe\n",
       "            width=\"400\"\n",
       "            height=\"300\"\n",
       "            src=\"https://www.youtube.com/embed/zjKrjQJzqQ4\"\n",
       "            frameborder=\"0\"\n",
       "            allowfullscreen\n",
       "        ></iframe>\n",
       "        "
      ],
      "text/plain": [
       "<IPython.lib.display.YouTubeVideo at 0x10d454d30>"
      ]
     },
     "execution_count": 1,
     "metadata": {},
     "output_type": "execute_result"
    }
   ],
   "source": [
    "# VIDEO: Independence: Formal Definition\n",
    "from IPython.display import YouTubeVideo\n",
    "\n",
    "YouTubeVideo(\"zjKrjQJzqQ4\")"
   ]
  },
  {
   "cell_type": "markdown",
   "metadata": {},
   "source": [
    "### Independence of Two Events ###\n",
    "The concept of independence seems intuitive, but it is possible to run into trouble by not being careful about its definition. So let's define it formally.\n",
    "\n",
    "There are two equivalent definitions of the independence of two events. The first encapsulates the main idea of independence, and the second is useful for calculation.\n",
    "\n",
    "Two events $A$ and $B$ are *independent* if $P(B \\mid A) = P(B)$. Equivalently, $A$ and $B$ are independent if $P(AB) = P(A)P(B)$."
   ]
  },
  {
   "cell_type": "markdown",
   "metadata": {},
   "source": [
    "### Independence of Two Random Variables ###\n",
    "What we have observed in the examples of this section can be turned into a formal definition of independence.\n",
    "\n",
    "Two random variables $X$ and $Y$ are *independent* if for every value $x$ of $X$ and $y$ of $Y$,\n",
    "\n",
    "$$\n",
    "P(Y = y \\mid X = x) = P(Y = y)\n",
    "$$\n",
    "\n",
    "That is, no matter what the given $x$ is, the conditional distribution of $Y$ given $X=x$ is the same as if we didn't know that $X=x$.\n",
    "\n",
    "Equivalently (this needs a proof, which consists of a routine application of definitions), for every $y$ the conditional distribution of $X$ given $Y=y$ is the same as if we didn't know that $Y=y$.\n",
    "\n",
    "An equivalent definition in terms of the independence of events is that for any values of $x$ and $y$, the events $\\{ X=x\\}$ and $\\{Y=y\\}$ are independent. \n",
    "\n",
    "That is, $X$ and $Y$ are independent if for any values $x$ of $X$ and $y$ of $Y$, \n",
    "\n",
    "$$\n",
    "P(X = x, Y = y) ~ = ~ P(X=x)P(Y=y) \n",
    "$$\n",
    "\n",
    "Independence simplifies the conditional probabilities in the multiplication rule.\n",
    "\n",
    "It is a fact that if $X$ and $Y$ are independent random variables, then any event determined by $X$ is independent of any event determined by $Y$. For example, if $X$ and $Y$ are independent and $x$ is a number, then $\\{X=x\\}$ is independent of $\\{Y>x\\}$. Also, any function of $X$ is independent of any function of $Y$.\n",
    "\n",
    "You can prove these facts by partitioning and then using the definition of independence. The proofs are routine but somewhat labor intensive. You are welcome to just accept the facts if you don't want to prove them."
   ]
  },
  {
   "cell_type": "markdown",
   "metadata": {},
   "source": [
    "### Mutual Independence ###\n",
    "Events $A_1, A_2, \\ldots A_n$ are *mutually independent* (or *independent* for short) if given that any subset of the events has occurred, the conditional chances of all other subsets remain unchanged.\n",
    "\n",
    "That's quite a mouthful. In practical terms it means that it doesn't matter which of the events you know have happened; chances involving the remaining events are unchanged.\n",
    "\n",
    "In terms of random variables, $X_1, X_2, \\ldots , X_n$ are independent if given the values of any subset, chances of events determined by the remaining variables are unchanged.\n",
    "\n",
    "In practice, this just formalizes statements such as \"results of different tosses of a coin are independent\" or \"draws made at random with replacement are independent\".\n",
    "\n",
    "Try not to become inhibited by the formalism. Notice how the theory not only supports intuition but also develops it. You can expect your probabilistic intuition to be much sharper at the end of this course than it is now!"
   ]
  },
  {
   "cell_type": "markdown",
   "metadata": {},
   "source": [
    "### IID Random Variables ###\n",
    "If random variables are mutually independent and identically distributed, they are called \"i.i.d.\" That's one of the most famous acronyms in probability theory. You can think of i.i.d. random variables as draws with replacement from a population, or as the results of independent replications of the same experiment.\n",
    "\n",
    "Calculations involving i.i.d. random variables are often straightforward. For example, suppose the distribution of $X$ is given by\n",
    "\n",
    "$$\n",
    "P(X = i) = p_i, ~~~ i = 1, 2, \\ldots, n\n",
    "$$\n",
    "\n",
    "where $\\sum_{i=1}^n p_i = 1$. Now let $X$ and $Y$ be i.i.d. What is $P(X = Y)$? We'll answer this question by using the fundamental method, now in random variable notation.\n",
    "\n",
    "$$\n",
    "\\begin{align*}\n",
    "P(X = Y) ~ &= ~ \\sum_{i=1}^n P(X = i, Y = i) ~~~ \\text{(partitioning)} \\\\\n",
    "&= ~ \\sum_{i=1}^n P(X = i)P(Y = i) ~~~ \\text{(independence)} \\\\\n",
    "&= ~ \\sum_{i=1}^n p_i \\cdot p_i ~~~ \\text{(identical distributions)} \\\\\n",
    "&= ~ \\sum_{i=1}^n p_i^2\n",
    "\\end{align*}\n",
    "$$\n",
    "\n",
    "The last expression is easy to calculate if you know the numerical values of all the $p_i$."
   ]
  },
  {
   "cell_type": "markdown",
   "metadata": {
    "collapsed": true
   },
   "source": [
    "```{admonition} Quick Check\n",
    "Let $V$ have distribution $P(V = i) = p_i$ for $2 \\le i \\le 6$, where $\\sum_{i=2}^6 p_i = 1$.\n",
    "\n",
    "If $V$ and $W$ are i.i.d., find $P(V = 2W)$.\n",
    "\n",
    "```"
   ]
  },
  {
   "cell_type": "markdown",
   "metadata": {},
   "source": [
    "```{admonition} Answer\n",
    ":class: dropdown\n",
    "$p_4p_2 + p_6p_3$\n",
    "\n",
    "```"
   ]
  },
  {
   "cell_type": "code",
   "execution_count": null,
   "metadata": {},
   "outputs": [],
   "source": []
  }
 ],
 "metadata": {
  "anaconda-cloud": {},
  "celltoolbar": "Tags",
  "kernelspec": {
   "display_name": "Python 3",
   "language": "python",
   "name": "python3"
  },
  "language_info": {
   "codemirror_mode": {
    "name": "ipython",
    "version": 3
   },
   "file_extension": ".py",
   "mimetype": "text/x-python",
   "name": "python",
   "nbconvert_exporter": "python",
   "pygments_lexer": "ipython3",
   "version": "3.8.4"
  }
 },
 "nbformat": 4,
 "nbformat_minor": 1
}
