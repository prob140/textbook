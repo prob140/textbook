{
 "cells": [
  {
   "cell_type": "code",
   "execution_count": 1,
   "metadata": {
    "collapsed": true,
    "tags": [
     "remove_cell"
    ]
   },
   "outputs": [],
   "source": [
    "# HIDDEN\n",
    "from datascience import *\n",
    "from prob140 import *\n",
    "import numpy as np\n",
    "import matplotlib.pyplot as plt\n",
    "plt.style.use('fivethirtyeight')\n",
    "%matplotlib inline\n",
    "from scipy import stats"
   ]
  },
  {
   "cell_type": "markdown",
   "metadata": {},
   "source": [
    "## Finite Population Correction ##"
   ]
  },
  {
   "cell_type": "markdown",
   "metadata": {},
   "source": [
    "Data scientists often have to work with a relatively small sample from an enormous population. So suppose we are drawing at random $n$ times from a population of size $N$ where $N$ is large and $n$ is small relative to $N$. Just go with the flow for now – all of this will become more precise as this section develops.\n",
    "\n",
    "Suppose the population mean is $\\mu$ and the population SD is $\\sigma$. Let $S_n$ be the sample sum. Then, regardless of whether the sample is drawn with replacement or without,\n",
    "\n",
    "$$\n",
    "E(S_n) = n\\mu\n",
    "$$\n",
    "\n",
    "The variance of the sample sum is different in the two cases.\n",
    "\n",
    "|$~~~~~~~~~~~~~~~~~$ | with replacement | without replacement|\n",
    "|:---------:|:-------------------------:|:---------------------------:|\n",
    "|$Var(S_n)$ |$n\\sigma^2$                | $n\\sigma^2\\frac{N-n}{N-1}$  |\n",
    "|$SD(S_n)$  |$\\sqrt{n}\\sigma$           | $\\sqrt{n}\\sigma\\sqrt{\\frac{N-n}{N-1}}$  |"
   ]
  },
  {
   "cell_type": "markdown",
   "metadata": {},
   "source": [
    "The \"without replacement\" column is the same as the \"with replacement\" column apart from what are called *correction factors*. The one for the SD is called the *finite population correction* or fpc.\n",
    "\n",
    "$$\n",
    "\\text{finite population correction} ~ = ~ \\sqrt{\\frac{N-n}{N-1}}\n",
    "$$\n",
    "\n",
    "The name arises because sampling with replacement can be thought of as sampling without replacement from an infinite population. Every time you draw, you leave the proportions in the population exactly the same as they were before you drew.\n",
    "\n",
    "A more realistic version of that image is drawing without replacement from an enormous finite population. Every time you draw, you leave the proportions in the population *almost* exactly the same as they were before you drew.\n",
    "\n",
    "We used this idea earlier when we said that sampling without replacement is almost the same as sampling with replacement provided you are drawing a relatively small sample from a very large population.\n",
    "\n",
    "The fpc gives us a way to quantify this idea."
   ]
  },
  {
   "cell_type": "markdown",
   "metadata": {},
   "source": [
    "### The Size of the FPC ###\n",
    "First note that when $N$ is even moderately large,\n",
    "\n",
    "$$\n",
    "\\frac{N-n}{N-1} ~ \\approx ~ \\frac{N-n}{N} ~ = ~ 1 - \\frac{n}{N}\n",
    "$$\n",
    "\n",
    "which is the fraction of the population that is left after sampling.\n",
    "\n",
    "If $N$ is large and $n$ is small relative to $N$, then\n",
    "\n",
    "$$\n",
    "\\frac{N-n}{N-1} ~ \\approx ~ 1 - \\frac{n}{N} ~ \\approx ~ 1\n",
    "$$\n",
    "\n",
    "which also implies\n",
    "\n",
    "$$\n",
    "\\sqrt{\\frac{N-n}{N-1}} ~ \\approx ~ 1\n",
    "$$\n",
    "\n",
    "So whether you are sampling with replacement or without, the variance of the sample sum can be taken to be $n\\sigma^2$. The formula is exact in the case of sampling with replacement and an excellent approximation in the case of sampling without replacement from a large population when the sample size is small relative to the population size.\n",
    "\n",
    "The table below gives the fpc for a variety of population and sample sizes."
   ]
  },
  {
   "cell_type": "code",
   "execution_count": 2,
   "metadata": {},
   "outputs": [],
   "source": [
    "pop = make_array(1000, 10000, 50000, 100000, 500000, 1000000)\n",
    "\n",
    "def fpc(pct):\n",
    "    samp = np.round(pop*pct/100, 0)\n",
    "    return np.round(((pop-samp)/(pop-1))**0.5, 6)"
   ]
  },
  {
   "cell_type": "code",
   "execution_count": 3,
   "metadata": {},
   "outputs": [
    {
     "data": {
      "text/html": [
       "<table border=\"1\" class=\"dataframe\">\n",
       "    <thead>\n",
       "        <tr>\n",
       "            <th>Population Size</th> <th>1% Sample</th> <th>5% Sample</th> <th>10% Sample</th> <th>20% Sample</th>\n",
       "        </tr>\n",
       "    </thead>\n",
       "    <tbody>\n",
       "        <tr>\n",
       "            <td>1000           </td> <td>0.995485 </td> <td>0.975167 </td> <td>0.949158  </td> <td>0.894875  </td>\n",
       "        </tr>\n",
       "        <tr>\n",
       "            <td>10000          </td> <td>0.995037 </td> <td>0.974728 </td> <td>0.948731  </td> <td>0.894472  </td>\n",
       "        </tr>\n",
       "        <tr>\n",
       "            <td>50000          </td> <td>0.994997 </td> <td>0.974689 </td> <td>0.948693  </td> <td>0.894436  </td>\n",
       "        </tr>\n",
       "        <tr>\n",
       "            <td>100000         </td> <td>0.994992 </td> <td>0.974684 </td> <td>0.948688  </td> <td>0.894432  </td>\n",
       "        </tr>\n",
       "        <tr>\n",
       "            <td>500000         </td> <td>0.994988 </td> <td>0.97468  </td> <td>0.948684  </td> <td>0.894428  </td>\n",
       "        </tr>\n",
       "        <tr>\n",
       "            <td>1000000        </td> <td>0.994988 </td> <td>0.97468  </td> <td>0.948684  </td> <td>0.894428  </td>\n",
       "        </tr>\n",
       "    </tbody>\n",
       "</table>"
      ],
      "text/plain": [
       "Population Size | 1% Sample | 5% Sample | 10% Sample | 20% Sample\n",
       "1000            | 0.995485  | 0.975167  | 0.949158   | 0.894875\n",
       "10000           | 0.995037  | 0.974728  | 0.948731   | 0.894472\n",
       "50000           | 0.994997  | 0.974689  | 0.948693   | 0.894436\n",
       "100000          | 0.994992  | 0.974684  | 0.948688   | 0.894432\n",
       "500000          | 0.994988  | 0.97468   | 0.948684   | 0.894428\n",
       "1000000         | 0.994988  | 0.97468   | 0.948684   | 0.894428"
      ]
     },
     "execution_count": 3,
     "metadata": {},
     "output_type": "execute_result"
    }
   ],
   "source": [
    "Table().with_columns(\n",
    "  'Population Size', pop,\n",
    "  '1% Sample', fpc(1),\n",
    "  '5% Sample', fpc(5),\n",
    "  '10% Sample', fpc(10),\n",
    "  '20% Sample', fpc(20)\n",
    ")"
   ]
  },
  {
   "cell_type": "markdown",
   "metadata": {},
   "source": [
    "The values in each column are essentially constant, because each is essentially the square root of the fraction *not* sampled:"
   ]
  },
  {
   "cell_type": "code",
   "execution_count": 4,
   "metadata": {},
   "outputs": [
    {
     "data": {
      "text/plain": [
       "array([ 0.99498744,  0.97467943,  0.9486833 ,  0.89442719])"
      ]
     },
     "execution_count": 4,
     "metadata": {},
     "output_type": "execute_result"
    }
   ],
   "source": [
    "sample_pct = make_array(1, 5, 10, 20)\n",
    "\n",
    "(1 - sample_pct/100)**0.5"
   ]
  },
  {
   "cell_type": "markdown",
   "metadata": {},
   "source": [
    "All of these fpc values are fairly close to 1, especially in the 1% column where they are all essentially 0.995. That is why the fpc is often dropped from variance calculations."
   ]
  },
  {
   "cell_type": "markdown",
   "metadata": {},
   "source": [
    "### The (Non) Effect of the Population Size ###\n",
    "The SD of a simple random sample sum depends only on the sample size and the population SD, provided the population size is large enough that the fpc is close to 1.\n",
    "\n",
    "That's clear from the formula. If the fpc is close to 1, as it often is, then\n",
    "\n",
    "$$\n",
    "SD(S_n) \\approx \\sqrt{n}\\sigma\n",
    "$$\n",
    "\n",
    "which involves only the sample size $n$ and the population SD $\\sigma$. \n",
    "\n",
    "To understand this intuitively, suppose you are trying to determine the composition of a liquid based on the amount in a test tube. If the liquid is well mixed, does it matter whether the amount in the test tube was drawn from a bowl or from a bathtub? It doesn't, because both the bowl and the bathtub are so much larger than the test tube that they might as well be inifinite."
   ]
  },
  {
   "cell_type": "code",
   "execution_count": null,
   "metadata": {},
   "outputs": [],
   "source": []
  }
 ],
 "metadata": {
  "anaconda-cloud": {},
  "kernelspec": {
   "display_name": "Python 3",
   "language": "python",
   "name": "python3"
  },
  "language_info": {
   "codemirror_mode": {
    "name": "ipython",
    "version": 3
   },
   "file_extension": ".py",
   "mimetype": "text/x-python",
   "name": "python",
   "nbconvert_exporter": "python",
   "pygments_lexer": "ipython3",
   "version": "3.8.4"
  }
 },
 "nbformat": 4,
 "nbformat_minor": 1
}
