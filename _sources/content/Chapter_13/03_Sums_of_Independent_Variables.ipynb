{
 "cells": [
  {
   "cell_type": "code",
   "execution_count": 6,
   "metadata": {
    "tags": [
     "remove_cell"
    ]
   },
   "outputs": [],
   "source": [
    "# HIDDEN\n",
    "import warnings\n",
    "warnings.filterwarnings('ignore')\n",
    "from datascience import *\n",
    "from prob140 import *\n",
    "import numpy as np\n",
    "import matplotlib.pyplot as plt\n",
    "import scipy.stats as stats\n",
    "plt.style.use('fivethirtyeight')\n",
    "%matplotlib inline"
   ]
  },
  {
   "cell_type": "markdown",
   "metadata": {},
   "source": [
    "## Sums of Independent Variables ##"
   ]
  },
  {
   "cell_type": "markdown",
   "metadata": {},
   "source": [
    "After the dry, algebraic discussion of the previous section it is a relief to finally be able to compute some variances."
   ]
  },
  {
   "cell_type": "code",
   "execution_count": 7,
   "metadata": {
    "tags": [
     "remove-input",
     "hide-output"
    ]
   },
   "outputs": [
    {
     "data": {
      "text/html": [
       "\n",
       "        <iframe\n",
       "            width=\"400\"\n",
       "            height=\"300\"\n",
       "            src=\"https://www.youtube.com/embed/M3Y_oBn2o7Y\"\n",
       "            frameborder=\"0\"\n",
       "            allowfullscreen\n",
       "        ></iframe>\n",
       "        "
      ],
      "text/plain": [
       "<IPython.lib.display.YouTubeVideo at 0x7fe8028979d0>"
      ]
     },
     "execution_count": 7,
     "metadata": {},
     "output_type": "execute_result"
    }
   ],
   "source": [
    "# VIDEO: Variance of a Sum\n",
    "\n",
    "from IPython.display import YouTubeVideo\n",
    "\n",
    "YouTubeVideo('M3Y_oBn2o7Y')"
   ]
  },
  {
   "cell_type": "markdown",
   "metadata": {},
   "source": [
    "### The Variance of a Sum ###\n",
    "\n",
    "Let $X_1, X_2, \\ldots X_n$ be random variables with sum\n",
    "\n",
    "$$\n",
    "S_n = \\sum_{i=1}^n X_i\n",
    "$$\n",
    "\n",
    "The variance of the sum is\n",
    "\n",
    "$$\n",
    "\\begin{align*}\n",
    "Var(S_n) &= Cov(S_n, S_n) \\\\\n",
    "&= \\sum_{i=1}^n\\sum_{j=1}^n Cov(X_i, X_j) ~~~~ \\text{(bilinearity)} \\\\\n",
    "&= \\sum_{i=1}^n Var(X_i) + \\mathop{\\sum \\sum}_{1 \\le i \\ne j \\le n} Cov(X_i, X_j)\n",
    "\\end{align*}\n",
    "$$\n",
    "\n",
    "We say that *the variance of the sum is the sum of all the variances and all the covariances*.\n",
    "\n",
    "- The first sum has $n$ terms.\n",
    "- The second sum has $n(n-1)$ terms.\n",
    "\n",
    "Since $Cov(X_i, X_j) = Cov(X_j, X_i)$, the second sum can be written as $2\\mathop{\\sum \\sum}_{1 \\le i < j \\le n} Cov(X_i, X_j)$. But we will use the form given above."
   ]
  },
  {
   "cell_type": "markdown",
   "metadata": {},
   "source": [
    "### Sum of Independent Random Variables ###\n",
    "\n",
    "If $X_1, X_2 \\ldots , X_n$ are independent, then all the covariance terms in the formula above are 0. \n",
    "\n",
    "Therefore if $X_1, X_2, \\ldots, X_n$ are independent, then\n",
    "\n",
    "$$\n",
    "Var(S_n) = \\sum_{i=1}^n Var(X_i)\n",
    "$$\n",
    "\n",
    "Thus for independent random variables $X_1, X_2, \\ldots, X_n$, both the expectation and the variance add up nicely:\n",
    "\n",
    "$$\n",
    "E(S_n) = \\sum_{i=1}^n E(X_i), ~~~~~~ Var(S_n) = \\sum_{i=1}^n Var(X_i)\n",
    "$$\n",
    "\n",
    "When the random variables are i.i.d., this simplifies even further."
   ]
  },
  {
   "cell_type": "code",
   "execution_count": 8,
   "metadata": {
    "tags": [
     "remove-input",
     "hide-output"
    ]
   },
   "outputs": [
    {
     "data": {
      "text/html": [
       "\n",
       "        <iframe\n",
       "            width=\"400\"\n",
       "            height=\"300\"\n",
       "            src=\"https://www.youtube.com/embed/jHcdiO5N0ng\"\n",
       "            frameborder=\"0\"\n",
       "            allowfullscreen\n",
       "        ></iframe>\n",
       "        "
      ],
      "text/plain": [
       "<IPython.lib.display.YouTubeVideo at 0x7fe802897370>"
      ]
     },
     "execution_count": 8,
     "metadata": {},
     "output_type": "execute_result"
    }
   ],
   "source": [
    "# VIDEO: Variance of IID Sample Sum\n",
    "\n",
    "YouTubeVideo('jHcdiO5N0ng')"
   ]
  },
  {
   "cell_type": "markdown",
   "metadata": {},
   "source": [
    "### Sum of an IID Sample ###\n",
    "Let $X_1, X_2, \\ldots, X_n$ be i.i.d., each with mean $\\mu$ and $SD$ $\\sigma$. You can think of $X_1, X_2, \\ldots, X_n$ as draws at random with replacement from a population, or the results of independent replications of the same experiment.\n",
    "\n",
    "Let $S_n$ be the sample sum, as above. Then\n",
    "\n",
    "$$\n",
    "E(S_n) = n\\mu ~~~~~~~~~~ Var(S_n) = n\\sigma^2 ~~~~~~~~~~ SD(S_n) = \\sqrt{n}\\sigma\n",
    "$$\n",
    "\n",
    "This implies that as the sample size $n$ increases, the distribution of the sum $S_n$ shifts to the right and is more spread out. The expectation goes up linearly in $n$, but the SD goes up more slowly."
   ]
  },
  {
   "cell_type": "markdown",
   "metadata": {},
   "source": [
    "```{admonition} Quick Check\n",
    "Suppose the sizes of $100$ random households are i.i.d. with expectation $2.5$ and SD $1.9$. Let $S$ be the total number of people in all $100$ households, that is, the sum of all the household sizes.\n",
    "\n",
    "(a) Pick one of the following values for $E(S)$: $25$, $250$, $2500$\n",
    "\n",
    "(b) Pick one of the following values for $SD(S)$: $19$, $190$, $1900$\n",
    "\n",
    "\n",
    "```"
   ]
  },
  {
   "cell_type": "markdown",
   "metadata": {},
   "source": [
    "```{admonition} Answer\n",
    ":class: dropdown\n",
    "(a) $250$\n",
    "\n",
    "(b) $19$\n",
    "\n",
    "```"
   ]
  },
  {
   "cell_type": "markdown",
   "metadata": {},
   "source": [
    "Here is an important application of the formula for the variance of an i.i.d. sample sum."
   ]
  },
  {
   "cell_type": "markdown",
   "metadata": {},
   "source": [
    "### Variance of the Binomial ###\n",
    "Let $X$ have the binomial $(n, p)$ distribution. We know that \n",
    "\n",
    "$$\n",
    "X = \\sum_{j=1}^n I_j\n",
    "$$\n",
    "\n",
    "where $I_1, I_2, \\ldots, I_n$ are i.i.d. indicators, each taking the value 1 with probability $p$. Each of these indicators has expectation $p$ and variance $pq = p(1-p)$. Therefore\n",
    "\n",
    "$$\n",
    "E(X) = np ~~~~~~~~~~ Var(X) = npq ~~~~~~~~~~ SD(X) = \\sqrt{npq}\n",
    "$$\n",
    "\n",
    "For example, if $X$ is the number of heads in 100 tosses of a coin, then\n",
    "\n",
    "$$\n",
    "E(X) = 100 \\times 0.5 = 50 ~~~~~~~~~~ SD(X) = \\sqrt{100 \\times 0.5 \\times 0.5} = 5\n",
    "$$\n",
    "\n",
    "Here is the distribution of $X$. You can see that there is almost no probability outside the range $E(X) \\pm 3SD(X)$."
   ]
  },
  {
   "cell_type": "code",
   "execution_count": 9,
   "metadata": {},
   "outputs": [
    {
     "data": {
      "image/png": "[encoded data removed]",
      "text/plain": [
       "<Figure size 432x288 with 1 Axes>"
      ]
     },
     "metadata": {
      "needs_background": "light"
     },
     "output_type": "display_data"
    }
   ],
   "source": [
    "k = np.arange(25, 75, 1)\n",
    "binom_probs = stats.binom.pmf(k, 100, 0.5)\n",
    "binom_dist = Table().values(k).probabilities(binom_probs)\n",
    "Plot(binom_dist, show_ev=True, show_sd=True)"
   ]
  },
  {
   "cell_type": "markdown",
   "metadata": {},
   "source": [
    "```{admonition} Quick Check\n",
    "A die is rolled $45$ times. Find the expectation and standard deviation of the number of times the face with six spots appears.\n",
    "\n",
    "```"
   ]
  },
  {
   "cell_type": "markdown",
   "metadata": {},
   "source": [
    "```{admonition} Answer\n",
    ":class: dropdown\n",
    "Expectation $7.5$, SD $2.5$\n",
    "\n",
    "```"
   ]
  },
  {
   "cell_type": "code",
   "execution_count": 10,
   "metadata": {
    "tags": [
     "remove-input",
     "hide-output"
    ]
   },
   "outputs": [
    {
     "data": {
      "text/html": [
       "\n",
       "        <iframe\n",
       "            width=\"400\"\n",
       "            height=\"300\"\n",
       "            src=\"https://www.youtube.com/embed/KoWHPWJBeJo\"\n",
       "            frameborder=\"0\"\n",
       "            allowfullscreen\n",
       "        ></iframe>\n",
       "        "
      ],
      "text/plain": [
       "<IPython.lib.display.YouTubeVideo at 0x7fe80296f430>"
      ]
     },
     "execution_count": 10,
     "metadata": {},
     "output_type": "execute_result"
    }
   ],
   "source": [
    "# VIDEO: Binomial and Poisson Variance\n",
    "\n",
    "YouTubeVideo('KoWHPWJBeJo')"
   ]
  },
  {
   "cell_type": "markdown",
   "metadata": {},
   "source": [
    "### Variance of the Poisson, Revisited ###\n",
    "\n",
    "We showed earlier that if $X$ has the Poisson $(\\mu)$ distribution then $E(X) = \\mu$, $Var(X) = \\mu$, and $SD(X) = \\sqrt{\\mu}$. Now we have a way to understand the formula for the SD.\n",
    "\n",
    "One way in which a Poisson $(\\mu)$ distribution can arise is as an approximation to a binomial $(n, p)$ distribution where $n$ is large, $p$ is small, and $np = \\mu$. The expectation of the binomial becomes the parameter of the approximating Poisson distribution, which is also the expectation of the Poisson.\n",
    "\n",
    "Now let's compare the standard deviations. The standard deviation of the binomial is\n",
    "\n",
    "$$\n",
    "\\sqrt{npq} ~ \\approx ~ \\sqrt{np} ~~~ \\text{ because the small } p \\text{ implies } q \\approx 1\n",
    "$$\n",
    "\n",
    "But $np = \\mu$ in this setting, so the SD of the binomial is approximately $\\sqrt{\\mu}$. That's the SD of its approximating Poisson $(\\mu)$ distribution."
   ]
  },
  {
   "cell_type": "code",
   "execution_count": null,
   "metadata": {},
   "outputs": [],
   "source": []
  }
 ],
 "metadata": {
  "anaconda-cloud": {},
  "celltoolbar": "Tags",
  "kernelspec": {
   "display_name": "Python 3",
   "language": "python",
   "name": "python3"
  },
  "language_info": {
   "codemirror_mode": {
    "name": "ipython",
    "version": 3
   },
   "file_extension": ".py",
   "mimetype": "text/x-python",
   "name": "python",
   "nbconvert_exporter": "python",
   "pygments_lexer": "ipython3",
   "version": "3.8.3"
  }
 },
 "nbformat": 4,
 "nbformat_minor": 1
}
