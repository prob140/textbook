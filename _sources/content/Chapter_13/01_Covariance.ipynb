{
 "cells": [
  {
   "cell_type": "code",
   "execution_count": 1,
   "metadata": {
    "tags": [
     "remove-input"
    ]
   },
   "outputs": [],
   "source": [
    "# HIDDEN\n",
    "import warnings\n",
    "warnings.filterwarnings('ignore')\n",
    "from datascience import *\n",
    "from prob140 import *\n",
    "import numpy as np\n",
    "import matplotlib.pyplot as plt\n",
    "plt.style.use('fivethirtyeight')\n",
    "%matplotlib inline"
   ]
  },
  {
   "cell_type": "markdown",
   "metadata": {},
   "source": [
    "# Covariance #"
   ]
  },
  {
   "cell_type": "markdown",
   "metadata": {},
   "source": [
    "Let $X$ be a random variable. In what follows, we will use some familiar shorthand:\n",
    "\n",
    "- $\\mu_X = E(X)$, $\\sigma_X = SD(X)$\n",
    "\n",
    "Let $D_X = X - \\mu_X$ denote the deviation of $X$ from its mean. Then the variance of $X$ can be written as\n",
    "\n",
    "$$\n",
    "Var(X) = \\sigma_X^2 = E(D_X^2)\n",
    "$$"
   ]
  },
  {
   "cell_type": "code",
   "execution_count": 2,
   "metadata": {
    "tags": [
     "remove-input",
     "hide-output"
    ]
   },
   "outputs": [
    {
     "data": {
      "text/html": [
       "\n",
       "        <iframe\n",
       "            width=\"400\"\n",
       "            height=\"300\"\n",
       "            src=\"https://www.youtube.com/embed/0yvoSUYo2GY\"\n",
       "            frameborder=\"0\"\n",
       "            allowfullscreen\n",
       "        ></iframe>\n",
       "        "
      ],
      "text/plain": [
       "<IPython.lib.display.YouTubeVideo at 0x7f8d40638850>"
      ]
     },
     "execution_count": 2,
     "metadata": {},
     "output_type": "execute_result"
    }
   ],
   "source": [
    "# VIDEO: Covariance: Definition\n",
    "\n",
    "from IPython.display import YouTubeVideo\n",
    "\n",
    "YouTubeVideo('0yvoSUYo2GY')"
   ]
  },
  {
   "cell_type": "markdown",
   "metadata": {},
   "source": [
    "### Variance of a Sum ###\n",
    "\n",
    "Now let $X$ and $Y$ be two random variables on the same space, and let $S = X+Y$. Then $E(S) = \\mu_X + \\mu_Y$, and the deviation of $S$ is the sum of the deviations of $X$ and $Y$:\n",
    "\n",
    "$$\n",
    "D_S ~ = ~ S - \\mu_S ~ = ~ X + Y - (\\mu_X + \\mu_Y) ~ = ~ D_X + D_Y\n",
    "$$\n",
    "\n",
    "This gives us some insight into the variance of the sum $S$.\n",
    "\n",
    "$$\n",
    "\\begin{align*}\n",
    "Var(S) &= E(D_S^2) \\\\\n",
    "&= E[(D_X + D_Y)^2] \\\\\n",
    "&= E(D_X^2) + E(D_Y^2) + 2E(D_XD_Y) \\\\\n",
    "&= Var(X) + Var(Y) + 2E(D_XD_Y)\n",
    "\\end{align*}\n",
    "$$\n",
    "\n",
    "The first thing to note is that while the expectation of a sum is the sum of the expectations, the calculation above shows that the variance of a sum is in general **not** the sum of the variances. There's an extra term. \n",
    "\n",
    "To calculate the variance of a sum, we have to understand that extra term. "
   ]
  },
  {
   "cell_type": "markdown",
   "metadata": {},
   "source": [
    "### Covariance ###\n",
    "\n",
    "The *covariance of $X$ and $Y$*, denoted $Cov(X, Y)$, is the expected product of the deviations of $X$ and $Y$:\n",
    "\n",
    "$$\n",
    "Cov(X, Y) ~ = ~ E(D_XD_Y) ~=~ E\\big{(} (X - \\mu_X)(Y - \\mu_Y) \\big{)}\n",
    "$$\n",
    "\n",
    "The expectation and variance of $X$ are based on the distribution of $X$ alone. The expectation and variance of $Y$ are based on the distribution of $Y$ alone. But covariance depends on the *joint* distribution of $X$ and $Y$ and thus takes into account the relation between $X$ and $Y$.\n",
    "\n",
    "Covariance has two main uses. First, it is a tool for calculating the variance of a sum. The fundamental calculation is the one we did above. Here is the result again, using the language of covariance.\n",
    "\n",
    "$$\n",
    "Var(X+Y) ~ = ~ Var(X) + Var(Y) + 2Cov(X, Y)\n",
    "$$"
   ]
  },
  {
   "cell_type": "markdown",
   "metadata": {},
   "source": [
    "```{admonition} Quick Check\n",
    "Apply the definition of covariance to recognize $Cov(X, X)$ as a quantity you know from earlier chapters. Which quantity is it?\n",
    "\n",
    "```"
   ]
  },
  {
   "cell_type": "markdown",
   "metadata": {},
   "source": [
    "```{admonition} Answer\n",
    ":class: dropdown\n",
    "$Var(X)$\n",
    "\n",
    "```"
   ]
  },
  {
   "cell_type": "markdown",
   "metadata": {},
   "source": [
    "```{admonition} Quick Check\n",
    "Find $Var(2X)$ in two ways:\n",
    "\n",
    "(a) by using linear transformation rules\n",
    "\n",
    "(b) by writing $Var(2X) = Var(X+X)$ and applying the formula for the variance of a sum\n",
    "\n",
    "\n",
    "```"
   ]
  },
  {
   "cell_type": "markdown",
   "metadata": {},
   "source": [
    "```{admonition} Answer\n",
    ":class: dropdown\n",
    "Both answers are $4Var(X)$\n",
    "\n",
    "```"
   ]
  },
  {
   "cell_type": "markdown",
   "metadata": {},
   "source": [
    "The focus of this chapter is utilizing covariance to find variances of sums. But covariance has a second important application, which we will study later in the course. Here is a preview."
   ]
  },
  {
   "cell_type": "code",
   "execution_count": 3,
   "metadata": {
    "tags": [
     "remove-input",
     "hide-output"
    ]
   },
   "outputs": [
    {
     "data": {
      "text/html": [
       "\n",
       "        <iframe\n",
       "            width=\"400\"\n",
       "            height=\"300\"\n",
       "            src=\"https://www.youtube.com/embed/yJ580tGWdGg\"\n",
       "            frameborder=\"0\"\n",
       "            allowfullscreen\n",
       "        ></iframe>\n",
       "        "
      ],
      "text/plain": [
       "<IPython.lib.display.YouTubeVideo at 0x7f8d40638820>"
      ]
     },
     "execution_count": 3,
     "metadata": {},
     "output_type": "execute_result"
    }
   ],
   "source": [
    "# VIDEO: Covariance: Main Uses\n",
    "\n",
    "YouTubeVideo('yJ580tGWdGg')"
   ]
  },
  {
   "cell_type": "markdown",
   "metadata": {
    "collapsed": true
   },
   "source": [
    "### Correlation ###\n",
    "\n",
    "Covariance has strange units. If $X$ is measured in pounds and $Y$ in inches then $Cov(X,Y)$ is measured in pound-inches which are hard to understand. But we can get rid of the units of covariance by dividing it by the two standard deviations, and then something wonderful happens.\n",
    "\n",
    "$$\n",
    "\\frac{Cov(X, Y)}{\\sigma_X\\sigma_Y} ~ = ~ \\frac{E\\big{(} (X - \\mu_X)(Y - \\mu_Y) \\big{)}}{\\sigma_X\\sigma_Y} ~ = ~ \n",
    "E \\big{(} \\frac{X-\\mu_X}{\\sigma_X} \\cdot \\frac{Y-\\mu_Y}{\\sigma_Y} \\big{)}\n",
    "$$\n",
    "\n",
    "This is the *mean of the products of standard units* which you will recognize from Data 8 as the definition of correlation.\n",
    "\n",
    "The *correlation* between random variables $X$ and $Y$ is defined as the normalized covariance:\n",
    "\n",
    "$$\n",
    "r(X, Y) ~ = ~ \\frac{Cov(X, Y)}{\\sigma_X\\sigma_Y}\n",
    "$$\n",
    "\n",
    "As you know, correlation is widely used in data analysis and inference. We will return to it when we study prediction. For now, you will just establish its basic properties in exercises."
   ]
  }
 ],
 "metadata": {
  "anaconda-cloud": {},
  "celltoolbar": "Tags",
  "kernelspec": {
   "display_name": "Python 3",
   "language": "python",
   "name": "python3"
  },
  "language_info": {
   "codemirror_mode": {
    "name": "ipython",
    "version": 3
   },
   "file_extension": ".py",
   "mimetype": "text/x-python",
   "name": "python",
   "nbconvert_exporter": "python",
   "pygments_lexer": "ipython3",
   "version": "3.8.3"
  }
 },
 "nbformat": 4,
 "nbformat_minor": 1
}
