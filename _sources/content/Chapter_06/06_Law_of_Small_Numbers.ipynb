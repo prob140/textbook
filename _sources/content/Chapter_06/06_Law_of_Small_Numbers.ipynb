{
 "cells": [
  {
   "cell_type": "code",
   "execution_count": 1,
   "metadata": {
    "tags": [
     "remove_cell"
    ]
   },
   "outputs": [],
   "source": [
    "# HIDDEN\n",
    "from datascience import *\n",
    "from prob140 import *\n",
    "import numpy as np\n",
    "import matplotlib.pyplot as plt\n",
    "plt.style.use('fivethirtyeight')\n",
    "%matplotlib inline\n",
    "from scipy import stats"
   ]
  },
  {
   "cell_type": "markdown",
   "metadata": {},
   "source": [
    "## The Law of Small Numbers ##"
   ]
  },
  {
   "cell_type": "markdown",
   "metadata": {},
   "source": [
    "The consecutive odds ratios of the binomial $(n, p)$ distribution help us derive an approximation for the distribution when $n$ is large and $p$ is small. The approximation is sometimes called the *law of small numbers* because it approximates the distribution of the number of successes when the chance of success is small: you only expect a small number of successes.\n",
    "\n",
    "As an example, here is the binomial $(1000, 2/1000)$ distribution. Note that $1000$ is large, $2/1000$ is pretty small, and $1000 \\times (2/1000) = 2$ is the natural number of successes to be thinking about."
   ]
  },
  {
   "cell_type": "code",
   "execution_count": 2,
   "metadata": {},
   "outputs": [
    {
     "data": {
      "image/png": "[encoded data removed]",
      "text/plain": [
       "<matplotlib.figure.Figure at 0x118509a90>"
      ]
     },
     "metadata": {},
     "output_type": "display_data"
    }
   ],
   "source": [
    "n = 1000\n",
    "p = 2/1000\n",
    "k = np.arange(16)\n",
    "binom_probs = stats.binom.pmf(k, n, p)\n",
    "binom_dist = Table().values(k).probabilities(binom_probs)\n",
    "Plot(binom_dist)"
   ]
  },
  {
   "cell_type": "markdown",
   "metadata": {},
   "source": [
    "Though the possible values of the number of successes in 1000 trials can be anywhere between 0 and 1000, the *probable* values are all rather small because $p$ is small. That is why we didn't even bother computing the probabilities beyond $k = 15$. \n",
    "\n",
    "Since the histogram is all scrunched up near 0, only very few bars have noticeable probability. It really should be possible to find or approximate the chances of the corresponding values by a simpler calculation than the binomial formula.\n",
    "\n",
    "To see how to do this, we will start with $P(0)$."
   ]
  },
  {
   "cell_type": "markdown",
   "metadata": {},
   "source": [
    "### Approximating $P(0)$ ###\n",
    "\n",
    "Remember that $np_n$ is very close to the mode of the binomial $(n, p_n)$ distribution. Now let $n \\to \\infty$ and $p_n \\to 0$ in such a way that $np_n \\to \\mu > 0$. \n",
    "\n",
    "There are two reasons for the condition that $np_n$ converges to some positive number $\\mu$.\n",
    "\n",
    "- To ensure that $p_n$ doesn't go to $0$ so fast compared to $n$ that $np_n$ goes to $0$ as well, because in that case all the probability just gets concentrated at the possible value $0$\n",
    "- To ensure that $p_n$ doesn't go to $0$ so slowly compared to $n$ that $np_n$ goes off to $\\infty$, because in that case all the probability drifts off the number line into the void\n",
    "\n",
    "Let $P_n(k)$ be the binomial $(n, p_n)$ probability of $k$ successes.\n",
    "\n",
    "Then \n",
    "\n",
    "$$\n",
    "P_n(0) = (1 - p_n)^n\n",
    "\\to e^{-\\mu} ~~~ \\text{as } n \\to \\infty\n",
    "$$\n",
    "\n",
    "One way to see the limit is to appeal to our familiar exponential approxmation:\n",
    "\n",
    "$$\n",
    "\\log(P_n(0)) =\n",
    "n \\cdot \\log \\big{(} 1 - p_n \\big{)} \n",
    "\\sim n(-p_n)\n",
    "= -np_n\n",
    "\\sim -\\mu\n",
    "$$\n",
    "\n",
    "when $n$ is large, because $p_n \\sim 0$ and $np_n \\sim \\mu$."
   ]
  },
  {
   "cell_type": "code",
   "execution_count": 2,
   "metadata": {
    "tags": [
     "remove-input",
     "hide-output"
    ]
   },
   "outputs": [
    {
     "data": {
      "text/html": [
       "\n",
       "        <iframe\n",
       "            width=\"400\"\n",
       "            height=\"300\"\n",
       "            src=\"https://www.youtube.com/embed/TmKepZHdOg0\"\n",
       "            frameborder=\"0\"\n",
       "            allowfullscreen\n",
       "        ></iframe>\n",
       "        "
      ],
      "text/plain": [
       "<IPython.lib.display.YouTubeVideo at 0x10681b550>"
      ]
     },
     "execution_count": 2,
     "metadata": {},
     "output_type": "execute_result"
    }
   ],
   "source": [
    "# VIDEO: Recursive Formula\n",
    "from IPython.display import YouTubeVideo\n",
    "\n",
    "YouTubeVideo(\"TmKepZHdOg0\")"
   ]
  },
  {
   "cell_type": "markdown",
   "metadata": {},
   "source": [
    "### Approximating $P(k)$ ###\n",
    "In general, for fixed $k > 1$,\n",
    "\n",
    "$$\n",
    "\\begin{align*}\n",
    "P_n(k) &= P_n(k-1)R_n(k) \\\\ \\\\\n",
    "&= P_n(k-1)\\frac{n-k+1}{k} \\cdot \\frac{p_n}{1-p_n} \\\\ \\\\\n",
    "&= P_n(k-1) \\big{(} \\frac{np_n}{k} - \\frac{(k-1)p_n}{k} \\big{)}\n",
    "\\frac{1}{1 - p_n} \\\\ \\\\\n",
    "&\\sim P_n(k-1) \\cdot \\frac{\\mu}{k}\n",
    "\\end{align*}\n",
    "$$\n",
    "\n",
    "when $n$ is large, because $k$ is constant, $np_n \\to \\mu$, $p_n \\to 0$, and $1-p_n \\to 1$. \n",
    "\n",
    "For large $n$, remember that $P_n(0) \\sim e^{-\\mu}$. So\n",
    "\n",
    "$$\n",
    "\\begin{align*}\n",
    "P_n(1) ~ &\\sim ~ e^{-\\mu}\\cdot\\frac{\\mu}{1} \\\\\n",
    "P_n(2) ~ &\\sim ~ P_n(1)\\cdot\\frac{\\mu}{2} ~ \\sim ~ e^{-\\mu}\\cdot\\frac{\\mu}{1}\\cdot\\frac{\\mu}{2}\n",
    "\\end{align*}\n",
    "$$\n",
    "\n",
    "\n",
    "By induction, this implies the following approximation for each fixed $k$. \n",
    "\n",
    "$$\n",
    "P_n(k) ~ \\sim ~ e^{-\\mu} \\cdot \\frac{\\mu}{1} \\cdot \\frac{\\mu}{2}\n",
    "\\cdots \\frac{\\mu}{k}\n",
    "~ = ~ e^{-\\mu} \\frac{\\mu^k}{k!}\n",
    "$$\n",
    "\n",
    "if $n$ is large, under all the additional conditions we have assumed. Here is a formal statement."
   ]
  },
  {
   "cell_type": "code",
   "execution_count": 3,
   "metadata": {
    "tags": [
     "remove-input",
     "hide-output"
    ]
   },
   "outputs": [
    {
     "data": {
      "text/html": [
       "\n",
       "        <iframe\n",
       "            width=\"400\"\n",
       "            height=\"300\"\n",
       "            src=\"https://www.youtube.com/embed/5w1SnSOSTOo\"\n",
       "            frameborder=\"0\"\n",
       "            allowfullscreen\n",
       "        ></iframe>\n",
       "        "
      ],
      "text/plain": [
       "<IPython.lib.display.YouTubeVideo at 0x10681b910>"
      ]
     },
     "execution_count": 3,
     "metadata": {},
     "output_type": "execute_result"
    }
   ],
   "source": [
    "# VIDEO: Poisson Approximation\n",
    "\n",
    "YouTubeVideo(\"5w1SnSOSTOo\")"
   ]
  },
  {
   "cell_type": "markdown",
   "metadata": {},
   "source": [
    "### Poisson Approximation to the Binomial ###\n",
    "Let $n \\to \\infty$ and $p_n \\to 0$ in such a way that $np_n \\to \\mu > 0$. Let $P_n(k)$ be the binomial $(n, p_n)$ probability of $k$ successes. Then for each $k$ such that $0 \\le k \\le n$,\n",
    "\n",
    "$$\n",
    "P_n(k) \\sim e^{-\\mu} \\frac{\\mu^k}{k!} ~~~\n",
    "\\text{for large } n\n",
    "$$\n",
    "\n",
    "This is called the Poisson approximation to the binomial. The parameter of the Poisson distribution is $\\mu \\sim np_n$ for large $n$.\n",
    "\n",
    "The distribution is named after its originator, the French mathematician [Siméon Denis Poisson](https://en.wikipedia.org/wiki/Siméon_Denis_Poisson) (1781-1840)."
   ]
  },
  {
   "cell_type": "markdown",
   "metadata": {},
   "source": [
    "```{admonition} Quick Check\n",
    "Let $X$ have the binomial $(5000, 1/2000)$ distribution. What is the Poisson approximation to $P(X = 5)$?\n",
    "\n",
    "```"
   ]
  },
  {
   "cell_type": "markdown",
   "metadata": {},
   "source": [
    "```{admonition} Answer\n",
    ":class: dropdown\n",
    "$e^{-2.5} \\frac{2.5^5}{5!}$\n",
    "\n",
    "```"
   ]
  },
  {
   "cell_type": "markdown",
   "metadata": {},
   "source": [
    "The terms in the approximation are proportional to the terms in the series expansion of $e^{\\mu}$:\n",
    "\n",
    "$$\n",
    "\\frac{\\mu^k}{k!}, ~~ k \\ge 0\n",
    "$$\n",
    "\n",
    "The expansion is infinite, but we are only going up to a finite (though large) number of terms $n$. You now start to see the value of being able to work with probability spaces that have an infinite number of possible outcomes.\n",
    "\n",
    "We'll get to that in a later section. For now, let's see if the approximation we derived is any good."
   ]
  },
  {
   "cell_type": "markdown",
   "metadata": {},
   "source": [
    "### Poisson Probabilities in Python ###\n",
    "Use `stats.poisson.pmf` just as you would use `stats.binomial.pmf`, but keep in mind that the Poisson has only one parameter.\n",
    "\n",
    "Suppose $n = 1000$ and $p = 2/1000$. Then the exact binomial chance of 3 successes is"
   ]
  },
  {
   "cell_type": "code",
   "execution_count": 3,
   "metadata": {},
   "outputs": [
    {
     "data": {
      "text/plain": [
       "0.18062773231746918"
      ]
     },
     "execution_count": 3,
     "metadata": {},
     "output_type": "execute_result"
    }
   ],
   "source": [
    "stats.binom.pmf(3, 1000, 2/1000)"
   ]
  },
  {
   "cell_type": "markdown",
   "metadata": {},
   "source": [
    "The approximating Poisson distribution has parameter $1000 \\times (2/1000) = 2$, and so the Poisson approximation to the probability above is"
   ]
  },
  {
   "cell_type": "code",
   "execution_count": 4,
   "metadata": {},
   "outputs": [
    {
     "data": {
      "text/plain": [
       "0.18044704431548356"
      ]
     },
     "execution_count": 4,
     "metadata": {},
     "output_type": "execute_result"
    }
   ],
   "source": [
    "stats.poisson.pmf(3, 2)"
   ]
  },
  {
   "cell_type": "markdown",
   "metadata": {},
   "source": [
    "Not bad. To compare the entire distributions, first create the two distribution objects:"
   ]
  },
  {
   "cell_type": "code",
   "execution_count": 5,
   "metadata": {},
   "outputs": [],
   "source": [
    "k = range(16)\n",
    "\n",
    "bin_probs = stats.binom.pmf(k, 1000, 2/1000)\n",
    "bin_dist = Table().values(k).probabilities(bin_probs)\n",
    "\n",
    "poi_probs = stats.poisson.pmf(k, 2)\n",
    "poi_dist = Table().values(k).probabilities(poi_probs)"
   ]
  },
  {
   "cell_type": "markdown",
   "metadata": {},
   "source": [
    "The `prob140` function that draws overlaid histograms is called `Plots` (note the plural). The syntax has alternating arguments: a string label you provide for a distribution, followed by that distribution, then a string label for the second distribution, then that distribution."
   ]
  },
  {
   "cell_type": "code",
   "execution_count": 6,
   "metadata": {},
   "outputs": [
    {
     "data": {
      "image/png": "[encoded data removed]",
      "text/plain": [
       "<matplotlib.figure.Figure at 0x112ceb630>"
      ]
     },
     "metadata": {},
     "output_type": "display_data"
    }
   ],
   "source": [
    "Plots('Binomial (1000, 2/1000)', bin_dist, 'Poisson (2)', poi_dist)"
   ]
  },
  {
   "cell_type": "markdown",
   "metadata": {},
   "source": [
    "Does it look as though there is only one histogram? That's because the approximation is great! Here are the two histograms individually."
   ]
  },
  {
   "cell_type": "code",
   "execution_count": 7,
   "metadata": {},
   "outputs": [
    {
     "data": {
      "image/png": "[encoded data removed]",
      "text/plain": [
       "<matplotlib.figure.Figure at 0x11cea3358>"
      ]
     },
     "metadata": {},
     "output_type": "display_data"
    }
   ],
   "source": [
    "Plot(bin_dist)"
   ]
  },
  {
   "cell_type": "code",
   "execution_count": 8,
   "metadata": {},
   "outputs": [
    {
     "data": {
      "image/png": "[encoded data removed]",
      "text/plain": [
       "<matplotlib.figure.Figure at 0x11d1571d0>"
      ]
     },
     "metadata": {},
     "output_type": "display_data"
    }
   ],
   "source": [
    "Plot(poi_dist)"
   ]
  },
  {
   "cell_type": "markdown",
   "metadata": {},
   "source": [
    "In lab, you will use total variation distance to get a bound on the error in the approximation.\n",
    "\n",
    "A reasonable question to ask at this stage is, \"Well that's all very nice, but why should I bother with approximations when I can just use Python to compute the exact binomial probabilities using `stats.binom.pmf`?\"\n",
    "\n",
    "Part of the answer is that if a function involves parameters, you can't understand how it behaves by just computing its values for some particular choices of the parameters. In the case of Poisson probabilities, we will also see shortly that they form a powerful distribution in their own right, on an infinite set of values."
   ]
  },
  {
   "cell_type": "code",
   "execution_count": 9,
   "metadata": {
    "collapsed": true
   },
   "outputs": [],
   "source": []
  }
 ],
 "metadata": {
  "anaconda-cloud": {},
  "celltoolbar": "Tags",
  "kernelspec": {
   "display_name": "Python 3",
   "language": "python",
   "name": "python3"
  },
  "language_info": {
   "codemirror_mode": {
    "name": "ipython",
    "version": 3
   },
   "file_extension": ".py",
   "mimetype": "text/x-python",
   "name": "python",
   "nbconvert_exporter": "python",
   "pygments_lexer": "ipython3",
   "version": "3.8.4"
  }
 },
 "nbformat": 4,
 "nbformat_minor": 1
}
