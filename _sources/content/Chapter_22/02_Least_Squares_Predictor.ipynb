{
 "cells": [
  {
   "cell_type": "code",
   "execution_count": 1,
   "metadata": {
    "collapsed": true,
    "tags": [
     "remove_cell"
    ]
   },
   "outputs": [],
   "source": [
    "# HIDDEN\n",
    "from datascience import *\n",
    "from prob140 import *\n",
    "import numpy as np\n",
    "import matplotlib.pyplot as plt\n",
    "plt.style.use('fivethirtyeight')\n",
    "%matplotlib inline\n",
    "from scipy import stats"
   ]
  },
  {
   "cell_type": "markdown",
   "metadata": {},
   "source": [
    "## Least Squares Predictor ##"
   ]
  },
  {
   "cell_type": "markdown",
   "metadata": {},
   "source": [
    "As the function that picks off the \"centers of vertical strips,\" the conditional expectation $b(X) = E(Y \\mid X)$ is a natural estimate or predictor of $Y$ given the value of $X$. We will now see how good $b(X)$ is if we use mean squared error as our criterion."
   ]
  },
  {
   "cell_type": "code",
   "execution_count": 1,
   "metadata": {
    "tags": [
     "remove-input",
     "hide-output"
    ]
   },
   "outputs": [
    {
     "data": {
      "text/html": [
       "\n",
       "        <iframe\n",
       "            width=\"400\"\n",
       "            height=\"300\"\n",
       "            src=\"https://www.youtube.com/embed/G_3rcPnInc0\"\n",
       "            frameborder=\"0\"\n",
       "            allowfullscreen\n",
       "        ></iframe>\n",
       "        "
      ],
      "text/plain": [
       "<IPython.lib.display.YouTubeVideo at 0x1032dbd60>"
      ]
     },
     "execution_count": 1,
     "metadata": {},
     "output_type": "execute_result"
    }
   ],
   "source": [
    "# VIDEO: Least Squares\n",
    "from IPython.display import YouTubeVideo\n",
    "\n",
    "YouTubeVideo('G_3rcPnInc0')"
   ]
  },
  {
   "cell_type": "markdown",
   "metadata": {},
   "source": [
    "### Minimizing the MSE ###\n",
    "Let $h(X)$ be any function of $X$, and consider using $h(X)$ to predict $Y$. Define the *mean squared error of the predictor $h(X)$* to be\n",
    "\n",
    "$$\n",
    "MSE(h) ~ = ~ E\\Big{(}\\big{(}Y - h(X)\\big{)}^2\\Big{)}\n",
    "$$\n",
    "\n",
    "We will show that $b(X)$ is the best predictor of $Y$ based on $X$, in the sense that it minimizes this mean squared error over all functions $h(X)$.\n",
    "\n",
    "Recall our notation $D_w = Y - b(X)$. We know that if $g(X)$ is any function of $X$, then $E\\big{(}D_wg(X)\\big{)} = 0$.\n",
    "\n",
    "$$\n",
    "\\begin{align*}\n",
    "MSE(h) ~ &= ~ E\\big{(}\\big{(}Y - h(X)\\big{)}^2\\big{)} \\\\\n",
    "&= ~ E\\big{(}\\big{(} (Y - b(X)) + (b(X) - h(X) \\big{)}^2 \\big{)} \\\\\n",
    "&= ~ E\\big{(} \\big{(} D_w + g(X) \\big{)}^2 \\big{)} ~~~~~ \\text{ where } g(X) = b(X) - h(X) \\\\\n",
    "&= ~ E\\big{(} D_w^2 \\big{)} + E\\big{(}\\big{(}g(X)\\big{)}^2\\big{)} + 2E\\big{(}D_wg(X)\\big{)} \\\\\n",
    "&= ~ E\\big{(} D_w^2 \\big{)} + E\\big{(}\\big{(}g(X)\\big{)}^2\\big{)} \\\\\n",
    "&\\ge ~ E\\big{(}D_w^2 \\big{)} \\\\\n",
    "&= ~ E\\big{(}\\big{(}Y - b(X)\\big{)}^2\\big{)} \\\\\n",
    "&= ~ MSE(b)\n",
    "\\end{align*}\n",
    "$$"
   ]
  },
  {
   "cell_type": "markdown",
   "metadata": {
    "collapsed": true
   },
   "source": [
    "### Best Predictor ###\n",
    "The result above shows that the least squares predictor of $Y$ based on $X$ is the conditional expectation $b(X) = E(Y \\mid X)$. \n",
    "\n",
    "In terms of the scatter diagram of observed values of $X$ and $Y$, the result is saying that the best predictor of $Y$ given $X$, by the criterion of smallest mean squared error, is the average of the vertical strip at the given value of $X$."
   ]
  },
  {
   "cell_type": "code",
   "execution_count": 2,
   "metadata": {
    "tags": [
     "remove-input",
     "hide-output"
    ]
   },
   "outputs": [
    {
     "data": {
      "text/html": [
       "\n",
       "        <iframe\n",
       "            width=\"400\"\n",
       "            height=\"300\"\n",
       "            src=\"https://www.youtube.com/embed/J-pCOpndoBI\"\n",
       "            frameborder=\"0\"\n",
       "            allowfullscreen\n",
       "        ></iframe>\n",
       "        "
      ],
      "text/plain": [
       "<IPython.lib.display.YouTubeVideo at 0x103306700>"
      ]
     },
     "execution_count": 2,
     "metadata": {},
     "output_type": "execute_result"
    }
   ],
   "source": [
    "# VIDEO: Conditional Variance: Definition\n",
    "YouTubeVideo('J-pCOpndoBI')"
   ]
  },
  {
   "cell_type": "markdown",
   "metadata": {},
   "source": [
    "### Conditional Variance ###\n",
    "\n",
    "Calculations \"within a vertical strip\" are calculations given the value of $X$. For example, to predict $Y$ for a given value of $X$, the least squares predictor is the \"center of the vertical strip\" $b(X) = E(Y \\mid X)$.\n",
    "\n",
    "The error in this estimate can be quantified by calculating the \"variance in the vertical strip\", that is, the mean squared error within the vertical strip. \n",
    "\n",
    "Formally, the mean squared error \"within a strip\" is defined as the random variable \n",
    "\n",
    "$$\n",
    "Var(Y \\mid X) ~ = ~ E\\big{(} (Y - b(X))^2 \\mid X \\big{)}\n",
    "$$ \n",
    "\n",
    "This random variable is a function of $X$ and is called the *conditional variance of $Y$ given $X$*. Its value at $x$ is $Var(Y \\mid X=x)$, that is, the variance of the values of $Y$ in the vertical strip at $x$.\n",
    "\n",
    "Let's return to the language of prediction. Given $X$, the mean squared error of the predictor $b(X)$ is the conditional variance $Var(Y \\mid X)$. \n",
    "\n",
    "So, given $X$, the *root mean squared error* or rms error is the *SD of the vertical strip*, that is, the conditional SD of $Y$ given $X$:\n",
    "\n",
    "$$\n",
    "SD(Y \\mid X) ~ = ~ \\sqrt{Var(Y \\mid X)}\n",
    "$$\n",
    "\n",
    "The value of this random variable measures the variability within the strip at the given value of $X$. \n",
    "\n",
    "A *homoscedastic* scatter diagram is one for which this conditional SD is essentially a constant, that is, if $SD(Y \\mid X=x)$ is pretty much the same for all $x$. If not, the scatter is called *heteroscedastic*."
   ]
  },
  {
   "cell_type": "markdown",
   "metadata": {},
   "source": [
    "### The Value of the MSE ###\n",
    "\n",
    "Overall across the entire scatter diagram, the mean squared error of the predictor $b(X)$ is the average of the mean squared errors in the individual strips. This is intuitively clear and can be established by applying iterated expectation to the definition of mean squared error.\n",
    "\n",
    "$$\n",
    "\\begin{align*}\n",
    "MSE(b) ~ &= ~ E\\big{(}\\big{(}Y - b(X)\\big{)}^2\\big{)} \\\\\n",
    "&= ~ E\\Big{(} E\\big{(}\\big{(}Y - b(X)\\big{)}^2\\big{)} \\mid X \\big{)} \\Big{)} \\\\\n",
    "&= ~ E\\big{(} Var(Y \\mid X) \\big{)}\n",
    "\\end{align*}\n",
    "$$\n",
    "\n",
    "That is, the mean squared error of the least squares predictor is the *expectation of the conditional variance*."
   ]
  },
  {
   "cell_type": "markdown",
   "metadata": {},
   "source": [
    "### The Shape of the Scatter ###\n",
    "Notice that the results in this section make no assumption about the joint distribution of $X$ and $Y$. The scatter diagram of the generated $(X, Y)$ points can have any arbitrary shape.\n",
    "\n",
    "So it seems as though the question of prediction has been settled once and for all: if you want the least squares predictor, use conditional expectation. However, the functional form of the conditional expectation of $Y$ given $X$ depends on the joint distribution of $X$ and $Y$ (which also determines the shape of the scatter diagram), and is not always straightforward to find.\n",
    "\n",
    "So data scientists also find least squares estimates among smaller classes of estimates, the most common class being the set of linear functions of the given variable. This is called linear regression and is the topic of a later chapter."
   ]
  }
 ],
 "metadata": {
  "anaconda-cloud": {},
  "celltoolbar": "Tags",
  "kernelspec": {
   "display_name": "Python 3",
   "language": "python",
   "name": "python3"
  },
  "language_info": {
   "codemirror_mode": {
    "name": "ipython",
    "version": 3
   },
   "file_extension": ".py",
   "mimetype": "text/x-python",
   "name": "python",
   "nbconvert_exporter": "python",
   "pygments_lexer": "ipython3",
   "version": "3.8.4"
  }
 },
 "nbformat": 4,
 "nbformat_minor": 1
}
