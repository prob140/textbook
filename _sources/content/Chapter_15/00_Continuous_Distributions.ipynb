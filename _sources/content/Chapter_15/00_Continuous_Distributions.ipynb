{
 "cells": [
  {
   "cell_type": "code",
   "execution_count": 1,
   "metadata": {
    "collapsed": true,
    "tags": [
     "remove_cell"
    ]
   },
   "outputs": [],
   "source": [
    "# HIDDEN\n",
    "from datascience import *\n",
    "from prob140 import *\n",
    "import numpy as np\n",
    "import matplotlib.pyplot as plt\n",
    "plt.style.use('fivethirtyeight')\n",
    "%matplotlib inline"
   ]
  },
  {
   "cell_type": "markdown",
   "metadata": {},
   "source": [
    "# Continuous Distributions #"
   ]
  },
  {
   "cell_type": "markdown",
   "metadata": {},
   "source": [
    "The normal curve, used by us as an approximation to discrete distributions, can be thought of as a distribution in its own right provided we allow the possible values to be the entire real line. In this chapter we will develop methods for working with random variables whose possible values are an interval of numbers. \n",
    "\n",
    "The interval of possible values might be bounded or unbounded, but even a bounded interval has uncountably many numbers in it. So we will use calculus to find probabilities and expectations. You will see that almost all the results we developed for discrete distributions have continuous analogs. \n",
    "\n",
    "It is worth noting that not all distributions fall neatly into one of the two categories \"discrete\" and \"continuous\". Some are a bit of both. We will see examples of such distributions later in the course. For now, we will focus on the continuous case."
   ]
  },
  {
   "cell_type": "code",
   "execution_count": 2,
   "metadata": {
    "collapsed": true
   },
   "outputs": [],
   "source": []
  }
 ],
 "metadata": {
  "anaconda-cloud": {},
  "kernelspec": {
   "display_name": "Python 3",
   "language": "python",
   "name": "python3"
  },
  "language_info": {
   "codemirror_mode": {
    "name": "ipython",
    "version": 3
   },
   "file_extension": ".py",
   "mimetype": "text/x-python",
   "name": "python",
   "nbconvert_exporter": "python",
   "pygments_lexer": "ipython3",
   "version": "3.6.4"
  }
 },
 "nbformat": 4,
 "nbformat_minor": 1
}
