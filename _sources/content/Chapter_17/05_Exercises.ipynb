{
 "cells": [
  {
   "cell_type": "markdown",
   "metadata": {},
   "source": [
    "## Exercises ##"
   ]
  },
  {
   "cell_type": "markdown",
   "metadata": {},
   "source": [
    "**1.** A Prob 140 student comes to lecture at a time that is uniformly distributed between 5:09 and 5:14. Independently of the student, the professor begins the lecture at a time that is uniformly distributed between 5:10 and 5:12. What is the chance that the lecture has already begun when the student arrives?"
   ]
  },
  {
   "cell_type": "markdown",
   "metadata": {},
   "source": [
    "**2.** For some constant $c$ let $X$ and $Y$ have a joint density given by\n",
    "\n",
    "$$f(x, y) ~ = ~ \n",
    "\\begin{cases}\n",
    "c(x - y), ~~ 0 < y < x < 1 \\\\\n",
    "0 ~~~~~~~~~~~~~~ \\text{otherwise.}\n",
    "\\end{cases}$$\n",
    "\n",
    "(a) Draw the region over which $f$ is positive.\n",
    "\n",
    "(b) Find $c$.\n",
    "\n",
    "(c) Find $P(X > Y + 0.4)$. Before you calculate, shade the event on the\n",
    "diagram you drew in (a).\n",
    "\n",
    "(d) Find the density of $X$.\n",
    "\n",
    "(e) Are $X$ and $Y$ independent?\n",
    "\n",
    "(f) Find $E(XY)$."
   ]
  },
  {
   "cell_type": "markdown",
   "metadata": {},
   "source": [
    "**3.** Let $X$ and $Y$ have joint density $f$ given by\n",
    "\n",
    "$$f(x, y) ~ = ~ \n",
    "\\begin{cases}\n",
    "\\frac{40}{243}x(3-x)(x-y), ~~~~ 0 < y < x < 3 \\\\\n",
    "0 ~~~~~~~~~~~~~~~~~~~~~~~~~~~~~~~~~~ \\text{otherwise.}\n",
    "\\end{cases}$$\n",
    "\n",
    "Write the each of the following in terms of $f$ but do not simplify the\n",
    "expression. Integrals should not include regions where $f(x, y) = 0$.\n",
    "\n",
    "(a) $P(Y > 1)$\n",
    "\n",
    "(b) the conditional density of $X$ given $Y = 1$ (please be clear about\n",
    "the values on which the density is positive)\n",
    "\n",
    "(c) $E(e^{XY})$"
   ]
  },
  {
   "cell_type": "markdown",
   "metadata": {},
   "source": [
    "**4.** The joint density of $X$ and $Y$ is\n",
    "\n",
    "$$f(x, y) ~ = ~\n",
    "\\begin{cases}\n",
    "24xy, ~~~ x, y > 0  \\text{ and } 0 < x+y < 1 \\\\\n",
    "0 ~~~~~~~~~~~~~ \\text{otherwise.}\n",
    "\\end{cases}$$\n",
    "\n",
    "(a) Find the density of $X$. Recognize this as one of the famous ones and state its name and parameters.\n",
    "\n",
    "(b) Without further calculation, find the density of $Y$ and justify your answer.\n",
    "\n",
    "(c) Are $X$ and $Y$ independent? Why or why not?\n",
    "\n",
    "(d) Find the conditional density of $X$ given $Y = 0.75$. As always, start with the possible values.\n",
    "\n",
    "(e) Find $P(X > 0.2 \\mid Y = 0.75)$.\n",
    "\n",
    "(f) Find $E(X \\mid Y = 0.75)$."
   ]
  },
  {
   "cell_type": "markdown",
   "metadata": {},
   "source": [
    "**5.** Let $U_i$, $1 \\le i \\le 20$ be i.i.d. uniform $(0, 1)$ variables, and let $U_{(k)}$ be the $k$th order statistic.\n",
    "\n",
    "(a) What is the density of $U_{(7)}$?\n",
    "\n",
    "(b) Without integrating the density, find the cdf of $U_{(7)}$.\n",
    "\n",
    "[Draw a line representing the unit interval and put down crosses representing the variables. For $U_{(7)}$ to be less than $x$, how must you distribute the crosses?]\n",
    "\n",
    "(c) Find the joint density of $U_{(7)}$ and $U_{(12)}$."
   ]
  },
  {
   "cell_type": "markdown",
   "metadata": {},
   "source": [
    "**6.** A random variable $X$ has the beta $(2, 2)$ density. Given $X = x$, the conditional distribution of the random variable $Y$ is uniform on the interval $(-x, x)$.\n",
    "\n",
    "(a) Find $P(Y < 0.2 \\mid X = 0.6)$.\n",
    "\n",
    "(b) Find $E(Y)$.\n",
    "\n",
    "(c) Find the joint density of $X$ and $Y$. Remember to specify the\n",
    "region where it is positive.\n",
    "\n",
    "(d) Find $P(X < 0.3, \\vert Y \\vert < 0.3X)$."
   ]
  },
  {
   "cell_type": "markdown",
   "metadata": {},
   "source": [
    "**7.** Let $X$ and $Y$ be i.i.d. with a joint density.\n",
    "\n",
    "(a) Find $P(Y > X)$.\n",
    "\n",
    "(b) Find $P(\\vert Y \\vert > \\vert X \\vert)$.\n",
    "\n",
    "(c) If $X$ and $Y$ are i.i.d. standard normal, find $P(Y > \\vert X \\vert)$."
   ]
  },
  {
   "cell_type": "markdown",
   "metadata": {},
   "source": [
    "**8.** Two points are placed independently and uniformly at random on the unit interval. This creates three segments of the interval. What is the chance that the three segments can form a triangle?\n",
    "\n",
    "[To find probabilities of events determined by two independent uniform $(0,1)$ random variables, it’s a good idea to draw the unit square.]"
   ]
  },
  {
   "cell_type": "markdown",
   "metadata": {},
   "source": [
    "**9.** Let $X$ have the beta $(r, s)$ density. Find $Var(X)$. You can assume $r$ and $s$ are integers."
   ]
  }
 ],
 "metadata": {
  "kernelspec": {
   "display_name": "Python 3",
   "language": "python",
   "name": "python3"
  },
  "language_info": {
   "codemirror_mode": {
    "name": "ipython",
    "version": 3
   },
   "file_extension": ".py",
   "mimetype": "text/x-python",
   "name": "python",
   "nbconvert_exporter": "python",
   "pygments_lexer": "ipython3",
   "version": "3.7.11"
  }
 },
 "nbformat": 4,
 "nbformat_minor": 2
}
