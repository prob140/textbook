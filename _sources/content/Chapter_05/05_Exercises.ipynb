{
 "cells": [
  {
   "cell_type": "markdown",
   "metadata": {},
   "source": [
    "## Exercises ##"
   ]
  },
  {
   "cell_type": "markdown",
   "metadata": {},
   "source": [
    "**1.** In a 2019 survey of US adults, \n",
    "\n",
    "- 15% agreed that medical doctors are transparent about conflicts of interest \n",
    "- 12% agreed that medical doctors admit and take responsibility for mistakes \n",
    "- 20% agreed that medical doctors face serious consequences for misconduct\n",
    "\n",
    "Suppose one of the surveyed adults is picked at random. If possible, find the chance that the selected person agreed with at least one of the three statements. If this is not possible with the information given, find the best bounds you can for the chance."
   ]
  },
  {
   "cell_type": "markdown",
   "metadata": {},
   "source": [
    "**2.** In a hand of 13 cards drawn randomly from a pack of 52, find the chance of getting at most one card of the following ranks: Jack, Queen, King, Ace."
   ]
  },
  {
   "cell_type": "markdown",
   "metadata": {},
   "source": [
    "**3.** A bag contains $m$ M&M’s, of which $g$ are green, $r$ red, and $b$ brown. There are no other colors, so $m=g+r+b$. Assume $m \\geq 10$, and suppose I pick $10$ M&M’s at random without replacement.\n",
    "\n",
    "(a) What is the chance that the tenth M&M I pick is red?\n",
    "\n",
    "(b) What is the chance that second M&M I pick is green given that the tenth is red?"
   ]
  },
  {
   "cell_type": "markdown",
   "metadata": {},
   "source": [
    "**4.** I have 10 locked boxes, along with their 10 keys. Each key opens exactly one box. If I randomly assign the keys to the boxes, find the chance that exactly 3 of the boxes open."
   ]
  },
  {
   "cell_type": "markdown",
   "metadata": {},
   "source": [
    "**5.** There are 100 men and 100 women who have agreed to participate in a randomized controlled experiment. The researchers are going to pick 100 participants at random without replacement to form the treatment group. Write an expression for the chance that the treatment group contains at least 45 people of each of the two genders."
   ]
  },
  {
   "cell_type": "markdown",
   "metadata": {},
   "source": [
    "**6.** In 2018, 85% of US teens used YouTube, 72% used Instagram, and 68% used Snapchat. Suppose a US teen was picked at random in 2018. If possible, find the chance that the selected teen used all of these platforms. If this is not possible with the information given, find the best bounds you can for the chance."
   ]
  },
  {
   "cell_type": "markdown",
   "metadata": {},
   "source": [
    "**7.** A population has three classes of individuals, in the proportions 0.6, 0.3, and 0.1. If you sample $n$ individuals at random with replacement, what is the chance that the sample doesn't contain all the classes?"
   ]
  },
  {
   "cell_type": "markdown",
   "metadata": {},
   "source": [
    "**8.** Cards are dealt from a standard deck till the deck is empty. Find the distribution of the number of aces among the last 5 cards dealt."
   ]
  },
  {
   "cell_type": "markdown",
   "metadata": {},
   "source": [
    "**9.** Consider a 5 card hand dealt from a standard card deck. Find the probability of being dealt:\n",
    "\n",
    "(a) four of a kind (ranks a,a,a,a,b)\n",
    "\n",
    "(b) one pair (ranks a,a,b,c,d)"
   ]
  },
  {
   "cell_type": "markdown",
   "metadata": {},
   "source": [
    "**10.** A roulette wheel has 38 pockets. Of these, 18 are red, 18 black, and 2 green. The wheel is spun 20 times. Assume that on each spin, each pocket is equally likely to appear; and assume that the spins are independent of each other. Find the probability that all three colors appear."
   ]
  },
  {
   "cell_type": "markdown",
   "metadata": {},
   "source": [
    "**11.** In a raffle with 100 tickets, 10 people buy 10 tickets each. Three winning tickets are drawn at random from this pool of 100 tickets. Let $W$ be the number of people with at least one winning ticket. Find:\n",
    "\n",
    "(a) $P(W > 1)$\n",
    "\n",
    "(b) $P(W = 3)$"
   ]
  },
  {
   "cell_type": "markdown",
   "metadata": {},
   "source": [
    "**12.** A small organization has $n > 12$ workers. Assume that each worker's birthday is equally likely to be any of the 12 months of the year, independent of all the other workers' birthdays. Find the chance that there is at least one month in which none of the workers has their birthday."
   ]
  },
  {
   "cell_type": "markdown",
   "metadata": {},
   "source": [
    "**13.** Remember from Data 8 that a confidence interval is a random interval estimate of a fixed population parameter. Remember also that the process for generating a $p$% confidence interval has probability $p$% of producing an interval that contains (or *covers*) the parameter being estimated. \n",
    "\n",
    "If you are estimating several parameters, each by a confidence interval, then the *simultaneous coverage probability* is the chance that all the intervals are good. In other words it is the chance that each of the confidence intervals contains the parameter it is trying to estimate.\n",
    "\n",
    "Suppose you are interested in a numerical variable, and suppose you plan to use a random sample to construct confidence intervals for the population median, the population medan, and the population standard deviation. Fill in the blank and justify your choice:\n",
    "\n",
    "If each of the three confidence intervals has confidence level $\\underline{~~~~~~~~~~~~~~}$%, then the simultaneous coverage probability is at least 95%."
   ]
  },
  {
   "cell_type": "markdown",
   "metadata": {},
   "source": [
    "**14.** A breakfast cereal company puts one of $k$ prizes in each box of its cereal. Assume that each box is equally likely to contain any of the $k$ prizes, independent of the other boxes. Suppose you buy $n$ boxes for some $n \\ge k$. Find the chance that you get all the prizes."
   ]
  },
  {
   "cell_type": "code",
   "execution_count": null,
   "metadata": {},
   "outputs": [],
   "source": []
  }
 ],
 "metadata": {
  "kernelspec": {
   "display_name": "Python 3",
   "language": "python",
   "name": "python3"
  },
  "language_info": {
   "codemirror_mode": {
    "name": "ipython",
    "version": 3
   },
   "file_extension": ".py",
   "mimetype": "text/x-python",
   "name": "python",
   "nbconvert_exporter": "python",
   "pygments_lexer": "ipython3",
   "version": "3.8.3"
  }
 },
 "nbformat": 4,
 "nbformat_minor": 4
}
