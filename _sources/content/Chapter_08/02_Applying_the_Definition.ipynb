{
 "cells": [
  {
   "cell_type": "code",
   "execution_count": 1,
   "metadata": {
    "tags": [
     "remove_cell"
    ]
   },
   "outputs": [],
   "source": [
    "# HIDDEN\n",
    "import warnings\n",
    "warnings.filterwarnings('ignore')\n",
    "from datascience import *\n",
    "from prob140 import *\n",
    "import numpy as np\n",
    "import matplotlib.pyplot as plt\n",
    "plt.style.use('fivethirtyeight')\n",
    "%matplotlib inline\n",
    "import math\n",
    "from scipy import stats"
   ]
  },
  {
   "cell_type": "markdown",
   "metadata": {},
   "source": [
    "## Applying the Definition ##"
   ]
  },
  {
   "cell_type": "markdown",
   "metadata": {},
   "source": [
    "Now that we have a few ways to think about expectation, let's see why it has such fundamental importance. We will start by directly applying the definition to calculate some expectations. In subsequent sections we will develop more powerful methods to calculate and use expectation."
   ]
  },
  {
   "cell_type": "markdown",
   "metadata": {},
   "source": [
    "### Constant ###\n",
    "This little example is worth writing out because it gets used all the time. Suppose a random variable $X$ is actually a constant $c$, that is, suppose $P(X = c) = 1$. Then the distribution of $X$ puts all its mass on the single value $c$, and $E(X) = c\\cdot 1 = c$. We just write $E(c) = c$. "
   ]
  },
  {
   "cell_type": "markdown",
   "metadata": {},
   "source": [
    "### Bernoulli and Indicators ###\n",
    "If $X$ has the Bernoulli $(p)$ distribution, then $P(X = 1) = p$\n",
    "and $P(X = 0) = 1-p$. So\n",
    "\n",
    "$$\n",
    "E(X) = 0 \\cdot (1-p) ~ + ~ 1 \\cdot p ~ = ~ p\n",
    "$$\n",
    "\n",
    "As you saw earlier, zero/one valued random variables are building blocks for other variables and are called indicators.\n",
    "\n",
    "Let $A$ be any event. Then the indicator of $A$ is the random variable $I_A$ that is 1 if $A$ occurs and 0 if $A$ doesn't occur. Thus $I_A$ is has the Bernoulli $(P(A))$ distribution and \n",
    "\n",
    "$$\n",
    "E(I_A) = P(A)\n",
    "$$\n",
    "\n",
    "by our calculation above. Thus every probability is an expectation. We will use this heavily in later sections."
   ]
  },
  {
   "cell_type": "code",
   "execution_count": 3,
   "metadata": {},
   "outputs": [
    {
     "data": {
      "image/png": "[encoded data removed]",
      "text/plain": [
       "<Figure size 432x288 with 1 Axes>"
      ]
     },
     "metadata": {},
     "output_type": "display_data"
    }
   ],
   "source": [
    "x = [0, 1]\n",
    "qp = [0.75, 0.25]\n",
    "bern_1_3 = Table().values(x).probabilities(qp)\n",
    "Plot(bern_1_3, show_ev=True)\n",
    "plt.title('Bernoulli (0.25)');"
   ]
  },
  {
   "cell_type": "markdown",
   "metadata": {},
   "source": [
    "```{admonition} Quick Check\n",
    "Three coins are tossed. Let $I$ be the indicator of the event that all three coins land the same way. Find $E(I)$.\n",
    "\n",
    "```"
   ]
  },
  {
   "cell_type": "markdown",
   "metadata": {},
   "source": [
    "```{admonition} Answer\n",
    ":class: dropdown\n",
    "$\\frac{1}{4}$\n",
    "\n",
    "```"
   ]
  },
  {
   "cell_type": "markdown",
   "metadata": {},
   "source": [
    "### Uniform on an Interval of Integers ###\n",
    "Let $a$ and $b$ be two integers such that $a < b$. If $X$ has the uniform distribution on the integers $a, a+1, a+2, \\ldots, b$, then by symmetry, $E(X)$ is half-way between $a$ and $b$. That's where the probability histogram will balance. So\n",
    "\n",
    "$$\n",
    "E(X) = \\frac{a+b}{2}\n",
    "$$\n",
    "\n",
    "For example, if $X$ has the uniform distribution on $1, 2, \\ldots , n$, then\n",
    "\n",
    "$$\n",
    "E(X) = \\frac{n+1}{2}\n",
    "$$\n",
    "\n",
    "An instance of this is if $X$ is the number of spots on one roll of a die. Then $E(X) = 3.5$.\n",
    "\n",
    "If instead $X$ is uniform on $0, 1, 2, \\ldots , n$, then\n",
    "\n",
    "$$\n",
    "E(X) = \\frac{n}{2}\n",
    "$$"
   ]
  },
  {
   "cell_type": "code",
   "execution_count": 4,
   "metadata": {},
   "outputs": [
    {
     "data": {
      "image/png": "[encoded data removed]",
      "text/plain": [
       "<Figure size 432x288 with 1 Axes>"
      ]
     },
     "metadata": {},
     "output_type": "display_data"
    }
   ],
   "source": [
    "x = np.arange(10)\n",
    "probs = 0.1*np.ones(10)\n",
    "unif_10 = Table().values(x).probabilities(probs)\n",
    "Plot(unif_10, show_ev=True)\n",
    "plt.title('Uniform on Integers 0, 1, 2, ..., 9');"
   ]
  },
  {
   "cell_type": "markdown",
   "metadata": {},
   "source": [
    "```{admonition} Quick Check\n",
    "Let $D$ be a digit picked at random from the $10$ digits $0$ through $9$. Pick one option: $E(D)$ is equal to\n",
    "\n",
    "(i) $4$\n",
    "\n",
    "(ii) $4.5$\n",
    "\n",
    "(iii) $5$\n",
    "\n",
    "```"
   ]
  },
  {
   "cell_type": "markdown",
   "metadata": {},
   "source": [
    "```{admonition} Answer\n",
    ":class: dropdown\n",
    "(ii)\n",
    "\n",
    "```"
   ]
  },
  {
   "cell_type": "code",
   "execution_count": 1,
   "metadata": {
    "tags": [
     "remove-input",
     "hide-output"
    ]
   },
   "outputs": [
    {
     "data": {
      "text/html": [
       "\n",
       "        <iframe\n",
       "            width=\"400\"\n",
       "            height=\"300\"\n",
       "            src=\"https://www.youtube.com/embed/hq9GiEQ1ZzY\"\n",
       "            frameborder=\"0\"\n",
       "            allowfullscreen\n",
       "        ></iframe>\n",
       "        "
      ],
      "text/plain": [
       "<IPython.lib.display.YouTubeVideo at 0x110ae1c40>"
      ]
     },
     "execution_count": 1,
     "metadata": {},
     "output_type": "execute_result"
    }
   ],
   "source": [
    "# VIDEO: Expectation: Poisson\n",
    "from IPython.display import YouTubeVideo\n",
    "\n",
    "YouTubeVideo('hq9GiEQ1ZzY')"
   ]
  },
  {
   "cell_type": "markdown",
   "metadata": {},
   "source": [
    "### Poisson ###\n",
    "Let $X$ have the Poisson $(\\mu)$ distribution. Then\n",
    "\n",
    "$$\n",
    "\\begin{align*}\n",
    "E(X) &= \\sum_{k=0}^\\infty k e^{-\\mu} \\frac{\\mu^k}{k!} \\\\ \\\\\n",
    "&= e^{-\\mu} \\mu \\sum_{k=1}^\\infty \\frac{\\mu^{k-1}}{(k-1)!} \\\\ \\\\\n",
    "&= e^{-\\mu} \\mu \\sum_{j=0}^\\infty \\frac{\\mu^j}{j!} \\\\ \\\\\n",
    "&= e^{-\\mu} \\mu e^{\\mu} \\\\ \\\\\n",
    "&= \\mu\n",
    "\\end{align*}\n",
    "$$\n",
    "\n",
    "**We now have an important new interpretation of the parameter of the Poisson distribution.** We saw earlier it was close to the mode; now we know that it is also the balance point or expectation of the distribution. The notation $\\mu$ was chosen to stand for \"mean\"."
   ]
  },
  {
   "cell_type": "code",
   "execution_count": 5,
   "metadata": {},
   "outputs": [
    {
     "data": {
      "image/png": "[encoded data removed]",
      "text/plain": [
       "<Figure size 432x288 with 1 Axes>"
      ]
     },
     "metadata": {},
     "output_type": "display_data"
    }
   ],
   "source": [
    "k = np.arange(15)\n",
    "poi_2_probs = stats.poisson.pmf(k, 2)\n",
    "dist_poi_2 = Table().values(k).probabilities(poi_2_probs)\n",
    "Plot(dist_poi_2, show_ev=True)\n",
    "plt.title('Poisson (2)');"
   ]
  },
  {
   "cell_type": "markdown",
   "metadata": {},
   "source": [
    "```{admonition} Quick Check\n",
    "Let $X$ have the Poisson $(\\mu)$ distribution. Say whether each of the following statements is True or False.\n",
    "\n",
    "(a) If you simulate $X$ repeatedly, the average of the simulated values is likely to be around $\\mu$.\n",
    "\n",
    "(b) The most likely value of $X$ is close to $\\mu$.\n",
    "\n",
    "(c) $P(X > \\mu)$ is $0.5$ or close to $0.5$.\n",
    "\n",
    "```"
   ]
  },
  {
   "cell_type": "markdown",
   "metadata": {},
   "source": [
    "```{admonition} Answer\n",
    ":class: dropdown\n",
    "(a) True\n",
    "\n",
    "(b) True\n",
    "\n",
    "(c) False\n",
    "\n",
    "```"
   ]
  },
  {
   "cell_type": "code",
   "execution_count": 2,
   "metadata": {
    "tags": [
     "remove-input",
     "hide-output"
    ]
   },
   "outputs": [
    {
     "data": {
      "text/html": [
       "\n",
       "        <iframe\n",
       "            width=\"400\"\n",
       "            height=\"300\"\n",
       "            src=\"https://www.youtube.com/embed/ctcoolPNZjE\"\n",
       "            frameborder=\"0\"\n",
       "            allowfullscreen\n",
       "        ></iframe>\n",
       "        "
      ],
      "text/plain": [
       "<IPython.lib.display.YouTubeVideo at 0x110b0a6d0>"
      ]
     },
     "execution_count": 2,
     "metadata": {},
     "output_type": "execute_result"
    }
   ],
   "source": [
    "# VIDEO: Tail Sum Formula\n",
    "YouTubeVideo('ctcoolPNZjE')"
   ]
  },
  {
   "cell_type": "markdown",
   "metadata": {
    "collapsed": true
   },
   "source": [
    "### Tail Sum Formula ###\n",
    "\n",
    "To find the expectation of a non-negative integer valued random variable it is sometimes quicker to use a formula that uses only the *right hand tail* probabilities $P(X > k) = 1 - F(k)$ where $F$ is the cdf of $X$ and $k \\ge 0$.\n",
    "\n",
    "For non-negative integer valued $X$,\n",
    "\n",
    "$$\n",
    "E(X) = P(X=1) + 2P(X=2) + 3P(X=3) + \\cdots\n",
    "$$\n",
    "\n",
    "Rewrite this as\n",
    "\n",
    "$$\n",
    "\\begin{align*}\n",
    "E(X) ~ = ~ &P(X=1)\\\\\n",
    "+ ~ &P(X=2) + P(X=2)\\\\\n",
    "+ ~ &P(X=3) + P(X=3) + P(X=3)\\\\\n",
    "+ ~ &P(X=4) + P(X=4) + P(X=4) + P(X=4)\\\\\n",
    "+ ~ & ~~~~~~~~ \\vdots ~~~~~ + ~~~~~~~~ \\vdots ~~~~~ + ~~~~~~~~ \\vdots ~~~~~ + ~~~~~~~~ \\vdots ~~~~~~\n",
    "\\end{align*}\n",
    "$$\n",
    "\n",
    "Add the terms along each column on the right hand side to get the *tail sum formula* for the expectation of a non-negative integer valued random variable.\n",
    "\n",
    "$$\n",
    "E(X) = P(X > 0) + P(X > 1) + P(X > 2) + \\cdots ~ = ~ \\sum_{k=0}^\\infty P(X > k)\n",
    "$$\n",
    "\n",
    "This formula comes in handy if a random variable has tail probabilities that are easy to find and also easy to sum."
   ]
  },
  {
   "cell_type": "markdown",
   "metadata": {},
   "source": [
    "### Geometric ###\n",
    "In a sequence of i.i.d. Bernoulli $(p)$ trials, let $X$ be the number of trials till the first success. We will use the word \"till\" to mean \"up to and including\".\n",
    "\n",
    "Let $q = 1-p$. The distribution of $X$ is given by\n",
    "\n",
    "$$\n",
    "P(X = k) ~ = ~ P(k-1 \\text{ failures followed by a success}) ~ = ~ q^{k-1}p, ~~ k = 1, 2, 3, \\ldots\n",
    "$$\n",
    "\n",
    "This is called the *geometric* $(p)$ distribution on $\\{1, 2, 3, \\ldots \\}$ because the probabilities are terms in a geometric series.\n",
    "\n",
    "The right tails of $X$ are simple because for each $k \\ge 1$,\n",
    "\n",
    "$$\n",
    "P(X > k) ~ = ~ P(\\text{first } k \\text{ trials are failures}) ~ = ~ q^k\n",
    "$$\n",
    "\n",
    "The formula is also true for $k = 0$ because $P(X > 0) = 1 = q^0$.\n",
    "\n",
    "By the tail sum formula, \n",
    "\n",
    "$$\n",
    "E(X) ~ = ~ \\sum_{k=0}^\\infty q^k ~ = ~ \\frac{1}{1-q} ~ = ~ \\frac{1}{p}\n",
    "$$"
   ]
  },
  {
   "cell_type": "code",
   "execution_count": 3,
   "metadata": {
    "tags": [
     "remove-input",
     "hide-output"
    ]
   },
   "outputs": [
    {
     "data": {
      "text/html": [
       "\n",
       "        <iframe\n",
       "            width=\"400\"\n",
       "            height=\"300\"\n",
       "            src=\"https://www.youtube.com/embed/f2HhYnaGL2U\"\n",
       "            frameborder=\"0\"\n",
       "            allowfullscreen\n",
       "        ></iframe>\n",
       "        "
      ],
      "text/plain": [
       "<IPython.lib.display.YouTubeVideo at 0x110b0a4f0>"
      ]
     },
     "execution_count": 3,
     "metadata": {},
     "output_type": "execute_result"
    }
   ],
   "source": [
    "# VIDEO: Expectation: Geometric\n",
    "YouTubeVideo('f2HhYnaGL2U')"
   ]
  },
  {
   "cell_type": "markdown",
   "metadata": {},
   "source": [
    "```{admonition} Quick Check\n",
    "Find the expectations of the following random variables.\n",
    "\n",
    "(a) The number of rolls of a die till the face with six spots appears\n",
    "\n",
    "(b) The number of rolls of a die till a face with more than four spots appears\n",
    "\n",
    "(c) The number of times a coin is tossed till it lands heads\n",
    "\n",
    "```"
   ]
  },
  {
   "cell_type": "markdown",
   "metadata": {},
   "source": [
    "```{admonition} Answer\n",
    ":class: dropdown\n",
    "(a) 6\n",
    "\n",
    "(b) 3\n",
    "\n",
    "(c) 2\n",
    "\n",
    "```"
   ]
  },
  {
   "cell_type": "code",
   "execution_count": null,
   "metadata": {},
   "outputs": [],
   "source": []
  }
 ],
 "metadata": {
  "anaconda-cloud": {},
  "celltoolbar": "Tags",
  "kernelspec": {
   "display_name": "Python 3",
   "language": "python",
   "name": "python3"
  },
  "language_info": {
   "codemirror_mode": {
    "name": "ipython",
    "version": 3
   },
   "file_extension": ".py",
   "mimetype": "text/x-python",
   "name": "python",
   "nbconvert_exporter": "python",
   "pygments_lexer": "ipython3",
   "version": "3.8.3"
  }
 },
 "nbformat": 4,
 "nbformat_minor": 1
}
