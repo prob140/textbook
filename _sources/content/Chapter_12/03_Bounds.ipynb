{
 "cells": [
  {
   "cell_type": "code",
   "execution_count": 1,
   "metadata": {
    "tags": [
     "remove_cell"
    ]
   },
   "outputs": [],
   "source": [
    "# HIDDEN\n",
    "import warnings\n",
    "warnings.filterwarnings('ignore')\n",
    "from datascience import *\n",
    "from prob140 import *\n",
    "import numpy as np\n",
    "import matplotlib.pyplot as plt\n",
    "plt.style.use('fivethirtyeight')\n",
    "%matplotlib inline\n",
    "from scipy import stats"
   ]
  },
  {
   "cell_type": "markdown",
   "metadata": {},
   "source": [
    "## Tail Bounds ##"
   ]
  },
  {
   "cell_type": "markdown",
   "metadata": {},
   "source": [
    "If you know $E(X)$ and $SD(X)$ you can get some idea of how much probability there is in the tails of the distribution of $X$. \n",
    "\n",
    "In this section we are going to get upper bounds on probabilities such as the gold area in the graph below. That's $P(X \\ge 20)$ for the random variable $X$ whose distribution is displayed in the histogram."
   ]
  },
  {
   "cell_type": "code",
   "execution_count": 2,
   "metadata": {
    "tags": [
     "remove_input"
    ]
   },
   "outputs": [
    {
     "data": {
      "image/png": "[encoded data removed]",
      "text/plain": [
       "<Figure size 432x288 with 1 Axes>"
      ]
     },
     "metadata": {
      "needs_background": "light"
     },
     "output_type": "display_data"
    }
   ],
   "source": [
    "# NO CODE\n",
    "x = np.arange(1, 26)\n",
    "probs = (1/x)/sum(1/x)\n",
    "dist = Table().values(x).probabilities(probs)\n",
    "Plot(dist, event=np.arange(20, 26), show_ev=True)\n",
    "plt.xlim(0, 25);"
   ]
  },
  {
   "cell_type": "markdown",
   "metadata": {},
   "source": [
    "### Monotonicity ###\n",
    "To do this, we will start with an observation about expectations of functions of $X$.\n",
    "\n",
    "Suppose $g$ and $h$ are functions such that $g(X) \\ge h(X)$, that is, $P(g(X) \\ge h(X)) = 1$. Then $E(g(X)) \\ge E(h(X))$.\n",
    "\n",
    "This result is apparent when you notice that for all $\\omega$ in the outcome space,\n",
    "\n",
    "$$\n",
    "(g \\circ X)(\\omega) \\ge (h \\circ X)(\\omega) ~~~~ \\text{and therefore} ~~~~\n",
    "(g \\circ X)(\\omega)P(\\omega) \\ge (h \\circ X)(\\omega)P(\\omega)\n",
    "$$"
   ]
  },
  {
   "cell_type": "markdown",
   "metadata": {},
   "source": [
    "Now suppose $X$ is a non-negative random variable, and let $c$ be a positive number. Consider the two functions $g$ and $h$ graphed below."
   ]
  },
  {
   "cell_type": "code",
   "execution_count": 3,
   "metadata": {
    "tags": [
     "remove_input"
    ]
   },
   "outputs": [
    {
     "data": {
      "image/png": "[encoded data removed]",
      "text/plain": [
       "<Figure size 432x288 with 1 Axes>"
      ]
     },
     "metadata": {
      "needs_background": "light"
     },
     "output_type": "display_data"
    }
   ],
   "source": [
    "# NO CODE\n",
    "plt.plot([0, 5], [0, 5/3], lw=2, color='r', label='g')\n",
    "plt.plot([0, 3], [0, 0], lw=2, color='k')\n",
    "plt.plot([3, 5], [1, 1], lw=2, color='k', label='h')\n",
    "plt.legend()\n",
    "plt.ylim(-0.2, 5/3)\n",
    "plt.xticks([0, 3], [0, 'c'])\n",
    "plt.yticks([0, 1]);\n",
    "plt.title('$g(x) = x/c$,  $h(x) = I(x \\geq c)$');"
   ]
  },
  {
   "cell_type": "code",
   "execution_count": 2,
   "metadata": {
    "tags": [
     "remove-input",
     "hide-output"
    ]
   },
   "outputs": [
    {
     "data": {
      "text/html": [
       "\n",
       "        <iframe\n",
       "            width=\"400\"\n",
       "            height=\"300\"\n",
       "            src=\"https://www.youtube.com/embed/WIokPScne_8\"\n",
       "            frameborder=\"0\"\n",
       "            allowfullscreen\n",
       "        ></iframe>\n",
       "        "
      ],
      "text/plain": [
       "<IPython.lib.display.YouTubeVideo at 0x10354b610>"
      ]
     },
     "execution_count": 2,
     "metadata": {},
     "output_type": "execute_result"
    }
   ],
   "source": [
    "# VIDEO: Markov's Inequality\n",
    "from IPython.display import YouTubeVideo\n",
    "\n",
    "YouTubeVideo('WIokPScne_8')"
   ]
  },
  {
   "cell_type": "markdown",
   "metadata": {},
   "source": [
    "The function $h$ is the indicator defined by $h(x) = I(x \\ge c)$. So $h(X) = I(X \\ge c)$ and $E(h(X)) = P(X \\ge c)$.\n",
    "\n",
    "The function $g$ is constructed so that the graph of $g$ is a straight line that is at or above the graph of $h$ on $[0, \\infty)$, with the two graphs meeting at $x = 0$ and $x = c$. The equation of the straight line is $g(x) = x/c$.\n",
    "\n",
    "Thus $g(X) = X/c$ and hence $E(g(X)) = E(X/c) = E(X)/c$.\n",
    "\n",
    "By construction, $g(x) \\ge h(x)$ for $x \\ge 0$. Since $X$ is a non-negative random variable, $P(g(X) \\ge h(X)) = 1$.\n",
    "\n",
    "So\n",
    "\n",
    "$$\n",
    "E(X)/c ~ = ~ E(g(X)) ~ \\ge ~ E(h(X)) ~ =  ~ P(X \\ge c)\n",
    "$$\n",
    "\n",
    "We have just proved\n",
    "\n",
    "### Markov's Inequality ###\n",
    "Let $X$ be a non-negative random variable. Then for any $c > 0$, \n",
    "\n",
    "$$\n",
    "P(X \\ge c) ~ \\le ~ \\frac{E(X)}{c}\n",
    "$$\n",
    "\n",
    "This result is called a \"tail bound\" because it puts an upper limit on how big the right tail at $c$ can be. It is worth noting that $P(X > c) \\le P(X \\ge c) \\le E(X)/c$ by Markov's bound.\n",
    "\n",
    "In the figure below, $E(X) = 6.5$ and $c = 20$. Markov's inequality says that the gold area is *at most*\n",
    "\n",
    "$$\n",
    "\\frac{6.5}{20} = 0.325\n",
    "$$\n",
    "\n",
    "You can see that the bound is pretty crude. The gold area is clearly quite a bit less than 0.325."
   ]
  },
  {
   "cell_type": "code",
   "execution_count": 5,
   "metadata": {
    "tags": [
     "remove_input"
    ]
   },
   "outputs": [
    {
     "data": {
      "image/png": "[encoded data removed]",
      "text/plain": [
       "<Figure size 432x288 with 1 Axes>"
      ]
     },
     "metadata": {
      "needs_background": "light"
     },
     "output_type": "display_data"
    }
   ],
   "source": [
    "# NO CODE\n",
    "x = np.arange(1, 26)\n",
    "probs = (1/x)/sum(1/x)\n",
    "dist = Table().values(x).probabilities(probs)\n",
    "Plot(dist, event=np.arange(20, 26), show_ev=True)\n",
    "plt.xlim(0, 25);"
   ]
  },
  {
   "cell_type": "markdown",
   "metadata": {},
   "source": [
    "```{admonition} Quick Check\n",
    "Students in a dorm have 4 packets of Oreos, on average. Let $R$ be the number of packets of Oreos that a randomly picked student has. Find or provide lower and upper bounds on $P(R > 12)$.\n",
    "\n",
    "```"
   ]
  },
  {
   "cell_type": "markdown",
   "metadata": {},
   "source": [
    "```{admonition} Answer\n",
    ":class: dropdown\n",
    "Between $0$ and $1/3$\n",
    "\n",
    "```"
   ]
  },
  {
   "cell_type": "markdown",
   "metadata": {},
   "source": [
    "### Another Way of Writing Markov's Inequality ###\n",
    "Another way to think of Markov's bound is that if $X$ is a non-negative random variable with expectation $\\mu_X$, then\n",
    "\n",
    "$$\n",
    "P(X \\ge k\\mu_X) ~ \\le ~ \\frac{1}{k} ~~~ \\text{for all } k > 0\n",
    "$$\n",
    "\n",
    "That is, $P(X \\ge 2\\mu_X) \\le 1/2$, $P(X \\ge 5\\mu_X) \\le 1/5$, and so on. The chance that a non-negative random variable is at least $k$ times the mean is at most $1/k$.\n",
    "\n",
    "**Notes:**\n",
    "- $k$ need not be an integer. For example, the chance that a non-negative random variable is at least 3.8 times the mean is at most $1/3.8$.\n",
    "- If $k \\le 1$, the inequality doesn't tell you anything you didn't already know. If $k \\le 1$ then Markov's bound is 1 or greater. All probabilities are bounded above by 1, so the inequality is true but useless for $k \\le 1$. \n",
    "- When $k$ is large, the bound does tell you something. You are looking at a probability quite far out in the tail of the distribution, and Markov's bound is $1/k$ which is small."
   ]
  },
  {
   "cell_type": "markdown",
   "metadata": {},
   "source": [
    "### Chebyshev's Inequality ###\n",
    "Markov's bound only uses $E(X)$, not $SD(X)$. To get bounds on tails it seems better to use $SD(X)$ if we can. *Chebyshev's Inequality* does just that. It provides a bound on the two tails outside an interval that is symmetric about $E(X)$ as in the following graph."
   ]
  },
  {
   "cell_type": "code",
   "execution_count": 6,
   "metadata": {
    "tags": [
     "remove_input"
    ]
   },
   "outputs": [
    {
     "data": {
      "image/png": "[encoded data removed]",
      "text/plain": [
       "<Figure size 432x288 with 1 Axes>"
      ]
     },
     "metadata": {
      "needs_background": "light"
     },
     "output_type": "display_data"
    }
   ],
   "source": [
    "# NO CODE\n",
    "x = np.arange(31)\n",
    "poi = stats.poisson.pmf(x, 9)\n",
    "dist2 = Table().values(x).probabilities(poi)\n",
    "Plot(dist2, event=np.append(np.arange(4), np.arange(15, 31, 1)), show_ev=True, show_sd=True)"
   ]
  },
  {
   "cell_type": "code",
   "execution_count": 4,
   "metadata": {
    "tags": [
     "remove-input",
     "hide-output"
    ]
   },
   "outputs": [
    {
     "data": {
      "text/html": [
       "\n",
       "        <iframe\n",
       "            width=\"400\"\n",
       "            height=\"300\"\n",
       "            src=\"https://www.youtube.com/embed/n6DilL4PzAQ\"\n",
       "            frameborder=\"0\"\n",
       "            allowfullscreen\n",
       "        ></iframe>\n",
       "        "
      ],
      "text/plain": [
       "<IPython.lib.display.YouTubeVideo at 0x103521b20>"
      ]
     },
     "execution_count": 4,
     "metadata": {},
     "output_type": "execute_result"
    }
   ],
   "source": [
    "# VIDEO: Chebyshev's Inequality\n",
    "\n",
    "YouTubeVideo('n6DilL4PzAQ')"
   ]
  },
  {
   "cell_type": "markdown",
   "metadata": {},
   "source": [
    "The red arrow marks $\\mu_X$ as usual, and now the two blue arrows are at a distance of $SD(X)$ on either side of the mean. The gold tails start at the same constant $c$ on either side of $\\mu$. We will get an upper bound on the gold area by applying Markov's Inequality to the non-negative random variable $(X - \\mu_X)^2$."
   ]
  },
  {
   "cell_type": "markdown",
   "metadata": {},
   "source": [
    "$$\n",
    "\\begin{align*}\n",
    "P\\big{(}|X - \\mu_X| \\ge c\\big{)} &= P\\big{(}(X-\\mu_X)^2 \\ge c^2\\big{)} \\\\ \\\\\n",
    "&\\le \\frac{E\\big{[}(X-\\mu_X)^2\\big{]}}{c^2} ~~~~~ \\text{(Markov's Inequality)}\\\\ \\\\\n",
    "&= \\frac{\\sigma_X^2}{c^2} ~~~~~ \\text{(definition of variance)} \n",
    "\\end{align*}\n",
    "$$"
   ]
  },
  {
   "cell_type": "markdown",
   "metadata": {},
   "source": [
    "The figure below is analogous to the figure drawn earlier to illustrate the derivation of Markov's inequality. \n",
    "\n",
    "The graph of the quadratic function $g(x) = (x - \\mu_X)^2/c^2$ is always at or above the graph of the indicator function $h(x) = I(\\vert x - \\mu_X \\vert \\ge c)$.\n",
    "\n",
    "Chebyshev's Inequality is just a restatement of the fact that $E(g(X)) ~ \\ge ~ E(h(X)) ~ = ~ P(\\vert X - \\mu_X \\vert \\ge c)$. "
   ]
  },
  {
   "cell_type": "code",
   "execution_count": 8,
   "metadata": {},
   "outputs": [
    {
     "data": {
      "image/png": "[encoded data removed]",
      "text/plain": [
       "<Figure size 432x288 with 1 Axes>"
      ]
     },
     "metadata": {
      "needs_background": "light"
     },
     "output_type": "display_data"
    }
   ],
   "source": [
    "# NO CODE\n",
    "x = np.arange(-5, 5.01, 0.01)\n",
    "y = (x**2)/9\n",
    "plt.plot(x, y, lw=2, color='r', label='g')\n",
    "plt.plot([-3, 3], [0, 0], lw=2, color='k')\n",
    "plt.plot([-5, -3], [1, 1], lw=2, color='k')\n",
    "plt.plot([3, 5], [1, 1], lw=2, color='k', label='h')\n",
    "plt.legend()\n",
    "plt.ylim(-0.2, 5/3)\n",
    "plt.xticks([-3, 0, 3], ['$\\mu_X -c$', '$\\mu_X$', '$\\mu_X +c$'])\n",
    "plt.yticks([0, 1]);\n",
    "plt.title('$g(x) = (x - \\mu_X)^2/c^2$,  $h(x) = I(|x - \\mu_X| \\geq c)$');"
   ]
  },
  {
   "cell_type": "markdown",
   "metadata": {},
   "source": [
    "### Bound on One Tail ###\n",
    "It is important to remember that Chebyshev's Inequality just provides an upper bound on the total of two tail probabilities. It is not an exact probability or an approximation. The same upper bound applies for a single tail:\n",
    "\n",
    "$$\n",
    "P(X - \\mu_X \\ge c) ~ \\le ~ P(|X - \\mu_X| \\ge c) ~ \\le ~ \\frac{\\sigma_X^2}{c^2}\n",
    "$$\n",
    "\n",
    "Don't yield to the temptation of dividing the bound by 2. The two tails need not be equal. There is no assumption of symmetry."
   ]
  },
  {
   "cell_type": "markdown",
   "metadata": {},
   "source": [
    "```{admonition} Quick Check\n",
    "Suppose $E(X) = 50$ and $SD(X) = 5$.\n",
    "\n",
    "(a) Find the best upper bound you can for $P(\\vert X - 50 \\vert \\ge 30)$.\n",
    "\n",
    "(b) Find the best upper bound you can for $P(X - 50 \\ge 30)$.\n",
    "\n",
    "```"
   ]
  },
  {
   "cell_type": "markdown",
   "metadata": {},
   "source": [
    "```{admonition} Answer\n",
    ":class: dropdown\n",
    "Both upper bounds are $1/36$\n",
    "\n",
    "```"
   ]
  },
  {
   "cell_type": "markdown",
   "metadata": {},
   "source": [
    "### Another Way of Writing Chebyshev's Inequality ###\n",
    "It is often going to be convenient to think of $E(X)$ as \"the origin\" and to measure distances in units of SDs on either side.\n",
    "\n",
    "Thus we can think of the two tails as the event \"$X$ is at least $z$ SDs away from $\\mu_X$\", for some positive $z$. Chebyshev's Inequality says\n",
    "\n",
    "$$\n",
    "P(\\vert X - \\mu_X \\vert \\ge z\\sigma_X) ~ \\le ~ \\frac{\\sigma_X^2}{z^2\\sigma_X^2} ~ = ~ \\frac{1}{z^2}\n",
    "$$\n",
    "\n",
    "This is the form in which you saw Chebyshev's Inequality in Data 8.\n",
    "\n",
    "Chebyshev's Inequality makes no assumptions about the shape of the distribution. It implies that no matter what the distribution of $X$ looks like,\n",
    "\n",
    "- $P(\\mu_X - 2\\sigma_X < X < \\mu_X + 2\\sigma_X) > 1 - 1/4 = 75\\%$\n",
    "\n",
    "- $P(\\mu_X - 3\\sigma_X < X < \\mu_X + 3\\sigma_X) > 1 - 1/9 = 88.88...\\%$\n",
    "- $P(\\mu_X - 4\\sigma_X < X < \\mu_X + 4\\sigma_X) > 1 - 1/16 = 93.75\\%$\n",
    "- $P(\\mu_X - 5\\sigma_X < X < \\mu_X + 5\\sigma_X) > 1 - 1/25 = 96\\%$\n",
    "\n",
    "That is, *no matter what the shape of the distribution*, the bulk of the probability is in the interval \"expected value plus or minus a few SDs\".\n",
    "\n",
    "This is one reason why the SD is a good measure of spread. No matter what the distribution, if you know the expectation and the SD then you have a pretty good sense of where the bulk of the probability is located. \n",
    "\n",
    "If you happen to know more about the distribution then of course you can do better than Chebyshev's bound. But in general Chebyshev's bound is as well as you can do without making further assumptions."
   ]
  },
  {
   "cell_type": "code",
   "execution_count": 6,
   "metadata": {
    "tags": [
     "remove-input",
     "hide-output"
    ]
   },
   "outputs": [
    {
     "data": {
      "text/html": [
       "\n",
       "        <iframe\n",
       "            width=\"400\"\n",
       "            height=\"300\"\n",
       "            src=\"https://www.youtube.com/embed/y6RF-WBJciY\"\n",
       "            frameborder=\"0\"\n",
       "            allowfullscreen\n",
       "        ></iframe>\n",
       "        "
      ],
      "text/plain": [
       "<IPython.lib.display.YouTubeVideo at 0x1035ce1c0>"
      ]
     },
     "execution_count": 6,
     "metadata": {},
     "output_type": "execute_result"
    }
   ],
   "source": [
    "# VIDEO: Standard Units\n",
    "\n",
    "YouTubeVideo('y6RF-WBJciY')"
   ]
  },
  {
   "cell_type": "markdown",
   "metadata": {},
   "source": [
    "### Standard Units ###\n",
    "To formalize the notion of \"setting $\\mu_X$ as the origin and measuring distances in units of $\\sigma_X$, we define a random variable $Z$ called \"$X$ in standard units\" as follows:\n",
    "\n",
    "$$\n",
    "Z = \\frac{X - \\mu_X}{\\sigma_X}\n",
    "$$\n",
    "\n",
    "$Z$ measures how far $X$ is above its mean, relative to its SD. In other words, $X$ is $Z$ SDs above the mean:\n",
    "\n",
    "$$\n",
    "X = Z\\sigma_X + \\mu_X\n",
    "$$\n",
    "\n",
    "It is important to learn to go back and forth between these two scales of measurement, as we will be using standard units quite frequently. Note that by the linear function rules,\n",
    "\n",
    "$$\n",
    "E(Z) = 0 ~~~~ \\text{and} ~~~~ SD(Z) = 1\n",
    "$$\n",
    "\n",
    "no matter what the distribution of $X$ is.\n",
    "\n",
    "Also note that because $Var(Z) = 1$, we have\n",
    "\n",
    "$$\n",
    "E(Z^2) ~ = ~ Var(Z) + (E(Z))^2 ~ = ~ 1 + 0^2 ~ = ~ 1\n",
    "$$\n",
    "\n",
    "Chebyshev's Inequality says\n",
    "\n",
    "$$\n",
    "P(|X - \\mu_X| \\ge z\\sigma_X) \\le \\frac{1}{z^2}\n",
    "$$\n",
    "\n",
    "which is the same as saying\n",
    "\n",
    "$$\n",
    "P(|Z| \\ge z) \\le \\frac{1}{z^2}\n",
    "$$\n",
    "\n",
    "So if you have converted a random variable to standard units, the overwhelming majority of the values of the standardized variable should be in the range $-5$ to $5$. It is possible that there are values outside that range, but it is not likely."
   ]
  },
  {
   "cell_type": "code",
   "execution_count": null,
   "metadata": {},
   "outputs": [],
   "source": []
  }
 ],
 "metadata": {
  "anaconda-cloud": {},
  "celltoolbar": "Tags",
  "kernelspec": {
   "display_name": "Python 3",
   "language": "python",
   "name": "python3"
  },
  "language_info": {
   "codemirror_mode": {
    "name": "ipython",
    "version": 3
   },
   "file_extension": ".py",
   "mimetype": "text/x-python",
   "name": "python",
   "nbconvert_exporter": "python",
   "pygments_lexer": "ipython3",
   "version": "3.8.3"
  }
 },
 "nbformat": 4,
 "nbformat_minor": 1
}
