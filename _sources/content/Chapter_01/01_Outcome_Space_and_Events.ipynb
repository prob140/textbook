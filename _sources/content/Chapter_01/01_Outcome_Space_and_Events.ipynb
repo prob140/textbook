{
 "cells": [
  {
   "cell_type": "markdown",
   "metadata": {},
   "source": [
    "## Outcome Space and Events ##"
   ]
  },
  {
   "cell_type": "markdown",
   "metadata": {},
   "source": [
    "Any experiment involving randomness results in one of a number of possible outcomes. The outcome space is the collection of all such outcomes. \n",
    "\n",
    "Formally, an **outcome space** is just a set, usually denoted by $\\Omega$. That's the upper case Greek letter Omega. \n",
    "\n",
    "We will assume for now that $\\Omega$ is finite. In a sense this is not restrictive, as even the largest data sets are finite and the most powerful computers perform finitely many operations per task. However, we will soon see that allowing infinitely many possible outcomes not only results in a rich and elegant theory but also gives us deeper insights into problems involving finite outcome spaces. So the assumption that $\\Omega$ is finite will be lifted in later chapters, once we have acquired some fluency with working in the finite case.\n",
    "\n",
    "An **outcome** $\\omega$ is an element of the outcome space $\\Omega$. Though $\\omega$ looks like the letter w, it's the lower case Greek omega and is usually more rounded in appearance than w.\n",
    "\n",
    "An **event** is a subset of $\\Omega$. The empty set $\\phi$ and the entire space $\\Omega$ are allowed as subsets. By convention, early letters of the alphabet like $A$ and $B$ are commonly used as notation for events. Also by convention, we will denote sets by enclosing their elements in braces $\\{ \\}$."
   ]
  },
  {
   "cell_type": "markdown",
   "metadata": {},
   "source": [
    "### Example: Permutations ###\n",
    "Suppose you are shuffling three cards labeled $a$, $b$, and $c$. Then the space of all possible outcomes is\n",
    "\n",
    "$$\n",
    "\\Omega ~=~ \\{ abc, ~acb, ~bac, ~bca, ~cab, ~cba \\}\n",
    "$$\n",
    "\n",
    "The event $\\{abc, ~ acb \\}$  can be described as \"$a$ appears first\". Such verbal descriptions of events are made formal by defining the events as subsets. This is the first step in developing a theory that is precise and consistent while also capable of being expressed in language that is natural for applications.\n",
    "\n",
    "Event | Verbal Description                               | Subset      |\n",
    ":----:|:-------------------------------------------------|:-------------\n",
    "$A$   | $a$ appears first                                |$\\{abc, acb\\}$ \n",
    "$B$   | $b$ and $c$ are not next to each other           |$\\{bac, cab\\}$\n",
    "$C$   | the letters are in alphabetical order            | $\\{abc\\}$     \n",
    "$D$   | $a$ appears first, $b$ next, but $c$ isn't third | $\\phi$        \n",
    "$E$   | $c$ is either first, second, or third            | $\\Omega$ \n",
    "$F$   | the letters form a word that means \"taxi\" | $\\{ cab \\}$"
   ]
  },
  {
   "cell_type": "markdown",
   "metadata": {},
   "source": [
    "**A note about \"types\":** The outcome $\\omega = cab$ is different from the event $F = \\{ cab \\}$. The outcome is an element of the outcome space, and the event is a subset of the outcome space. This subset happens to consist of just one outcome, but it's still a subset, not an element. You can think of this as analogous to different types in Python: `'cab'` is a string whereas `['cab']` is a list.\n",
    "\n",
    "The table contains six events and you can come up with many more. For each one, see if you can give an interesting verbal description."
   ]
  },
  {
   "cell_type": "markdown",
   "metadata": {},
   "source": [
    "```{admonition} Quick Check\n",
    "A natural outcome space for three tosses of a coin is $\\Omega = \\{ HHH, HHT, HTH, HTT, THH, THT, TTH, TTT \\}$.\n",
    "\n",
    "**a)** What is the event that corresponds to the description \"no two consecutive tosses land the same way\"? \n",
    "\n",
    "**b)** Give a verbal description of the event $\\{ HTT, THT, TTH, TTT \\}$.\n",
    "```"
   ]
  },
  {
   "cell_type": "markdown",
   "metadata": {},
   "source": [
    "```{admonition} Answer\n",
    ":class: dropdown\n",
    "(a) $\\{ HTH, THT \\}$      \n",
    "\n",
    "(b) One way to describe it is \"at most one head\"\n",
    "```"
   ]
  },
  {
   "cell_type": "markdown",
   "metadata": {},
   "source": [
    "When you shuffle cards for a game, the goal is to make the order of the cards \"random\". Preferably, you'd like any permutation to be just as likely as any other. So let's start working with equally likely outcomes."
   ]
  },
  {
   "cell_type": "code",
   "execution_count": null,
   "metadata": {},
   "outputs": [],
   "source": []
  }
 ],
 "metadata": {
  "anaconda-cloud": {},
  "kernelspec": {
   "display_name": "Python 3",
   "language": "python",
   "name": "python3"
  },
  "language_info": {
   "codemirror_mode": {
    "name": "ipython",
    "version": 3
   },
   "file_extension": ".py",
   "mimetype": "text/x-python",
   "name": "python",
   "nbconvert_exporter": "python",
   "pygments_lexer": "ipython3",
   "version": "3.8.3"
  },
  "widgets": {
   "application/vnd.jupyter.widget-state+json": {
    "state": {},
    "version_major": 2,
    "version_minor": 0
   }
  }
 },
 "nbformat": 4,
 "nbformat_minor": 4
}
