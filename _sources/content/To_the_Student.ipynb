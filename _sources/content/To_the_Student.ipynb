{
 "cells": [
  {
   "cell_type": "code",
   "execution_count": 1,
   "metadata": {
    "collapsed": true,
    "tags": [
     "remove_cell"
    ]
   },
   "outputs": [],
   "source": [
    "# HIDDEN\n",
    "from datascience import *\n",
    "from prob140 import *\n",
    "%matplotlib inline\n",
    "import matplotlib.pyplot as plt\n",
    "plt.style.use('fivethirtyeight')\n",
    "import numpy as np"
   ]
  },
  {
   "cell_type": "markdown",
   "metadata": {},
   "source": [
    "# To the  Student #"
   ]
  },
  {
   "cell_type": "markdown",
   "metadata": {},
   "source": [
    "Data science is about making conclusions based on large amounts of data of diverse forms. But most data sets, no matter how large or complex, provide only incomplete information about the questions that interest us. When data scientists make conclusions, they often have to account for uncertainty.\n",
    "\n",
    "Probability theory studies the nature of randomness and gives us ways to quantify uncertainty. For example, it helps explain a phenomenon familiar to you from Data 8: that large random samples can hold rich stores of information about unknown quantities. Data scientists can use this to make valid conclusions about those unknowns, in spite of the uncertainties inherent in sampling.\n",
    "\n",
    "In a way this seems contradictory. The word \"random\", as it is commonly used, conjures up an image of haphazardness: all mixed up and higgledy piggledy. How can randomness help us make sense of anything?\n",
    "\n",
    "In the Fall 2015 inaugural offering of Data 8, this question was raised by a student who posted a request anonymously in the online discussion forum.\n",
    "\n",
    "> Would someone please explain why this is: Using **Randomness** in **Inference** allows us to understand how \"sure\" we may be of an answer.\n",
    "\n",
    "This insightful question received a prompt and equally insightful answer from another anonymous student.\n",
    "\n",
    "> When you use randomness many times and see a similar pattern, it becomes easier to make an inference about the data.\n",
    "\n",
    "Patterns in randomness – that's what this course is about. We will discover such patterns, generate them, use them, and most of all, enjoy them.\n",
    "\n",
    "Welcome to Prob140."
   ]
  },
  {
   "cell_type": "markdown",
   "metadata": {},
   "source": [
    "*Berkeley, 2017*"
   ]
  }
 ],
 "metadata": {
  "anaconda-cloud": {},
  "kernelspec": {
   "display_name": "Python 3",
   "language": "python",
   "name": "python3"
  },
  "language_info": {
   "codemirror_mode": {
    "name": "ipython",
    "version": 3
   },
   "file_extension": ".py",
   "mimetype": "text/x-python",
   "name": "python",
   "nbconvert_exporter": "python",
   "pygments_lexer": "ipython3",
   "version": "3.5.2"
  }
 },
 "nbformat": 4,
 "nbformat_minor": 0
}
