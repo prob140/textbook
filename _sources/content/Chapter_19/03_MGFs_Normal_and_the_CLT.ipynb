{
 "cells": [
  {
   "cell_type": "code",
   "execution_count": 1,
   "metadata": {
    "collapsed": true,
    "tags": [
     "remove_cell"
    ]
   },
   "outputs": [],
   "source": [
    "# HIDDEN\n",
    "from datascience import *\n",
    "from prob140 import *\n",
    "import numpy as np\n",
    "import matplotlib.pyplot as plt\n",
    "plt.style.use('fivethirtyeight')\n",
    "%matplotlib inline\n",
    "import math\n",
    "from scipy import stats"
   ]
  },
  {
   "cell_type": "markdown",
   "metadata": {},
   "source": [
    "## MGFs, the Normal, and the CLT ##"
   ]
  },
  {
   "cell_type": "code",
   "execution_count": 1,
   "metadata": {
    "tags": [
     "remove-input",
     "hide-output"
    ]
   },
   "outputs": [
    {
     "data": {
      "text/html": [
       "\n",
       "        <iframe\n",
       "            width=\"400\"\n",
       "            height=\"300\"\n",
       "            src=\"https://www.youtube.com/embed/SXyYS0ztJ6U\"\n",
       "            frameborder=\"0\"\n",
       "            allowfullscreen\n",
       "        ></iframe>\n",
       "        "
      ],
      "text/plain": [
       "<IPython.lib.display.YouTubeVideo at 0x10f5cacd0>"
      ]
     },
     "execution_count": 1,
     "metadata": {},
     "output_type": "execute_result"
    }
   ],
   "source": [
    "# VIDEO\n",
    "from IPython.display import YouTubeVideo\n",
    "\n",
    "YouTubeVideo('SXyYS0ztJ6U')"
   ]
  },
  {
   "cell_type": "markdown",
   "metadata": {},
   "source": [
    "Let $Z$ be standard normal. Then the mgf of $Z$ is given by\n",
    "\n",
    "$$\n",
    "M_Z(t) ~ = ~ e^{t^2/2} ~~~ \\text{for all } t\n",
    "$$\n",
    "\n",
    "To see this, just work out the integral:\n",
    "\n",
    "$$\n",
    "\\begin{align*}\n",
    "M_Z(t) ~ &= ~ \\int_{-\\infty}^\\infty e^{tz} \\frac{1}{\\sqrt{2\\pi}} e^{-\\frac{1}{2}z^2} dz \\\\ \\\\\n",
    "&= ~ \\int_{-\\infty}^\\infty \\frac{1}{\\sqrt{2\\pi}} e^{-\\frac{1}{2}(z^2 - 2tz)} dz \\\\ \\\\\n",
    "&= ~ e^{t^2/2} \\int_{-\\infty}^\\infty \\frac{1}{\\sqrt{2\\pi}} e^{-\\frac{1}{2}(z^2 - 2tz + t^2)} dz \\\\ \\\\\n",
    "&= ~ e^{t^2/2} \\int_{-\\infty}^\\infty \\frac{1}{\\sqrt{2\\pi}} e^{-\\frac{1}{2}(z- t)^2} dz \\\\ \\\\\n",
    "&= ~ e^{t^2/2}\n",
    "\\end{align*}\n",
    "$$\n",
    "\n",
    "because the integral is $1$. It is the normal $(t, 1)$ density integrated over the whole real line."
   ]
  },
  {
   "cell_type": "markdown",
   "metadata": {},
   "source": [
    "### Linear Transformation ###\n",
    "It's handy to note that moment generating functions behave well under linear transformation.\n",
    "\n",
    "$$\n",
    "M_{aX+b}(t) ~ = ~ E(e^{t(aX + b)}) ~ = ~ e^{bt}E(e^{atX}) ~ = ~ e^{bt}M_X(at)\n",
    "$$"
   ]
  },
  {
   "cell_type": "markdown",
   "metadata": {},
   "source": [
    "### Normal $(\\mu, \\sigma^2)$ ###\n",
    "\n",
    "Since a normal $(\\mu, \\sigma^2)$ variable can be written as $\\sigma Z + \\mu$ where $Z$ is standard normal, its m.g.f. is\n",
    "\n",
    "$$\n",
    "M_{\\sigma Z + \\mu} (t) ~ = ~ e^{\\mu t}M_Z(\\sigma t) ~ = ~ e^{\\mu t +\\sigma^2 t^2/2}\n",
    "$$\n",
    "\n",
    "Details aside, what this formula is saying is that if a moment generating function is $\\exp(c_1t + c_2t^2)$ for any constant $c_1$ and any positive constant $c_2$, then it is the moment generating function of a normally distributed random variable."
   ]
  },
  {
   "cell_type": "markdown",
   "metadata": {},
   "source": [
    "```{admonition} Quick Check\n",
    "The random variable $X$ has mgf $M_X(t) = e^{10t^2}$ for all $t$. What is the distribution of $X$?\n",
    "\n",
    "```"
   ]
  },
  {
   "cell_type": "markdown",
   "metadata": {},
   "source": [
    "```{admonition} Answer\n",
    ":class: dropdown\n",
    "normal $(0, 20)$\n",
    "\n",
    "```"
   ]
  },
  {
   "cell_type": "markdown",
   "metadata": {
    "collapsed": true
   },
   "source": [
    "### Sums of Independent Normal Variables ###\n",
    "We can now show that sums of independent normal variables are normal.\n",
    "\n",
    "Let $X$ have normal $(\\mu_X, \\sigma_X^2)$ distribution, and let $Y$ independent of $X$ have normal $(\\mu_Y, \\sigma_Y^2)$ distribution. Then\n",
    "\n",
    "$$\n",
    "M_{X+Y} (t) = e^{\\mu_X t + \\sigma_X^2 t^2/2} \\cdot e^{\\mu_Y t + \\sigma_Y^2 t^2/2} = e^{(\\mu_X + \\mu_Y)t + (\\sigma_X^2 + \\sigma_Y^2)t^2/2}\n",
    "$$\n",
    "\n",
    "That's the m.g.f. of the normal distribution with mean $\\mu_X + \\mu_Y$ and variance $\\sigma_X^2 + \\sigma_Y^2$."
   ]
  },
  {
   "cell_type": "markdown",
   "metadata": {
    "collapsed": true
   },
   "source": [
    "### \"Proof\" of the Central Limit Theorem ###\n",
    "Another important reason for studying mgf's is that they can help us identify the limit of a sequence of distributions. \n",
    "\n",
    "The main example of convergence that we have seen is the Central Limit Theorem. Now we can indicate a proof.\n",
    "\n",
    "Let $X_1, X_2, \\ldots$ be i.i.d. random variables with expectation $\\mu$ and SD $\\sigma$. For every $n \\ge 1$ let $S_n = X_1 + X_2 + \\cdots + X_n$.\n",
    "\n",
    "The Central Limit Theorem says that for large $n$, the distribution of the standardized sum\n",
    "\n",
    "$$\n",
    "S_n^* = \\frac{S_n - n\\mu}{\\sqrt{n}\\sigma}\n",
    "$$\n",
    "\n",
    "is approximately standard normal.\n",
    "\n",
    "To show this, we will assume a major result whose proof is well beyond the scope of this class. Suppose $Y_1, Y_2, \\ldots$ are random variables and we want to show that the the distribution of the $Y_n$'s converges to the distribution of some random variable $Y$. The result says that it is enough to show that the mgf's of the $Y_n$'s converge to the mgf of $Y$.  \n",
    "\n",
    "The result requires a careful statement and the proof requires considerable attention to detail. We won't go into that in this course. Instead we'll just point out that it should seem reasonable. Since mgf's determine distributions, it's not difficult to accept that if two mgf's are close to each other then the corresponding distributions should also be close to each other.\n",
    "\n",
    "Let's use this result to \"prove\" the CLT. The quotes are because we will use the above result without proof, and also because the argument below involves some hand-waving about approximations.\n",
    "\n",
    "First, write the standardized sum in terms of the standardized $X$'s.\n",
    "\n",
    "$$\n",
    "\\begin{align*}\n",
    "S_n^* = \\frac{S_n - n\\mu}{\\sqrt{n}\\sigma} = \\sum_{i=1}^n \\frac{1}{\\sqrt{n}} \\big{(} \\frac{X_i - \\mu}{\\sigma} \\big{)} = \\sum_{i=1}^n \\frac{1}{\\sqrt{n}} X_i^*\n",
    "\\end{align*}\n",
    "$$\n",
    "\n",
    "where for each $i$, the random variable $X_i^*$ is $X_i$ in standard units. \n",
    "\n",
    "The random variables $X_i^*$ are i.i.d., so let $M_{X^*}$ denote the mgf of any one of them. By the linear transformation property proved above, the mgf of each $\\frac{1}{\\sqrt{n}}X_i^*$ is given by\n",
    "\n",
    "$$\n",
    "M_{\\frac{1}{\\sqrt{n}}X_i^*} (t) = M_{X^*} (t/\\sqrt{n})\n",
    "$$\n",
    "\n",
    "Therefore\n",
    "\n",
    "$$\n",
    "\\begin{align*}\n",
    "M_{S_n^*} (t) &= \\big{(} M_{X^*}(t/\\sqrt{n}) \\big{)}^n \\\\ \\\\\n",
    "&= \\Big{(} 1 + \\frac{t}{\\sqrt{n}} \\cdot \\frac{E(X^*)}{1!} + \\frac{t^2}{n} \\cdot \\frac{E({X^*}^2)}{2!} + \\frac{t^3}{n^{3/2}} \\cdot \\frac{E({X^*}^3)}{3!} + \\cdots \\Big{)}^n \\\\ \\\\\n",
    "&\\approx ~ \\Big{(} 1 + \\frac{t^2}{2n}\\Big{)}^n ~~~ \\text{for large } n\\\\ \\\\\n",
    "\\end{align*}\n",
    "$$\n",
    "\n",
    "by ignoring small terms and using the fact that for any standardized random variable $X^*$ we have $E(X^*) = 0$ and $E({X^*}^2) = 1$.\n",
    "\n",
    "Thus for large $n$,\n",
    "\n",
    "$$\n",
    "M_{S_n^*} (t) \\approx \\Big{(} 1 + \\frac{t^2}{2n}\\Big{)}^n \n",
    "\\to e^{t^2/2} \\text{as } n \\to \\infty\n",
    "$$\n",
    "\n",
    "The limit is the moment generating function of the standard normal distribution. "
   ]
  },
  {
   "cell_type": "code",
   "execution_count": 2,
   "metadata": {
    "collapsed": true
   },
   "outputs": [],
   "source": []
  }
 ],
 "metadata": {
  "anaconda-cloud": {},
  "celltoolbar": "Tags",
  "kernelspec": {
   "display_name": "Python 3",
   "language": "python",
   "name": "python3"
  },
  "language_info": {
   "codemirror_mode": {
    "name": "ipython",
    "version": 3
   },
   "file_extension": ".py",
   "mimetype": "text/x-python",
   "name": "python",
   "nbconvert_exporter": "python",
   "pygments_lexer": "ipython3",
   "version": "3.7.11"
  }
 },
 "nbformat": 4,
 "nbformat_minor": 1
}
