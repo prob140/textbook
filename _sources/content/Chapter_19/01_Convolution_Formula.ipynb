{
 "cells": [
  {
   "cell_type": "code",
   "execution_count": 2,
   "metadata": {
    "tags": [
     "remove_cell"
    ]
   },
   "outputs": [],
   "source": [
    "# HIDDEN\n",
    "from datascience import *\n",
    "from prob140 import *\n",
    "import numpy as np\n",
    "import matplotlib.pyplot as plt\n",
    "plt.style.use('fivethirtyeight')\n",
    "%matplotlib inline\n",
    "import math\n",
    "from scipy import stats"
   ]
  },
  {
   "cell_type": "markdown",
   "metadata": {},
   "source": [
    "## The Convolution Formula ##"
   ]
  },
  {
   "cell_type": "markdown",
   "metadata": {},
   "source": [
    "Let $X$ and $Y$ be discrete random variables and let $S = X+Y$. We know that a good way to find the distribution of $S$ is to partition the event $\\{ S = s\\}$ according to values of $X$. That is,\n",
    "\n",
    "$$\n",
    "P(S = s) ~ = ~ \\sum_{\\text{all }x} P(X = x, Y = s-x)\n",
    "$$\n",
    "\n",
    "If $X$ and $Y$ are independent, this becomes the *discrete convolution formula*:\n",
    "\n",
    "$$\n",
    "P(S = s) ~ = ~ \\sum_{\\text{all }x} P(X = x)P(Y = s-x)\n",
    "$$\n",
    "\n",
    "This formula has a straightforward continuous analog. Let $X$ and $Y$ be continuous random variables with joint density $f$, and let $S = X+Y$. Then the density of $S$ is given by\n",
    "\n",
    "$$\n",
    "f_S(s) ~ = ~ \\int_{-\\infty}^\\infty f(x, s-x)dx\n",
    "$$\n",
    "\n",
    "which becomes the *convolution formula* when $X$ and $Y$ are independent:\n",
    "\n",
    "$$\n",
    "f_S(s) ~ = ~ \\int_{-\\infty}^\\infty f_X(x)f_Y(s-x)dx\n",
    "$$"
   ]
  },
  {
   "cell_type": "markdown",
   "metadata": {},
   "source": [
    "### Sum of Two IID Exponential Random Variables ###\n",
    "Let $X$ and $Y$ be i.i.d. exponential $(\\lambda)$ random variables and let $S = X+Y$. For the sum to be $s > 0$, neither $X$ nor $Y$ can exceed $s$. The convolution formula says that the density of $S$ is given by\n",
    "\n",
    "$$\n",
    "\\begin{align*}\n",
    "f_S(s) ~ &= ~ \\int_0^s \\lambda e^{-\\lambda x} \\lambda e^{-\\lambda(s-x)} dx \\\\ \\\\\n",
    "&= ~ \\lambda^2 e^{-\\lambda s} \\int_0^s dx \\\\ \\\\\n",
    "&=~  \\lambda^2 s e^{-\\lambda s}\n",
    "\\end{align*}\n",
    "$$\n",
    "\n",
    "That's the gamma $(2, \\lambda)$ density, consistent with the claim made in the previous chapter about sums of independent gamma random variables."
   ]
  },
  {
   "cell_type": "markdown",
   "metadata": {},
   "source": [
    "Sometimes, the density of a sum can be found without the convolution formula."
   ]
  },
  {
   "cell_type": "markdown",
   "metadata": {},
   "source": [
    "### Sum of Two IID Uniform $(0, 1)$ Random Variables ###\n",
    "Let $S = U_1 + U_2$ where the $U_i$'s are i.i.d. uniform on $(0, 1)$. The gold stripes in the graph below show the events $\\{ S \\in ds \\}$ for various values of $S$."
   ]
  },
  {
   "cell_type": "code",
   "execution_count": 3,
   "metadata": {
    "tags": [
     "remove_input"
    ]
   },
   "outputs": [
    {
     "data": {
      "image/png": "[encoded data removed]",
      "text/plain": [
       "<matplotlib.figure.Figure at 0x1a0d310b70>"
      ]
     },
     "metadata": {},
     "output_type": "display_data"
    }
   ],
   "source": [
    "# NO CODE\n",
    "plt.axes().set_aspect('equal')\n",
    "plt.plot([0, 1], [1, 1], color='k', lw=2)\n",
    "plt.plot([1, 1], [0, 1], color='k', lw=2)\n",
    "plt.plot([0, 1], [0, 0], color='k', lw=2)\n",
    "plt.plot([0, 0], [0, 1], color='k', lw=2)\n",
    "plt.plot([0.005, 0.25], [0.25, 0.005], color='gold', lw=4)\n",
    "plt.plot([0.005, 0.995], [0.995, 0.005], color='gold', lw=4)\n",
    "plt.plot([0.405, 0.995], [0.995, 0.405], color='gold', lw=4)\n",
    "plt.ylim(-0.05, 1.05)\n",
    "plt.xlim(-0.05, 1.05)\n",
    "plt.xlabel('$U_1$')\n",
    "plt.ylabel('$U_2$', rotation=0);"
   ]
  },
  {
   "cell_type": "markdown",
   "metadata": {},
   "source": [
    "The joint density surface is flat. So the shape of the density of $S$ depends only on the lengths of the stripes, which increase linearly between $s = 0$ and $s = 1$ and then decrease linearly between $s = 1$ and $s = 2$. So the joint density of $S$ is triangular. The height of the triangle is 1 since the area of the triangle has to be 1."
   ]
  },
  {
   "cell_type": "code",
   "execution_count": 4,
   "metadata": {
    "tags": [
     "remove_input"
    ]
   },
   "outputs": [
    {
     "data": {
      "image/png": "[encoded data removed]",
      "text/plain": [
       "<matplotlib.figure.Figure at 0x1a1562def0>"
      ]
     },
     "metadata": {},
     "output_type": "display_data"
    }
   ],
   "source": [
    "# NO CODE\n",
    "plt.axes().set_aspect('equal')\n",
    "plt.plot([0, 1], [0, 1], color='darkblue', lw=2)\n",
    "plt.plot([1, 2], [1, 0], color='darkblue', lw=2)\n",
    "plt.ylim(-0.05, 1.05)\n",
    "plt.xlabel('$s$')\n",
    "plt.ylabel('$f_S(s)$', rotation = 0)\n",
    "plt.title('Density of $S = U_1 + U_2$');"
   ]
  },
  {
   "cell_type": "markdown",
   "metadata": {},
   "source": [
    "At the other end of the difficulty scale, the integral in the convolution formula can sometimes be quite intractable. In the rest of the chapter we will develop a different way of identifying distributions of sums."
   ]
  },
  {
   "cell_type": "code",
   "execution_count": 4,
   "metadata": {
    "collapsed": true
   },
   "outputs": [],
   "source": []
  }
 ],
 "metadata": {
  "anaconda-cloud": {},
  "kernelspec": {
   "display_name": "Python 3",
   "language": "python",
   "name": "python3"
  },
  "language_info": {
   "codemirror_mode": {
    "name": "ipython",
    "version": 3
   },
   "file_extension": ".py",
   "mimetype": "text/x-python",
   "name": "python",
   "nbconvert_exporter": "python",
   "pygments_lexer": "ipython3",
   "version": "3.8.3"
  }
 },
 "nbformat": 4,
 "nbformat_minor": 1
}
