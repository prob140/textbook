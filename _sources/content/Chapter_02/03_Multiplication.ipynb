{
 "cells": [
  {
   "cell_type": "code",
   "execution_count": 1,
   "metadata": {
    "tags": [
     "remove_cell"
    ]
   },
   "outputs": [],
   "source": [
    "# HIDDEN\n",
    "from datascience import *\n",
    "from prob140 import *\n",
    "%matplotlib inline\n",
    "import matplotlib.pyplot as plt\n",
    "plt.style.use('fivethirtyeight')\n",
    "import numpy as np"
   ]
  },
  {
   "cell_type": "code",
   "execution_count": 2,
   "metadata": {
    "tags": [
     "remove_cell"
    ]
   },
   "outputs": [],
   "source": [
    "# HIDDEN\n",
    "from matplotlib import patches\n",
    "import shapely.geometry as sg\n",
    "import descartes"
   ]
  },
  {
   "cell_type": "code",
   "execution_count": 3,
   "metadata": {
    "tags": [
     "remove_cell"
    ]
   },
   "outputs": [],
   "source": [
    "# HIDDEN\n",
    "def show_intersection():\n",
    "    plt.figure(figsize=(8, 16))\n",
    "    # create the circles with shapely\n",
    "    a = sg.Point(-.5,0).buffer(1.0)\n",
    "    b = sg.Point(0.5,0).buffer(0.75)\n",
    "\n",
    "    # compute the 3 parts\n",
    "    left = a.difference(b)\n",
    "    right = b.difference(a)\n",
    "    middle = a.intersection(b)\n",
    "\n",
    "    # use descartes to create the matplotlib patches\n",
    "    ax = plt.subplot(121)\n",
    "    ax.add_patch(descartes.PolygonPatch(left, fc='darkblue', ec='k', alpha=0.8))\n",
    "    ax.add_patch(descartes.PolygonPatch(right, fc='gold', ec='k', alpha=0.6))\n",
    "    ax.add_patch(descartes.PolygonPatch(middle, fc='olive', ec='k', alpha=0.8))\n",
    "    ax.annotate('A', [-0.5, 0])\n",
    "    ax.annotate('B', [0.5, 0])\n",
    "\n",
    "    # control display\n",
    "    plt.title('Two Events')\n",
    "    plt.axis('off')\n",
    "    ax.set_xlim(-2, 2); ax.set_ylim(-2, 2)\n",
    "    ax.set_aspect('equal')\n",
    "\n",
    "    # use descartes to create the matplotlib patches\n",
    "    ax = plt.subplot(122)\n",
    "    ax.add_patch(descartes.PolygonPatch(left, fc='None', ec='k', alpha=0.8))\n",
    "    ax.add_patch(descartes.PolygonPatch(right, fc='None', ec='k', alpha=0.8))\n",
    "    ax.add_patch(descartes.PolygonPatch(middle, fc='blue', ec='k', alpha=0.8))\n",
    "\n",
    "    # control display\n",
    "    plt.title('The Intersection')\n",
    "    plt.axis('off')\n",
    "    ax.set_xlim(-2, 2); ax.set_ylim(-2, 2)\n",
    "    ax.set_aspect('equal')"
   ]
  },
  {
   "cell_type": "markdown",
   "metadata": {},
   "source": [
    "## Multiplication ##"
   ]
  },
  {
   "cell_type": "markdown",
   "metadata": {},
   "source": [
    "The main axiom of probability is about mutually exclusive events, and it turns out that we don't need any further axioms to deal with events that intersect."
   ]
  },
  {
   "cell_type": "code",
   "execution_count": 4,
   "metadata": {
    "tags": [
     "remove_input"
    ]
   },
   "outputs": [
    {
     "data": {
      "image/png": "[encoded data removed]",
      "text/plain": [
       "<Figure size 576x1152 with 2 Axes>"
      ]
     },
     "metadata": {},
     "output_type": "display_data"
    }
   ],
   "source": [
    "# NO CODE\n",
    "show_intersection()"
   ]
  },
  {
   "cell_type": "markdown",
   "metadata": {},
   "source": [
    "Let $A$ and $B$ be two events. The *intersection* $A \\cap B$ is the event that both $A$ and $B$ occur, and is shown in bright blue in the Venn diagram on the right. \n",
    "\n",
    "Because we will encounter intersections all the time, we'll be a little lazy in our notation: we will use $AB$ to denote the intersection and not bother writing the intersection symbol $\\cap$. You will have to keep in mind that $AB$ is an event, not a product.\n",
    "\n",
    "Here is an example that will help explain some definitions we are about to make."
   ]
  },
  {
   "cell_type": "markdown",
   "metadata": {},
   "source": [
    "### Random Draws Without Replacement ###\n",
    "Suppose I have a little deck consisting of one red card, one green, and one blue. Suppose I shuffle the cards, draw one, shuffle the remaining two, and draw one from those. This is called *drawing two cards at random without replacement* from the deck.\n",
    "\n",
    "A reasonable outcome space is $\\Omega = \\{ \\text{RG, RB, GB, GR, BR, BG}\\}$ in which all six elements are equally likely. \n",
    "\n",
    "The chance that we get the green card first, followed by the red, is the chance of the event consisting of the single sequence GR:\n",
    "\n",
    "$$\n",
    "P(\\{ \\text{GR} \\}) = \\frac{\\#\\{\\text{GR}\\}}{6} = \\frac{1}{6}\n",
    "$$\n",
    "\n",
    "This simple calculation contains something more interesting. Notice that\n",
    "\n",
    "$$\n",
    "P(\\{ \\text{GR} \\}) = \\frac{1}{6} = \\frac{1}{3} \\times \\frac{1}{2}\n",
    "$$"
   ]
  },
  {
   "cell_type": "code",
   "execution_count": 1,
   "metadata": {
    "tags": [
     "remove-input",
     "hide-output"
    ]
   },
   "outputs": [
    {
     "data": {
      "text/html": [
       "\n",
       "        <iframe\n",
       "            width=\"400\"\n",
       "            height=\"300\"\n",
       "            src=\"https://www.youtube.com/embed/Nd_gWqoMah4\"\n",
       "            frameborder=\"0\"\n",
       "            allowfullscreen\n",
       "        ></iframe>\n",
       "        "
      ],
      "text/plain": [
       "<IPython.lib.display.YouTubeVideo at 0x10c40bc10>"
      ]
     },
     "execution_count": 1,
     "metadata": {},
     "output_type": "execute_result"
    }
   ],
   "source": [
    "# NO CODE\n",
    "\n",
    "# VIDEO: Fractions of Fractions\n",
    "from IPython.display import YouTubeVideo\n",
    "\n",
    "YouTubeVideo(\"Nd_gWqoMah4\")"
   ]
  },
  {
   "cell_type": "markdown",
   "metadata": {},
   "source": [
    "### Conditional Probability ###\n",
    "\n",
    "Let's try to interpret the two fractions in the product. The first factor is not hard to identify.\n",
    "\n",
    "$$\n",
    "P(\\text{G comes first}) = \\frac{\\#\\{\\text{GR, GB}\\}}{6} = \\frac{2}{6} = \\frac{1}{3}\n",
    "$$\n",
    "\n",
    "What about that second factor of $1/2$? To understand that, **look only among the pairs in which G came first**. Among these, only one gives us R as the next card. The second factor in the product is\n",
    "\n",
    "$$\n",
    "\\frac{\\#\\{\\text{GR}\\}}{\\#\\{\\text{GR, GB}\\}} = \\frac{1}{2}\n",
    "$$\n",
    "\n",
    "This fraction is called *the conditional probability that R comes second, given that G came first*. \n",
    "\n",
    "It is denoted $P(\\text{second card R} \\mid \\text{first card G})$. That's a vertical bar, not slanted.\n",
    "\n",
    "Now our original calculation for the pair of cards can be written one card at a time:\n",
    "\n",
    "$$\n",
    "\\begin{align*}\n",
    "P(\\{ \\text{GR} \\}) &= \\frac{\\#\\{\\text{GR}\\}}{6} \\\\ \\\\\n",
    "&= \\frac{\\#\\{\\text{GR, GB}\\}}{6} \\times \\frac{\\#\\{\\text{GR}\\}}{\\#\\{\\text{GR, GB}\\}} \\\\ \\\\\n",
    "&= P(\\text{first card G}) \\times P(\\text{second card R} \\mid \\text{first card G})\n",
    "\\end{align*}\n",
    "$$\n",
    "\n",
    "Calculations like the one above motivate a new definition. Let $A$ and $B$ be two events. Then the *conditional probability of $B$ given $A$* is defined by the following rule."
   ]
  },
  {
   "cell_type": "markdown",
   "metadata": {},
   "source": [
    "### Division Rule ###\n",
    "$$\n",
    "P(B \\mid A) = \\frac{P(AB)}{P(A)}\n",
    "$$\n",
    "\n",
    "There is some abuse of notation here. \"$B \\mid A$\" is not an event. But the notation is convenient. The entire left hand side should be read as \"the probability that $B$ happens given that $A$ has happened.\" \n",
    "\n",
    "The definition says: You're given that $A$ happened, so restrict your attention to the outcomes in which $A$ happens. That's your whole space now, so all chances have to be calculated relative to $P(A)$. Now what's the chance that $B$ happened as well? The answer is $\\frac{P(AB)}{P(A)}$.\n",
    "\n",
    "We are dividing by $P(A)$, and the more careful among you might be wondering what happens if $P(A) = 0$. Well, in that case we wouldn't be given that $A$ happened, because $A$ can't happen. So that's not a case we have to worry about."
   ]
  },
  {
   "cell_type": "code",
   "execution_count": 2,
   "metadata": {
    "tags": [
     "remove-input",
     "hide-output"
    ]
   },
   "outputs": [
    {
     "data": {
      "text/html": [
       "\n",
       "        <iframe\n",
       "            width=\"400\"\n",
       "            height=\"300\"\n",
       "            src=\"https://www.youtube.com/embed/YE9p2cprkOI\"\n",
       "            frameborder=\"0\"\n",
       "            allowfullscreen\n",
       "        ></iframe>\n",
       "        "
      ],
      "text/plain": [
       "<IPython.lib.display.YouTubeVideo at 0x10c438400>"
      ]
     },
     "execution_count": 2,
     "metadata": {},
     "output_type": "execute_result"
    }
   ],
   "source": [
    "# NO CODE\n",
    "\n",
    "# VIDEO: Conditional Probability\n",
    "from IPython.display import YouTubeVideo\n",
    "\n",
    "YouTubeVideo(\"YE9p2cprkOI\")"
   ]
  },
  {
   "cell_type": "markdown",
   "metadata": {},
   "source": [
    "```{admonition} Quick Check\n",
    "A random number generator makes one draw at random from the 10 digits $0, 1, 2, 3, 4, 5, 6, 7, 8, 9$. Pick the correct option: Given that the number drawn is greater than 5, the chance that it is a prime number is\n",
    "    \n",
    "(i) $\\frac{1}{10}$ $~~~$ (ii) $\\frac{1}{5}$ $~~~$ (iii) $\\frac{1}{4}$\n",
    "```"
   ]
  },
  {
   "cell_type": "markdown",
   "metadata": {},
   "source": [
    "```{admonition} Answer\n",
    ":class: dropdown\n",
    "(iii)\n",
    "```"
   ]
  },
  {
   "cell_type": "markdown",
   "metadata": {},
   "source": [
    "```{admonition} Quick Check\n",
    "In a population of students, 75% don't own a car, 10% own a car and no bike, and 15% own a car as well as a bike. Given that a randomly picked student owns a car, what is the chance that they also own a bike?\n",
    "```"
   ]
  },
  {
   "cell_type": "markdown",
   "metadata": {},
   "source": [
    "```{admonition} Answer\n",
    ":class: dropdown\n",
    "$0.6$\n",
    "```"
   ]
  },
  {
   "cell_type": "markdown",
   "metadata": {},
   "source": [
    "### Multiplication Rule ###\n",
    "This is just a rearrangement of the definition of conditional probability, but it is perhaps the most commonly used rule of all.\n",
    "\n",
    "Let $A$ and $B$ be two events. Then the chance that they both happen is\n",
    "\n",
    "$$\n",
    "P(AB) = P(A) \\cdot P(B \\mid A)\n",
    "$$\n",
    "\n",
    "Notice that the answer is \"a fraction of a fraction\". The chance that $A$ and $B$ both happen is *smaller* than the chance that $A$ happens – the more conditions you put on an event, the less likely it is to happen.\n",
    "\n",
    "Since $AB \\subseteq B$, you know that $P(AB)$ is smaller than $P(B)$. You also check that\n",
    "\n",
    "$$\n",
    "P(AB) = P(B) \\cdot P(A \\mid B)\n",
    "$$"
   ]
  },
  {
   "cell_type": "markdown",
   "metadata": {},
   "source": [
    "We will end this section with some quick examples. The next section contains some examples that require a little more work."
   ]
  },
  {
   "cell_type": "markdown",
   "metadata": {},
   "source": [
    "### Example 1: Two Aces in Two Cards ###\n",
    "A standard deck consists of 52 cards of which 4 are aces. Two cards are dealt at random without replacement. \n",
    "\n",
    "**Question 1.** What is the chance that the second card is an ace, given that the first card is an ace?\n",
    "\n",
    "**Answer 1.** $\\frac{3}{51}$ because now your deck has 51 cards of which 3 are aces.\n",
    "\n",
    "**Question 2.** What is the chance that both cards are aces?\n",
    "\n",
    "**Answer 2.** By the multiplication rule and Answer 1, the answer is\n",
    "\n",
    "$$\n",
    "\\frac{4}{52} \\cdot \\frac{3}{51}\n",
    "$$\n",
    "\n",
    "**Question 3.** How would your answers to Questions 1 and 2 change if the cards were dealt *with* replacement instead?\n",
    "\n",
    "**Answer 3.** (Who on earth deals cards with replacement? Only in a probability class ...) You're throwing the card back before pulling out the second one. Under this assumption you're drawing from exactly the same deck each time, so\n",
    "\n",
    "$$\n",
    "P(\\text{second card is an ace} \\mid \\text{first card is an ace}) = \\frac{4}{52}\n",
    "$$\n",
    "and the answer would have been the same no matter what the first card was. Also,\n",
    "\n",
    "$$\n",
    "P(\\text{both aces}) = \\frac{4}{52} \\cdot \\frac{4}{52}\n",
    "$$\n",
    "\n",
    "Notice that changing the nature of the randomization doesn't change *whether* you multiply chances. You're still finding the chance of an intersection, so you're going to multiply. The change in assumption just changes *what* you multiply.\n"
   ]
  },
  {
   "cell_type": "markdown",
   "metadata": {
    "collapsed": true
   },
   "source": [
    "### Example 2: 99-Year-Olds ###\n",
    "According to Census estimates that you saw in Data 8, the population of the United States in 2014 was 318,857,056. There were 9,037 99-year-old men, and 32,791 99-year-old women. \n",
    "\n",
    "**Question.** Suppose you picked one person at random from the US population in 2014, and that person was 99 years old. Given this information, what is the chance that the person was female?\n",
    "\n",
    "**Answer.** The natural answer is the percent of women among 99-year-olds:\n",
    "\n",
    "$$\n",
    "\\frac{32791}{32791 + 9037} = 78.4\\%\n",
    "$$\n",
    "\n",
    "This is consistent with the definition of conditional probability, that says you should calculate\n",
    "\n",
    "$$\n",
    "\\begin{align*}\n",
    "P(\\text{woman} \\mid \\text{99 years old}) &= \n",
    "\\frac{P(\\text{woman and 99 years old})}{P(\\text{99 years old})} \\\\ \\\\\n",
    "&= \\frac{32791\\big{/}318857056}{(32791 + 9037)\\big{/}318857056} \\\\ \\\\\n",
    "&= \\frac{32791}{32791 + 9037} = 78.4\\%\n",
    "\\end{align*}\n",
    "$$\n",
    "\n",
    "The overall US population figure isn't needed; it cancels out. This is an important observation about conditioning. When you're sampling at random and you know that your selection is in a specific subgroup, the numbers within that subgroup are all that matters.\n",
    "\n",
    "Given an age of 99 years, the person is almost four times more likely to be female than male. But as you saw in Data 8, among our youngest residents – the newborns – there are more males than females."
   ]
  },
  {
   "cell_type": "code",
   "execution_count": null,
   "metadata": {},
   "outputs": [],
   "source": []
  }
 ],
 "metadata": {
  "anaconda-cloud": {},
  "celltoolbar": "Tags",
  "kernelspec": {
   "display_name": "Python 3",
   "language": "python",
   "name": "python3"
  },
  "language_info": {
   "codemirror_mode": {
    "name": "ipython",
    "version": 3
   },
   "file_extension": ".py",
   "mimetype": "text/x-python",
   "name": "python",
   "nbconvert_exporter": "python",
   "pygments_lexer": "ipython3",
   "version": "3.8.3"
  }
 },
 "nbformat": 4,
 "nbformat_minor": 1
}
