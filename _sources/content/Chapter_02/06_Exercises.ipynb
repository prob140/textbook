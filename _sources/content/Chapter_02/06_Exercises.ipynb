{
 "cells": [
  {
   "cell_type": "markdown",
   "metadata": {},
   "source": [
    "## Exercises ##"
   ]
  },
  {
   "cell_type": "markdown",
   "metadata": {},
   "source": [
    "**1.** Often, the axioms and rules derived in Sections [2.1](http://prob140.org/textbook/content/Chapter_02/01_Addition.html) and [2.3](http://prob140.org/textbook/content/Chapter_02/03_Multiplication.html) can be combined in different ways to find the same probability.\n",
    "\n",
    "(a) Derive the *inclusion-exclusion formula* for two events:\n",
    "\n",
    "For any two events $A$ and $B$, $P(A \\cup B) ~ = ~ P(A) + P(B) - P(AB)$.\n",
    "\n",
    "The formula's name reflects the fact that you include the chance of each event and then exclude the chance of the intersection.\n",
    "\n",
    "(b) A die is rolled twice. Find the chance that at least one of the rolls shows six spots, in each of the three ways below.\n",
    "\n",
    "(i) By listing the outcomes and counting how many are in the event in question\n",
    "\n",
    "(ii) By using Part (a)\n",
    "\n",
    "(iii) By the complement rule"
   ]
  },
  {
   "cell_type": "markdown",
   "metadata": {},
   "source": [
    "**2.** Cell phone use is spreading widely but in many places there is still a divide. For example, among adults in India in 2018,\n",
    "\n",
    "- 30% did not own a cell phone\n",
    "- 17% were non-users in that they neither owned nor shared a cell phone\n",
    "- Among the non-users, 31% said they would like to get a cell phone in the future\n",
    "\n",
    "Suppose you picked an adult at random in India in 2018.\n",
    "\n",
    "(a) What is the chance that the selected person was a non-user who didn't say they would like to get a cell phone in the future?\n",
    "\n",
    "(b) Given that the selected person didn't own a cell phone, what is the chance that they shared one?"
   ]
  },
  {
   "cell_type": "markdown",
   "metadata": {},
   "source": [
    "**3.** A True/False test consists of 25 questions. A student knows the answers to 18 of the questions. The remaining 7 answers they guess at random by tossing a fair coin each time. If it lands heads they answer True and if it lands tails they answer False.\n",
    "\n",
    "One of the 25 questions is picked at random. Given that the student got the right answer, what is the chance that they knew the answer?"
   ]
  },
  {
   "cell_type": "markdown",
   "metadata": {},
   "source": [
    "**4.** A poker hand is 5 cards dealt at random without replacement from a standard deck of 52 cards.\n",
    "\n",
    "(a) How many 5-card poker hands are there?\n",
    "\n",
    "(b) I play poker two times. Make the reasonable assumption that the hand I get the second time is unaffected by the first. What is the chance I get the same hand both times?"
   ]
  },
  {
   "cell_type": "markdown",
   "metadata": {},
   "source": [
    "**5.** There are three boxes, each with two drawers. Box 1 has a gold coin in each drawer and Box 2 has a silver coin in each drawer. Box 3 has a silver coin in one drawer and a gold coin in the other. One box is chosen at random, and then a drawer is chosen at random from the box. Find the probability that Box 1 is chosen, given that the chosen drawer yields a gold coin."
   ]
  },
  {
   "cell_type": "markdown",
   "metadata": {},
   "source": [
    "**6.** A standard deck consists of 13 cards in each of 4 suits: clubs, spades, hearts, diamonds. Four cards are dealt at random without replacement from the 52 cards. Find the chance that at least one of the suits doesn't appear."
   ]
  },
  {
   "cell_type": "markdown",
   "metadata": {},
   "source": [
    "**7.** A procedure for estimating a parameter is based on random sampling and has a 95% chance of producing a good estimate. Suppose I run this procedure $n$ times such that the results of all the different runs have no effect on each other. \n",
    "\n",
    "(a) What is the chance that at least one of the $n$ estimates is not good?\n",
    "\n",
    "(b) About how big does $n$ have to be for the chance in Part (a) to be 50%?"
   ]
  },
  {
   "cell_type": "markdown",
   "metadata": {},
   "source": [
    "**8.** I have two dice. Die I has 1 red face and 5 blue faces. Die II has 3 red faces and 3 blue faces. I pick one of the dice at random and roll it twice. \n",
    "\n",
    "(a) What is the chance that I roll Die II?\n",
    "\n",
    "(b) Given that I see both colors, is the chance that I rolled Die II the same as the answer to (a), greater than the answer to (a), or less than the answer to (a)? Without calculation, pick the correct option and explain your choice.\n",
    "\n",
    "(c) Now do the calculation. Given that I saw both colors, what is the chance that I rolled Die II? Is your numerical answer consistent with your answer to (b)?\n",
    "\n",
    "(d) What is the chance that I see a red face on the first roll?\n",
    "\n",
    "(e) What is the chance that I see a blue face on the second roll?\n",
    "\n",
    "(f) True or false (explain):\n",
    "\n",
    "$$\n",
    "\\begin{align*}\n",
    "&P(\\text{red on the first roll and blue on the second roll}) \\\\\n",
    "&= P(\\text{red on the first roll}) \\times P(\\text{blue on the second roll})\n",
    "\\end{align*}\n",
    "$$"
   ]
  },
  {
   "cell_type": "markdown",
   "metadata": {},
   "source": [
    "**9.** Assume the additivity axiom $P(A \\cup B) = P(A) + P(B)$ if $A$ and $B$ are mutually exclusive. Show by induction that for integers $n \\ge 1$, \n",
    "\n",
    "$$\n",
    "P(\\cup_{i=1}^n A_i) ~ = ~ \\sum_{i=1}^n P(A_i) ~~~ \\text{if }  A_1, A_2, \\ldots, A_n \\text{ are mutually exclusive}\n",
    "$$"
   ]
  },
  {
   "cell_type": "markdown",
   "metadata": {},
   "source": [
    "**10.** The multiplication rules says $P(AB) = P(A)P(B \\mid A)$. Show by induction that for integers $n \\ge 1$,\n",
    "\n",
    "$$\n",
    "P(A_1A_2 \\cdots A_n) ~ = ~ P(A_1)P(A_2 \\mid A_1)P(A_3 \\mid A_1A_2) \\cdots P(A_n \\mid A_1A_2 \\cdots A_{n-1})\n",
    "$$"
   ]
  },
  {
   "cell_type": "markdown",
   "metadata": {},
   "source": [
    "**11.** Eight rooks are placed at positions sampled randomly without replacement on an $8\\times8$ chessboard. Two rooks attack each other if they are in the same row or in the same column. What is the probability that none of them attacks any of the others?"
   ]
  },
  {
   "cell_type": "markdown",
   "metadata": {},
   "source": [
    "**12.** The Statistics Department used to have a “birthday cake” tradition: once a month, there would be a cake to celebrate the birthdays of all department members whose birthdays were in that month. Suppose this tradition continues and suppose the department has $n$ members. Assume that each member’s birthday is equally likely to be one of the 12 months of the year, independently of all others.\n",
    "\n",
    "Consider one calendar year (January through December), starting in January.\n",
    "\n",
    "(a) What is the probability that no birthday cake will be needed after September?\n",
    "\n",
    "(b) What is the probability that there will be birthday cake in September but not after that?"
   ]
  },
  {
   "cell_type": "markdown",
   "metadata": {},
   "source": [
    "**13.** Down's Syndrome is a chromosomal disorder (a type of unusual genetic condition) that is associated with maternal age: older mothers are more likely to have babies with this syndrome than younger mothers are. The authors of an article on this syndrome in the US define \"births to older mothers\" as births in which the mother's age is at least 35 years, and \"births to younger mothers\" as births in which the mother is younger than 35. The authors make three statements about births in the population they studied.\n",
    "\n",
    "- 1 in 700 babies is born with Down's Syndrome.\n",
    "- Among births to **older** mothers, Down's Syndrome appears more 4 times more frequently than it does among births to younger mothers.\n",
    "- Among births with Down's Syndrome, **younger** mothers appear 4 times more frequently than older mothers.\n",
    "\n",
    "(a) Use the results of this chapter to explain why the last two statements don't contradict each other.\n",
    "\n",
    "(b) If possible, find the proportion of births to older mothers in this population. If this is not possible, explain why not.\n",
    "\n",
    "(c) If possible, find the proportion older mothers among births without Down's Syndrome."
   ]
  },
  {
   "cell_type": "markdown",
   "metadata": {},
   "source": [
    "**14.** I toss $n$ coins. You toss $n+1$ coins. What is the chance that you get more heads than I do?\n",
    "\n",
    "[Hint: You don't need any \"$n$ choose $k$\"s for this. [Example 2.2.3](http://prob140.org/textbook/content/Chapter_02/02_Examples.html#example-3-second-random-digit-greater-than-the-first) has a helpful idea.]"
   ]
  },
  {
   "cell_type": "code",
   "execution_count": null,
   "metadata": {},
   "outputs": [],
   "source": []
  }
 ],
 "metadata": {
  "kernelspec": {
   "display_name": "Python 3",
   "language": "python",
   "name": "python3"
  },
  "language_info": {
   "codemirror_mode": {
    "name": "ipython",
    "version": 3
   },
   "file_extension": ".py",
   "mimetype": "text/x-python",
   "name": "python",
   "nbconvert_exporter": "python",
   "pygments_lexer": "ipython3",
   "version": "3.8.3"
  }
 },
 "nbformat": 4,
 "nbformat_minor": 4
}
