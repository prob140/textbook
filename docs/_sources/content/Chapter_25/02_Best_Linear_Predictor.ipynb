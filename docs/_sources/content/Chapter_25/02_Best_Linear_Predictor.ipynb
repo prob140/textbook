{
 "cells": [
  {
   "cell_type": "code",
   "execution_count": 1,
   "metadata": {
    "tags": [
     "remove_cell"
    ]
   },
   "outputs": [],
   "source": [
    "# HIDDEN\n",
    "from datascience import *\n",
    "from prob140 import *\n",
    "import matplotlib.pyplot as plt\n",
    "plt.style.use('fivethirtyeight')\n",
    "%matplotlib inline\n",
    "from scipy import stats"
   ]
  },
  {
   "cell_type": "markdown",
   "metadata": {},
   "source": [
    "## Best Linear Predictor ##"
   ]
  },
  {
   "cell_type": "markdown",
   "metadata": {},
   "source": [
    "Let $Y$ and the $p \\times 1$ vector $\\mathbf{X}$ be jointly distributed, and suppose you are trying to predict $Y$ based on a linear function of $\\mathbf{X}$. For the predictor\n",
    "\n",
    "$$\n",
    "\\hat{Y}_{\\mathbf{c}, d} ~ = \\mathbf{c}^T\\mathbf{X} + d\n",
    "$$\n",
    "\n",
    "the mean squared error of prediction is\n",
    "\n",
    "$$\n",
    "MSE(\\hat{Y}_{\\mathbf{c}, d}) ~ = ~ E\\big{(} (Y - \\hat{Y}_{\\mathbf{c}, d})^2 \\big{)}\n",
    "$$\n",
    "\n",
    "In this section we will identify the linear predictor that minimizes the mean squared error. We will also find the variance of the error made by this best predictor."
   ]
  },
  {
   "cell_type": "markdown",
   "metadata": {},
   "source": [
    "### A Linear Predictor ###\n",
    "In the case of simple regression, we found the best linear predictor by using calculus to minimize the mean squared error over all slopes and intercepts. We could do the multivariable version of that calculation here. But because of the work we did in the case of one predictor, we will take a different approach. \n",
    "\n",
    "We will guess the answer based on the answer in the case of simple regression, and then establish that our guess is correct.\n",
    "\n",
    "In the case of simple regression, we wrote the regression equation in the form\n",
    "\n",
    "$$\n",
    "\\hat{Y} ~ = ~ \\sigma_{Y,X}(\\sigma_X^2)^{-1}(X - \\mu_X) + \\mu_Y\n",
    "$$\n",
    "\n",
    "Now define\n",
    "\n",
    "$$\n",
    "\\hat{Y}_\\mathbf{b} ~ = ~ \\boldsymbol{\\Sigma}_{Y, \\mathbf{X}}\\boldsymbol{\\Sigma}_\\mathbf{X}^{-1} (\\mathbf{X} - \\boldsymbol{\\mu}_\\mathbf{X}) + \\mu_Y\n",
    "~ = ~ \\mathbf{b}^T(\\mathbf{X} - \\boldsymbol{\\mu}_\\mathbf{X}) + \\mu_Y\n",
    "$$\n",
    "\n",
    "where\n",
    "\n",
    "$$\n",
    "\\mathbf{b} ~ = ~ \\boldsymbol{\\Sigma}_\\mathbf{X}^{-1} \\boldsymbol{\\Sigma}_{\\mathbf{X}, Y}\n",
    "$$\n",
    "\n",
    "is the $p \\times 1$ vector of the coefficients of the linear function.\n",
    "\n",
    "Clearly $\\hat{Y}_\\mathbf{b}$ is a linear predictor of $Y$ based on $\\mathbf{X}$. We will show that it is the least squares linear predictor. The steps will follow those that we used to show that conditional expectation is the least squares predictor among all predictors."
   ]
  },
  {
   "cell_type": "markdown",
   "metadata": {},
   "source": [
    "### Projection ###\n",
    "Notice that $E(\\hat{Y}_\\mathbf{b}) ~ = ~ \\mu_Y$. The predictor has the same mean as the variable being predicted.\n",
    "\n",
    "Define the error in the prediction to be\n",
    "\n",
    "$$\n",
    "W ~ = ~ Y - \\hat{Y}_\\mathbf{b}\n",
    "$$\n",
    "\n",
    "Then\n",
    "\n",
    "$$\n",
    "E(W) ~ = ~ 0\n",
    "$$\n",
    "\n",
    "We will now show that $W$ is uncorrelated with all linear combinations of elements of $\\mathbf{X}$.\n",
    "\n",
    "$$\n",
    "\\begin{align*}\n",
    "Cov(W, \\mathbf{a}^T\\mathbf{X}) ~ &= ~ Cov(Y - \\hat{Y}_\\mathbf{b}, \\mathbf{a}^T\\mathbf{X}) \\\\\n",
    "&= ~ Cov(Y, \\mathbf{a}^T\\mathbf{X}) - Cov(\\hat{Y}_\\mathbf{b}, \\mathbf{a}^T\\mathbf{X}) \\\\\n",
    "&= ~ Cov(Y, \\mathbf{a}^T\\mathbf{X}) - Cov(\\mathbf{b}^T\\mathbf{X}, \\mathbf{a}^T\\mathbf{X}) \\\\\n",
    "&= ~ \\mathbf{a}^T\\boldsymbol{\\Sigma}_{\\mathbf{X}, Y} - \\mathbf{a}^T\\boldsymbol{\\Sigma}_\\mathbf{X} \\mathbf{b} \\\\\n",
    "&= ~ \\mathbf{a}^T\\boldsymbol{\\Sigma}_{\\mathbf{X}, Y} - \\mathbf{a}^T\\boldsymbol{\\Sigma}_\\mathbf{X} \\boldsymbol{\\Sigma}_\\mathbf{X}^{-1}\\boldsymbol{\\Sigma}_{\\mathbf{X}, Y} \\\\\n",
    "&= ~ 0\n",
    "\\end{align*}\n",
    "$$\n",
    "\n",
    "Because $E(W) = 0$, we also have $E(W\\mathbf{a}^T\\mathbf{X}) = Cov(W, \\mathbf{a}^T\\mathbf{X}) = 0$ for all $\\mathbf{a}$."
   ]
  },
  {
   "cell_type": "markdown",
   "metadata": {},
   "source": [
    "### Least Squares ###\n",
    "To show that $\\hat{Y}_\\mathbf{b}$ minimizes the mean squared error, start with an exercise: show that the best linear predictor must have the same mean as the variable being predicted. That is, show that the best linear predictor must have mean $\\mu_Y$. \n",
    "\n",
    "Once you have done that, you can restrict the search for the best linear predictor to all unbiased linear predictors. Define the generic one of these by\n",
    "\n",
    "$$\n",
    "\\hat{Y}_\\mathbf{h} ~ = ~ \\mathbf{h}^T(\\mathbf{X} - \\boldsymbol{\\mu}_\\mathbf{X}) + \\mu_Y\n",
    "$$\n",
    "\n",
    "where $\\mathbf{h}$ is some $p \\times 1$ vector of coefficients. Then\n",
    "\n",
    "$$\n",
    "\\begin{align*}\n",
    "MSE(\\hat{Y}_\\mathbf{h}) ~ &= ~ E\\big{(} (Y - \\hat{Y}_\\mathbf{h})^2 \\big{)}\\\\\n",
    "&= ~ E\\big{(} \\big{(} (Y - \\hat{Y}_\\mathbf{b}) + (\\hat{Y}_\\mathbf{b} - \\hat{Y}_\\mathbf{h}) \\big{)}^2 \\big{)} \\\\\n",
    "&= ~ E\\big{(} (Y - \\hat{Y}_\\mathbf{b})^2 \\big{)} + E\\big{(} (\\hat{Y}_\\mathbf{b} - \\hat{Y}_\\mathbf{h})^2 \\big{)} + 2E\\big{(}(Y - \\hat{Y}_\\mathbf{b})(\\hat{Y}_\\mathbf{b} - \\hat{Y}_\\mathbf{h})\\big{)} \\\\\n",
    "&= ~ MSE(\\hat{Y}_\\mathbf{b}) + E\\big{(} (\\hat{Y}_\\mathbf{b} - \\hat{Y}_\\mathbf{h})^2 \\big{)} + 2E\\big{(} W(\\mathbf{b} - \\mathbf{h})^T(\\mathbf{X} - \\boldsymbol{\\mu}_\\mathbf{X}) \\big{)} \\\\\n",
    "&= ~ MSE(\\hat{Y}_\\mathbf{b}) + E\\big{(} (\\hat{Y}_\\mathbf{b} - \\hat{Y}_\\mathbf{h})^2 \\big{)} \\\\\n",
    "&\\ge ~ MSE(\\hat{Y}_\\mathbf{b})\n",
    "\\end{align*}\n",
    "$$"
   ]
  },
  {
   "cell_type": "markdown",
   "metadata": {},
   "source": [
    "### Regression Equation and Predicted Values ###\n",
    "The least squares linear predictor is given by\n",
    "\n",
    "$$\n",
    "\\hat{Y} ~ = ~ \\mathbf{b}^T(\\mathbf{X} - \\boldsymbol{\\mu}_\\mathbf{X}) + \\mu_Y ~ = ~ \\boldsymbol{\\Sigma}_{Y, \\mathbf{X}}\\boldsymbol{\\Sigma}_\\mathbf{X}^{-1} (\\mathbf{X} - \\boldsymbol{\\mu}_\\mathbf{X}) + \\mu_Y\n",
    "$$\n",
    "\n",
    "This is the same as $\\hat{Y}_\\mathbf{b}$. We are just dropping the subscript for convenience, now that we have established that it is the best linear predictor.\n",
    "\n",
    "As we have seen above, the predictor is unbiased:\n",
    "\n",
    "$$\n",
    "E(\\hat{Y}) ~ = ~ E(Y)\n",
    "$$\n",
    "\n",
    "The variance of the predicted values is\n",
    "\n",
    "$$\n",
    "\\begin{align*}\n",
    "Var(\\hat{Y}) ~ &= ~ \\mathbf{b}^T \\boldsymbol{\\Sigma}_\\mathbf{X} \\mathbf{b} \\\\\n",
    "&= ~ \\boldsymbol{\\Sigma}_{Y, \\mathbf{X}}\\boldsymbol{\\Sigma}_\\mathbf{X}^{-1} \\boldsymbol{\\Sigma}_\\mathbf{X} \\boldsymbol{\\Sigma}_\\mathbf{X}^{-1} \\boldsymbol{\\Sigma}_{\\mathbf{X}, Y} \\\\\n",
    "&= ~ \\boldsymbol{\\Sigma}_{Y, \\mathbf{X}}\\boldsymbol{\\Sigma}_\\mathbf{X}^{-1} \\boldsymbol{\\Sigma}_{\\mathbf{X}, Y}\n",
    "\\end{align*}\n",
    "$$"
   ]
  },
  {
   "cell_type": "markdown",
   "metadata": {},
   "source": [
    "### Error Variance ###\n",
    "The error in the prediction is $W = Y - \\hat{Y}$. Because $\\hat{Y}$ is a linear function of $\\mathbf{X}$, we have\n",
    "\n",
    "$$\n",
    "0 ~ = ~ Cov(W, \\hat{Y}) ~ = ~ Cov(Y - \\hat{Y}, \\hat{Y}) ~ = ~ Cov(Y, \\hat{Y}) - Var(\\hat{Y})\n",
    "$$\n",
    "\n",
    "Therefore\n",
    "\n",
    "$$\n",
    "Cov(Y, \\hat{Y}) ~ = ~ Var(\\hat{Y})\n",
    "$$\n",
    "\n",
    "The variance of the error is\n",
    "\n",
    "$$\n",
    "\\begin{align*}\n",
    "Var(W) ~ &= ~ Cov(Y - \\hat{Y}, Y - \\hat{Y}) \\\\\n",
    "&= ~ Var(Y) - 2Cov(Y, \\hat{Y}) + Var(\\hat{Y}) \\\\\n",
    "&= ~ Var(Y) - Var(\\hat{Y}) \\\\\n",
    "&= ~ \\sigma_Y^2 - \\boldsymbol{\\Sigma}_{Y, \\mathbf{X}}\\boldsymbol{\\Sigma}_\\mathbf{X}^{-1} \\boldsymbol{\\Sigma}_{\\mathbf{X}, Y}\n",
    "\\end{align*}\n",
    "$$\n",
    "\n",
    "In the case of simple regression under the bivariate normal model, we saw that the error variance was\n",
    "\n",
    "$$\n",
    "\\sigma_Y^2 - \\sigma_{Y,X}(\\sigma_X^2)^{-1}\\sigma_{X,Y}\n",
    "$$\n",
    "\n",
    "This is a special case of the more general formula that we have established here. The bivariate normal assumption isn't needed."
   ]
  },
  {
   "cell_type": "markdown",
   "metadata": {},
   "source": [
    "As in the case of simple regression, we have made no assumption about the joint distribution of $Y$ and $\\mathbf{X}$ other than to say that $\\boldsymbol{\\Sigma}_\\mathbf{X}$ is positive definite. Regardless, there is a unique best linear predictor of $Y$ based on $\\mathbf{X}$."
   ]
  }
 ],
 "metadata": {
  "kernelspec": {
   "display_name": "Python 3",
   "language": "python",
   "name": "python3"
  },
  "language_info": {
   "codemirror_mode": {
    "name": "ipython",
    "version": 3
   },
   "file_extension": ".py",
   "mimetype": "text/x-python",
   "name": "python",
   "nbconvert_exporter": "python",
   "pygments_lexer": "ipython3",
   "version": "3.7.4"
  }
 },
 "nbformat": 4,
 "nbformat_minor": 2
}
