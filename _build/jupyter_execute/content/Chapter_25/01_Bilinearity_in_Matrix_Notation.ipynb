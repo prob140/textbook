{
 "cells": [
  {
   "cell_type": "code",
   "execution_count": 1,
   "metadata": {
    "tags": [
     "remove_cell"
    ]
   },
   "outputs": [
    {
     "ename": "ModuleNotFoundError",
     "evalue": "No module named 'ipywidgets'",
     "output_type": "error",
     "traceback": [
      "\u001b[0;31m---------------------------------------------------------------------------\u001b[0m",
      "\u001b[0;31mModuleNotFoundError\u001b[0m                       Traceback (most recent call last)",
      "Cell \u001b[0;32mIn[1], line 3\u001b[0m\n\u001b[1;32m      1\u001b[0m \u001b[38;5;66;03m# HIDDEN\u001b[39;00m\n\u001b[1;32m      2\u001b[0m \u001b[38;5;28;01mfrom\u001b[39;00m \u001b[38;5;21;01mdatascience\u001b[39;00m \u001b[38;5;28;01mimport\u001b[39;00m \u001b[38;5;241m*\u001b[39m\n\u001b[0;32m----> 3\u001b[0m \u001b[38;5;28;01mfrom\u001b[39;00m \u001b[38;5;21;01mprob140\u001b[39;00m \u001b[38;5;28;01mimport\u001b[39;00m \u001b[38;5;241m*\u001b[39m\n\u001b[1;32m      4\u001b[0m \u001b[38;5;28;01mimport\u001b[39;00m \u001b[38;5;21;01mmatplotlib\u001b[39;00m\u001b[38;5;21;01m.\u001b[39;00m\u001b[38;5;21;01mpyplot\u001b[39;00m \u001b[38;5;28;01mas\u001b[39;00m \u001b[38;5;21;01mplt\u001b[39;00m\n\u001b[1;32m      5\u001b[0m plt\u001b[38;5;241m.\u001b[39mstyle\u001b[38;5;241m.\u001b[39muse(\u001b[38;5;124m'\u001b[39m\u001b[38;5;124mfivethirtyeight\u001b[39m\u001b[38;5;124m'\u001b[39m)\n",
      "File \u001b[0;32m/opt/miniconda3/lib/python3.12/site-packages/prob140/__init__.py:2\u001b[0m\n\u001b[1;32m      1\u001b[0m \u001b[38;5;28;01mfrom\u001b[39;00m \u001b[38;5;21;01m.\u001b[39;00m\u001b[38;5;21;01mversion\u001b[39;00m \u001b[38;5;28;01mimport\u001b[39;00m __version__\n\u001b[0;32m----> 2\u001b[0m \u001b[38;5;28;01mfrom\u001b[39;00m \u001b[38;5;21;01m.\u001b[39;00m\u001b[38;5;21;01mrebinding\u001b[39;00m \u001b[38;5;28;01mimport\u001b[39;00m Table, Plot, Plots, JointDistribution\n\u001b[1;32m      3\u001b[0m \u001b[38;5;28;01mfrom\u001b[39;00m \u001b[38;5;21;01m.\u001b[39;00m\u001b[38;5;21;01mmarkov_chains\u001b[39;00m \u001b[38;5;28;01mimport\u001b[39;00m MarkovChain\n\u001b[1;32m      5\u001b[0m \u001b[38;5;28;01mfrom\u001b[39;00m \u001b[38;5;21;01m.\u001b[39;00m\u001b[38;5;21;01msingle_variable\u001b[39;00m \u001b[38;5;28;01mimport\u001b[39;00m emp_dist\n",
      "File \u001b[0;32m/opt/miniconda3/lib/python3.12/site-packages/prob140/rebinding.py:5\u001b[0m\n\u001b[1;32m      3\u001b[0m \u001b[38;5;28;01mfrom\u001b[39;00m \u001b[38;5;21;01m.\u001b[39;00m\u001b[38;5;21;01mmarkov_chains\u001b[39;00m \u001b[38;5;28;01mimport\u001b[39;00m MarkovChain, to_markov_chain\n\u001b[1;32m      4\u001b[0m \u001b[38;5;28;01mfrom\u001b[39;00m \u001b[38;5;21;01m.\u001b[39;00m\u001b[38;5;21;01msymbolic_math\u001b[39;00m \u001b[38;5;28;01mimport\u001b[39;00m \u001b[38;5;241m*\u001b[39m\n\u001b[0;32m----> 5\u001b[0m \u001b[38;5;28;01mfrom\u001b[39;00m \u001b[38;5;21;01m.\u001b[39;00m\u001b[38;5;21;01mplots\u001b[39;00m \u001b[38;5;28;01mimport\u001b[39;00m Plot_continuous\n\u001b[1;32m      7\u001b[0m \u001b[38;5;28;01mfrom\u001b[39;00m \u001b[38;5;21;01mdatascience\u001b[39;00m \u001b[38;5;28;01mimport\u001b[39;00m \u001b[38;5;241m*\u001b[39m\n\u001b[1;32m     10\u001b[0m \u001b[38;5;28;01mdef\u001b[39;00m \u001b[38;5;21mdomain\u001b[39m(\u001b[38;5;28mself\u001b[39m, \u001b[38;5;241m*\u001b[39margs):\n",
      "File \u001b[0;32m/opt/miniconda3/lib/python3.12/site-packages/prob140/plots.py:1\u001b[0m\n\u001b[0;32m----> 1\u001b[0m \u001b[38;5;28;01mimport\u001b[39;00m \u001b[38;5;21;01mipywidgets\u001b[39;00m \u001b[38;5;28;01mas\u001b[39;00m \u001b[38;5;21;01mwidgets\u001b[39;00m\n\u001b[1;32m      2\u001b[0m \u001b[38;5;28;01mfrom\u001b[39;00m \u001b[38;5;21;01mipywidgets\u001b[39;00m \u001b[38;5;28;01mimport\u001b[39;00m interact\n\u001b[1;32m      3\u001b[0m \u001b[38;5;28;01mimport\u001b[39;00m \u001b[38;5;21;01mmatplotlib\u001b[39;00m\u001b[38;5;21;01m.\u001b[39;00m\u001b[38;5;21;01mpyplot\u001b[39;00m \u001b[38;5;28;01mas\u001b[39;00m \u001b[38;5;21;01mplt\u001b[39;00m\n",
      "\u001b[0;31mModuleNotFoundError\u001b[0m: No module named 'ipywidgets'"
     ]
    }
   ],
   "source": [
    "# HIDDEN\n",
    "from datascience import *\n",
    "from prob140 import *\n",
    "import matplotlib.pyplot as plt\n",
    "plt.style.use('fivethirtyeight')\n",
    "%matplotlib inline\n",
    "from scipy import stats"
   ]
  },
  {
   "cell_type": "markdown",
   "metadata": {},
   "source": [
    "## Bilinearity in Matrix Notation ##"
   ]
  },
  {
   "cell_type": "markdown",
   "metadata": {},
   "source": [
    "As a preliminary to regression, we will express bilinearity in a compact form using matrix notation. The results of this section are not new. They are simply restatements of familiar results about variances and covariances, using new notation and matrix representations.\n",
    "\n",
    "Let $\\mathbf{X}$ be a $p \\times 1$ vector of predictor variables. We know that for an $m \\times p$ matrix $\\mathbf{A}$ and an $m \\times 1$ vector $\\mathbf{b}$,\n",
    "\n",
    "$$\n",
    "Var(\\mathbf{AX} + \\mathbf{b}) ~ = ~ \\mathbf{A}\\boldsymbol{\\Sigma}_\\mathbf{X} \\mathbf{A}^T\n",
    "$$\n",
    "\n",
    "The results below are special cases of this."
   ]
  },
  {
   "cell_type": "markdown",
   "metadata": {},
   "source": [
    "### Linear Combinations ###\n",
    "To define two generic linear combinations of elements of $\\mathbf{X}$, let\n",
    "\n",
    "$$\n",
    "\\mathbf{A} ~ = ~ \n",
    "\\begin{bmatrix}\n",
    "a_1 & a_2 & \\cdots & a_p \\\\\n",
    "c_1 & c_2 & \\cdots & c_p \n",
    "\\end{bmatrix}\n",
    "~ = ~ \n",
    "\\begin{bmatrix}\n",
    "\\mathbf{a}^T \\\\\n",
    "\\mathbf{c}^T\n",
    "\\end{bmatrix}\n",
    "~~~~~~ \\text{and} ~~~~~~\n",
    "\\mathbf{b} ~ = ~\n",
    "\\begin{bmatrix}\n",
    "b \\\\\n",
    "d\n",
    "\\end{bmatrix}\n",
    "$$\n",
    "\n",
    "Then\n",
    "\n",
    "$$\n",
    "\\mathbf{AX} + \\mathbf{b} ~ = ~ \n",
    "\\begin{bmatrix}\n",
    "a_1X_1 + a_2X_2 + \\cdots + a_pX_p + b \\\\\n",
    "c_1X_1 + c_2X_2 + \\cdots + c_pX_p + d\n",
    "\\end{bmatrix}\n",
    "~ = ~ \n",
    "\\begin{bmatrix}\n",
    "\\mathbf{a}^T\\mathbf{X} + b \\\\\n",
    "\\mathbf{c}^T\\mathbf{X} + d\n",
    "\\end{bmatrix}\n",
    "$$"
   ]
  },
  {
   "cell_type": "markdown",
   "metadata": {},
   "source": [
    "### Covariance of Two Linear Combinations ###\n",
    "The covariance of the two linear combinations is the $(1, 2)$ element of the covariance matrix of $\\mathbf{AX} + \\mathbf{b}$, which is the $(1, 2)$ element of $\\mathbf{A}\\boldsymbol{\\Sigma}_\\mathbf{X}\\mathbf{A}^T$.\n",
    "\n",
    "$$\n",
    "Cov(\\mathbf{a}^T\\mathbf{X} + b, \\mathbf{c}^T\\mathbf{X} + d) \n",
    "~ = ~ \\mathbf{a}^T \\boldsymbol{\\Sigma}_\\mathbf{X} \\mathbf{c}\n",
    "$$"
   ]
  },
  {
   "cell_type": "markdown",
   "metadata": {},
   "source": [
    "### Variance of a Linear Combination ###\n",
    "The variance of the first linear combination is the $(1, 1)$ element of $\\mathbf{A}\\boldsymbol{\\Sigma}_\\mathbf{X}\\mathbf{A}^T$.\n",
    "\n",
    "$$\n",
    "Var(\\mathbf{a}^T\\mathbf{X} + b) ~ = ~ \n",
    "\\mathbf{a}^T \\boldsymbol{\\Sigma}_\\mathbf{X} \\mathbf{a}\n",
    "$$"
   ]
  },
  {
   "cell_type": "markdown",
   "metadata": {},
   "source": [
    "### Covariance Vector ###\n",
    "To predict $Y$ based on $\\mathbf{X}$ we will need to work with the covariance of $Y$ and each of the elements of $\\mathbf{X}$. Let\n",
    "\n",
    "$$\n",
    "\\sigma_{X_i, Y} ~ = ~ Cov(X_i, Y) \n",
    "$$\n",
    "\n",
    "and define the *covariance vector* of $\\mathbf{X}$ and $Y$ to be\n",
    "\n",
    "$$\n",
    "\\boldsymbol{\\Sigma}_{\\mathbf{X}, Y} ~ = ~ \n",
    "\\begin{bmatrix}\n",
    "\\sigma_{X_1, Y} \\\\\n",
    "\\sigma_{X_2, Y} \\\\\n",
    "\\vdots \\\\\n",
    "\\sigma_{X_p, Y}\n",
    "\\end{bmatrix}\n",
    "$$\n",
    "\n",
    "It will be convenient to also have a notation for the transpose of the covariance vector:\n",
    "\n",
    "$$\n",
    "\\boldsymbol{\\Sigma}_{Y, \\mathbf{X}} ~ = ~ \\boldsymbol{\\Sigma}_{\\mathbf{X}, Y}^T ~ = ~\n",
    "[\\sigma_{X_1, Y} ~ \\sigma_{X_2, Y} ~ \\ldots ~ \\sigma_{X_p, Y}]\n",
    "$$\n",
    "\n",
    "By the linearity of covariance,\n",
    "\n",
    "$$\n",
    "Cov(\\mathbf{a}^T\\mathbf{X}, Y) ~ = ~ \\mathbf{a}^T \\boldsymbol{\\Sigma}_{\\mathbf{X}, Y}\n",
    "$$"
   ]
  },
  {
   "cell_type": "code",
   "execution_count": 2,
   "metadata": {},
   "outputs": [],
   "source": []
  }
 ],
 "metadata": {
  "kernelspec": {
   "display_name": "Python 3 (ipykernel)",
   "language": "python",
   "name": "python3"
  },
  "language_info": {
   "codemirror_mode": {
    "name": "ipython",
    "version": 3
   },
   "file_extension": ".py",
   "mimetype": "text/x-python",
   "name": "python",
   "nbconvert_exporter": "python",
   "pygments_lexer": "ipython3",
   "version": "3.12.1"
  }
 },
 "nbformat": 4,
 "nbformat_minor": 4
}