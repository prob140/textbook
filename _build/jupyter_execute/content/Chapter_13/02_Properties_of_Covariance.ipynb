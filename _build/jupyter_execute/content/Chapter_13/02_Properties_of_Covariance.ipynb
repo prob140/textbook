{
 "cells": [
  {
   "cell_type": "code",
   "execution_count": 1,
   "metadata": {
    "tags": [
     "remove_cell"
    ]
   },
   "outputs": [],
   "source": [
    "# HIDDEN\n",
    "import warnings\n",
    "warnings.filterwarnings('ignore')\n",
    "from datascience import *\n",
    "from prob140 import *\n",
    "import numpy as np\n",
    "from myst_nb import glue\n",
    "import matplotlib.pyplot as plt\n",
    "plt.style.use('fivethirtyeight')\n",
    "%matplotlib inline"
   ]
  },
  {
   "cell_type": "markdown",
   "metadata": {},
   "source": [
    "## Properties of Covariance ##"
   ]
  },
  {
   "cell_type": "markdown",
   "metadata": {},
   "source": [
    "Let's examine how covariance behaves. In the next two sections we will use our observations to calculate variances of sample sums.\n",
    "\n",
    "Establishing properties of covariance involves simple observations and routine algebra. We have done some of it below, and we expect that you can fill in the rest.\n",
    "\n",
    "Recall that the covariance of $X$ and $Y$ is \n",
    "\n",
    "$$\n",
    "Cov(X, Y) ~ = ~ E(D_XD_Y) ~ = ~ E[(X - \\mu_X)(Y - \\mu_Y)]\n",
    "$$"
   ]
  },
  {
   "cell_type": "markdown",
   "metadata": {},
   "source": [
    "### Constants Don't Vary ###\n",
    "That title has a \"duh\" quality. But it's still worth noting that for any constant $c$,\n",
    "\n",
    "$$\n",
    "Cov(X, c) = 0\n",
    "$$"
   ]
  },
  {
   "cell_type": "markdown",
   "metadata": {},
   "source": [
    "### Variance is a Covariance ##\n",
    "Covariance is an extension of the concept of variance, because\n",
    "\n",
    "$$\n",
    "Var(X) = E(D_X^2) = E(D_XD_X) = Cov(X, X)\n",
    "$$\n",
    "\n",
    "The variance of $X$ is the covariance of $X$ and itself."
   ]
  },
  {
   "cell_type": "markdown",
   "metadata": {},
   "source": [
    "### Covariance is Symmetric ###\n",
    "Clearly $Cov(Y, X) = Cov(X, Y)$. It follows that\n",
    "\n",
    "$$\n",
    "Var(X + Y) = Var(X) + Var(Y) + 2Cov(X, Y) = Var(X) + Var(Y) + Cov(X, Y) + Cov(Y, X)\n",
    "$$\n",
    "\n",
    "This way of thinking about the variance of a sum will be useful later."
   ]
  },
  {
   "cell_type": "markdown",
   "metadata": {},
   "source": [
    "### Covariance and Expected Products ###\n",
    "Covariance *is* an expected product: it is the expected product of deviations. It can also be written in terms of the expected product of $X$ and $Y$, as follows.\n",
    "\n",
    "$$\n",
    "\\begin{align*}\n",
    "Cov(X, Y) &= E[(X - \\mu_X)(Y - \\mu_Y)] \\\\\n",
    "&= E(XY) - E(X)\\mu_Y - \\mu_XE(Y) + \\mu_X\\mu_Y \\\\\n",
    "&= E(XY) - \\mu_X\\mu_Y\n",
    "\\end{align*}\n",
    "$$\n",
    "\n",
    "So covariance is the *mean of the product minus the product of the means*. \n",
    "\n",
    "Set $X = Y$ in this result to get the \"computational\" formula for the variance as the mean of the square minus the square of the mean.\n",
    "\n",
    "This result simplifies proofs of facts about covariance, as you will see below. But as a computational tool, it is only useful when the distributions of $X$ and $Y$ are very simple – for example, when each has just a few possible values. In other calculations of covariance it is rarely a good idea to try to use this result. Rather, we will use the bilinearity property described at the end of this section."
   ]
  },
  {
   "cell_type": "code",
   "execution_count": 2,
   "metadata": {
    "tags": [
     "remove-cell"
    ]
   },
   "outputs": [
    {
     "data": {
      "image/jpeg": "[encoded data removed]",
      "text/html": [
       "\n",
       "        <iframe\n",
       "            width=\"400\"\n",
       "            height=\"300\"\n",
       "            src=\"https://www.youtube.com/embed/_FG4CxA6_9A\"\n",
       "            frameborder=\"0\"\n",
       "            allowfullscreen\n",
       "            \n",
       "        ></iframe>\n",
       "        "
      ],
      "text/plain": [
       "<IPython.lib.display.YouTubeVideo at 0x17b0ee1e0>"
      ]
     },
     "metadata": {
      "scrapbook": {
       "mime_prefix": "",
       "name": "vid_uncorr_not_indep"
      }
     },
     "output_type": "display_data"
    }
   ],
   "source": [
    "# VIDEO: Uncorrelated but Not Independent\n",
    "from IPython.display import YouTubeVideo\n",
    "\n",
    "vid_uncorr_not_indep = YouTubeVideo('_FG4CxA6_9A')\n",
    "glue(\"vid_uncorr_not_indep\", vid_uncorr_not_indep)"
   ]
  },
  {
   "cell_type": "markdown",
   "metadata": {},
   "source": [
    "```{dropdown} See More\n",
    ":icon: video\n",
    "{glue:}`vid_uncorr_not_indep`\n",
    "```"
   ]
  },
  {
   "cell_type": "markdown",
   "metadata": {},
   "source": [
    "```{admonition} Quick Check\n",
    "Let $(X, Y)$ be one point picked at random from the four points $(0, 0)$, $(1, 0)$, $(0.5, 1)$, $(1.5, 1)$.\n",
    "\n",
    "(a) Find $E(XY)$.\n",
    "\n",
    "(b) Find $Cov(X, Y)$.\n",
    "\n",
    "\n",
    "```"
   ]
  },
  {
   "cell_type": "markdown",
   "metadata": {},
   "source": [
    "```{admonition} Answer\n",
    ":class: dropdown\n",
    "(a) $0.5$\n",
    "\n",
    "(b) $0.125$\n",
    "\n",
    "\n",
    "```"
   ]
  },
  {
   "cell_type": "markdown",
   "metadata": {},
   "source": [
    "### Independent Implies Uncorrelated ###\n",
    "Let $X$ and $Y$ be independent. Then\n",
    "\n",
    "$$\n",
    "\\begin{align*}\n",
    "E(XY) &= \\sum_x\\sum_y xyP(X=x, Y=y) ~~~~~~ \\text{(expectation of a function)} \\\\\n",
    "&= \\sum_x\\sum_y xyP(X=x)P(Y=y) ~~~~ \\text{(independence)} \\\\\n",
    "&= \\sum_x xP(X=x) \\sum_y yP(Y=y) \\\\\n",
    "&= E(X)E(Y)\n",
    "\\end{align*}\n",
    "$$\n",
    "\n",
    "Therefore if $X$ and $Y$ are independent, then $Cov(X, Y) = 0$. We say that $X$ and $Y$ are *uncorrelated*.\n",
    "\n",
    "To summarize, independent random variables are uncorrelated. But it is not true that uncorrelated random variables have to be independent."
   ]
  },
  {
   "cell_type": "code",
   "execution_count": 3,
   "metadata": {
    "tags": [
     "remove-cell"
    ]
   },
   "outputs": [
    {
     "data": {
      "image/jpeg": "[encoded data removed]",
      "text/html": [
       "\n",
       "        <iframe\n",
       "            width=\"400\"\n",
       "            height=\"300\"\n",
       "            src=\"https://www.youtube.com/embed/y8GIvXI7b-s\"\n",
       "            frameborder=\"0\"\n",
       "            allowfullscreen\n",
       "            \n",
       "        ></iframe>\n",
       "        "
      ],
      "text/plain": [
       "<IPython.lib.display.YouTubeVideo at 0x17b592a80>"
      ]
     },
     "metadata": {
      "scrapbook": {
       "mime_prefix": "",
       "name": "vid_indep_imp_uncorr"
      }
     },
     "output_type": "display_data"
    }
   ],
   "source": [
    "# VIDEO: Independent Implies Uncorrelated\n",
    "\n",
    "vid_indep_imp_uncorr = YouTubeVideo('y8GIvXI7b-s')\n",
    "glue(\"vid_indep_imp_uncorr\", vid_indep_imp_uncorr)"
   ]
  },
  {
   "cell_type": "markdown",
   "metadata": {},
   "source": [
    "```{dropdown} See More\n",
    ":icon: video\n",
    "{glue:}`vid_indep_imp_uncorr`\n",
    "```"
   ]
  },
  {
   "cell_type": "markdown",
   "metadata": {},
   "source": [
    "### Addition Rule ###\n",
    "A routine application of the calculation of covariance using the expected product shows that for any random variables $X$, $Y$, and $Z$,\n",
    "\n",
    "$$\n",
    "Cov(X+Y, Z) ~ = ~ Cov(X, Z) + Cov(Y, Z)\n",
    "$$\n",
    "\n",
    "Just write $Cov(X+Y, Z) = E[(X+Y)Z] - E(X+Y)E(Z)$, expand both products, and collect terms."
   ]
  },
  {
   "cell_type": "markdown",
   "metadata": {},
   "source": [
    "```{admonition} Quick Check\n",
    "Let $X$ and $Y$ be independent and suppose $Var(X) = 10$. Find $Cov(X, X+Y)$.\n",
    "\n",
    "```"
   ]
  },
  {
   "cell_type": "markdown",
   "metadata": {},
   "source": [
    "```{admonition} Answer\n",
    ":class: dropdown\n",
    "$10$\n",
    "\n",
    "```"
   ]
  },
  {
   "cell_type": "code",
   "execution_count": 4,
   "metadata": {
    "tags": [
     "remove-cell"
    ]
   },
   "outputs": [
    {
     "data": {
      "image/jpeg": "[encoded data removed]",
      "text/html": [
       "\n",
       "        <iframe\n",
       "            width=\"400\"\n",
       "            height=\"300\"\n",
       "            src=\"https://www.youtube.com/embed/Fs-rX3jdErU\"\n",
       "            frameborder=\"0\"\n",
       "            allowfullscreen\n",
       "            \n",
       "        ></iframe>\n",
       "        "
      ],
      "text/plain": [
       "<IPython.lib.display.YouTubeVideo at 0x17b3c2ed0>"
      ]
     },
     "metadata": {
      "scrapbook": {
       "mime_prefix": "",
       "name": "vid_bilinear_cov"
      }
     },
     "output_type": "display_data"
    }
   ],
   "source": [
    "# VIDEO: Bilinearity of Covariance\n",
    "\n",
    "vid_bilinear_cov = YouTubeVideo('Fs-rX3jdErU')\n",
    "glue(\"vid_bilinear_cov\", vid_bilinear_cov)"
   ]
  },
  {
   "cell_type": "markdown",
   "metadata": {},
   "source": [
    "```{dropdown} See More\n",
    ":icon: video\n",
    "{glue:}`vid_bilinear_cov`\n",
    "```"
   ]
  },
  {
   "cell_type": "markdown",
   "metadata": {},
   "source": [
    "### The Main Property: Bilinearity ###\n",
    "**This property is the key to calculating covariance.** First, easy algebra shows that for constants $a$ and $b$,\n",
    "\n",
    "$$\n",
    "Cov(aX, bY) = abCov(X, Y)\n",
    "$$\n",
    "\n",
    "Put this together with the addition rule to get\n",
    "\n",
    "$$\n",
    "Cov(aX + bY, cZ) = acCov(X, Z) + bcCov(Y, Z)\n",
    "$$\n",
    "\n",
    "You can see that covariance behaves like products. By induction,\n",
    "\n",
    "$$\n",
    "Cov(\\sum_{i=1}^n a_iX_i, \\sum_{j=1}^m b_jY_j) ~ = ~\n",
    "\\sum_{i=1}^n\\sum_{j=1}^m a_ib_jCov(X_i, Y_j)\n",
    "$$\n",
    "\n",
    "That might look intimidating, but in fact this property greatly simplifies calculation. It says that you can expand covariance like the product of two sums. For example,\n",
    "\n",
    "$$\n",
    "Cov(10X - Y, 3Y + Z) = 30Cov(X, Y) + 10Cov(X, Z) - 3Cov(Y, Y) - Cov(Y, Z)\n",
    "$$\n",
    "\n",
    "You can replace $Cov(Y, Y)$ by $Var(Y)$."
   ]
  },
  {
   "cell_type": "markdown",
   "metadata": {},
   "source": [
    "```{admonition} Quick Check\n",
    "Let $Var(X) = 4$, $Var(Y) = 5$, and $Cov(X, Y) = 3$. Find $Cov(2X - Y + 7, X + 3Y - 10)$.\n",
    "\n",
    "```"
   ]
  },
  {
   "cell_type": "markdown",
   "metadata": {},
   "source": [
    "```{admonition} Answer\n",
    ":class: dropdown\n",
    "$8$\n",
    "\n",
    "```"
   ]
  }
 ],
 "metadata": {
  "anaconda-cloud": {},
  "celltoolbar": "Tags",
  "kernelspec": {
   "display_name": "Python 3",
   "language": "python",
   "name": "python3"
  },
  "language_info": {
   "codemirror_mode": {
    "name": "ipython",
    "version": 3
   },
   "file_extension": ".py",
   "mimetype": "text/x-python",
   "name": "python",
   "nbconvert_exporter": "python",
   "pygments_lexer": "ipython3",
   "version": "3.12.1"
  }
 },
 "nbformat": 4,
 "nbformat_minor": 1
}