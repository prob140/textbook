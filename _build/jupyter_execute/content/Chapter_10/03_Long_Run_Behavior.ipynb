{
 "cells": [
  {
   "cell_type": "code",
   "execution_count": 1,
   "metadata": {
    "tags": [
     "remove_cell"
    ]
   },
   "outputs": [],
   "source": [
    "# HIDDEN\n",
    "import warnings\n",
    "warnings.filterwarnings('ignore')\n",
    "from datascience import *\n",
    "from prob140 import *\n",
    "import numpy as np\n",
    "from myst_nb import glue\n",
    "import matplotlib.pyplot as plt\n",
    "plt.style.use('fivethirtyeight')\n",
    "%matplotlib inline"
   ]
  },
  {
   "cell_type": "code",
   "execution_count": 2,
   "metadata": {
    "tags": [
     "remove_cell"
    ]
   },
   "outputs": [],
   "source": [
    "# HIDDEN\n",
    "s = np.arange(1, 6)\n",
    "\n",
    "def refl_walk_probs(i, j):\n",
    "    # staying in the same state\n",
    "    if i-j == 0:\n",
    "        return 0.5\n",
    "    \n",
    "    # moving left or right\n",
    "    elif 2 <= i <= 4:\n",
    "        if abs(i-j) == 1:\n",
    "            return 0.25\n",
    "        else:\n",
    "            return 0\n",
    "        \n",
    "    # moving right from 1\n",
    "    elif i == 1:\n",
    "        if j == 2:\n",
    "            return 0.5\n",
    "        else:\n",
    "            return 0\n",
    "    \n",
    "    # moving left from 5\n",
    "    elif i == 5:\n",
    "        if j == 4:\n",
    "            return 0.5\n",
    "        else:\n",
    "            return 0\n",
    "\n",
    "reflecting_walk = MarkovChain.from_transition_function(s, refl_walk_probs)"
   ]
  },
  {
   "cell_type": "markdown",
   "metadata": {},
   "source": [
    "## Long Run Behavior ##"
   ]
  },
  {
   "cell_type": "markdown",
   "metadata": {},
   "source": [
    "Every irreducible and aperiodic Markov Chain on a finite state space exhibits astonishing regularity after it has run for a while. The proof of the convergence theorem below is beyond the scope of this course, but in examples you have seen the result by computation. All the results are true in greater generality for some classes of Markov Chains on infinitely many states. "
   ]
  },
  {
   "cell_type": "code",
   "execution_count": 3,
   "metadata": {
    "tags": [
     "remove-cell"
    ]
   },
   "outputs": [
    {
     "data": {
      "image/jpeg": "[encoded data removed]",
      "text/html": [
       "\n",
       "        <iframe\n",
       "            width=\"400\"\n",
       "            height=\"300\"\n",
       "            src=\"https://www.youtube.com/embed/5ulR-5VcgLQ\"\n",
       "            frameborder=\"0\"\n",
       "            allowfullscreen\n",
       "            \n",
       "        ></iframe>\n",
       "        "
      ],
      "text/plain": [
       "<IPython.lib.display.YouTubeVideo at 0x14f2ea810>"
      ]
     },
     "metadata": {
      "scrapbook": {
       "mime_prefix": "",
       "name": "vid_big_thm"
      }
     },
     "output_type": "display_data"
    }
   ],
   "source": [
    "# VIDEO: The Big Theorem\n",
    "from IPython.display import YouTubeVideo\n",
    "\n",
    "vid_big_thm = YouTubeVideo('5ulR-5VcgLQ')\n",
    "glue(\"vid_big_thm\", vid_big_thm)"
   ]
  },
  {
   "cell_type": "markdown",
   "metadata": {},
   "source": [
    "```{dropdown} See More\n",
    ":icon: video\n",
    "{glue:}`vid_big_thm`\n",
    "```"
   ]
  },
  {
   "cell_type": "markdown",
   "metadata": {},
   "source": [
    "### Convergence to Stationarity ###\n",
    "Let $X_0, X_1, \\ldots$ be an irreducible, aperiodic Markov chain on a finite state space $S$. Then for all states $i$ and $j$,\n",
    "\n",
    "$$\n",
    "P_n(i, j) \\to \\pi(j) ~~~ \\text{as } n \\to \\infty\n",
    "$$\n",
    "\n",
    "In other words, for every $i$ and $j$ in $S$, the $n$-step transition probability from $i$ to $j$ converges to a limit that does not depend on $i$. Moreover,\n",
    "\n",
    "- $\\pi(j) > 0$ for all states $j$, and\n",
    "\n",
    "- $\\sum_{j \\in S} \\pi(j) = 1$\n",
    "\n",
    "That is, as $n \\to \\infty$, every row of the $n$-step transition matrix $\\mathbb{P}^n$ converges to the same vector $\\pi$ which is a probability distribution in which all the terms are positive."
   ]
  },
  {
   "cell_type": "markdown",
   "metadata": {},
   "source": [
    "### Properties of the Limit ###\n",
    "\n",
    "In this section we will establish the following results. All of them are useful for calculation and for understanding the long run behavior of Markov chains.\n",
    "\n",
    "**(i)** The row vector $\\pi$ is the unique probability distribution that solves the *balance equations* $\\pi \\mathbb{P} = \\pi$. Every other solution has the form $c\\pi$ for some constant $c$.\n",
    "\n",
    "**(ii)** If for some $n$ the distribution of $X_n$ is $\\pi$, then the distribution of $X_m$ is also $\\pi$ for all $m > n$. Thus $\\pi$ is called the *stationary* or *steady state* distribution of the chain.\n",
    "\n",
    "**(iii)** For each state $j$, the $j$th entry of the $\\pi$ vector $\\pi(j)$ is the expected long run proportion of time the chain spends at $j$.\n",
    "\n",
    "We will assume that the convergence theorem is true; you have observed in numerically in examples. The other properties follow rather easily. In the remainder of this section we will establish the properties and see how they are used."
   ]
  },
  {
   "cell_type": "code",
   "execution_count": 4,
   "metadata": {
    "tags": [
     "remove-cell"
    ]
   },
   "outputs": [
    {
     "data": {
      "image/jpeg": "[encoded data removed]",
      "text/html": [
       "\n",
       "        <iframe\n",
       "            width=\"400\"\n",
       "            height=\"300\"\n",
       "            src=\"https://www.youtube.com/embed/Qxg5EAP90dw\"\n",
       "            frameborder=\"0\"\n",
       "            allowfullscreen\n",
       "            \n",
       "        ></iframe>\n",
       "        "
      ],
      "text/plain": [
       "<IPython.lib.display.YouTubeVideo at 0x14f564200>"
      ]
     },
     "metadata": {
      "scrapbook": {
       "mime_prefix": "",
       "name": "vid_balance_eq"
      }
     },
     "output_type": "display_data"
    }
   ],
   "source": [
    "# VIDEO: Balance Equations\n",
    "\n",
    "vid_balance_eq = YouTubeVideo('Qxg5EAP90dw')\n",
    "glue(\"vid_balance_eq\", vid_balance_eq)"
   ]
  },
  {
   "cell_type": "markdown",
   "metadata": {},
   "source": [
    "```{dropdown} See More\n",
    ":icon: video\n",
    "{glue:}`vid_balance_eq`\n",
    "```"
   ]
  },
  {
   "cell_type": "markdown",
   "metadata": {},
   "source": [
    "### Balance Equations ###\n",
    "In our example of the sticky reflecting walk, we found the steady state distribution by computation: we simply computed the $n$-step transition matrix for large $n$ and saw that eventually all the rows were the same. The distribution common to all the rows was the steady state distribution. \n",
    "\n",
    "But there is also a simple analytical way of finding the steady state distribution. To see this, let $n \\ge 0$ and let $i$ and $j$ be two states. Then\n",
    "\n",
    "$$\n",
    "P_{n+1}(i, j) = \\sum_{k \\in S} P_n(i, k)P(k, j)\n",
    "$$\n",
    "\n",
    "Therefore\n",
    "\n",
    "$$\n",
    "\\begin{align*}\n",
    "\\lim_{n \\to \\infty} P_{n+1}(i, j) &= \\lim_{n \\to \\infty} \\sum_{k \\in S} P_n(i, k)P(k, j) \\\\ \\\\\n",
    "&= \\sum_{k \\in S} \\big{(} \\lim_{n \\to \\infty} P_n(i, k) \\big{)} P(k, j)\n",
    "\\end{align*}\n",
    "$$\n",
    "\n",
    "We can exchange the limit and the sum because $S$ is finite. Now apply the theorem on convergence to stationarity:\n",
    "\n",
    "$$\n",
    "\\pi(j) = \\sum_{k \\in S} \\pi(k)P(k, j)\n",
    "$$\n",
    "\n",
    "These are called the *balance equations*. There is one equation for each state $j$.\n",
    "\n",
    "In matrix notation, if you think of $\\pi$ as a row vector, these equations become\n",
    "\n",
    "$$\n",
    "\\pi = \\pi \\mathbb{P} ~~~~~ \\text{or, as we will often say it,} ~~~~~ \\pi\\mathbb{P} = \\pi\n",
    "$$\n",
    "\n",
    "The balance equations help us compute $\\pi$ without taking limits.\n",
    "\n",
    "In a later chapter we will see how the term *balance* arises. For now, let's focus on solving the equations."
   ]
  },
  {
   "cell_type": "markdown",
   "metadata": {},
   "source": [
    "### Uniqueness ###\n",
    "It's not very hard to show that if a probability distribution solves the balance equations, then it has to be $\\pi$, the limit of the marginal distributions of $X_n$. We won't do the proof; it essentially repeats the steps we took to derive the balance equations. You should just be aware that an irreducible, aperiodic, finite state Markov Chain has exactly one stationary distribution.\n",
    "\n",
    "**This is particularly helpful if you happen to guess a solution to the balance equations.** If the solution that you have guessed is a probability distribution, you have found the stationary distribution of the chain."
   ]
  },
  {
   "cell_type": "markdown",
   "metadata": {},
   "source": [
    "### Solving the Balance Equations ###\n",
    "\n",
    "The zero vector solves the balance equations, but it's not a probability distribution.\n",
    "\n",
    "To find non-zero solutions, it is tempting to rewrite the balance equations as $\\pi(\\mathbb{I} - \\mathbb{P}) = 0$ where $\\mathbb{I}$ is the identity matrix, and try to invert $\\mathbb{I} - \\mathbb{P}$. But that doesn't work. Each row of $\\mathbb{P}$ sums to 1, and hence each row of $\\mathbb{I} - \\mathbb{P}$ sums to 0, which means that $\\mathbb{I} - \\mathbb{P}$ is not invertible. \n",
    "\n",
    "So there are multiple solutions of the balance equations. We can see this easily by noting that if any vector solves the balance equations, then 10 times that vector also solves them. \n",
    "\n",
    "Our job is to find the solution *that is also a probability distribution*. That's the steady state vector $\\pi$.\n",
    "\n",
    "Let $s$ denote the number of elements in the state space $S$. Then $\\pi$ is a row vector of length $s$. The $j$th element of $\\pi$ is $\\pi(j)$ and corresponds to the $j$th element of the state space.\n",
    "\n",
    "Two key observations help us solve the balance equations.\n",
    "\n",
    "- The equations say that for each state $j$, $\\pi(j)$ is equal to the dot product of $\\pi$ and the $j$th column of $\\mathbb{P}$.\n",
    "- There are therefore $s$ equations with the additional condition that $\\sum_{j \\in S} \\pi(j) = 1$. \n",
    "\n",
    "In many examples, there is an efficient way of solving these equations.\n",
    "\n",
    "- Try to manipulate each balance equation so that you can write each $\\pi(j)$ in terms of the same element of $\\pi$. For example, you might be able to simplify the equations to see that $\\pi = [\\pi(1), c_2\\pi(1), c_3\\pi(1), \\ldots, c_s\\pi(1)]$ where $c_2, c_3, \\ldots, c_s$ are constants you have determined from the balance equations.\n",
    "- Then solve for that key element of $\\pi$ by using the fact that the elements of $\\pi$ sum to 1. In the example above, $(1 + c_1 + c_2 + \\cdots + c_s)\\pi(1) = 1$, so you can solve for $\\pi(1)$. By plugging this value into the expression for $\\pi$ above, you get the entire vector $\\pi$.\n",
    "\n",
    "Here is an example of carrying out this process."
   ]
  },
  {
   "cell_type": "markdown",
   "metadata": {},
   "source": [
    "### Stationary Distribution of Sticky Reflecting Walk ###\n",
    "We studied this in an earlier section. The transition diagram is\n",
    "\n",
    "![Lazy Circle Walk](trans_refl.png)\n",
    "\n",
    "Here is the transition matrix $\\mathbb{P}$."
   ]
  },
  {
   "cell_type": "code",
   "execution_count": 5,
   "metadata": {},
   "outputs": [
    {
     "data": {
      "text/html": [
       "<div>\n",
       "<style scoped>\n",
       "    .dataframe tbody tr th:only-of-type {\n",
       "        vertical-align: middle;\n",
       "    }\n",
       "\n",
       "    .dataframe tbody tr th {\n",
       "        vertical-align: top;\n",
       "    }\n",
       "\n",
       "    .dataframe thead th {\n",
       "        text-align: right;\n",
       "    }\n",
       "</style>\n",
       "<table border=\"1\" class=\"dataframe\">\n",
       "  <thead>\n",
       "    <tr style=\"text-align: right;\">\n",
       "      <th></th>\n",
       "      <th>1</th>\n",
       "      <th>2</th>\n",
       "      <th>3</th>\n",
       "      <th>4</th>\n",
       "      <th>5</th>\n",
       "    </tr>\n",
       "  </thead>\n",
       "  <tbody>\n",
       "    <tr>\n",
       "      <th>1</th>\n",
       "      <td>0.50</td>\n",
       "      <td>0.50</td>\n",
       "      <td>0.00</td>\n",
       "      <td>0.00</td>\n",
       "      <td>0.00</td>\n",
       "    </tr>\n",
       "    <tr>\n",
       "      <th>2</th>\n",
       "      <td>0.25</td>\n",
       "      <td>0.50</td>\n",
       "      <td>0.25</td>\n",
       "      <td>0.00</td>\n",
       "      <td>0.00</td>\n",
       "    </tr>\n",
       "    <tr>\n",
       "      <th>3</th>\n",
       "      <td>0.00</td>\n",
       "      <td>0.25</td>\n",
       "      <td>0.50</td>\n",
       "      <td>0.25</td>\n",
       "      <td>0.00</td>\n",
       "    </tr>\n",
       "    <tr>\n",
       "      <th>4</th>\n",
       "      <td>0.00</td>\n",
       "      <td>0.00</td>\n",
       "      <td>0.25</td>\n",
       "      <td>0.50</td>\n",
       "      <td>0.25</td>\n",
       "    </tr>\n",
       "    <tr>\n",
       "      <th>5</th>\n",
       "      <td>0.00</td>\n",
       "      <td>0.00</td>\n",
       "      <td>0.00</td>\n",
       "      <td>0.50</td>\n",
       "      <td>0.50</td>\n",
       "    </tr>\n",
       "  </tbody>\n",
       "</table>\n",
       "</div>"
      ],
      "text/plain": [
       "      1     2     3     4     5\n",
       "1  0.50  0.50  0.00  0.00  0.00\n",
       "2  0.25  0.50  0.25  0.00  0.00\n",
       "3  0.00  0.25  0.50  0.25  0.00\n",
       "4  0.00  0.00  0.25  0.50  0.25\n",
       "5  0.00  0.00  0.00  0.50  0.50"
      ]
     },
     "execution_count": 5,
     "metadata": {},
     "output_type": "execute_result"
    }
   ],
   "source": [
    "reflecting_walk"
   ]
  },
  {
   "cell_type": "markdown",
   "metadata": {},
   "source": [
    "The `MarkovChain` method `steady_state` returns the stationary distribution $\\pi$. You saw earlier that this is the limit of the rows of $\\mathbb{P}$."
   ]
  },
  {
   "cell_type": "code",
   "execution_count": 6,
   "metadata": {},
   "outputs": [
    {
     "data": {
      "text/html": [
       "<table border=\"1\" class=\"dataframe\">\n",
       "    <thead>\n",
       "        <tr>\n",
       "            <th>Value</th> <th>Probability</th>\n",
       "        </tr>\n",
       "    </thead>\n",
       "    <tbody>\n",
       "        <tr>\n",
       "            <td>1    </td> <td>0.125      </td>\n",
       "        </tr>\n",
       "        <tr>\n",
       "            <td>2    </td> <td>0.25       </td>\n",
       "        </tr>\n",
       "        <tr>\n",
       "            <td>3    </td> <td>0.25       </td>\n",
       "        </tr>\n",
       "        <tr>\n",
       "            <td>4    </td> <td>0.25       </td>\n",
       "        </tr>\n",
       "        <tr>\n",
       "            <td>5    </td> <td>0.125      </td>\n",
       "        </tr>\n",
       "    </tbody>\n",
       "</table>"
      ],
      "text/plain": [
       "Value | Probability\n",
       "1     | 0.125\n",
       "2     | 0.25\n",
       "3     | 0.25\n",
       "4     | 0.25\n",
       "5     | 0.125"
      ]
     },
     "execution_count": 6,
     "metadata": {},
     "output_type": "execute_result"
    }
   ],
   "source": [
    "reflecting_walk.steady_state()"
   ]
  },
  {
   "cell_type": "markdown",
   "metadata": {},
   "source": [
    "We could also solve for $\\pi$ using the balance equations. While this might seem superfluous given that Python has already given us $\\pi$, it is good practice for when transition matrices are larger and not numerical.\n",
    "\n",
    "According to the balance equations, $\\pi(1)$ is the dot product of $\\pi$ and Column 1 of $\\mathbb{P}$. So\n",
    "\n",
    "$$\n",
    "\\pi(1) ~ = ~ \\pi(1)\\cdot 0.5 ~ + ~ \\pi(2) \\cdot 0.25 \n",
    "$$\n",
    "\n",
    "Rearrange this to write $\\pi(2)$ in terms of $\\pi(1)$:\n",
    "\n",
    "$$\n",
    "\\pi(2) = 2\\pi(1)\n",
    "$$\n",
    "\n",
    "Follow the same process with the next equation.\n",
    "\n",
    "$$\n",
    "\\pi(2) ~ = ~ 0.5\\pi(1) + 0.5\\pi(2) + 0.25\\pi(3)\n",
    "$$\n",
    "\n",
    "Rearrange this and plug in $\\pi(2) = 2\\pi(1)$ to get\n",
    "\n",
    "$$\n",
    "\\pi(3) = 2\\pi(1)\n",
    "$$\n",
    "\n",
    "Similarly, you will get $\\pi(4) = 2\\pi(1)$ and $\\pi(5) = \\pi(1)$.\n",
    "\n",
    "So $\\pi$ can be written entirely in terms of $\\pi(1)$:\n",
    "\n",
    "$$\n",
    "\\pi = [ \\pi(1), 2\\pi(1), 2\\pi(1), 2\\pi(1), \\pi(1) ]\n",
    "$$\n",
    "\n",
    "Now use the fact that $\\pi$ sums to 1. By the formula above, the total is $8\\pi(1)$, so $\\pi(1) = 1/8$. This gives us the whole distribution:\n",
    "\n",
    "$$\n",
    "\\pi = \\big{[} \\frac{1}{8}, \\frac{2}{8}, \\frac{2}{8}, \\frac{2}{8}, \\frac{1}{8} \\big{]}\n",
    "$$"
   ]
  },
  {
   "cell_type": "code",
   "execution_count": 7,
   "metadata": {
    "tags": [
     "remove-cell"
    ]
   },
   "outputs": [
    {
     "data": {
      "image/jpeg": "[encoded data removed]",
      "text/html": [
       "\n",
       "        <iframe\n",
       "            width=\"400\"\n",
       "            height=\"300\"\n",
       "            src=\"https://www.youtube.com/embed/LIXffVd1wic\"\n",
       "            frameborder=\"0\"\n",
       "            allowfullscreen\n",
       "            \n",
       "        ></iframe>\n",
       "        "
      ],
      "text/plain": [
       "<IPython.lib.display.YouTubeVideo at 0x14f2ea240>"
      ]
     },
     "metadata": {
      "scrapbook": {
       "mime_prefix": "",
       "name": "vid_steady_state"
      }
     },
     "output_type": "display_data"
    }
   ],
   "source": [
    "# VIDEO: Steady State\n",
    "\n",
    "vid_steady_state = YouTubeVideo('LIXffVd1wic')\n",
    "glue(\"vid_steady_state\", vid_steady_state)"
   ]
  },
  {
   "cell_type": "markdown",
   "metadata": {},
   "source": [
    "```{dropdown} See More\n",
    ":icon: video\n",
    "{glue:}`vid_steady_state`\n",
    "```"
   ]
  },
  {
   "cell_type": "markdown",
   "metadata": {},
   "source": [
    "### Steady State ###\n",
    "\n",
    "The steady state isn't an element of the state space $S$. It's the condition of the chain after it has been run for a long time. Let's examine this further. \n",
    "\n",
    "The theorem on convergence to stationarity says that the chain approaches the steady state as $n$ gets large. If it actually *achieves* the steady state, that is, if the distribution of $X_n$ is equal to $\\pi$ for some $n$, then it stays in that state, for the following reason.\n",
    "\n",
    "$$\n",
    "P(X_{n+1} = j) = \\sum_{i \\in S} P(X_n = i)P(i, j) = \\sum_{i \\in S} \\pi(i)P(i, j) = \\pi(j)\n",
    "$$\n",
    "\n",
    "by the balance equations. Now use induction.\n",
    "\n",
    "In particular, if you start the chain with its stationary distribution $\\pi$, then the distribution of $X_n$ is equal to $\\pi$ for every $n$."
   ]
  },
  {
   "cell_type": "markdown",
   "metadata": {},
   "source": [
    "### Expected Long Run Proportion of Time ###\n",
    "\n",
    "Suppose you run a chain for a long time. Then the chance that the chain is at state $j$ is approximately $\\pi(j)$ no matter where the chain started. So in the long run, the chain is expected to spend a proportion of $\\pi(j)$ of its time at the state $j$.\n",
    "\n",
    "Formally, let $j$ be a state, and let $I_m(j)$ be the indicator of the event $\\{X_m = j\\}$. The *proportion of time the chain spends at $j$*, from time 1 through time $n$, is\n",
    "\n",
    "$$\n",
    "\\frac{1}{n} \\sum_{m=1}^n I_m(j)\n",
    "$$\n",
    "\n",
    "Therefore, the *expected proportion of time the chain spends at $j$*, given that it started at $i$, is\n",
    "\n",
    "$$\n",
    "\\frac{1}{n} \\sum_{m=1}^n E(I_m(j) \\mid X_0 = i) \n",
    "= \\frac{1}{n} \\sum_{m=1}^n P(X_m = j \\mid X_0 = i) \n",
    "= \\frac{1}{n} \\sum_{m=1}^n P_m(i, j)\n",
    "$$\n",
    "\n",
    "Now recall a property of convergent sequences of real numbers: \n",
    "\n",
    "- If $x_n \\to x$ as $n \\to \\infty$, then the sequence of averages also converges to $x$. That is,\n",
    "\n",
    "$$\n",
    "\\frac{1}{n} \\sum_{m=1}^n x_m \\to x ~~~ \\text{as } n \\to \\infty\n",
    "$$\n",
    "\n",
    "Take $x_n = P_n(i, j)$. Then by the theorem on convergence to stationarity,\n",
    "\n",
    "$$\n",
    "P_n(i, j) \\to \\pi(j) ~~~ \\text{as } n \\to \\infty\n",
    "$$\n",
    "\n",
    "and hence the averages also converge:\n",
    "\n",
    "$$\n",
    "\\frac{1}{n} \\sum_{m=1}^n P_m(i, j) \\to \\pi(j) ~~~ \\text{as } n \\to \\infty\n",
    "$$\n",
    "\n",
    "Thus the long run expected proportion of time the chain spends in state $j$ is $\\pi(j)$, where $\\pi$ is the stationary distribution of the chain."
   ]
  },
  {
   "cell_type": "markdown",
   "metadata": {
    "collapsed": true
   },
   "source": [
    "### Sticky Random Walk on a Circle ###\n",
    "Now let the state space be five points arranged on a circle. Suppose the process starts at Point 1, and at each step either stays in place with probability 0.5 (and thus is sticky), or moves to one of the two neighboring points with chance 0.25 each, regardless of the other moves. \n",
    "\n",
    "In other words, this walk is just the same as the sticky reflecting walk, except that $1 \\rightarrow 5$ and $5 \\rightarrow 1$ transitions are both possible. This transition behavior can be summed up in a transition diagram. Notice that the transition behavior is the same for all the states.\n",
    "\n",
    "![Lazy Circle Walk](trans_circle.png)\n",
    "\n",
    "At every step, the next move is determined by a random choice from among three options and by the chain's current location, not on how it got to that location. So the process is a Markov chain. Let's call it $X_0, X_1, X_2, \\ldots $ and define its transition matrix."
   ]
  },
  {
   "cell_type": "code",
   "execution_count": 8,
   "metadata": {},
   "outputs": [],
   "source": [
    "s = np.arange(1, 6)\n",
    "\n",
    "def circle_walk_probs(i, j):\n",
    "        if i-j == 0:\n",
    "            return 0.5\n",
    "        elif abs(i-j) == 1:\n",
    "            return 0.25\n",
    "        elif abs(i-j) == 4:\n",
    "            return 0.25\n",
    "        else:\n",
    "            return 0   \n",
    "        \n",
    "circle_walk = MarkovChain.from_transition_function(s, circle_walk_probs)"
   ]
  },
  {
   "cell_type": "code",
   "execution_count": 9,
   "metadata": {},
   "outputs": [
    {
     "data": {
      "text/html": [
       "<div>\n",
       "<style scoped>\n",
       "    .dataframe tbody tr th:only-of-type {\n",
       "        vertical-align: middle;\n",
       "    }\n",
       "\n",
       "    .dataframe tbody tr th {\n",
       "        vertical-align: top;\n",
       "    }\n",
       "\n",
       "    .dataframe thead th {\n",
       "        text-align: right;\n",
       "    }\n",
       "</style>\n",
       "<table border=\"1\" class=\"dataframe\">\n",
       "  <thead>\n",
       "    <tr style=\"text-align: right;\">\n",
       "      <th></th>\n",
       "      <th>1</th>\n",
       "      <th>2</th>\n",
       "      <th>3</th>\n",
       "      <th>4</th>\n",
       "      <th>5</th>\n",
       "    </tr>\n",
       "  </thead>\n",
       "  <tbody>\n",
       "    <tr>\n",
       "      <th>1</th>\n",
       "      <td>0.50</td>\n",
       "      <td>0.25</td>\n",
       "      <td>0.00</td>\n",
       "      <td>0.00</td>\n",
       "      <td>0.25</td>\n",
       "    </tr>\n",
       "    <tr>\n",
       "      <th>2</th>\n",
       "      <td>0.25</td>\n",
       "      <td>0.50</td>\n",
       "      <td>0.25</td>\n",
       "      <td>0.00</td>\n",
       "      <td>0.00</td>\n",
       "    </tr>\n",
       "    <tr>\n",
       "      <th>3</th>\n",
       "      <td>0.00</td>\n",
       "      <td>0.25</td>\n",
       "      <td>0.50</td>\n",
       "      <td>0.25</td>\n",
       "      <td>0.00</td>\n",
       "    </tr>\n",
       "    <tr>\n",
       "      <th>4</th>\n",
       "      <td>0.00</td>\n",
       "      <td>0.00</td>\n",
       "      <td>0.25</td>\n",
       "      <td>0.50</td>\n",
       "      <td>0.25</td>\n",
       "    </tr>\n",
       "    <tr>\n",
       "      <th>5</th>\n",
       "      <td>0.25</td>\n",
       "      <td>0.00</td>\n",
       "      <td>0.00</td>\n",
       "      <td>0.25</td>\n",
       "      <td>0.50</td>\n",
       "    </tr>\n",
       "  </tbody>\n",
       "</table>\n",
       "</div>"
      ],
      "text/plain": [
       "      1     2     3     4     5\n",
       "1  0.50  0.25  0.00  0.00  0.25\n",
       "2  0.25  0.50  0.25  0.00  0.00\n",
       "3  0.00  0.25  0.50  0.25  0.00\n",
       "4  0.00  0.00  0.25  0.50  0.25\n",
       "5  0.25  0.00  0.00  0.25  0.50"
      ]
     },
     "execution_count": 9,
     "metadata": {},
     "output_type": "execute_result"
    }
   ],
   "source": [
    "circle_walk"
   ]
  },
  {
   "cell_type": "markdown",
   "metadata": {},
   "source": [
    "Because of the symmetry of the transition behavior across all the states, in the long run no state should be occupied more than any other state. Hence all the $\\pi(j)$'s should be equal. This is confirmed by `steady_state`, and you can also confirm it by checking that the vector $\\pi = [0.2, 0.2, 0.2, 0.2, 0.2]$ solves the balance equations. Remember that the steady state distribution is unique, so there is nothing more to check. "
   ]
  },
  {
   "cell_type": "code",
   "execution_count": 10,
   "metadata": {},
   "outputs": [
    {
     "data": {
      "text/html": [
       "<table border=\"1\" class=\"dataframe\">\n",
       "    <thead>\n",
       "        <tr>\n",
       "            <th>Value</th> <th>Probability</th>\n",
       "        </tr>\n",
       "    </thead>\n",
       "    <tbody>\n",
       "        <tr>\n",
       "            <td>1    </td> <td>0.2        </td>\n",
       "        </tr>\n",
       "        <tr>\n",
       "            <td>2    </td> <td>0.2        </td>\n",
       "        </tr>\n",
       "        <tr>\n",
       "            <td>3    </td> <td>0.2        </td>\n",
       "        </tr>\n",
       "        <tr>\n",
       "            <td>4    </td> <td>0.2        </td>\n",
       "        </tr>\n",
       "        <tr>\n",
       "            <td>5    </td> <td>0.2        </td>\n",
       "        </tr>\n",
       "    </tbody>\n",
       "</table>"
      ],
      "text/plain": [
       "Value | Probability\n",
       "1     | 0.2\n",
       "2     | 0.2\n",
       "3     | 0.2\n",
       "4     | 0.2\n",
       "5     | 0.2"
      ]
     },
     "execution_count": 10,
     "metadata": {},
     "output_type": "execute_result"
    }
   ],
   "source": [
    "circle_walk.steady_state()"
   ]
  },
  {
   "cell_type": "code",
   "execution_count": null,
   "metadata": {},
   "outputs": [],
   "source": []
  }
 ],
 "metadata": {
  "anaconda-cloud": {},
  "celltoolbar": "Tags",
  "kernelspec": {
   "display_name": "Python 3",
   "language": "python",
   "name": "python3"
  },
  "language_info": {
   "codemirror_mode": {
    "name": "ipython",
    "version": 3
   },
   "file_extension": ".py",
   "mimetype": "text/x-python",
   "name": "python",
   "nbconvert_exporter": "python",
   "pygments_lexer": "ipython3",
   "version": "3.12.1"
  }
 },
 "nbformat": 4,
 "nbformat_minor": 1
}