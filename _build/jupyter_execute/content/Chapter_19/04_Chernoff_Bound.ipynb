{
 "cells": [
  {
   "cell_type": "code",
   "execution_count": 1,
   "metadata": {
    "tags": [
     "remove_cell"
    ]
   },
   "outputs": [],
   "source": [
    "# HIDDEN\n",
    "import warnings\n",
    "warnings.filterwarnings('ignore')\n",
    "from datascience import *\n",
    "from prob140 import *\n",
    "import numpy as np\n",
    "import matplotlib.pyplot as plt\n",
    "plt.style.use('fivethirtyeight')\n",
    "%matplotlib inline\n",
    "from scipy import stats"
   ]
  },
  {
   "cell_type": "markdown",
   "metadata": {},
   "source": [
    "## Chernoff Bound ##"
   ]
  },
  {
   "cell_type": "markdown",
   "metadata": {},
   "source": [
    "If the form of a distribution is intractable in that it is difficult to find exact probabilities by integration, then good estimates and bounds become important. Bounds on the tails of the distribution of a random variable help us quantify roughly how close to the mean the random variable is likely to be. \n",
    "\n",
    "We already know two such bounds. Let $X$ be a random variable with expectation $\\mu$ and SD $\\sigma$.\n",
    "\n",
    "#### Markov's Bound on the Right Hand Tail ####\n",
    "If $X$ is non-negative, \n",
    "\n",
    "$$\n",
    "P(X \\ge c) ~  \\le ~ \\frac{\\mu}{c}\n",
    "$$\n",
    "\n",
    "This bound depends only on the first moment of $X$ (and the fact that $X$ is non-negative).\n",
    "\n",
    "#### Chebychev's Bound on Two Tails ####\n",
    "\n",
    "$$\n",
    "P(\\lvert X - \\mu\\rvert \\ge c) ~ \\le ~ \\frac{\\sigma^2}{c^2}\n",
    "$$\n",
    "\n",
    "This bound depends on the first and second moments of $X$ since $\\sigma^2 = E(X^2) - (E(X))^2$. \n",
    "\n",
    "In cases where both bounds apply, Chebyshev often does better than Markov because it uses two moments instead of one. So it is reasonable to think that the more moments you know, the closer you can get to the tail probabilities. \n",
    "\n",
    "Moment generating functions can help get good bounds on tail probabilities. In what follows, we will assume that the moment generating function of $X$ is finite over the whole real line. If it is finite only over a smaller interval around 0, the calculations of the mgf below should be confined to that interval."
   ]
  },
  {
   "cell_type": "code",
   "execution_count": 2,
   "metadata": {
    "tags": [
     "remove-input",
     "hide-output"
    ]
   },
   "outputs": [
    {
     "data": {
      "text/html": [
       "\n",
       "<iframe\n",
       "    width=\"400\"\n",
       "    height=\"300\"\n",
       "    src=\"https://www.youtube.com/embed/HCEQFjHyLIw\"\n",
       "    frameborder=\"0\"\n",
       "    allowfullscreen\n",
       "\n",
       "></iframe>\n"
      ],
      "text/plain": [
       "<IPython.lib.display.YouTubeVideo at 0x7fa87403a2e0>"
      ]
     },
     "execution_count": 2,
     "metadata": {},
     "output_type": "execute_result"
    }
   ],
   "source": [
    "# VIDEO\n",
    "from IPython.display import YouTubeVideo\n",
    "\n",
    "YouTubeVideo('HCEQFjHyLIw')"
   ]
  },
  {
   "cell_type": "markdown",
   "metadata": {},
   "source": [
    "### Exponential Bounds on Tails ###\n",
    "\n",
    "Let $X$ be a random variable with mgf $M_X$. We are going to find an upper bound for the right hand tail probability $P(X \\ge c)$ for a fixed $c$.\n",
    "\n",
    "To see how the moment generating function comes in, fix $t > 0$. The function defined by $g(x) = e^{tx}$ is increasing as well as non-negative. Because it is increasing,\n",
    "\n",
    "$$\n",
    "X \\ge c ~ \\iff ~ e^{tX} \\ge e^{tc}\n",
    "$$\n",
    "\n",
    "Since $e^{tX}$ is a non-negative random variable, we can apply Markov's inequality as follows. \n",
    "\n",
    "$$\n",
    "\\begin{align*}\n",
    "P(X \\ge c) ~ &= P(e^{tX} \\ge e^{tc}) \\\\\n",
    "&\\le ~ \\frac{E(e^{tX})}{e^{tc}} ~~~~ \\text{(Markov's bound)} \\\\\n",
    "&= ~ \\frac{M_X(t)}{e^{tc}} \\\\\n",
    "&=~ M_X(t)e^{-tc}\n",
    "\\end{align*}\n",
    "$$\n",
    "\n",
    "Since $t$ is fixed, $M_X(t)$ is constant. So we have shown that $P(X \\ge c)$ is falling exponentially as a function of $c$."
   ]
  },
  {
   "cell_type": "markdown",
   "metadata": {},
   "source": [
    "### Chernoff Bound on the Right Tail ###\n",
    "\n",
    "The calculation above is the first step in developing a [Chernoff bound](https://en.wikipedia.org/wiki/Chernoff_bound) on the right hand tail probability $P(X \\ge c)$ for a fixed $c$.\n",
    "\n",
    "For the next step, notice that you can choose $t$ to be any positive number. For our fixed $c$, some choices of $t$ will give sharper upper bounds than others. The sharpest among all of the bounds will correspond to the value of $t$ that minimizes the right hand side. So the Chernoff bound has an *optimized* form:\n",
    "\n",
    "$$\n",
    "P(X \\ge c) ~ \\le ~ \\min_{t > 0} M_X(t)e^{-tc}\n",
    "$$"
   ]
  },
  {
   "cell_type": "markdown",
   "metadata": {},
   "source": [
    "### Application to the Normal Distribution ###\n",
    "\n",
    "Suppose $X$ has the normal $(\\mu, \\sigma^2)$ distribution and we want to get a sense of how far $X$ can be above the mean. Fix $c > 0$. The exact chance that the value of $X$ is at least $c$ above the mean is\n",
    "\n",
    "$$\n",
    "P(X - \\mu \\ge c) ~ = ~ 1 - \\Phi(c/\\sigma)\n",
    "$$\n",
    "\n",
    "because the distribution of $X - \\mu$ is normal $(0, \\sigma^2)$. This exact answer looks neat and tidy, but the standard normal cdf $\\Phi$ is not easy to work with analytically. Sometimes we can gain more insight from a good bound.\n",
    "\n",
    "The optimized Chernoff bound is\n",
    "\n",
    "$$\n",
    "\\begin{align*}\n",
    "P(X- \\mu \\ge c) ~ &\\le ~ \\min_{t > 0} M_{X-\\mu}(t)e^{-tc} \\\\ \\\\\n",
    "&= ~ \\min_{t > 0} e^{\\sigma^2t^2/2} \\cdot e^{-tc} \\\\ \\\\\n",
    "&= ~ \\min_{t > 0} e^{-ct + \\sigma^2t^2/2}\n",
    "\\end{align*}\n",
    "$$\n",
    "\n",
    "The curve below is the graph of $\\exp(-ct + \\sigma^2t^2/2)$ as a function of $t$, in the case $\\sigma = 2$ and $c = 5$. The flat line is the exact probability of $P(X - \\mu \\ge c)$. The curve is always above the flat line: no matter what $t$ is, the bound is an upper bound. The sharpest of all the upper bounds corresponds to the minimizing value $t^*$ which is somewhere in the 1.2 to 1.3 range."
   ]
  },
  {
   "cell_type": "code",
   "execution_count": 3,
   "metadata": {
    "tags": [
     "remove_input"
    ]
   },
   "outputs": [
    {
     "data": {
      "image/png": "[encoded data removed]",
      "text/plain": [
       "<Figure size 432x288 with 1 Axes>"
      ]
     },
     "metadata": {
      "filenames": {
       "image/png": "/mnt/c/Users/septi/Desktop/Berkeley/Summer 2022/Jupyter Book/Data 140/textbook/_build/jupyter_execute/content/Chapter_19/04_Chernoff_Bound_7_0.png"
      },
      "needs_background": "light"
     },
     "output_type": "display_data"
    }
   ],
   "source": [
    "# NO CODE\n",
    "c = 5\n",
    "sigma = 2\n",
    "t_min = 0.5\n",
    "t_max = 2\n",
    "t = np.arange(t_min, t_max, 0.01)\n",
    "bound = np.exp(-1*c*t + 0.5*((sigma*t)**2))\n",
    "exact = 1 - stats.norm.cdf(2.5)\n",
    "plt.plot([t_min, t_max], [exact, exact], lw=2, label = 'Exact Chance')\n",
    "plt.plot(t, bound, lw=2, label = 'Bound')\n",
    "plt.legend(bbox_to_anchor=(1.4, 1))\n",
    "plt.xlabel('$t$')\n",
    "plt.title('Bounding $P(X - \\mu \\geq 5)$ when $X$ is normal $(\\mu, 2^2)$');"
   ]
  },
  {
   "cell_type": "markdown",
   "metadata": {},
   "source": [
    "To find the minimizing value of $t$ analytically, we will use the standard calculus method of minimization. But first we will simplify our calculations by observing that finding the point at which a positive function is minimized is the same as finding the point at which the log of the function is minimized. This is because $\\log$ is an increasing function.\n",
    "\n",
    "So the problem reduces to finding the value of $t$ that minimizes the function $h(t) = -ct + \\sigma^2t^2/2$. By differentiation, the minimizing value of $t$ solves\n",
    "\n",
    "$$\n",
    "c = \\sigma^2 t^*\n",
    "$$\n",
    "\n",
    "and hence\n",
    "\n",
    "$$\n",
    "t^* = \\frac{c}{\\sigma^2}\n",
    "$$\n",
    "\n",
    "So the Chernoff bound is \n",
    "\n",
    "$$\n",
    "P(X - \\mu \\ge c) \\le e^{-ct^* + \\sigma^2{t^*}^2/2} = e^{-c^2/2\\sigma^2}\n",
    "$$\n",
    "\n",
    "Compare this with the bounds we already have. Markov's bound can't be applied directly as $X - \\mu$ can have negative values. Because the distribution of $X - \\mu$ is symmetric about 0, Chebychev's bound becomes\n",
    "\n",
    "$$\n",
    "P(X - \\mu \\ge c ) \\le \\frac{\\sigma^2}{2c^2}\n",
    "$$\n",
    "\n",
    "When $c$ is large, the optimized Chernoff bound is quite a bit sharper than Chebychev's. In the case $\\sigma = 2$, the graph below shows the exact value of $P(X - \\mu \\ge c)$ as a function of $c$, along with the Chernoff and Chebychev bounds."
   ]
  },
  {
   "cell_type": "code",
   "execution_count": 4,
   "metadata": {
    "tags": [
     "remove_input"
    ]
   },
   "outputs": [
    {
     "data": {
      "image/png": "[encoded data removed]",
      "text/plain": [
       "<Figure size 432x288 with 1 Axes>"
      ]
     },
     "metadata": {
      "filenames": {
       "image/png": "/mnt/c/Users/septi/Desktop/Berkeley/Summer 2022/Jupyter Book/Data 140/textbook/_build/jupyter_execute/content/Chapter_19/04_Chernoff_Bound_9_0.png"
      },
      "needs_background": "light"
     },
     "output_type": "display_data"
    }
   ],
   "source": [
    "# NO CODE\n",
    "sigma = 2\n",
    "c_min = 4\n",
    "c_max = 7\n",
    "c = np.arange(c_min, c_max + .01, 0.01)\n",
    "chernoff = np.exp(-0.5*((c/sigma)**2))\n",
    "chebychev = 0.5 * ((sigma/c)**2)\n",
    "plt.plot(c, 1 - stats.norm.cdf(c/sigma), label='Exact Chance', lw=2)\n",
    "plt.plot(c, chernoff, lw=2, label='Chernoff Bound')\n",
    "plt.plot(c, chebychev, lw=2, label='Chebychev Bound')\n",
    "plt.xlim(c_min, c_max)\n",
    "plt.xlabel('$c$')\n",
    "plt.legend()\n",
    "plt.title('Bounds on $P(X - \\mu \\geq c)$ when $X$ is normal $(\\mu, 2^2)$');"
   ]
  },
  {
   "cell_type": "markdown",
   "metadata": {},
   "source": [
    "### Chernoff Bound on the Left Tail ###\n",
    "By an analogous argument we can derive a Chernoff bound on the left tail of a distribution. For a fixed $t > 0$, the function $g(x) = e^{-tx}$ is decreasing and non-negative. So for $t > 0$ and any fixed $c$,\n",
    "\n",
    "$$\n",
    "P(X \\le c) = P(e^{-tX} \\ge e^{-tc}) \\le \\frac{E(e^{-tX})}{e^{-tc}} = \\frac{M_X(-t)}{e^{-tc}}\n",
    "$$\n",
    "\n",
    "and therefore\n",
    "\n",
    "$$\n",
    "P(X \\le c) \\le \\min_{t > 0} \\frac{M_X(-t)}{e^{-tc}}\n",
    "$$"
   ]
  },
  {
   "cell_type": "markdown",
   "metadata": {},
   "source": [
    "### Sums of Independent Random Variables ###\n",
    "The Chernoff bound is often applied to sums of independent random variables. Let $X_1, X_2, \\ldots, X_n$ be independent and let $S_n = X_1 + X_2 + \\ldots + X_n$. Fix any number $c$. For every $t > 0$,\n",
    "\n",
    "$$\n",
    "P(S_n \\ge c) \\le \\frac{M_{S_n}(t)}{e^{tc}} = \\frac{\\prod_{i=1}^n M_{X_i}(t)}{e^{tc}}\n",
    "$$\n",
    "\n",
    "This result is useful for finding bounds on binomial tails because the moment generating function of a Bernoulli random variable has a straightforward form. It is also used for bounding tails of sums of independent indicators with possibly different success probabilities. We will leave all this for a subsequent course."
   ]
  },
  {
   "cell_type": "code",
   "execution_count": null,
   "metadata": {},
   "outputs": [],
   "source": []
  }
 ],
 "metadata": {
  "anaconda-cloud": {},
  "celltoolbar": "Tags",
  "kernelspec": {
   "display_name": "Python 3",
   "language": "python",
   "name": "python3"
  },
  "language_info": {
   "codemirror_mode": {
    "name": "ipython",
    "version": 3
   },
   "file_extension": ".py",
   "mimetype": "text/x-python",
   "name": "python",
   "nbconvert_exporter": "python",
   "pygments_lexer": "ipython3",
   "version": "3.8.10"
  }
 },
 "nbformat": 4,
 "nbformat_minor": 1
}