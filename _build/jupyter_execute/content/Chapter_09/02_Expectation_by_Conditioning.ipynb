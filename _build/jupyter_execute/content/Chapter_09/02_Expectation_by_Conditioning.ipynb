{
 "cells": [
  {
   "cell_type": "code",
   "execution_count": 1,
   "metadata": {
    "tags": [
     "remove_cell"
    ]
   },
   "outputs": [],
   "source": [
    "# HIDDEN\n",
    "import warnings\n",
    "warnings.filterwarnings('ignore')\n",
    "from datascience import *\n",
    "from prob140 import *\n",
    "import numpy as np\n",
    "from myst_nb import glue\n",
    "import matplotlib.pyplot as plt\n",
    "plt.style.use('fivethirtyeight')\n",
    "%matplotlib inline"
   ]
  },
  {
   "cell_type": "markdown",
   "metadata": {},
   "source": [
    "## Expectation by Conditioning ##"
   ]
  },
  {
   "cell_type": "markdown",
   "metadata": {},
   "source": [
    "Let $T$ be a random variable, and let $S$ be a random variable defined on the same space as $T$. As we have seen, conditioning on $S$ might be a good way to find probabilities for $T$ if $S$ and $T$ are related. In this section we will see that conditioning on $S$ can also be a good way to find the expectation of $T$.\n",
    "\n",
    "We will start with a simple example to illustrate the ideas. "
   ]
  },
  {
   "cell_type": "code",
   "execution_count": 2,
   "metadata": {
    "tags": [
     "remove-cell"
    ]
   },
   "outputs": [
    {
     "data": {
      "image/jpeg": "[encoded data removed]",
      "text/html": [
       "\n",
       "        <iframe\n",
       "            width=\"400\"\n",
       "            height=\"300\"\n",
       "            src=\"https://www.youtube.com/embed/GrM0Ve-a010\"\n",
       "            frameborder=\"0\"\n",
       "            allowfullscreen\n",
       "            \n",
       "        ></iframe>\n",
       "        "
      ],
      "text/plain": [
       "<IPython.lib.display.YouTubeVideo at 0x16a8039b0>"
      ]
     },
     "metadata": {
      "scrapbook": {
       "mime_prefix": "",
       "name": "vid_exp_by_cond"
      }
     },
     "output_type": "display_data"
    }
   ],
   "source": [
    "# VIDEO: Expectation by Conditioning\n",
    "from IPython.display import YouTubeVideo\n",
    "\n",
    "vid_exp_by_cond = YouTubeVideo('GrM0Ve-a010')\n",
    "glue(\"vid_exp_by_cond\", vid_exp_by_cond)"
   ]
  },
  {
   "cell_type": "markdown",
   "metadata": {},
   "source": [
    "```{dropdown} See More\n",
    ":icon: video\n",
    "{glue:}`vid_exp_by_cond`\n",
    "```"
   ]
  },
  {
   "cell_type": "markdown",
   "metadata": {},
   "source": [
    "Let the joint distribution of $T$ and $S$ be as in the table below."
   ]
  },
  {
   "cell_type": "code",
   "execution_count": 3,
   "metadata": {},
   "outputs": [
    {
     "data": {
      "text/html": [
       "<div>\n",
       "<style scoped>\n",
       "    .dataframe tbody tr th:only-of-type {\n",
       "        vertical-align: middle;\n",
       "    }\n",
       "\n",
       "    .dataframe tbody tr th {\n",
       "        vertical-align: top;\n",
       "    }\n",
       "\n",
       "    .dataframe thead th {\n",
       "        text-align: right;\n",
       "    }\n",
       "</style>\n",
       "<table border=\"1\" class=\"dataframe\">\n",
       "  <thead>\n",
       "    <tr style=\"text-align: right;\">\n",
       "      <th></th>\n",
       "      <th>T=3</th>\n",
       "      <th>T=4</th>\n",
       "    </tr>\n",
       "  </thead>\n",
       "  <tbody>\n",
       "    <tr>\n",
       "      <th>S=7</th>\n",
       "      <td>0.3</td>\n",
       "      <td>0.1</td>\n",
       "    </tr>\n",
       "    <tr>\n",
       "      <th>S=6</th>\n",
       "      <td>0.2</td>\n",
       "      <td>0.2</td>\n",
       "    </tr>\n",
       "    <tr>\n",
       "      <th>S=5</th>\n",
       "      <td>0.1</td>\n",
       "      <td>0.1</td>\n",
       "    </tr>\n",
       "  </tbody>\n",
       "</table>\n",
       "</div>"
      ],
      "text/plain": [
       "     T=3  T=4\n",
       "S=7  0.3  0.1\n",
       "S=6  0.2  0.2\n",
       "S=5  0.1  0.1"
      ]
     },
     "execution_count": 3,
     "metadata": {},
     "output_type": "execute_result"
    }
   ],
   "source": [
    "t = [3, 4]\n",
    "s = [5, 6, 7]\n",
    "pp = [0.1, 0.2, 0.3, 0.1, 0.2, 0.1]\n",
    "jt_dist = Table().values('T', t, 'S', s).probabilities(pp)\n",
    "jt_dist"
   ]
  },
  {
   "cell_type": "markdown",
   "metadata": {},
   "source": [
    "How can $S$ be involved in the calculation of $E(T)$? \n",
    "\n",
    "Notice that to find $E(T)$, you could use the joint distribution table and the definition of expectation as follows:"
   ]
  },
  {
   "cell_type": "code",
   "execution_count": 4,
   "metadata": {},
   "outputs": [
    {
     "data": {
      "text/plain": [
       "3.4"
      ]
     },
     "execution_count": 4,
     "metadata": {},
     "output_type": "execute_result"
    }
   ],
   "source": [
    "3*(0.3 + 0.2 + 0.1) + 4*(0.1 + 0.2 + 0.1) "
   ]
  },
  {
   "cell_type": "markdown",
   "metadata": {},
   "source": [
    "This is equivalent to going to each cell of the table, weighting the value of $T$ in that cell with the probability in the cell, and then adding. Here's another way of looking at this.\n",
    "\n",
    "Let's condition on $S$:"
   ]
  },
  {
   "cell_type": "code",
   "execution_count": 5,
   "metadata": {},
   "outputs": [
    {
     "data": {
      "text/html": [
       "<div>\n",
       "<style scoped>\n",
       "    .dataframe tbody tr th:only-of-type {\n",
       "        vertical-align: middle;\n",
       "    }\n",
       "\n",
       "    .dataframe tbody tr th {\n",
       "        vertical-align: top;\n",
       "    }\n",
       "\n",
       "    .dataframe thead th {\n",
       "        text-align: right;\n",
       "    }\n",
       "</style>\n",
       "<table border=\"1\" class=\"dataframe\">\n",
       "  <thead>\n",
       "    <tr style=\"text-align: right;\">\n",
       "      <th></th>\n",
       "      <th>T=3</th>\n",
       "      <th>T=4</th>\n",
       "      <th>Sum</th>\n",
       "    </tr>\n",
       "  </thead>\n",
       "  <tbody>\n",
       "    <tr>\n",
       "      <th>Dist. of T | S=7</th>\n",
       "      <td>0.75</td>\n",
       "      <td>0.25</td>\n",
       "      <td>1.0</td>\n",
       "    </tr>\n",
       "    <tr>\n",
       "      <th>Dist. of T | S=6</th>\n",
       "      <td>0.50</td>\n",
       "      <td>0.50</td>\n",
       "      <td>1.0</td>\n",
       "    </tr>\n",
       "    <tr>\n",
       "      <th>Dist. of T | S=5</th>\n",
       "      <td>0.50</td>\n",
       "      <td>0.50</td>\n",
       "      <td>1.0</td>\n",
       "    </tr>\n",
       "    <tr>\n",
       "      <th>Marginal of T</th>\n",
       "      <td>0.60</td>\n",
       "      <td>0.40</td>\n",
       "      <td>1.0</td>\n",
       "    </tr>\n",
       "  </tbody>\n",
       "</table>\n",
       "</div>"
      ],
      "text/plain": [
       "                   T=3   T=4  Sum\n",
       "Dist. of T | S=7  0.75  0.25  1.0\n",
       "Dist. of T | S=6  0.50  0.50  1.0\n",
       "Dist. of T | S=5  0.50  0.50  1.0\n",
       "Marginal of T     0.60  0.40  1.0"
      ]
     },
     "execution_count": 5,
     "metadata": {},
     "output_type": "execute_result"
    }
   ],
   "source": [
    "jt_dist.conditional_dist('T', 'S')"
   ]
  },
  {
   "cell_type": "markdown",
   "metadata": {},
   "source": [
    "Each of the three conditional distributions is a distribution in its own right. Therefore its histogram has a balance point, just as the marginal distribution of $T$ does."
   ]
  },
  {
   "cell_type": "code",
   "execution_count": 6,
   "metadata": {},
   "outputs": [
    {
     "data": {
      "text/html": [
       "<div>\n",
       "<style scoped>\n",
       "    .dataframe tbody tr th:only-of-type {\n",
       "        vertical-align: middle;\n",
       "    }\n",
       "\n",
       "    .dataframe tbody tr th {\n",
       "        vertical-align: top;\n",
       "    }\n",
       "\n",
       "    .dataframe thead th {\n",
       "        text-align: right;\n",
       "    }\n",
       "</style>\n",
       "<table border=\"1\" class=\"dataframe\">\n",
       "  <thead>\n",
       "    <tr style=\"text-align: right;\">\n",
       "      <th></th>\n",
       "      <th>T=3</th>\n",
       "      <th>T=4</th>\n",
       "      <th>Sum</th>\n",
       "      <th>EV</th>\n",
       "    </tr>\n",
       "  </thead>\n",
       "  <tbody>\n",
       "    <tr>\n",
       "      <th>Dist. of T | S=7</th>\n",
       "      <td>0.75</td>\n",
       "      <td>0.25</td>\n",
       "      <td>1.0</td>\n",
       "      <td>3.25</td>\n",
       "    </tr>\n",
       "    <tr>\n",
       "      <th>Dist. of T | S=6</th>\n",
       "      <td>0.50</td>\n",
       "      <td>0.50</td>\n",
       "      <td>1.0</td>\n",
       "      <td>3.50</td>\n",
       "    </tr>\n",
       "    <tr>\n",
       "      <th>Dist. of T | S=5</th>\n",
       "      <td>0.50</td>\n",
       "      <td>0.50</td>\n",
       "      <td>1.0</td>\n",
       "      <td>3.50</td>\n",
       "    </tr>\n",
       "    <tr>\n",
       "      <th>Marginal of T</th>\n",
       "      <td>0.60</td>\n",
       "      <td>0.40</td>\n",
       "      <td>1.0</td>\n",
       "      <td>3.40</td>\n",
       "    </tr>\n",
       "  </tbody>\n",
       "</table>\n",
       "</div>"
      ],
      "text/plain": [
       "                   T=3   T=4  Sum    EV\n",
       "Dist. of T | S=7  0.75  0.25  1.0  3.25\n",
       "Dist. of T | S=6  0.50  0.50  1.0  3.50\n",
       "Dist. of T | S=5  0.50  0.50  1.0  3.50\n",
       "Marginal of T     0.60  0.40  1.0  3.40"
      ]
     },
     "execution_count": 6,
     "metadata": {},
     "output_type": "execute_result"
    }
   ],
   "source": [
    "jt_dist.conditional_dist('T', 'S', show_ev=True)"
   ]
  },
  {
   "cell_type": "markdown",
   "metadata": {},
   "source": [
    "You can see $E(T) = 3.4$ in the row corresponding to the distribution of $T$. And you can also see the *conditional expectation of $T$* given each possible value of $S$:\n",
    "- $~E(T \\mid S=5) = 3.5$\n",
    "- $~E(T \\mid S=6) = 3.5$\n",
    "- $~E(T \\mid S=7) = 3.25$\n",
    "\n",
    "This defines a *function of $S$*: for each value $s$ of $S$, the function returns $E(T \\mid S=s)$."
   ]
  },
  {
   "cell_type": "code",
   "execution_count": 7,
   "metadata": {},
   "outputs": [
    {
     "data": {
      "text/html": [
       "<table border=\"1\" class=\"dataframe\">\n",
       "    <thead>\n",
       "        <tr>\n",
       "            <th>s</th> <th>E(T | S = s)</th> <th>P(S = s)</th>\n",
       "        </tr>\n",
       "    </thead>\n",
       "    <tbody>\n",
       "        <tr>\n",
       "            <td>5   </td> <td>3.5         </td> <td>0.2     </td>\n",
       "        </tr>\n",
       "        <tr>\n",
       "            <td>6   </td> <td>3.5         </td> <td>0.4     </td>\n",
       "        </tr>\n",
       "        <tr>\n",
       "            <td>7   </td> <td>3.25        </td> <td>0.4     </td>\n",
       "        </tr>\n",
       "    </tbody>\n",
       "</table>"
      ],
      "text/plain": [
       "s    | E(T | S = s) | P(S = s)\n",
       "5    | 3.5          | 0.2\n",
       "6    | 3.5          | 0.4\n",
       "7    | 3.25         | 0.4"
      ]
     },
     "execution_count": 7,
     "metadata": {},
     "output_type": "execute_result"
    }
   ],
   "source": [
    "ev_T_given_S = Table().with_columns(\n",
    "    's', s,\n",
    "    'E(T | S = s)', [3.5, 3.5, 3.25],\n",
    "    'P(S = s)', [0.2, 0.4, 0.4]\n",
    ")\n",
    "ev_T_given_S"
   ]
  },
  {
   "cell_type": "markdown",
   "metadata": {},
   "source": [
    "This function of $S$ is called the *conditional expectation of $T$ given $S$* and is denoted $E(T \\mid S)$. Unlike expectation which is a number, conditional expectation is a random variable.\n",
    "\n",
    "As it's a random variable, it has an expectation, which we can calculate using the non-linear function rule. The answer is a quantity that you will recognize."
   ]
  },
  {
   "cell_type": "code",
   "execution_count": 8,
   "metadata": {},
   "outputs": [
    {
     "data": {
      "text/plain": [
       "3.4000000000000004"
      ]
     },
     "execution_count": 8,
     "metadata": {},
     "output_type": "execute_result"
    }
   ],
   "source": [
    "ev = sum(ev_T_given_S.column('E(T | S = s)')*ev_T_given_S.column('P(S = s)'))\n",
    "ev"
   ]
  },
  {
   "cell_type": "markdown",
   "metadata": {},
   "source": [
    "That's right: it's the expectation of $T$.\n",
    "\n",
    "What we have learned from this is that $E(T)$ is the *average of the conditional expectations of $T$ given the different values of $S$, weighted by the probabilities of those values*. \n",
    "\n",
    "In short, $E(T)$ is the *expectation of the conditional expectation of $T$ given $S$*."
   ]
  },
  {
   "cell_type": "markdown",
   "metadata": {},
   "source": [
    "### Conditional Expectation as a Random Variable ###\n",
    "In general, suppose $T$ and $S$ are two random variables on a probability space.\n",
    "\n",
    "Then for each fixed value of $s$, $T$ has a conditional distribution given $S=s$. This is an ordinary distribution and has an expectation. That is called the *conditional expectation of  $T$ given $S=s$* and is denoted $E(T \\mid S = s)$. \n",
    "\n",
    "So for each $s$, there is a value $E(T \\mid S=s)$. This defines a function of the random variable $S$. It is called the *conditional expectation of $T$ given $S$*, and is denoted $E(T \\mid S)$.\n",
    "\n",
    "The key difference between expectation and conditional expectation:\n",
    "\n",
    "- $E(T)$, the expectation of $T$, is a real number.\n",
    "- $E(T \\mid S)$, the conditional expectation of $T$ given $S$, is a function of $S$ and hence is a random variable."
   ]
  },
  {
   "cell_type": "markdown",
   "metadata": {},
   "source": [
    "```{admonition} Quick Check\n",
    "A class has three sections. \n",
    "<UL>\n",
    "<LI>Section 1 has 20 students with a midterm average of 75.\n",
    "<LI>Section 2 has 35 students with a midterm average of 70.\n",
    "<LI>Section 3 has 25 students with a midterm average of 85.\n",
    "\n",
    "A student is picked at random from the class. Let $S$ be the student's section number. For example, $\\{ S=1 \\}$ is the event that the student is in Section 1. Let $T$ be the student's midterm score. Draw a distribution table for $E(T \\mid S)$.\n",
    "\n",
    "```"
   ]
  },
  {
   "cell_type": "markdown",
   "metadata": {},
   "source": [
    "```{admonition} Answer\n",
    ":class: dropdown\n",
    "The possible values of $S$ are $s=1, 2, 3$. The corresponding possible values and probabilities of $E(T \\mid S)$ are\n",
    "\n",
    "|$E(T \\mid S=s)$|$75$|$70$|$85$|\n",
    "|---:|:---:|:---:|:---:|\n",
    "|$P(S=s)$|$\\frac{20}{80}$|$\\frac{35}{80}$|$\\frac{25}{80}$|\n",
    "\n",
    "```"
   ]
  },
  {
   "cell_type": "code",
   "execution_count": 9,
   "metadata": {
    "tags": [
     "remove-cell"
    ]
   },
   "outputs": [
    {
     "data": {
      "image/jpeg": "[encoded data removed]",
      "text/html": [
       "\n",
       "        <iframe\n",
       "            width=\"400\"\n",
       "            height=\"300\"\n",
       "            src=\"https://www.youtube.com/embed/k0CaLXwRCz0\"\n",
       "            frameborder=\"0\"\n",
       "            allowfullscreen\n",
       "            \n",
       "        ></iframe>\n",
       "        "
      ],
      "text/plain": [
       "<IPython.lib.display.YouTubeVideo at 0x17df12ed0>"
      ]
     },
     "metadata": {
      "scrapbook": {
       "mime_prefix": "",
       "name": "vid_cond_exp"
      }
     },
     "output_type": "display_data"
    }
   ],
   "source": [
    "# VIDEO: Conditional Expectation\n",
    "vid_cond_exp = YouTubeVideo('k0CaLXwRCz0')\n",
    "glue(\"vid_cond_exp\", vid_cond_exp)"
   ]
  },
  {
   "cell_type": "markdown",
   "metadata": {},
   "source": [
    "```{dropdown} See More\n",
    ":icon: video\n",
    "{glue:}`vid_cond_exp`\n",
    "```"
   ]
  },
  {
   "cell_type": "markdown",
   "metadata": {},
   "source": [
    "Since $E(T \\mid S)$ is a random variable, it has an expectation. That expectation is equal to $E(T)$. We observed this in an example; now here is a proof."
   ]
  },
  {
   "cell_type": "markdown",
   "metadata": {},
   "source": [
    "### Iterated Expectations ###\n",
    "Suppose we want the expectation of a random variable, and suppose it is easy for us to say what that expectation would be if we were given the value of a related random variable. The rule of *iterated expectations* says that we can find that conditional expectation first, and take its expectation to get our answer.\n",
    "\n",
    "Formally, let $S$ and $T$ be two random variables on the same space. Then $E(T) = E(E(T \\mid S))$.\n",
    "\n",
    "Proof:\n",
    "\n",
    "$$\n",
    "\\begin{align*}\n",
    "E(T) &= \\sum_{\\text{all }t} tP(T=t) \\\\ \\\\\n",
    "&= \\sum_{\\text{all }t} t \\sum_{\\text{all }s} P(S=s, T=t) \\\\ \\\\\n",
    "&= \\sum_{\\text{all }t} t \\sum_{\\text{all }s} P(S=s)P(T=t \\mid S=s) \\\\ \\\\\n",
    "&= \\sum_{\\text{all }s} \\Big{(} \\sum_{\\text{all }t} tP(T=t \\mid S=s) \\Big{)} P(S=s) \\\\ \\\\\n",
    "&= \\sum_{\\text{all }s} E(T \\mid S=s)P(S=s) \\\\ \\\\\n",
    "&= E(E(T \\mid S))\n",
    "\\end{align*}\n",
    "$$"
   ]
  },
  {
   "cell_type": "markdown",
   "metadata": {},
   "source": [
    "```{admonition} Quick Check\n",
    "A bag has three fair coins, five coins that land heads with chance $1/4$, and two coins that land heads with chance $2/3$. A coin is picked at random and tossed 10 times. Find the expected number of heads.\n",
    "\n",
    "```"
   ]
  },
  {
   "cell_type": "markdown",
   "metadata": {},
   "source": [
    "```{admonition} Answer\n",
    ":class: dropdown\n",
    "$(10\\cdot\\frac{1}{2})0.3 + (10\\cdot\\frac{1}{4})0.5 + (10\\cdot\\frac{2}{3})0.2$\n",
    "\n",
    "```"
   ]
  },
  {
   "cell_type": "markdown",
   "metadata": {},
   "source": [
    "### Example: Random Sums ###\n",
    "Let $X_1, X_2, \\ldots$ be i.i.d. and let $E(X_1) = \\mu_X$. Let $N$ be a non-negative integer valued random variable that is independent of the sequence of $X$'s and let $E(N) = \\mu_N$. \n",
    "\n",
    "Define the *random sum* $S$ to be\n",
    "\n",
    "$$\n",
    "S = X_1 + X_2 + \\ldots + X_N\n",
    "$$\n",
    "\n",
    "where $S = 0$ if $N=0$.\n",
    "\n",
    "Notice that $S$ is the sum of a random number of terms.\n",
    "\n",
    "**Question:** What is $E(S)$?\n",
    "\n",
    "**Answer:** If $N$ were the constant 10, then the answer would be $10\\mu_X$. This is our signal to condition on $N$. Here are the steps to follow.\n",
    "- First condition on a fixed value of $N$. Given $N=n$, $S$ is the sum of $n$ i.i.d. terms. Hence \n",
    "\n",
    "$$\n",
    "E(S \\mid N=n) = n\\mu_X\n",
    "$$ \n",
    "\n",
    "This is an equality of real numbers. Note that it is true for all $n$, including 0.\n",
    "- Next write the conditional expectation in random variable notation.\n",
    "\n",
    "$$\n",
    "E(S \\mid N) = N\\mu_X\n",
    "$$\n",
    "\n",
    "This is an equality of random variables.\n",
    "- Now use iterated expectations.\n",
    "\n",
    "$$\n",
    "E(S) = E(E(S \\mid N)) = E(N\\mu_X) = E(N)\\mu_X = \\mu_N\\mu_X\n",
    "$$\n",
    "\n",
    "This is a natural answer. It is the expected number of terms being added times the expected size of each of those terms.\n",
    "\n",
    "This is an important point to note about calculating expectations by conditioning. The natural answer is often correct."
   ]
  },
  {
   "cell_type": "markdown",
   "metadata": {},
   "source": [
    "### Example: Population Size in a Branching Process ###\n",
    "In a *Galton-Watson branching process*, each individual has a random number of progeny. Assume that the numbers of progeny of the different indviduals are i.i.d. with mean $\\mu$. Suppose the process starts with one individual in Generation 0. \n",
    "\n",
    "**Question:** Assuming that there are no deaths, what is the expected total number of individuals in Generations 0 through $n$?\n",
    "\n",
    "**Answer:** Let $T_k$ be the number of individuals born in Generation $k$. We are assuming $T_0 = 1$. By the example above, for each $k > 1$,\n",
    "\n",
    "$$\n",
    "E(T_k) = E(T_{k-1})\\mu\n",
    "$$\n",
    "\n",
    "So by induction, for each $k > 1$ the expected number of people in Generation $k$ is\n",
    "\n",
    "$$\n",
    "E(T_k) = \\mu^k\n",
    "$$\n",
    "\n",
    "Indeed, the result is true for $k=0$ as well. So the expected total number of people through Generation $n$ is\n",
    "\n",
    "$$\n",
    "\\begin{equation}\n",
    "\\sum_{k=0}^n \\mu^k = \n",
    " \\begin{cases} \n",
    "      n & \\text{if } \\mu = 1 \\\\\n",
    "      \\frac{1 - \\mu^{n+1}}{1 - \\mu} = \\frac{\\mu^{n+1} - 1}{\\mu - 1} & \\text{if } \\mu \\ne 1\n",
    "   \\end{cases}\n",
    "\\end{equation}\n",
    "$$\n",
    " \n",
    "The value of $\\mu$, the expected number of progeny of a single individual, determines how this expected total behaves as $n$ gets large. Even with no deaths, if $\\mu < 1$ the expected population size tends to a positive constant as $n \\to \\infty$. But if $\\mu \\ge 1$ then the expected population size explodes.\n",
    "\n",
    "This is closely related to the $R_0$ value you might have read about in the context of the Covid-19 pandemic. $R_0$ is notation for the average number of people infected by a single individual, and is the equivalent of $\\mu$ in our example. The assumptions of the Covid-19 models are more complex than ours, but the conclusion is the same: for the epidemic to be under control, $R_0$ has to be below 1."
   ]
  },
  {
   "cell_type": "markdown",
   "metadata": {},
   "source": [
    "### Other Properties of Conditional Expectation ###\n",
    "The most important property of conditional expectation is the iteration that we have studied in this section. But conditional expectation has other properties that are analogous to those of expectation. **They are now expressed as equalities of random variables instead of equalities of real numbers.**\n",
    "\n",
    "Go through the list and notice that all the moves you'd naturally want to make are justified. The proofs are routine; we won't go through them.\n",
    "- **Additivity.** $~E(T+U \\mid S) = E(T \\mid S) + E(U \\mid S)$\n",
    "- **Linear Transformation.** $~E(aT+b \\mid S) = aE(T \\mid S) + b$\n",
    "\n",
    "Two more properties formalize the idea that the variable that is given can be treated as a constant in conditional expectations.\n",
    "- **\"Constant\"**: Let $g$ be a function. Then $E(g(S) \\mid S) = g(S)$.\n",
    "- **\"Pulling out a Constant\"**: $~E(g(S)T \\mid S) = g(S)E(T \\mid S)$.\n",
    "\n",
    "For example,\n",
    "\n",
    "$$\n",
    "E(3ST + \\log(S)U + 7 \\mid S) = 3SE(T \\mid S) + \\log(S)E(U \\mid S) + 7\n",
    "$$\n",
    "\n",
    "though we sincerely hope you won't encounter a random variable as bizarre as this."
   ]
  },
  {
   "cell_type": "code",
   "execution_count": null,
   "metadata": {},
   "outputs": [],
   "source": []
  }
 ],
 "metadata": {
  "anaconda-cloud": {},
  "celltoolbar": "Tags",
  "kernelspec": {
   "display_name": "Python 3",
   "language": "python",
   "name": "python3"
  },
  "language_info": {
   "codemirror_mode": {
    "name": "ipython",
    "version": 3
   },
   "file_extension": ".py",
   "mimetype": "text/x-python",
   "name": "python",
   "nbconvert_exporter": "python",
   "pygments_lexer": "ipython3",
   "version": "3.12.1"
  }
 },
 "nbformat": 4,
 "nbformat_minor": 1
}