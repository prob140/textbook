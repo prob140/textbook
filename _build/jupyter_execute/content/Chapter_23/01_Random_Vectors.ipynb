{
 "cells": [
  {
   "cell_type": "code",
   "execution_count": 1,
   "metadata": {
    "tags": [
     "remove_cell"
    ]
   },
   "outputs": [],
   "source": [
    "# HIDDEN\n",
    "import warnings\n",
    "warnings.filterwarnings('ignore')\n",
    "from datascience import *\n",
    "from prob140 import *\n",
    "import numpy as np\n",
    "import matplotlib.pyplot as plt\n",
    "plt.style.use('fivethirtyeight')\n",
    "%matplotlib inline\n",
    "from scipy import stats\n",
    "from myst_nb import glue"
   ]
  },
  {
   "cell_type": "markdown",
   "metadata": {},
   "source": [
    "## Random Vectors ##"
   ]
  },
  {
   "cell_type": "markdown",
   "metadata": {},
   "source": [
    "Vectors and matrices give us a compact way of referring to random sequences like $X_1, X_2, \\ldots, X_n$. The algebra of vectors and matrices gives us powerful tools for studying linear combinations of random variables.\n",
    "\n",
    "In this section we will develop matrix notation for random sequences and then express familiar consequences of linearity of expectation and bilinearity of covariance in matrix notation. The probability theory in this section is not new – it consists of expectation and covariance facts that you have known for some time. But the representation is new and leads us to new insights."
   ]
  },
  {
   "cell_type": "markdown",
   "metadata": {},
   "source": [
    "A *vector valued random variable*, or more simply, a *random vector*, is a list of random variables defined on the same space. We will think of it as an $n \\times 1$ column vector.\n",
    "\n",
    "$$\n",
    "\\mathbf{X} ~ = ~ \n",
    "\\begin{bmatrix}\n",
    "X_1 \\\\\n",
    "X_2 \\\\\n",
    "\\vdots \\\\\n",
    "X_n\n",
    "\\end{bmatrix}\n",
    "$$"
   ]
  },
  {
   "cell_type": "markdown",
   "metadata": {},
   "source": [
    "For ease of display, we will sometimes write $\\mathbf{X} = [X_1 X_2 \\ldots X_n]^T$ where $\\mathbf{M}^T$ is notation for the transpose of the matrix $\\mathbf{M}$."
   ]
  },
  {
   "cell_type": "markdown",
   "metadata": {},
   "source": [
    "The *mean vector* of $\\mathbf{X}$ is $\\boldsymbol{\\mu} = [\\mu_1 ~ \\mu_2 ~ \\ldots ~ \\mu_n]^T$ where $\\mu_i = E(X_i)$."
   ]
  },
  {
   "cell_type": "markdown",
   "metadata": {},
   "source": [
    "The *covariance matrix* of $\\mathbf{X}$ is the $n \\times n$ matrix $\\boldsymbol{\\Sigma}$ whose $(i, j)$ element is $Cov(X_i, X_j)$. \n",
    "\n",
    "The $i$th diagonal element of $\\boldsymbol{\\Sigma}$ is the variance of $X_i$. The matrix is symmetric because of the symmetry of covariance."
   ]
  },
  {
   "cell_type": "markdown",
   "metadata": {},
   "source": [
    "```{admonition} Quick Check\n",
    "A random vector $\\begin{bmatrix} X \\\\ Y \\end{bmatrix}$ has mean vector $\\begin{bmatrix} 0 \\\\ 0 \\end{bmatrix}$ and covariance matrix $\\begin{bmatrix} 1 & 2.4 \\\\ ? & 9\\end{bmatrix}$.\n",
    "\n",
    "Which (if any) of $X$ and $Y$ are in standard units? Pick one option.\n",
    "\n",
    "(i) Only $X$\n",
    "\n",
    "(ii) Only $Y$\n",
    "\n",
    "(iii) Both $X$ and $Y$\n",
    "\n",
    "(iv) Neither $X$ nor $Y$\n",
    "\n",
    "(v) There is not enough information to answer.\n",
    "\n",
    "```"
   ]
  },
  {
   "cell_type": "markdown",
   "metadata": {},
   "source": [
    "```{admonition} Answer\n",
    ":class: dropdown\n",
    "(i)\n",
    "\n",
    "```"
   ]
  },
  {
   "cell_type": "markdown",
   "metadata": {},
   "source": [
    "```{admonition} Quick Check\n",
    "(Continuing the Quick Check above) Fill in the ? in the covariance matrix.\n",
    "\n",
    "```"
   ]
  },
  {
   "cell_type": "markdown",
   "metadata": {},
   "source": [
    "```{admonition} Answer\n",
    ":class: dropdown\n",
    "$2.4$\n",
    "\n",
    "```"
   ]
  },
  {
   "cell_type": "markdown",
   "metadata": {},
   "source": [
    "```{admonition} Quick Check\n",
    "(Continuing the Quick Check above) Find the correlation between $X$ and $Y$.\n",
    "\n",
    "```"
   ]
  },
  {
   "cell_type": "markdown",
   "metadata": {},
   "source": [
    "```{admonition} Answer\n",
    ":class: dropdown\n",
    "$0.8$\n",
    "\n",
    "```"
   ]
  },
  {
   "cell_type": "code",
   "execution_count": 2,
   "metadata": {
    "tags": [
     "remove-cell"
    ]
   },
   "outputs": [
    {
     "data": {
      "image/jpeg": "[encoded data removed]",
      "text/html": [
       "\n",
       "        <iframe\n",
       "            width=\"400\"\n",
       "            height=\"300\"\n",
       "            src=\"https://www.youtube.com/embed/yE1FWjup0WE\"\n",
       "            frameborder=\"0\"\n",
       "            allowfullscreen\n",
       "            \n",
       "        ></iframe>\n",
       "        "
      ],
      "text/plain": [
       "<IPython.lib.display.YouTubeVideo at 0x17d81e510>"
      ]
     },
     "metadata": {
      "scrapbook": {
       "mime_prefix": "",
       "name": "vid_lt_vec"
      }
     },
     "output_type": "display_data"
    }
   ],
   "source": [
    "# VIDEO: Linear Transformation\n",
    "from IPython.display import YouTubeVideo\n",
    "\n",
    "vid_lt_vec = YouTubeVideo('yE1FWjup0WE')\n",
    "glue(\"vid_lt_vec\", vid_lt_vec)"
   ]
  },
  {
   "cell_type": "markdown",
   "metadata": {},
   "source": [
    "```{dropdown} See More\n",
    ":icon: video\n",
    "{glue:}`vid_lt_vec`\n",
    "```"
   ]
  },
  {
   "cell_type": "markdown",
   "metadata": {
    "collapsed": true,
    "jupyter": {
     "outputs_hidden": true
    }
   },
   "source": [
    "### Linear Transformation: Mean Vector ###\n",
    "Let $\\mathbf{A}$ be an $m \\times n$ numerical matrix and $\\mathbf{b}$ an $m \\times 1$ numerical vector. Consider the $m \\times 1$ random vector  $\\mathbf{Y} = \\mathbf{AX} + \\mathbf{b}$. \n",
    "\n",
    "We will call this a \"linear transformation\" of $\\mathbf{X}$ though in fact it is an *affine* transformation, that is, a composition of the linear transformation $\\mathbf{AX}$ and the translation by $\\mathbf{b}$.\n",
    "\n",
    "This representation gives us a compact way to describe multiple linear combinations of $\\mathbf{X}$ simultaneously. For example, if $\\mathbf{b} = [0 ~~ 0 ~~ 0]^T$ and \n",
    "\n",
    "$$\n",
    "\\mathbf{A} ~ = ~ \n",
    "\\begin{bmatrix}\n",
    "1 & 0 & 0 & 0 & \\cdots & 0 \\\\\n",
    "1 & -1 & 0 & 0 & \\cdots & 0 \\\\\n",
    "\\frac{1}{n} & \\frac{1}{n} & \\frac{1}{n} & \\frac{1}{n} & \\cdots & \\frac{1}{n} \n",
    "\\end{bmatrix}\n",
    "$$\n",
    "\n",
    "then\n",
    "\n",
    "$$\n",
    "\\mathbf{AX} + \\mathbf{b} ~ = ~ \n",
    "\\begin{bmatrix}\n",
    "X_1 \\\\\n",
    "X_1 - X_2 \\\\\n",
    "\\bar{X}_n \n",
    "\\end{bmatrix}\n",
    "$$\n",
    "\n",
    "In general, if $\\mathbf{Y} = \\mathbf{AX} + \\mathbf{b}$ then the $i$th element of $\\mathbf{Y}$ is \n",
    "\n",
    "$$\n",
    "Y_i ~ = ~ \\mathbf{A}_{i*}\\mathbf{X} + \\mathbf{b}(i)\n",
    "$$ \n",
    "\n",
    "where $\\mathbf{A}_{i*}$ denotes the $i$th row of $\\mathbf{A}$ and $\\mathbf{b}(i)$ denotes the $i$th element of $\\mathbf{b}$. Written longhand,\n",
    "\n",
    "$$\n",
    "Y_i ~ = ~ a_{i1}X_1 + a_{i2}X_2 + \\cdots + a_{in}X_n + b_i\n",
    "$$\n",
    "\n",
    "where $a_{ij}$ is the $(i, j)$ entry of $\\mathbf{A}$ and $b_i = \\mathbf{b}(i)$.\n",
    "\n",
    "Thus $Y_i$ is a linear combination of the elements of $\\mathbf{X}$. Therefore by linearity of expectation,\n",
    "\n",
    "$$\n",
    "E(Y_i) ~ = ~ \\mathbf{A}_{i*} \\boldsymbol{\\mu} + \\mathbf{b}(i)\n",
    "$$\n",
    "\n",
    "Let $\\boldsymbol{\\mu}_\\mathbf{Y}$ be the mean vector of $\\mathbf{Y}$. Then by the calculation above,\n",
    "\n",
    "$$\n",
    "\\boldsymbol{\\mu}_\\mathbf{Y} ~ = ~ \\mathbf{A} \\boldsymbol{\\mu} + \\mathbf{b}\n",
    "$$\n"
   ]
  },
  {
   "cell_type": "code",
   "execution_count": 3,
   "metadata": {
    "tags": [
     "remove-cell"
    ]
   },
   "outputs": [
    {
     "data": {
      "image/jpeg": "[encoded data removed]",
      "text/html": [
       "\n",
       "        <iframe\n",
       "            width=\"400\"\n",
       "            height=\"300\"\n",
       "            src=\"https://www.youtube.com/embed/XvQa07eQDj0\"\n",
       "            frameborder=\"0\"\n",
       "            allowfullscreen\n",
       "            \n",
       "        ></iframe>\n",
       "        "
      ],
      "text/plain": [
       "<IPython.lib.display.YouTubeVideo at 0x17dd33230>"
      ]
     },
     "metadata": {
      "scrapbook": {
       "mime_prefix": "",
       "name": "vid_cov_mat_lt"
      }
     },
     "output_type": "display_data"
    }
   ],
   "source": [
    "# VIDEO: Covariance Matrix of a Linear Transformation\n",
    "\n",
    "vid_cov_mat_lt = YouTubeVideo('XvQa07eQDj0')\n",
    "glue(\"vid_cov_mat_lt\", vid_cov_mat_lt)"
   ]
  },
  {
   "cell_type": "markdown",
   "metadata": {},
   "source": [
    "```{dropdown} See More\n",
    ":icon: video\n",
    "{glue:}`vid_cov_mat_lt`\n",
    "```"
   ]
  },
  {
   "cell_type": "markdown",
   "metadata": {},
   "source": [
    "### Linear Transformation: Covariance Matrix ###\n",
    "\n",
    "$Cov(Y_i, Y_j)$ can be calculated using bilinearity of covariance.\n",
    "\n",
    "$$\n",
    "\\begin{align*}\n",
    "Cov(Y_i, Y_j) ~ &= ~ Cov(\\mathbf{A}_{i*}\\mathbf{X}, \\mathbf{A}_{j*}\\mathbf{X}) \\\\\n",
    "&= ~ Cov\\big{(} \\sum_{k=1}^n a_{ik}X_k, \\sum_{l=1}^n a_{jl}X_l \\big{)} \\\\\n",
    "&= ~ \\sum_{k=1}^n\\sum_{l=1}^n a_{ik}a_{jl}Cov(X_k, X_l) \\\\\n",
    "&= ~ \\sum_{k=1}^n\\sum_{l=1}^n a_{ik}Cov(X_k, X_l)t_{lj} ~~~~~ \\text{where } t_{lj} = \\mathbf{A}^T(l, j) \\\\\n",
    "\\end{align*}\n",
    "$$\n",
    "\n",
    "This is the $(i, j)$ element of $\\mathbf{A}\\boldsymbol{\\Sigma}\\mathbf{A}^T$. So if $\\boldsymbol{\\Sigma}_\\mathbf{Y}$ denotes the covariance matrix of $\\mathbf{Y}$, then\n",
    "\n",
    "$$\n",
    "\\boldsymbol{\\Sigma}_\\mathbf{Y} ~ = ~ \\mathbf{A} \\boldsymbol{\\Sigma} \\mathbf{A}^T\n",
    "$$"
   ]
  },
  {
   "cell_type": "code",
   "execution_count": 4,
   "metadata": {
    "tags": [
     "remove-cell"
    ]
   },
   "outputs": [
    {
     "data": {
      "image/jpeg": "[encoded data removed]",
      "text/html": [
       "\n",
       "        <iframe\n",
       "            width=\"400\"\n",
       "            height=\"300\"\n",
       "            src=\"https://www.youtube.com/embed/75RtwtxoRLw\"\n",
       "            frameborder=\"0\"\n",
       "            allowfullscreen\n",
       "            \n",
       "        ></iframe>\n",
       "        "
      ],
      "text/plain": [
       "<IPython.lib.display.YouTubeVideo at 0x17dd33290>"
      ]
     },
     "metadata": {
      "scrapbook": {
       "mime_prefix": "",
       "name": "vid_const_cov_mat"
      }
     },
     "output_type": "display_data"
    }
   ],
   "source": [
    "# VIDEO: Constraint on Covariance Matrix\n",
    "\n",
    "vid_const_cov_mat = YouTubeVideo('75RtwtxoRLw')\n",
    "glue(\"vid_const_cov_mat\", vid_const_cov_mat)"
   ]
  },
  {
   "cell_type": "markdown",
   "metadata": {},
   "source": [
    "```{dropdown} See More\n",
    ":icon: video\n",
    "{glue:}`vid_const_cov_mat`\n",
    "```"
   ]
  },
  {
   "cell_type": "markdown",
   "metadata": {},
   "source": [
    "Let us see what this formula implies for the variance of a single component of $\\mathbf{Y}$.\n",
    "\n",
    "Any component of $\\mathbf{Y}$ is a linear combination of the elements of $\\mathbf{X}$ and hence can be written as $\\mathbf{aX}+b$ for some $1 \\times n$ vector $\\mathbf{a}$ and some real number $b$. \n",
    "\n",
    "The variance of this component of $\\mathbf{Y}$ is a diagonal element of $\\boldsymbol{\\Sigma}_\\mathbf{Y}$. By our calculation above, the diagonal element is equal to $\\mathbf{a}\\boldsymbol{\\Sigma}\\mathbf{a}^T$."
   ]
  },
  {
   "cell_type": "markdown",
   "metadata": {},
   "source": [
    "### Constraints on $\\boldsymbol{\\Sigma}$ ###\n",
    "\n",
    "We know that $\\boldsymbol{\\Sigma}$ has to be symmetric. Also, no matter what $\\mathbf{A}$ is, the elements on the main diagonal of $\\boldsymbol{\\Sigma}_\\mathbf{Y}$ must all be non-negative as they are the variances of the elements of $\\mathbf{Y}$. \n",
    "\n",
    "By the observation above, this implies\n",
    "\n",
    "$$\n",
    "\\mathbf{a} \\boldsymbol{\\Sigma} \\mathbf{a}^T ~ \\ge ~ 0 ~~~~ \\text{for all } 1\\times n \\text{ vectors } \\mathbf{a}\n",
    "$$\n",
    "\n",
    "That is, $\\boldsymbol{\\Sigma}$ must be *positive semidefinite*. \n",
    "\n",
    "Usually, we will be working with covariance matrices that are *positive definite*, defined by\n",
    "\n",
    "$$\n",
    "\\mathbf{a} \\boldsymbol{\\Sigma} \\mathbf{a}^T ~ > ~ 0 ~~~~ \\text{for all } 1\\times n \\text{ vectors } \\mathbf{a}\n",
    "$$\n",
    "\n",
    "The reason is that if $\\mathbf{a} \\boldsymbol{\\Sigma} \\mathbf{a}^T = 0$ for some $\\mathbf{a}$, then the linear transformation $\\mathbf{aX}$ has variance $0$ and hence is a constant. Hence you can write some of the elements of $\\mathbf{X}$ as linear combinations of the others and just study a reduced set of elements."
   ]
  },
  {
   "cell_type": "code",
   "execution_count": null,
   "metadata": {},
   "outputs": [],
   "source": []
  }
 ],
 "metadata": {
  "anaconda-cloud": {},
  "celltoolbar": "Tags",
  "kernelspec": {
   "display_name": "Python 3 (ipykernel)",
   "language": "python",
   "name": "python3"
  },
  "language_info": {
   "codemirror_mode": {
    "name": "ipython",
    "version": 3
   },
   "file_extension": ".py",
   "mimetype": "text/x-python",
   "name": "python",
   "nbconvert_exporter": "python",
   "pygments_lexer": "ipython3",
   "version": "3.12.1"
  }
 },
 "nbformat": 4,
 "nbformat_minor": 4
}