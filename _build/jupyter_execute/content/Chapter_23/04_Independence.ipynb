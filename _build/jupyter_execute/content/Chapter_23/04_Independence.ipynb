{
 "cells": [
  {
   "cell_type": "code",
   "execution_count": 1,
   "metadata": {
    "tags": [
     "remove_cell"
    ]
   },
   "outputs": [],
   "source": [
    "# HIDDEN\n",
    "from datascience import *\n",
    "from prob140 import *\n",
    "import numpy as np\n",
    "import matplotlib.pyplot as plt\n",
    "plt.style.use('fivethirtyeight')\n",
    "%matplotlib inline"
   ]
  },
  {
   "cell_type": "markdown",
   "metadata": {},
   "source": [
    "## Independence ##"
   ]
  },
  {
   "cell_type": "markdown",
   "metadata": {},
   "source": [
    "If the elements of $\\mathbf{X}$ are mutually independent then $Cov(X_i, X_j) = 0$ for all $i \\ne j$ and hence the covariance matrix $\\boldsymbol{\\Sigma}$ is a diagonal matrix with the $i$th diagonal element equal to $Var(X_i)$.\n",
    "\n",
    "In the other direction, zero covariance doesn't in general imply independence, and pairwise independence doesn't imply mutual independence. But once again, the multivariate normal turns out to have a wonderful property:\n",
    "\n",
    "If $\\mathbf{X}$ has a multivariate normal density and its elements are pairwise uncorrelated – that is, $Cov(X_i, X_j) = 0$ for all \n",
    "$i \\ne j$ – then the elements of $\\mathbf{X}$ are mutually independent.\n",
    "\n",
    "That is, **multivariate normal random variables are independent if and only if they are pairwise uncorrelated.**"
   ]
  },
  {
   "cell_type": "code",
   "execution_count": 2,
   "metadata": {
    "tags": [
     "remove-input",
     "hide-ouput"
    ]
   },
   "outputs": [
    {
     "data": {
      "text/html": [
       "\n",
       "<iframe\n",
       "    width=\"400\"\n",
       "    height=\"300\"\n",
       "    src=\"https://www.youtube.com/embed/sAaWBGxZYzc\"\n",
       "    frameborder=\"0\"\n",
       "    allowfullscreen\n",
       "\n",
       "></iframe>\n"
      ],
      "text/plain": [
       "<IPython.lib.display.YouTubeVideo at 0x7f8f5f4e8a30>"
      ]
     },
     "execution_count": 2,
     "metadata": {},
     "output_type": "execute_result"
    }
   ],
   "source": [
    "# VIDEO: Independence\n",
    "from IPython.display import YouTubeVideo\n",
    "\n",
    "YouTubeVideo('sAaWBGxZYzc')"
   ]
  },
  {
   "cell_type": "markdown",
   "metadata": {},
   "source": [
    "This is easy to see from the form of the density of $\\mathbf{X}$. If $\\boldsymbol{\\Sigma}$ is a diagonal matrix then so is $\\boldsymbol{\\Sigma}^{-1}$. The $i$th diagonal element of $\\boldsymbol{\\Sigma}^{-1}$ is $1/\\sigma_i^2$ where $\\sigma_i^2 = Var(X_i)$. So\n",
    "\n",
    "$$\n",
    "(\\mathbf{x} - \\boldsymbol{\\mu})\\boldsymbol{\\Sigma}^{-1} (\\mathbf{x} - \\boldsymbol{\\mu}) ~ = ~ \\sum_{i=1}^n \\frac{(x_i - \\boldsymbol{\\mu}(i))^2}{\\sigma_i^2}\n",
    "$$\n",
    "\n",
    "and therefore\n",
    "\n",
    "$$\n",
    "\\exp\\big{(} -\\frac{1}{2} (\\mathbf{x} - \\boldsymbol{\\mu})\\boldsymbol{\\Sigma}^{-1} (\\mathbf{x} - \\boldsymbol{\\mu}) \\big{)} ~ = ~ \\prod_{i=1}^n \\exp\\big{(}-\\frac{1}{2} \\big{(}\\frac{x_i - \\boldsymbol{\\mu}(i)}{\\sigma_i}\\big{)}^2\\big{)}\n",
    "$$\n",
    "\n",
    "In the constant of integration, $\\det(\\boldsymbol{\\Sigma}) = \\sigma_1^2 \\sigma_2^2 \\cdots \\sigma_n^2$.\n",
    "\n",
    "Therefore the density of $\\mathbf{X}$ is the product of the marginal normal densities.\n",
    "\n",
    "Thus for a multivariate normal random vector, \"pairwise uncorrelated\" is equivalent to \"mutually independent\" and is a much easier condition to check.\n",
    "\n",
    "The result makes it easy to see if two coordinates of a multivariate normal vector are independent. All you have to do is find the covariance between the two. If the covariance is $0$, they are independent. "
   ]
  },
  {
   "cell_type": "markdown",
   "metadata": {},
   "source": [
    "### Sum and Difference, Revisited ###\n",
    "Let $\\mathbf{X} = [X_1, X_2]^T$ have a bivariate normal distribution. Let $S = X_1 + X_2$ and $D = X_1 - X_2$. We know that $S$ and $D$ have a bivariate normal distribution and that\n",
    "\n",
    "$$\n",
    "Cov(S, D) ~ = ~ Var(X_1) - Var(X_2)\n",
    "$$\n",
    "\n",
    "If $X_1$ and $X_2$ have the same variance then $S$ and $D$ are uncorrelated, and hence also independent by what we have just proved. \n",
    "\n",
    "Thus for example the sum and difference of two i.i.d. normal random variables are independent.\n",
    "\n",
    "You have shown in exercises that the sum and differences of any two i.i.d. random variables are uncorrelated. If in addition the two variables are normal, then their sum and difference are independent, not just uncorrelated."
   ]
  }
 ],
 "metadata": {
  "celltoolbar": "Tags",
  "kernelspec": {
   "display_name": "Python 3",
   "language": "python",
   "name": "python3"
  },
  "language_info": {
   "codemirror_mode": {
    "name": "ipython",
    "version": 3
   },
   "file_extension": ".py",
   "mimetype": "text/x-python",
   "name": "python",
   "nbconvert_exporter": "python",
   "pygments_lexer": "ipython3",
   "version": "3.8.10"
  }
 },
 "nbformat": 4,
 "nbformat_minor": 1
}