{
 "cells": [
  {
   "cell_type": "code",
   "execution_count": 1,
   "metadata": {
    "editable": true,
    "slideshow": {
     "slide_type": ""
    },
    "tags": [
     "remove_cell"
    ]
   },
   "outputs": [],
   "source": [
    "# HIDDEN\n",
    "import warnings\n",
    "warnings.filterwarnings(\"ignore\")\n",
    "\n",
    "from datascience import *\n",
    "from prob140 import *\n",
    "%matplotlib inline\n",
    "import matplotlib.pyplot as plt\n",
    "plt.style.use('fivethirtyeight')\n",
    "import numpy as np\n",
    "from myst_nb import glue"
   ]
  },
  {
   "cell_type": "markdown",
   "metadata": {},
   "source": [
    "## The Birthday Problem ##"
   ]
  },
  {
   "cell_type": "markdown",
   "metadata": {},
   "source": [
    "A classical problem in probability is about \"collisions\" of birthdays. This *birthday problem* was posed by [Richard von Mises](https://en.wikipedia.org/wiki/Richard_von_Mises) and other mathematicians – its origin has not been well established. The main question is, \"If there are $n$ people in a room, what is the chance that some pair among them have the same birthday?\""
   ]
  },
  {
   "cell_type": "markdown",
   "metadata": {},
   "source": [
    "### Assumptions of Randomness ###\n",
    "The problem is commonly solved under the assumptions that each year consists of 365 days and that each person is equally likely to be born on any of the 365 days regardless of the birthdays of others. "
   ]
  },
  {
   "cell_type": "code",
   "execution_count": 2,
   "metadata": {
    "editable": true,
    "slideshow": {
     "slide_type": ""
    },
    "tags": [
     "remove-cell"
    ]
   },
   "outputs": [
    {
     "data": {
      "image/jpeg": "[encoded data removed]",
      "text/html": [
       "\n",
       "        <iframe\n",
       "            width=\"400\"\n",
       "            height=\"300\"\n",
       "            src=\"https://www.youtube.com/embed/A88MJdZLe3A\"\n",
       "            frameborder=\"0\"\n",
       "            allowfullscreen\n",
       "            \n",
       "        ></iframe>\n",
       "        "
      ],
      "text/plain": [
       "<IPython.lib.display.YouTubeVideo at 0x281022450>"
      ]
     },
     "metadata": {
      "scrapbook": {
       "mime_prefix": "",
       "name": "vid_bday_assum"
      }
     },
     "output_type": "display_data"
    }
   ],
   "source": [
    "# VIDEO: Birthday Assumptions\n",
    "from IPython.display import YouTubeVideo\n",
    "\n",
    "vid_bday_assum = YouTubeVideo('A88MJdZLe3A')\n",
    "glue(\"vid_bday_assum\", vid_bday_assum)"
   ]
  },
  {
   "cell_type": "markdown",
   "metadata": {},
   "source": [
    "```{dropdown} See More\n",
    ":icon: video\n",
    "{glue:}`vid_bday_assum`\n",
    "```"
   ]
  },
  {
   "cell_type": "markdown",
   "metadata": {},
   "source": [
    "You can see that assumptions ignore leap years as well as multiple births (twins, for example) and any lack of uniformity in the distribution of births during the year. These assumptions make calculations simpler but might not reflect the reality of birthdays in every population. Data scientists have to be careful about their assumptions – if the assumptions don't reflect the truth, then the conclusions won't either. \n",
    "\n",
    "So let's note that we are working under simplifying assumptions that we should check before making conclusions about specific groups. Ignoring leap years and multiple births should not make a big difference to the conclusions in any case. If births are more likely to happen at some times of year than others, then it has been proved that the chance of matching birthdays will be larger than the answer we get under our assumptions. \n",
    "\n",
    "There are many [variations](https://www.math.ucdavis.edu/~tracy/courses/math135A/UsefullCourseMaterial/birthday.pdf) of the birthday problem, but we will stick with the classic."
   ]
  },
  {
   "cell_type": "markdown",
   "metadata": {},
   "source": [
    "### The Chance of a Match ###\n",
    "We will state our assumptions succinctly as \"all $365^n$ sequences of birthdays are equally likely\". You can see that this makes the birthday problem the same as the collision problem of the previous section, with $N = 365$. As before, the only interesting cases are when $n \\le N$, for which\n",
    "\n",
    "$$\n",
    "P(\\text{no match}) ~=~\n",
    "P(\\text{all } n \\text{ birthdays are different}) ~=~ \\prod_{i=0}^{n-1} \\frac{N-i}{N}\n",
    "$$"
   ]
  },
  {
   "cell_type": "markdown",
   "metadata": {},
   "source": [
    "### Computing the Chance ###\n",
    "\n",
    "With $N$ fixed at 365, the function `p_no_match` takes $n$ as its argument and returns the probability that there is no match among $n$ birthdays. \n",
    "\n",
    "The rest of the code displays all the results in a table. The table also includes a column containing the chance that there *is* a collision:\n",
    "\n",
    "$$\n",
    "P(\\text{at least one matching pair}) ~=~ \n",
    "1 - P(\\text{no match})\n",
    "~=~ 1 ~-~ \\prod_{i=0}^{n-1} \\frac{N-i}{N}\n",
    "$$"
   ]
  },
  {
   "cell_type": "code",
   "execution_count": 3,
   "metadata": {
    "tags": [
     "remove-cell"
    ]
   },
   "outputs": [
    {
     "data": {
      "image/jpeg": "[encoded data removed]",
      "text/html": [
       "\n",
       "        <iframe\n",
       "            width=\"400\"\n",
       "            height=\"300\"\n",
       "            src=\"https://www.youtube.com/embed/ci7bPVOpfsk\"\n",
       "            frameborder=\"0\"\n",
       "            allowfullscreen\n",
       "            \n",
       "        ></iframe>\n",
       "        "
      ],
      "text/plain": [
       "<IPython.lib.display.YouTubeVideo at 0x28115f260>"
      ]
     },
     "metadata": {
      "scrapbook": {
       "mime_prefix": "",
       "name": "vid_note_code"
      }
     },
     "output_type": "display_data"
    }
   ],
   "source": [
    "# VIDEO: Notes on the Code\n",
    "from IPython.display import YouTubeVideo\n",
    "vid_note_code = YouTubeVideo(\"ci7bPVOpfsk\")\n",
    "glue(\"vid_note_code\", vid_note_code)"
   ]
  },
  {
   "cell_type": "markdown",
   "metadata": {},
   "source": [
    "```{dropdown} See More\n",
    ":icon: video\n",
    "{glue:}`vid_note_code`\n",
    "```"
   ]
  },
  {
   "cell_type": "code",
   "execution_count": 4,
   "metadata": {},
   "outputs": [],
   "source": [
    "N = 365"
   ]
  },
  {
   "cell_type": "code",
   "execution_count": 5,
   "metadata": {},
   "outputs": [],
   "source": [
    "def p_no_match(n):\n",
    "    individuals_array = np.arange(n)\n",
    "    return np.prod( (N - individuals_array)/N )"
   ]
  },
  {
   "cell_type": "code",
   "execution_count": 6,
   "metadata": {},
   "outputs": [],
   "source": [
    "results = Table().with_columns('Trials', np.arange(1, N+1, 1))"
   ]
  },
  {
   "cell_type": "code",
   "execution_count": 7,
   "metadata": {},
   "outputs": [],
   "source": [
    "different = results.apply(p_no_match, 'Trials')"
   ]
  },
  {
   "cell_type": "code",
   "execution_count": 8,
   "metadata": {},
   "outputs": [],
   "source": [
    "results = results.with_columns(\n",
    "    'P(all different)', different,\n",
    "    'P(at least one match)', 1 - different\n",
    ")"
   ]
  },
  {
   "cell_type": "code",
   "execution_count": 9,
   "metadata": {},
   "outputs": [
    {
     "data": {
      "text/html": [
       "<table border=\"1\" class=\"dataframe\">\n",
       "    <thead>\n",
       "        <tr>\n",
       "            <th>Trials</th> <th>P(all different)</th> <th>P(at least one match)</th>\n",
       "        </tr>\n",
       "    </thead>\n",
       "    <tbody>\n",
       "        <tr>\n",
       "            <td>1     </td> <td>1               </td> <td>0                    </td>\n",
       "        </tr>\n",
       "        <tr>\n",
       "            <td>2     </td> <td>0.99726         </td> <td>0.00273973           </td>\n",
       "        </tr>\n",
       "        <tr>\n",
       "            <td>3     </td> <td>0.991796        </td> <td>0.00820417           </td>\n",
       "        </tr>\n",
       "        <tr>\n",
       "            <td>4     </td> <td>0.983644        </td> <td>0.0163559            </td>\n",
       "        </tr>\n",
       "        <tr>\n",
       "            <td>5     </td> <td>0.972864        </td> <td>0.0271356            </td>\n",
       "        </tr>\n",
       "        <tr>\n",
       "            <td>6     </td> <td>0.959538        </td> <td>0.0404625            </td>\n",
       "        </tr>\n",
       "        <tr>\n",
       "            <td>7     </td> <td>0.943764        </td> <td>0.0562357            </td>\n",
       "        </tr>\n",
       "        <tr>\n",
       "            <td>8     </td> <td>0.925665        </td> <td>0.0743353            </td>\n",
       "        </tr>\n",
       "        <tr>\n",
       "            <td>9     </td> <td>0.905376        </td> <td>0.0946238            </td>\n",
       "        </tr>\n",
       "        <tr>\n",
       "            <td>10    </td> <td>0.883052        </td> <td>0.116948             </td>\n",
       "        </tr>\n",
       "    </tbody>\n",
       "</table>\n",
       "<p>... (355 rows omitted)</p>"
      ],
      "text/plain": [
       "Trials | P(all different) | P(at least one match)\n",
       "1      | 1                | 0\n",
       "2      | 0.99726          | 0.00273973\n",
       "3      | 0.991796         | 0.00820417\n",
       "4      | 0.983644         | 0.0163559\n",
       "5      | 0.972864         | 0.0271356\n",
       "6      | 0.959538         | 0.0404625\n",
       "7      | 0.943764         | 0.0562357\n",
       "8      | 0.925665         | 0.0743353\n",
       "9      | 0.905376         | 0.0946238\n",
       "10     | 0.883052         | 0.116948\n",
       "... (355 rows omitted)"
      ]
     },
     "execution_count": 9,
     "metadata": {},
     "output_type": "execute_result"
    }
   ],
   "source": [
    "results"
   ]
  },
  {
   "cell_type": "markdown",
   "metadata": {},
   "source": [
    "The first thing to notice in the table is the use of the label `Trials` to denote people. In probability it is common to think of random experiments as sequences of trials in which the outcome of each trial depends on chance. In the birthday problem, each person is being thought of as a trial, and we are looking to see whether there is at least one matching pair of birthdays among all the trials.\n",
    "\n",
    "Next, notice that in the boring case where there is just one person, there can't be a matching pair of birthdays, and thus $P(\\text{no match})$ has been defined as 1. In many problems there are such \"edge cases\" that have to be handled individually.\n",
    "\n",
    "Finally, notice that when the number of people is small, the chance they all have different birthdays is large. This is consistent with our intuition that if the number of individuals is small relative to the number of available hash values, and you assign values to individuals at random, then the chance of a collision is small."
   ]
  },
  {
   "cell_type": "markdown",
   "metadata": {},
   "source": [
    "### The Birthday \"Paradox\" ###\n",
    "But the chance of a collision increases as the number of people increases. In fact, it increases rather sharply."
   ]
  },
  {
   "cell_type": "code",
   "execution_count": 10,
   "metadata": {},
   "outputs": [
    {
     "data": {
      "image/png": "[encoded data removed]",
      "text/plain": [
       "<Figure size 500x500 with 1 Axes>"
      ]
     },
     "metadata": {},
     "output_type": "display_data"
    }
   ],
   "source": [
    "results.scatter('Trials', 'P(at least one match)')\n",
    "plt.xlim(0, N/3)\n",
    "plt.ylim(0, 1);"
   ]
  },
  {
   "cell_type": "markdown",
   "metadata": {},
   "source": [
    "You can see that if there are more than about 50 people, then the chance of a matching pair of birthdays is pretty close to 1. \n",
    "\n",
    "How many people must there be for the chance of a collision to be more than 50%? Let's see if we can find the smallest number of people for which this happens."
   ]
  },
  {
   "cell_type": "code",
   "execution_count": 11,
   "metadata": {},
   "outputs": [
    {
     "data": {
      "text/html": [
       "<table border=\"1\" class=\"dataframe\">\n",
       "    <thead>\n",
       "        <tr>\n",
       "            <th>Trials</th> <th>P(all different)</th> <th>P(at least one match)</th>\n",
       "        </tr>\n",
       "    </thead>\n",
       "    <tbody>\n",
       "        <tr>\n",
       "            <td>23    </td> <td>0.492703        </td> <td>0.507297             </td>\n",
       "        </tr>\n",
       "    </tbody>\n",
       "</table>"
      ],
      "text/plain": [
       "Trials | P(all different) | P(at least one match)\n",
       "23     | 0.492703         | 0.507297"
      ]
     },
     "execution_count": 11,
     "metadata": {},
     "output_type": "execute_result"
    }
   ],
   "source": [
    "results.where('P(at least one match)', are.between(0.5, 0.51))"
   ]
  },
  {
   "cell_type": "markdown",
   "metadata": {},
   "source": [
    "With just 23 people, a match is more likely than not. This surprises those who haven't done the calculation, and hence is known as the *birthday paradox*. But in fact there is nothing paradoxical or contradictory about it at all. It just has to do with the way the chance of a matching pair of birthdays grows as a function of the number of people."
   ]
  },
  {
   "cell_type": "markdown",
   "metadata": {},
   "source": [
    "We have done the calculation for $N = 365$, but how fast would the function have grown had $N$ been some other number? We need to know this if we are going to apply our results in contexts other than birthdays.\n",
    "\n",
    "To figure this out, we could redo our code for various different values of $N$ and see what the output tells us for those values. But it is altogether more efficient and insightful to use math, which is what we will do in the next section."
   ]
  },
  {
   "cell_type": "code",
   "execution_count": null,
   "metadata": {},
   "outputs": [],
   "source": []
  }
 ],
 "metadata": {
  "anaconda-cloud": {},
  "celltoolbar": "Tags",
  "kernelspec": {
   "display_name": "Python 3 (ipykernel)",
   "language": "python",
   "name": "python3"
  },
  "language_info": {
   "codemirror_mode": {
    "name": "ipython",
    "version": 3
   },
   "file_extension": ".py",
   "mimetype": "text/x-python",
   "name": "python",
   "nbconvert_exporter": "python",
   "pygments_lexer": "ipython3",
   "version": "3.12.1"
  }
 },
 "nbformat": 4,
 "nbformat_minor": 4
}