{
 "cells": [
  {
   "cell_type": "code",
   "execution_count": 1,
   "metadata": {
    "tags": [
     "remove_cell"
    ]
   },
   "outputs": [],
   "source": [
    "# HIDDEN\n",
    "from datascience import *\n",
    "from prob140 import *\n",
    "import numpy as np\n",
    "import matplotlib.pyplot as plt\n",
    "plt.style.use('fivethirtyeight')\n",
    "%matplotlib inline\n",
    "import math\n",
    "from scipy import stats\n",
    "from scipy import special\n",
    "from itertools import permutations"
   ]
  },
  {
   "cell_type": "code",
   "execution_count": 2,
   "metadata": {
    "tags": [
     "remove_cell"
    ]
   },
   "outputs": [],
   "source": [
    "# HIDDEN\n",
    "# The alphabet\n",
    "alph = make_array('a', 'd', 't')"
   ]
  },
  {
   "cell_type": "code",
   "execution_count": 3,
   "metadata": {
    "tags": [
     "remove_cell"
    ]
   },
   "outputs": [],
   "source": [
    "# HIDDEN\n",
    "# Decode atdt using all possible decoders\n",
    "x1 = [['a', 't', 'd', 't'], ['a','d','t','d'], ['d','t','a','t']]\n",
    "x2 = [['d','a','t','a'], ['t','d','a','d'], ['t','a','d','a']]\n",
    "decoded = x1+x2"
   ]
  },
  {
   "cell_type": "code",
   "execution_count": 4,
   "metadata": {
    "tags": [
     "remove_cell"
    ]
   },
   "outputs": [],
   "source": [
    "# HIDDEN\n",
    "decoding = Table().with_columns(\n",
    "    'Decoder', list(permutations(alph)),\n",
    "    'atdt Decoded', decoded\n",
    ")"
   ]
  },
  {
   "cell_type": "code",
   "execution_count": 5,
   "metadata": {
    "tags": [
     "remove_cell"
    ]
   },
   "outputs": [],
   "source": [
    "# HIDDEN\n",
    "# Make bigram transition matrix\n",
    "# Data from Peter Norvig's bigram table\n",
    "\n",
    "aa = 1913489177\n",
    "dd = 6513992572\n",
    "tt = 19222971337\n",
    "ad = 23202347740\n",
    "da = 23279747379\n",
    "at = 80609883139\n",
    "ta = 42344542093\n",
    "dt = 10976756096\n",
    "td = 3231292348\n",
    "\n",
    "row1 = make_array(aa, ad, at)/sum([aa, ad, at])\n",
    "row2 = make_array(da, dd, dt)/sum([da, dd, dt])\n",
    "row3 = make_array(ta, td, tt)/sum([ta, td, tt])\n",
    "rows = np.append(np.append(row1, row2), row3)\n"
   ]
  },
  {
   "cell_type": "code",
   "execution_count": 6,
   "metadata": {
    "tags": [
     "remove_cell"
    ]
   },
   "outputs": [],
   "source": [
    "# HIDDEN\n",
    "bigrams = MarkovChain.from_table(Table().states(alph).transition_probability(rows))"
   ]
  },
  {
   "cell_type": "markdown",
   "metadata": {},
   "source": [
    "## Code Breaking ##"
   ]
  },
  {
   "cell_type": "markdown",
   "metadata": {},
   "source": [
    "We can use Markov chains that have detailed balance to solve a class of problems that are intractable by other methods and are apparently unrelated to Markov chains. In this section we present an example of how such problems arise. In the next section we discuss a solution."
   ]
  },
  {
   "cell_type": "code",
   "execution_count": 7,
   "metadata": {
    "tags": [
     "remove-input",
     "hide-output"
    ]
   },
   "outputs": [
    {
     "data": {
      "text/html": [
       "\n",
       "<iframe\n",
       "    width=\"400\"\n",
       "    height=\"300\"\n",
       "    src=\"https://www.youtube.com/embed/C18hs5sHf0Y\"\n",
       "    frameborder=\"0\"\n",
       "    allowfullscreen\n",
       "\n",
       "></iframe>\n"
      ],
      "text/plain": [
       "<IPython.lib.display.YouTubeVideo at 0x7f365f589340>"
      ]
     },
     "execution_count": 7,
     "metadata": {},
     "output_type": "execute_result"
    }
   ],
   "source": [
    "# VIDEO: Assumptions\n",
    "from IPython.display import YouTubeVideo\n",
    "\n",
    "YouTubeVideo('C18hs5sHf0Y')"
   ]
  },
  {
   "cell_type": "markdown",
   "metadata": {},
   "source": [
    "### Assumptions ###\n",
    "People have long been fascinated by encryption and decryption, well before cybersecurity became part of our lives. Decoding encrypted information can be complex and computation intensive. Reversed Markov Chains can help us in this task.\n",
    "\n",
    "To get a sense of one approach to solving such problems, and of the extent of the task, let's try to decode a short piece of text that has been encoded using a simple code called a *substitution code*. Text is written in an *alphabet*, which you can think of as a set of letters and punctuation. In a substitution code, each letter of the alphabet is simply replaced by another in such a way that the code is just a permutation of the alphabet.\n",
    "\n",
    "To decode a message encrypted by a substitution code, you have to *invert* the permutation that was used. In other words, you have to apply a permutation to the *coded* message in order to recover the original text. We will call this permutation the *decoder*.\n",
    "\n",
    "To decode a textual message, we have to make some assumptions. For example, it helps to know the language in which the message was written, and what combinations of letters are common in that language. For example, suppose we try to decode a message that was written in English and then encrypted. If our decoding process ends up with \"words\" like zzxtf and tbgdgaa, we might want to try a different way.\n",
    "\n",
    "So we need data about which sequences of letters are common. Such data are now increasingly easy to gather; see for example this [web page](http://norvig.com/ngrams/) by [Peter Norvig](http://norvig.com), a Director of Research at Google. "
   ]
  },
  {
   "cell_type": "code",
   "execution_count": 8,
   "metadata": {
    "tags": [
     "remove-input",
     "hide-output"
    ]
   },
   "outputs": [
    {
     "data": {
      "text/html": [
       "\n",
       "<iframe\n",
       "    width=\"400\"\n",
       "    height=\"300\"\n",
       "    src=\"https://www.youtube.com/embed/MUdZWq3b0mg\"\n",
       "    frameborder=\"0\"\n",
       "    allowfullscreen\n",
       "\n",
       "></iframe>\n"
      ],
      "text/plain": [
       "<IPython.lib.display.YouTubeVideo at 0x7f365f578e20>"
      ]
     },
     "execution_count": 8,
     "metadata": {},
     "output_type": "execute_result"
    }
   ],
   "source": [
    "# VIDEO: Decoders\n",
    "\n",
    "YouTubeVideo('MUdZWq3b0mg')"
   ]
  },
  {
   "cell_type": "markdown",
   "metadata": {},
   "source": [
    "### Decoding a Message ###\n",
    "Let's see how we can use such an approach to decode a message. For simplicity, suppose our alphabet consists of only three letters: a, d, and t. Now suppose we get the coded message atdt. We believe it's an English word. How can we go about decoding it in a manner that can be replicated by a computer for other words too?\n",
    "\n",
    "As a first step, we will write down all 3! = 6 possible permutations of the letters in the alphabet and use each one to decode the message. The table `decoding` contains all the results. Each entry in the `Decoder` column is a permutation that we will apply to our coded text atdt. The permutation determines which letters we will use as substitutes in our decoding process. \n",
    "\n",
    "To see how to do this, start by keeping the alphabet in \"alphabetical\" order in your head: 'a', 'd', 't'. Now look at the rows of the table.\n",
    "\n",
    "- The decoder in the first row is ['a', 'd', 't']. This decoder simply leaves the letters unchanged; atdt gets decoded as atdt. \n",
    "\n",
    "$$\n",
    "\\text{Decoder ['a', 'd', 't']: } ~~~ a \\to a, ~~~ d \\to d, ~~~ t \\to t\n",
    "$$\n",
    "\n",
    "- The decoder in the second row is ['a', 't', 'd']. This keeps the first letter of the alphabet 'a' unchanged, but replaces the second letter 'd' by 't' and the third letter 't' by 'd'.\n",
    "\n",
    "$$\n",
    "\\text{Decoder ['a', 't', 'd']: } ~~~ a \\to a, ~~~ d \\to t, ~~~ t \\to d\n",
    "$$\n",
    "\n",
    "So atdt gets decoded as adtd.\n",
    "\n",
    "You can read the rest of the table in the same way. \n",
    "\n",
    "Notice that in each decoded message, a letter appears twice, at indices 1 and 3. That's the letter being used to decode t in atdt. A feature of substitution codes is that each letter *original* is coded by a letter *code*, with the same letter *code* being used every time the letter *original* appears in the text. So the decoder must have the same feature."
   ]
  },
  {
   "cell_type": "code",
   "execution_count": 9,
   "metadata": {},
   "outputs": [
    {
     "data": {
      "text/html": [
       "<table border=\"1\" class=\"dataframe\">\n",
       "    <thead>\n",
       "        <tr>\n",
       "            <th>Decoder</th> <th>atdt Decoded</th>\n",
       "        </tr>\n",
       "    </thead>\n",
       "    <tbody>\n",
       "        <tr>\n",
       "            <td>['a' 'd' 't']</td> <td>['a' 't' 'd' 't']</td>\n",
       "        </tr>\n",
       "        <tr>\n",
       "            <td>['a' 't' 'd']</td> <td>['a' 'd' 't' 'd']</td>\n",
       "        </tr>\n",
       "        <tr>\n",
       "            <td>['d' 'a' 't']</td> <td>['d' 't' 'a' 't']</td>\n",
       "        </tr>\n",
       "        <tr>\n",
       "            <td>['d' 't' 'a']</td> <td>['d' 'a' 't' 'a']</td>\n",
       "        </tr>\n",
       "        <tr>\n",
       "            <td>['t' 'a' 'd']</td> <td>['t' 'd' 'a' 'd']</td>\n",
       "        </tr>\n",
       "        <tr>\n",
       "            <td>['t' 'd' 'a']</td> <td>['t' 'a' 'd' 'a']</td>\n",
       "        </tr>\n",
       "    </tbody>\n",
       "</table>"
      ],
      "text/plain": [
       "Decoder       | atdt Decoded\n",
       "['a' 'd' 't'] | ['a' 't' 'd' 't']\n",
       "['a' 't' 'd'] | ['a' 'd' 't' 'd']\n",
       "['d' 'a' 't'] | ['d' 't' 'a' 't']\n",
       "['d' 't' 'a'] | ['d' 'a' 't' 'a']\n",
       "['t' 'a' 'd'] | ['t' 'd' 'a' 'd']\n",
       "['t' 'd' 'a'] | ['t' 'a' 'd' 'a']"
      ]
     },
     "execution_count": 9,
     "metadata": {},
     "output_type": "execute_result"
    }
   ],
   "source": [
    "decoding"
   ]
  },
  {
   "cell_type": "code",
   "execution_count": 10,
   "metadata": {
    "tags": [
     "remove-input",
     "hide-output"
    ]
   },
   "outputs": [
    {
     "data": {
      "text/html": [
       "\n",
       "<iframe\n",
       "    width=\"400\"\n",
       "    height=\"300\"\n",
       "    src=\"https://www.youtube.com/embed/OrLjMVjpryY\"\n",
       "    frameborder=\"0\"\n",
       "    allowfullscreen\n",
       "\n",
       "></iframe>\n"
      ],
      "text/plain": [
       "<IPython.lib.display.YouTubeVideo at 0x7f36b413a430>"
      ]
     },
     "execution_count": 10,
     "metadata": {},
     "output_type": "execute_result"
    }
   ],
   "source": [
    "# VIDEO: Bigrams\n",
    "\n",
    "YouTubeVideo('OrLjMVjpryY')"
   ]
  },
  {
   "cell_type": "markdown",
   "metadata": {},
   "source": [
    "Which one of these decoders should we use? To make this decision, we have to know something about the frequency of letter transitions in English. Our goal will be to pick the decoder according to the frequency of the decoded word.\n",
    "\n",
    "We have put together some data on the frequency of the different *bigrams*, or two-letter combinations, in English. Here is a transition matrix called `bigrams` that is a gross simplification of available information about bigrams in English; we used Peter Norvig's bigrams table and restricted it to our three-letter alphabet. The row corresponding to the letter 'a' assumes that about 2% of the bigrams that start with 'a' are 'aa', about 22% are 'ad', and the remaining 76% are 'at'. \n",
    "\n",
    "It makes sense that the 'aa' transitions are rare; we don't use words like aardvark very often. Even 2% seems large until you remember that it is the proportion of 'aa' transitions only among transitions 'aa', 'ad', and 'at', because we have restricted the alphabet. If you look at its proportion among all $26\\times26$ bigrams, that will be much lower."
   ]
  },
  {
   "cell_type": "code",
   "execution_count": 11,
   "metadata": {},
   "outputs": [
    {
     "data": {
      "text/html": [
       "<div>\n",
       "<style scoped>\n",
       "    .dataframe tbody tr th:only-of-type {\n",
       "        vertical-align: middle;\n",
       "    }\n",
       "\n",
       "    .dataframe tbody tr th {\n",
       "        vertical-align: top;\n",
       "    }\n",
       "\n",
       "    .dataframe thead th {\n",
       "        text-align: right;\n",
       "    }\n",
       "</style>\n",
       "<table border=\"1\" class=\"dataframe\">\n",
       "  <thead>\n",
       "    <tr style=\"text-align: right;\">\n",
       "      <th></th>\n",
       "      <th>a</th>\n",
       "      <th>d</th>\n",
       "      <th>t</th>\n",
       "    </tr>\n",
       "  </thead>\n",
       "  <tbody>\n",
       "    <tr>\n",
       "      <th>a</th>\n",
       "      <td>0.018099</td>\n",
       "      <td>0.219458</td>\n",
       "      <td>0.762443</td>\n",
       "    </tr>\n",
       "    <tr>\n",
       "      <th>d</th>\n",
       "      <td>0.570995</td>\n",
       "      <td>0.159772</td>\n",
       "      <td>0.269233</td>\n",
       "    </tr>\n",
       "    <tr>\n",
       "      <th>t</th>\n",
       "      <td>0.653477</td>\n",
       "      <td>0.049867</td>\n",
       "      <td>0.296656</td>\n",
       "    </tr>\n",
       "  </tbody>\n",
       "</table>\n",
       "</div>"
      ],
      "text/plain": [
       "          a         d         t\n",
       "a  0.018099  0.219458  0.762443\n",
       "d  0.570995  0.159772  0.269233\n",
       "t  0.653477  0.049867  0.296656"
      ]
     },
     "execution_count": 11,
     "metadata": {},
     "output_type": "execute_result"
    }
   ],
   "source": [
    "bigrams"
   ]
  },
  {
   "cell_type": "code",
   "execution_count": 12,
   "metadata": {
    "tags": [
     "remove-input",
     "hide-output"
    ]
   },
   "outputs": [
    {
     "data": {
      "text/html": [
       "\n",
       "<iframe\n",
       "    width=\"400\"\n",
       "    height=\"300\"\n",
       "    src=\"https://www.youtube.com/embed/pi36R1lN8ww\"\n",
       "    frameborder=\"0\"\n",
       "    allowfullscreen\n",
       "\n",
       "></iframe>\n"
      ],
      "text/plain": [
       "<IPython.lib.display.YouTubeVideo at 0x7f365f589460>"
      ]
     },
     "execution_count": 12,
     "metadata": {},
     "output_type": "execute_result"
    }
   ],
   "source": [
    "# VIDEO: Score of a Decoder\n",
    "\n",
    "YouTubeVideo('pi36R1lN8ww')"
   ]
  },
  {
   "cell_type": "markdown",
   "metadata": {},
   "source": [
    "Now think of the true text as a path of a Markov Chain that has this transition matrix. An interesting historical note is that this is what Markov did when he first came up with the process that now bears his name – he analyzed the transitions between vowels and consonants in *Eugene Onegin*, Alexander Pushkin's novel written in verse.\n",
    "\n",
    "According to our `decoding` table above, tada is the result we get by applying the decoder ['t', 'd', 'a'] to our data atdt. It makes sense to consider this decoder to be a good decoder if the decoded text tada is likely to appear in our language. \n",
    "\n",
    "To quantify this idea, remember that if the true text is tada, then we can think of the sequence tada as the path of a Markov chain. Let's define the *score* of the decoder ['t', 'd', 'a'] to be the probability of the path tada given the starting point. So the score is $P(t, a)P(a, d)P(d, a)$. Later we will introduce more formal calculations and terminology to go deeper into this choice.\n",
    "\n",
    "In the same way, we can give each decoder a score based on the probability of its decoded text. Higher scores correspond to better decoders."
   ]
  },
  {
   "cell_type": "code",
   "execution_count": 13,
   "metadata": {},
   "outputs": [
    {
     "data": {
      "text/plain": [
       "0.08188682431730866"
      ]
     },
     "execution_count": 13,
     "metadata": {},
     "output_type": "execute_result"
    }
   ],
   "source": [
    "# score of decoder ['t', 'd', 'a']\n",
    "0.653477 * 0.219458 * 0.570995"
   ]
  },
  {
   "cell_type": "markdown",
   "metadata": {},
   "source": [
    "To automate such calcuations we can use the `prob_of_path` method. Remember that its first argument is the initial state, and the second argument is a list or array consisting of the remaining states in sequence."
   ]
  },
  {
   "cell_type": "code",
   "execution_count": 14,
   "metadata": {},
   "outputs": [
    {
     "data": {
      "text/plain": [
       "0.081886816291942444"
      ]
     },
     "execution_count": 14,
     "metadata": {},
     "output_type": "execute_result"
    }
   ],
   "source": [
    "bigrams.prob_of_path('t', ['a', 'd', 'a'])"
   ]
  },
  {
   "cell_type": "code",
   "execution_count": 15,
   "metadata": {
    "tags": [
     "remove-input",
     "hide-output"
    ]
   },
   "outputs": [
    {
     "data": {
      "text/html": [
       "\n",
       "<iframe\n",
       "    width=\"400\"\n",
       "    height=\"300\"\n",
       "    src=\"https://www.youtube.com/embed/zCAeQUaPf1E\"\n",
       "    frameborder=\"0\"\n",
       "    allowfullscreen\n",
       "\n",
       "></iframe>\n"
      ],
      "text/plain": [
       "<IPython.lib.display.YouTubeVideo at 0x7f36b59911f0>"
      ]
     },
     "execution_count": 15,
     "metadata": {},
     "output_type": "execute_result"
    }
   ],
   "source": [
    "# VIDEO: The Best Decoder\n",
    "\n",
    "YouTubeVideo('zCAeQUaPf1E')"
   ]
  },
  {
   "cell_type": "markdown",
   "metadata": {},
   "source": [
    "Should we decide that our message atdt should be decoded as tada? Perhaps, if we think that 8% is a high likelihood. But what if some other possible decoder has a higher likelihood? In that case it would be natural to prefer that one.\n",
    "\n",
    "So we are going to need the probabilities of each of the six \"decoded\" paths.\n",
    "\n",
    "Let's define a function `score` that will take a list or array of characters and return the probability of the corresponding path using the `bigrams` transition matrix. In our example, this is the same as returning the score of the corresponding decoder."
   ]
  },
  {
   "cell_type": "code",
   "execution_count": 16,
   "metadata": {
    "collapsed": true
   },
   "outputs": [],
   "source": [
    "def score(x):\n",
    "    return bigrams.prob_of_path(x[0], x[1:])"
   ]
  },
  {
   "cell_type": "markdown",
   "metadata": {},
   "source": [
    "Here are the results in decreasing order of score. There is a clear winner: the decoder ['d', 't', 'a'] corresponding to the message 'data' has more than twice the score of any other decoder."
   ]
  },
  {
   "cell_type": "code",
   "execution_count": 17,
   "metadata": {},
   "outputs": [
    {
     "data": {
      "text/html": [
       "<table border=\"1\" class=\"dataframe\">\n",
       "    <thead>\n",
       "        <tr>\n",
       "            <th>Decoder</th> <th>atdt Decoded</th> <th>Score of Decoder</th>\n",
       "        </tr>\n",
       "    </thead>\n",
       "    <tbody>\n",
       "        <tr>\n",
       "            <td>['d' 't' 'a']</td> <td>['d' 'a' 't' 'a']</td> <td>0.284492        </td>\n",
       "        </tr>\n",
       "        <tr>\n",
       "            <td>['d' 'a' 't']</td> <td>['d' 't' 'a' 't']</td> <td>0.134142        </td>\n",
       "        </tr>\n",
       "        <tr>\n",
       "            <td>['t' 'd' 'a']</td> <td>['t' 'a' 'd' 'a']</td> <td>0.0818868       </td>\n",
       "        </tr>\n",
       "        <tr>\n",
       "            <td>['a' 'd' 't']</td> <td>['a' 't' 'd' 't']</td> <td>0.0102363       </td>\n",
       "        </tr>\n",
       "        <tr>\n",
       "            <td>['t' 'a' 'd']</td> <td>['t' 'd' 'a' 'd']</td> <td>0.00624874      </td>\n",
       "        </tr>\n",
       "        <tr>\n",
       "            <td>['a' 't' 'd']</td> <td>['a' 'd' 't' 'd']</td> <td>0.00294638      </td>\n",
       "        </tr>\n",
       "    </tbody>\n",
       "</table>"
      ],
      "text/plain": [
       "Decoder       | atdt Decoded      | Score of Decoder\n",
       "['d' 't' 'a'] | ['d' 'a' 't' 'a'] | 0.284492\n",
       "['d' 'a' 't'] | ['d' 't' 'a' 't'] | 0.134142\n",
       "['t' 'd' 'a'] | ['t' 'a' 'd' 'a'] | 0.0818868\n",
       "['a' 'd' 't'] | ['a' 't' 'd' 't'] | 0.0102363\n",
       "['t' 'a' 'd'] | ['t' 'd' 'a' 'd'] | 0.00624874\n",
       "['a' 't' 'd'] | ['a' 'd' 't' 'd'] | 0.00294638"
      ]
     },
     "execution_count": 17,
     "metadata": {},
     "output_type": "execute_result"
    }
   ],
   "source": [
    "decoding = decoding.with_column('Score of Decoder', decoding.apply(score, 1))\n",
    "decoding.sort('Score of Decoder', descending=True)"
   ]
  },
  {
   "cell_type": "code",
   "execution_count": 18,
   "metadata": {
    "tags": [
     "remove-input",
     "hide-output"
    ]
   },
   "outputs": [
    {
     "data": {
      "text/html": [
       "\n",
       "<iframe\n",
       "    width=\"400\"\n",
       "    height=\"300\"\n",
       "    src=\"https://www.youtube.com/embed/XLd2MuMIlR4\"\n",
       "    frameborder=\"0\"\n",
       "    allowfullscreen\n",
       "\n",
       "></iframe>\n"
      ],
      "text/plain": [
       "<IPython.lib.display.YouTubeVideo at 0x7f365f2a67c0>"
      ]
     },
     "execution_count": 18,
     "metadata": {},
     "output_type": "execute_result"
    }
   ],
   "source": [
    "# VIDEO: Larger Alphabet\n",
    "\n",
    "YouTubeVideo('XLd2MuMIlR4')"
   ]
  },
  {
   "cell_type": "markdown",
   "metadata": {},
   "source": [
    "### The Size of the Problem ###\n",
    "What we have been able to do with an alphabet of three characters becomes daunting when the alphabet is larger. The 52 lower case and upper case letters, along with a space character and all the punctuations, form an alphabet of around 70 characters. That gives us 70! different decoders to consider. In theory, we have to find the likelihood of each of these 70! candidates and sort them.\n",
    "\n",
    "Here is the number 70!. That's a lot of decoders. Our computing system can't handle that many, and other systems will have the same problem."
   ]
  },
  {
   "cell_type": "code",
   "execution_count": 19,
   "metadata": {},
   "outputs": [
    {
     "data": {
      "text/plain": [
       "11978571669969890269925854460558840225267029209529303278944419871214396524861374498691473966836482048"
      ]
     },
     "execution_count": 19,
     "metadata": {},
     "output_type": "execute_result"
    }
   ],
   "source": [
    "int(special.factorial(70))"
   ]
  },
  {
   "cell_type": "markdown",
   "metadata": {},
   "source": [
    "One potential solution is to sample at random from these 70! possible decoders and just pick from among the sampled permutations. But how should we draw from 70! items? \n",
    "\n",
    "It's not a good idea to choose uniform random permutations of the alphabet, as those are unlikely to get us quickly to the desired solution. \n",
    "\n",
    "What we really want our sampling procedure to do is to choose *good* decoders with high probability. A good decoder is one that generates text that has higher probability in our language than text produced by almost all other decoders. In other words, a good decoder is one that has a high score.\n",
    "\n",
    "Even when the alphabet is large, for any particular decoder $j$ we can find its score by multiplying transition probabilities sequentially, as we did in our small example. But we can't list all the decoders because there are too many of them. So we can't list all the scores.\n",
    "\n",
    "So it seems we have a problem.\n",
    "\n",
    "- For an individual decoder, we can calculate the score.\n",
    "- We want to find the decoder that has the highest score.\n",
    "- We can't list all the decoders (and their scores) because there are too many of them.\n",
    "\n",
    "This seems like an impossible situation: we have to find the mode of a function we can't write down. But as you will see in the next section, detailed balance comes to the rescue.\n",
    "\n",
    "**Technical Note**\n",
    "\n",
    "Formally, a good decoder has higher likelihood than other decoders, given the data.\n",
    "\n",
    "You can write down this likelihood using Bayes' Rule. Let $S$ represent the space of all possible permutations; if the alphabet has $N$ characters, then $S$ has $N!$ elements. For any randomly picked permutation $j$, the likelihood of that decoder given the data is:\n",
    "\n",
    "$$\n",
    "\\begin{align*}\n",
    "\\text{Likelihood of decoder } j \\text{ given the encoded text}\n",
    "&= \\frac{\\frac{1}{N!} P(\\text{encoded text} \\mid \\text{decoder = }j)}\n",
    "{ {\\sum_{i \\in S} } \\frac{1}{N!} P(\\text{encoded text} \\mid \\text{decoder = }i)} \\\\ \\\\\n",
    "&=\\frac{P(\\text{encoded text} \\mid \\text{decoder = }j)}\n",
    "{ {\\sum_{i \\in S} } P(\\text{encoded text} \\mid \\text{decoder = }i)}\n",
    "\\end{align*}\n",
    "$$\n",
    "\n",
    "For the given encoded text, the denominator is the normalizing constant that makes all the likelihoods sum to 1. It appears in the likelihood of every decoder. So it's not necessary for comparing two likelihoods. In our example with the three-letter alphabet, we ignored it because we could figure out the numerators for all six decoders and just compare them. \n",
    "\n",
    "The numerator is what we have been calling the *score* of the decoder. For any particular decoder, we can find that.\n",
    "\n",
    "But with a large alphabet we can't do this for all possible decoders, so we can't list all possible scores and we can't add them all up. Therefore we don't know the denominator of the likelihoods, not even up to a decent approximation.\n",
    "\n",
    "What we need now is a method that helps us draw from a probability distribution even when we don't know the normalizing constant. That is what Markov Chain Monte Carlo helps us to do."
   ]
  },
  {
   "cell_type": "code",
   "execution_count": null,
   "metadata": {},
   "outputs": [],
   "source": []
  }
 ],
 "metadata": {
  "anaconda-cloud": {},
  "celltoolbar": "Tags",
  "kernelspec": {
   "display_name": "Python 3",
   "language": "python",
   "name": "python3"
  },
  "language_info": {
   "codemirror_mode": {
    "name": "ipython",
    "version": 3
   },
   "file_extension": ".py",
   "mimetype": "text/x-python",
   "name": "python",
   "nbconvert_exporter": "python",
   "pygments_lexer": "ipython3",
   "version": "3.8.10"
  }
 },
 "nbformat": 4,
 "nbformat_minor": 1
}