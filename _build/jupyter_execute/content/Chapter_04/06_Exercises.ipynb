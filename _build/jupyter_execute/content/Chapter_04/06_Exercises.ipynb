{
 "cells": [
  {
   "cell_type": "markdown",
   "metadata": {},
   "source": [
    "## Exercises ##"
   ]
  },
  {
   "cell_type": "markdown",
   "metadata": {},
   "source": [
    "**1.** In a box of numbered tickets, 20% of the tickets are numbered 0, 30% are numbered 1, and 50% are numbered 2. Two tickets are drawn from the box at random with replacement. Let $M$ be the maximum and $S$ the sum of the two numbers drawn. \n",
    "\n",
    "(a) Find the joint distribution of $M$ and $S$. \n",
    "\n",
    "(b) Find $P(S > 1, M \\ge 1)$.\n",
    "\n",
    "(c) Find the marginal distribution of $S$.\n",
    "\n",
    "(d) Find the conditional distribution of $S$ given $M=1$."
   ]
  },
  {
   "cell_type": "markdown",
   "metadata": {},
   "source": [
    "**2.** A box contains four tickets labeled $1, 2, 3$, and $4$. Suppose you draw tickets one by one at random with repalcement.\n",
    "\n",
    "- Let $X$ be the number of draws until the first time you draw a ticket that you have drawn before.\n",
    "- Let $Y$ be the number of draws until the second time you draw a ticket that you have drawn before.\n",
    "\n",
    "For example, if first few draws are $2, 3, 1, 3, 4, 1$ then $X = 4$ and $Y=6$.\n",
    "\n",
    "(a) What are the possible values $(x, y)$ of the random pair $(X, Y)$?\n",
    "\n",
    "(b) Find the joint distribution of $X$ and $Y$."
   ]
  },
  {
   "cell_type": "markdown",
   "metadata": {},
   "source": [
    "**3.** A population consists of 10 children, 15 women, and 20 men. I sample 5 people at random without replacement. In the sample, let $K$ be the number of children, $W$ the number of women, and $M$ the number of men.\n",
    "\n",
    "(a) Find the distribution of $W$.\n",
    "\n",
    "(b) Find the joint distribution of $K$ and $W$.\n",
    "\n",
    "(c) Find the conditional distribution of $W$ given that $K=2$."
   ]
  },
  {
   "cell_type": "markdown",
   "metadata": {},
   "source": [
    "**4.** Let $U_1$ and $U_2$ be independent, each uniformly distributed on $1,2,…,n$. Let $S=U_1+U_2$.\n",
    "\n",
    "(a) Find $P(U_1 = U_2)$.\n",
    "\n",
    "(b) Use Part (a) and symmetry to find $P(U_1 < U_2)$ and $P(U_1 > U_2)$.\n",
    "\n",
    "(c) Find the distribution of $S$."
   ]
  },
  {
   "cell_type": "markdown",
   "metadata": {},
   "source": [
    "**5.** Independent random variables $R$ and $S$ have possible values $0, 1, 2, \\ldots, N$ for an integer $N > 3$. For $0 \\le k \\le N$ let $r_k = P(R = k)$ and let $s_k = P(S = k)$.\n",
    "\n",
    "Write expressions for the following probabilities in terms of $r_0, r_1, \\ldots, r_N$ and $s_1, s_2, \\ldots, s_N$.\n",
    "\n",
    "(a) $P(S = R+3)$\n",
    "\n",
    "(b) $P(S > R+3)$\n",
    "\n",
    "(c) $P(\\max(R, S) \\le n)$ for $0 \\le n \\le N$\n",
    "\n",
    "(d) $P(\\min(R, S) \\le n)$ for $0 \\le n \\le N$"
   ]
  },
  {
   "cell_type": "code",
   "execution_count": null,
   "metadata": {},
   "outputs": [],
   "source": []
  }
 ],
 "metadata": {
  "kernelspec": {
   "display_name": "Python 3",
   "language": "python",
   "name": "python3"
  },
  "language_info": {
   "codemirror_mode": {
    "name": "ipython",
    "version": 3
   },
   "file_extension": ".py",
   "mimetype": "text/x-python",
   "name": "python",
   "nbconvert_exporter": "python",
   "pygments_lexer": "ipython3",
   "version": "3.8.10"
  }
 },
 "nbformat": 4,
 "nbformat_minor": 4
}