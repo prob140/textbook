{
 "cells": [
  {
   "cell_type": "code",
   "execution_count": 1,
   "metadata": {
    "collapsed": true,
    "tags": [
     "remove_cell"
    ]
   },
   "outputs": [
    {
     "ename": "ModuleNotFoundError",
     "evalue": "No module named 'ipywidgets'",
     "output_type": "error",
     "traceback": [
      "\u001b[0;31m---------------------------------------------------------------------------\u001b[0m",
      "\u001b[0;31mModuleNotFoundError\u001b[0m                       Traceback (most recent call last)",
      "Cell \u001b[0;32mIn[1], line 3\u001b[0m\n\u001b[1;32m      1\u001b[0m \u001b[38;5;66;03m# HIDDEN\u001b[39;00m\n\u001b[1;32m      2\u001b[0m \u001b[38;5;28;01mfrom\u001b[39;00m \u001b[38;5;21;01mdatascience\u001b[39;00m \u001b[38;5;28;01mimport\u001b[39;00m \u001b[38;5;241m*\u001b[39m\n\u001b[0;32m----> 3\u001b[0m \u001b[38;5;28;01mfrom\u001b[39;00m \u001b[38;5;21;01mprob140\u001b[39;00m \u001b[38;5;28;01mimport\u001b[39;00m \u001b[38;5;241m*\u001b[39m\n\u001b[1;32m      4\u001b[0m get_ipython()\u001b[38;5;241m.\u001b[39mrun_line_magic(\u001b[38;5;124m'\u001b[39m\u001b[38;5;124mmatplotlib\u001b[39m\u001b[38;5;124m'\u001b[39m, \u001b[38;5;124m'\u001b[39m\u001b[38;5;124minline\u001b[39m\u001b[38;5;124m'\u001b[39m)\n\u001b[1;32m      5\u001b[0m \u001b[38;5;28;01mimport\u001b[39;00m \u001b[38;5;21;01mmatplotlib\u001b[39;00m\u001b[38;5;21;01m.\u001b[39;00m\u001b[38;5;21;01mpyplot\u001b[39;00m \u001b[38;5;28;01mas\u001b[39;00m \u001b[38;5;21;01mplt\u001b[39;00m\n",
      "File \u001b[0;32m/opt/miniconda3/lib/python3.12/site-packages/prob140/__init__.py:2\u001b[0m\n\u001b[1;32m      1\u001b[0m \u001b[38;5;28;01mfrom\u001b[39;00m \u001b[38;5;21;01m.\u001b[39;00m\u001b[38;5;21;01mversion\u001b[39;00m \u001b[38;5;28;01mimport\u001b[39;00m __version__\n\u001b[0;32m----> 2\u001b[0m \u001b[38;5;28;01mfrom\u001b[39;00m \u001b[38;5;21;01m.\u001b[39;00m\u001b[38;5;21;01mrebinding\u001b[39;00m \u001b[38;5;28;01mimport\u001b[39;00m Table, Plot, Plots, JointDistribution\n\u001b[1;32m      3\u001b[0m \u001b[38;5;28;01mfrom\u001b[39;00m \u001b[38;5;21;01m.\u001b[39;00m\u001b[38;5;21;01mmarkov_chains\u001b[39;00m \u001b[38;5;28;01mimport\u001b[39;00m MarkovChain\n\u001b[1;32m      5\u001b[0m \u001b[38;5;28;01mfrom\u001b[39;00m \u001b[38;5;21;01m.\u001b[39;00m\u001b[38;5;21;01msingle_variable\u001b[39;00m \u001b[38;5;28;01mimport\u001b[39;00m emp_dist\n",
      "File \u001b[0;32m/opt/miniconda3/lib/python3.12/site-packages/prob140/rebinding.py:5\u001b[0m\n\u001b[1;32m      3\u001b[0m \u001b[38;5;28;01mfrom\u001b[39;00m \u001b[38;5;21;01m.\u001b[39;00m\u001b[38;5;21;01mmarkov_chains\u001b[39;00m \u001b[38;5;28;01mimport\u001b[39;00m MarkovChain, to_markov_chain\n\u001b[1;32m      4\u001b[0m \u001b[38;5;28;01mfrom\u001b[39;00m \u001b[38;5;21;01m.\u001b[39;00m\u001b[38;5;21;01msymbolic_math\u001b[39;00m \u001b[38;5;28;01mimport\u001b[39;00m \u001b[38;5;241m*\u001b[39m\n\u001b[0;32m----> 5\u001b[0m \u001b[38;5;28;01mfrom\u001b[39;00m \u001b[38;5;21;01m.\u001b[39;00m\u001b[38;5;21;01mplots\u001b[39;00m \u001b[38;5;28;01mimport\u001b[39;00m Plot_continuous\n\u001b[1;32m      7\u001b[0m \u001b[38;5;28;01mfrom\u001b[39;00m \u001b[38;5;21;01mdatascience\u001b[39;00m \u001b[38;5;28;01mimport\u001b[39;00m \u001b[38;5;241m*\u001b[39m\n\u001b[1;32m     10\u001b[0m \u001b[38;5;28;01mdef\u001b[39;00m \u001b[38;5;21mdomain\u001b[39m(\u001b[38;5;28mself\u001b[39m, \u001b[38;5;241m*\u001b[39margs):\n",
      "File \u001b[0;32m/opt/miniconda3/lib/python3.12/site-packages/prob140/plots.py:1\u001b[0m\n\u001b[0;32m----> 1\u001b[0m \u001b[38;5;28;01mimport\u001b[39;00m \u001b[38;5;21;01mipywidgets\u001b[39;00m \u001b[38;5;28;01mas\u001b[39;00m \u001b[38;5;21;01mwidgets\u001b[39;00m\n\u001b[1;32m      2\u001b[0m \u001b[38;5;28;01mfrom\u001b[39;00m \u001b[38;5;21;01mipywidgets\u001b[39;00m \u001b[38;5;28;01mimport\u001b[39;00m interact\n\u001b[1;32m      3\u001b[0m \u001b[38;5;28;01mimport\u001b[39;00m \u001b[38;5;21;01mmatplotlib\u001b[39;00m\u001b[38;5;21;01m.\u001b[39;00m\u001b[38;5;21;01mpyplot\u001b[39;00m \u001b[38;5;28;01mas\u001b[39;00m \u001b[38;5;21;01mplt\u001b[39;00m\n",
      "\u001b[0;31mModuleNotFoundError\u001b[0m: No module named 'ipywidgets'"
     ]
    }
   ],
   "source": [
    "# HIDDEN\n",
    "from datascience import *\n",
    "from prob140 import *\n",
    "%matplotlib inline\n",
    "import matplotlib.pyplot as plt\n",
    "plt.style.use('fivethirtyeight')\n",
    "import numpy as np"
   ]
  },
  {
   "cell_type": "markdown",
   "metadata": {},
   "source": [
    "## More Examples ##"
   ]
  },
  {
   "cell_type": "markdown",
   "metadata": {
    "collapsed": true
   },
   "source": [
    "Just a plus rule and a times rule – that's all it takes to get going. Here are some examples of standard problem solving techniques."
   ]
  },
  {
   "cell_type": "markdown",
   "metadata": {},
   "source": [
    "### Example 1: A Fundamental Method – Start by Partitioning ###\n",
    "A box contains 6 dark chocolates and 4 milk chocolates. I pick two at random without replacement.\n",
    "\n",
    "**Question.** What is the chance that I get one of each kind?\n",
    "\n",
    "**Answer.** You will have noticed that the problem doesn't specify whether the dark has to come first, or the milk. Either could happen. So list the distinct ways the event can happen, that is, partition the event:\n",
    "- first dark then milk: chance $(6/10)\\cdot(4/9)$ by the multiplication rule\n",
    "- first milk then dark: chance $(4/10)\\cdot(6/9)$\n",
    "\n",
    "(Aha! The two terms are equal! Get ready for many more such symmetries in sampling without replacement.)\n",
    "\n",
    "Now add the chances of the two bits. The answer is $2\\cdot(6/10)\\cdot(4/9)$.\n",
    "\n",
    "This method should become as natural as breathing. You should also redo the problem under the unnatural assumption that the chocolates are drawn with replacement, to see what changes and what stays the same."
   ]
  },
  {
   "cell_type": "markdown",
   "metadata": {},
   "source": [
    "### Example 2: Polya's Urn Scheme ###\n",
    "A box contains $b$ black balls and $w$ white balls. A ball is drawn at random, and then replaced in the urn along with $d$ more balls of its color. Then a ball is drawn at random from the urn.\n",
    "\n",
    "**Question 1.** What is the chance that the first ball drawn is black?\n",
    "\n",
    "**Answer 1.** Not much effort required.\n",
    "\n",
    "$$\n",
    "P(\\text{first ball black}) = \\frac{b}{b+w}\n",
    "$$\n",
    "\n",
    "**Question 2.** What is the chance that the second ball drawn is black?\n",
    "\n",
    "**Answer 2.** Your mind goes naturally to what the first ball was, so partition according to the color of that one, and add. The fundamental method strikes again.\n",
    "\n",
    "$$\n",
    "\\begin{align*}\n",
    "P(\\text{second ball black}) &= P(WB) + P(BB) \\\\ \\\\\n",
    "&= \\frac{w}{b+w} \\cdot \\frac{b}{b+w+d} ~+~ \\frac{b}{b+w} \\cdot \\frac{b+d}{b+w+d} \\\\ \\\\\n",
    "&= \\frac{wb + b^2 + bd}{(b+w)(b+w+d)} \\\\ \\\\\n",
    "&= \\frac{b(b+w+d)}{(b+w)(b+w+d)} \\\\ \\\\\n",
    "&= \\frac{b}{b+w}\n",
    "\\end{align*}\n",
    "$$\n",
    "\n",
    "That's the same as the chance that the first ball is black, no matter what $d$ is. This scheme is interesting!\n",
    "\n",
    "**Question 3.** What is the chance that the second ball drawn is black, given that the first one drawn was black?\n",
    "\n",
    "**Answer 3.** We already used this in the calculation above. Conditional probabilities \"going forwards in time\" can often just be read off the information in the question, as in this case:\n",
    "\n",
    "$$\n",
    "P(\\text{second ball black} \\mid \\text{first ball black}) =\n",
    "\\frac{b+d}{b+w+d}\n",
    "$$\n",
    "\n",
    "**Question 4.** What is the chance that the first ball drawn is black, given that the second one drawn was black?\n",
    "\n",
    "**Answer 4.** This kind of \"going back in time\" conditional probability isn't easy to just read off. **This is where the division rule comes in.**\n",
    "\n",
    "$$\n",
    "\\begin{align*}\n",
    "P(\\text{first ball black} \\mid \\text{second ball black}) &=\n",
    "\\frac{P(BB)}{P(\\text{second ball black})} \\\\ \\\\\n",
    "&= \\frac{\\frac{b}{b+w} \\cdot \\frac{b+d}{b+w+d}}{\\frac{b}{b+w}} \\\\ \\\\\n",
    "&= \\frac{b+d}{b+w+d}\n",
    "\\end{align*}\n",
    "$$\n",
    "\n",
    "This one does depend on $d$, but it's the same as Answer 3. Forwards and backwards don't seem to make a difference. \n",
    "\n",
    "Now you begin to see why this scheme carries the name of its renowned originator [George Polya](https://en.wikipedia.org/wiki/George_Pólya) (1887-1985). You can keep repeating the scheme – replace the drawn ball with another $d$ balls of its color, and draw again – to get a *process* with beautiful and useful properties for updating opinions as data comes in. We'll see that later in the course."
   ]
  },
  {
   "cell_type": "code",
   "execution_count": 2,
   "metadata": {
    "collapsed": true
   },
   "outputs": [],
   "source": []
  }
 ],
 "metadata": {
  "anaconda-cloud": {},
  "kernelspec": {
   "display_name": "Python 3",
   "language": "python",
   "name": "python3"
  },
  "language_info": {
   "codemirror_mode": {
    "name": "ipython",
    "version": 3
   },
   "file_extension": ".py",
   "mimetype": "text/x-python",
   "name": "python",
   "nbconvert_exporter": "python",
   "pygments_lexer": "ipython3",
   "version": "3.12.1"
  }
 },
 "nbformat": 4,
 "nbformat_minor": 1
}