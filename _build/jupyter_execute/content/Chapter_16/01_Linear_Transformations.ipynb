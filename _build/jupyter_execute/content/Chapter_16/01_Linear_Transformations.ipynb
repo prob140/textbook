{
 "cells": [
  {
   "cell_type": "code",
   "execution_count": 1,
   "metadata": {
    "tags": [
     "remove_cell"
    ]
   },
   "outputs": [],
   "source": [
    "# HIDDEN\n",
    "import warnings\n",
    "warnings.filterwarnings('ignore')\n",
    "from datascience import *\n",
    "from prob140 import *\n",
    "import numpy as np\n",
    "import matplotlib.pyplot as plt\n",
    "plt.style.use('fivethirtyeight')\n",
    "%matplotlib inline\n",
    "import math\n",
    "from scipy import stats"
   ]
  },
  {
   "cell_type": "markdown",
   "metadata": {},
   "source": [
    "## Linear Transformations ##"
   ]
  },
  {
   "cell_type": "markdown",
   "metadata": {},
   "source": [
    "Linear transformations are both simple and ubiquitous: every time you change units of measurement, for example to standard units, you are performing a linear transformation."
   ]
  },
  {
   "cell_type": "markdown",
   "metadata": {},
   "source": [
    "### Linear Transformation: Exponential Density ###\n",
    "\n",
    "Let $T$ have the exponential $(\\lambda)$ distribution and let $T_1 = \\lambda T$. Then $T_1$ is a linear transformation of $T$. Therefore\n",
    "\n",
    "$$\n",
    "E(T_1) = \\lambda E(T) = 1 ~~~ \\text{and} ~~~ SD(T_1) = \\lambda SD(T) = 1\n",
    "$$\n",
    "\n",
    "The parameter $\\lambda$ has disappeared in these results. Let's see how that follows from the distribution of $T_1$. The cdf of $T_1$ is \n",
    "\n",
    "$$\n",
    "F_{T_1}(t) = P(T_1 \\le t) = P(T \\le t/\\lambda) = 1 - e^{-\\lambda (t/\\lambda)}\n",
    "= 1 - e^{-t}\n",
    "$$\n",
    "\n",
    "That's the cdf of the exponential $(1)$ distribution, consistent with the expectation and SD we found above.\n",
    "\n",
    "To summarize, if $T$ has the exponential $(\\lambda)$ distribution then the distribution of $T_1 = \\lambda T$ is exponential $(1)$.\n",
    "\n",
    "You can think of the exponential $(1)$ distribution as the fundamental member of the family of exponential distributions. All others in the family can be found by changing the scale of measurement, that is, by multiplying by a constant. \n",
    "\n",
    "If $T_1$ has the exponential $(1)$ distribution, then $T = \\frac{1}{\\lambda}T_1$ has the exponential $(\\lambda)$ distribution. The factor $1/\\lambda$ is called the *scale parameter*. \n",
    "\n",
    "Here are graphs of the densities of $T_1$ and $T = \\frac{1}{2}T_1$. By the paragraph above, $T$ has the exponential $(2)$ distribution. "
   ]
  },
  {
   "cell_type": "code",
   "execution_count": 2,
   "metadata": {
    "tags": [
     "remove_input"
    ]
   },
   "outputs": [
    {
     "data": {
      "image/png": "[encoded data removed]",
      "text/plain": [
       "<Figure size 432x288 with 1 Axes>"
      ]
     },
     "metadata": {
      "filenames": {
       "image/png": "/mnt/c/Users/septi/Desktop/Berkeley/Summer 2022/Jupyter Book/Data 140/textbook/_build/jupyter_execute/content/Chapter_16/01_Linear_Transformations_4_0.png"
      },
      "needs_background": "light"
     },
     "output_type": "display_data"
    }
   ],
   "source": [
    "# NO CODE\n",
    "t = np.arange(0, 5.01, 0.01)\n",
    "t1 = stats.expon.pdf(t, scale = 1)\n",
    "t2 = stats.expon.pdf(t, scale = 1/2)\n",
    "plt.plot(t, t1, color='darkblue', lw=2, label='Exponential (1)')\n",
    "plt.plot(t, t2, color='gold', lw=2, label='Exponential (2)')\n",
    "plt.xlabel('$t$')\n",
    "plt.ylabel('Density at $t$')\n",
    "plt.legend();"
   ]
  },
  {
   "cell_type": "markdown",
   "metadata": {},
   "source": [
    "The formulas for the two densities are\n",
    "\n",
    "$$\n",
    "f_{T_1} (s) = e^{-s} ~~~~~~~~~~~~~~ f_T(t) = 2e^{-2t}\n",
    "$$\n",
    "\n",
    "Let's try to understand the relation between these two densities in a way that will help us generalize what we are seeing in this example. \n",
    "\n",
    "The relation between the two random variables is $T = \\frac{1}{2}T_1$.\n",
    "\n",
    "- For any $t$, the chance that $T$ is near $t$ is the same as the chance that $T_1$ is near $s = 2t$. This explains the factor $e^{-2t}$ in the density of $T$.\n",
    "- If we think of $T_1$ as a point on the horizontal axis, then to create $T$ you have to divide $T_1$ by $2$. So the transformation consists of halving all distances on the horizontal axis. The total area under the density of $T$ must equal $1$, so we have to compensate by doubling all distances on the vertical axis. This explains the factor $2$ in the density of $T$."
   ]
  },
  {
   "cell_type": "markdown",
   "metadata": {},
   "source": [
    "```{admonition} Quick Check\n",
    "If $T$ is exponential $(\\lambda)$ and $c > 0$, then $S = cT$ is exponential with one of the following rates. Which one?\n",
    "\n",
    "$c\\lambda$, $\\frac{c}{\\lambda}$, $\\frac{\\lambda}{c}$\n",
    "\n",
    "```"
   ]
  },
  {
   "cell_type": "markdown",
   "metadata": {},
   "source": [
    "```{admonition} Answer\n",
    ":class: dropdown\n",
    "$\\frac{\\lambda}{c}$\n",
    "\n",
    "```"
   ]
  },
  {
   "cell_type": "code",
   "execution_count": 3,
   "metadata": {
    "tags": [
     "remove-input",
     "hide-output"
    ]
   },
   "outputs": [
    {
     "data": {
      "text/html": [
       "\n",
       "<iframe\n",
       "    width=\"400\"\n",
       "    height=\"300\"\n",
       "    src=\"https://www.youtube.com/embed/MA40E9QPCjU\"\n",
       "    frameborder=\"0\"\n",
       "    allowfullscreen\n",
       "\n",
       "></iframe>\n"
      ],
      "text/plain": [
       "<IPython.lib.display.YouTubeVideo at 0x7fd7cc660ac0>"
      ]
     },
     "execution_count": 3,
     "metadata": {},
     "output_type": "execute_result"
    }
   ],
   "source": [
    "# VIDEO\n",
    "from IPython.display import YouTubeVideo\n",
    "\n",
    "YouTubeVideo('MA40E9QPCjU')"
   ]
  },
  {
   "cell_type": "markdown",
   "metadata": {
    "collapsed": true
   },
   "source": [
    "### Linear Change of Variable Formula for Densities ###\n",
    "We use the same idea to find the density of a linear transformation of a random variable.\n",
    "\n",
    "Let $X$ be a random variable with density $f_X$, and let $Y = aX + b$ for constants $a \\ne 0$ and $b$. Let $f_Y$ be the density of $Y$. Then\n",
    "\n",
    "$$\n",
    "f_Y(y) ~ = ~ f_X\\big{(} \\frac{y-b}{a}\\big{)} \\frac{1}{\\lvert a \\rvert} \n",
    "$$\n",
    "\n",
    "Let's take this formula in two pieces, as in the exponential example.\n",
    "- For $Y$ to be $y$, $X$ has to be $(y-b)/a$.\n",
    "- The linear function $y = ax+b$ involves multiplying distances along the horizontal axis by $\\lvert a \\rvert$; the sign of $a$ doesn't affect distances. To get a density, we have to compensate by dividing all vertical distances by $\\lvert a \\rvert$.\n",
    "\n",
    "This is a good way to understand the formula, and will help you understand the corresponding formula for non-linear transformations.\n",
    "\n",
    "For a formal proof, start with the case $a > 0$.\n",
    "\n",
    "$$\n",
    "F_Y(y) = P(aX+b \\le y) = P\\big{(}X \\le \\frac{y-b}{a}\\big{)} = F_X\\big{(}\\frac{y-b}{a}\\big{)}\n",
    "$$\n",
    "\n",
    "By the chain rule of differentiation,\n",
    "\n",
    "$$\n",
    "f_Y(y) = f_X\\big{(}\\frac{y-b}{a}\\big{)} \\cdot \\frac{1}{a}\n",
    "$$\n",
    "\n",
    "If $a < 0$ then division by $a$ causes the direction of the inequality to switch:\n",
    "\n",
    "$$\n",
    "F_Y(y) = P(aX+b \\le y) = P\\big{(}X \\ge \\frac{y-b}{a}\\big{)} = 1 - F_X\\big{(}\\frac{y-b}{a}\\big{)}\n",
    "$$\n",
    "\n",
    "Now the chain rule yields\n",
    "\n",
    "$$\n",
    "f_Y(y) ~ = ~ -f_X\\big{(}\\frac{y-b}{a}\\big{)} \\cdot \\frac{1}{a}\n",
    "~ = ~ f_X\\big{(}\\frac{y-b}{a}\\big{)} \\cdot \\frac{1}{\\lvert a \\rvert}\n",
    "$$"
   ]
  },
  {
   "cell_type": "markdown",
   "metadata": {},
   "source": [
    "```{admonition} Quick Check\n",
    "$V$ has density $f$ on the whole real line.\n",
    "\n",
    "(a) Write the density of $W = 5 + 3V$ in terms of $f$.\n",
    "\n",
    "(b) Write the density of $W = 5 - 3V$ in terms of $f$.\n",
    "\n",
    "```"
   ]
  },
  {
   "cell_type": "markdown",
   "metadata": {},
   "source": [
    "```{admonition} Answer\n",
    ":class: dropdown\n",
    "(a) For all $w$, $f_W(w) = f\\big{(}\\frac{w-5}{3}\\big{)}\\cdot\\frac{1}{3}$\n",
    "\n",
    "(b) For all $w$, $f_W(w) = f\\big{(}\\frac{w-5}{-3}\\big{)}\\cdot\\frac{1}{3}$\n",
    "\n",
    "```"
   ]
  },
  {
   "cell_type": "markdown",
   "metadata": {},
   "source": [
    "### The Normal Densities ###\n",
    "Let $Z$ have the standard normal density \n",
    "\n",
    "$$\n",
    "\\phi(z) ~ = ~ \\frac{1}{\\sqrt{2\\pi}} e^{-\\frac{1}{2}z^2}, ~~~ -\\infty < z < \n",
    "\\infty\n",
    "$$\n",
    "\n",
    "Let $X = \\sigma Z + \\mu$ for constants $\\mu$ and $\\sigma$ with $\\sigma > 0$. Then for any real number $x$, the density of $X$ is\n",
    "\n",
    "$$\n",
    "\\begin{align*}\n",
    "f_X(x) ~ &= ~ \\phi\\big{(} \\frac{x-\\mu}{\\sigma} \\big{)} \\frac{1}{\\sigma} \\\\ \\\\\n",
    "&= ~ \\frac{1}{\\sqrt{2\\pi}\\sigma} e^{-\\frac{1}{2} \\big{(} \\frac{x-\\mu}{\\sigma} \\big{)}^2} \n",
    "\\end{align*}\n",
    "$$\n",
    "\n",
    "Thus every normal random variable is a linear transformation of a standard normal variable. "
   ]
  },
  {
   "cell_type": "markdown",
   "metadata": {},
   "source": [
    "```{admonition} Quick Check\n",
    "Let $X$ have the normal distribution with mean $0$ and variance $90$. Write $X$ as a linear function of a standard normal random variable.\n",
    "\n",
    "```"
   ]
  },
  {
   "cell_type": "markdown",
   "metadata": {},
   "source": [
    "```{admonition} Answer\n",
    ":class: dropdown\n",
    "$X = \\sqrt{90}Z$ where $Z$ is $X$ in standard units and hence standard normal\n",
    "\n",
    "```"
   ]
  },
  {
   "cell_type": "markdown",
   "metadata": {
    "collapsed": true
   },
   "source": [
    "### The Uniform Densities, Revisited ###\n",
    "Let the distribution of $U$ be uniform on $(0, 1)$ and for constants $b > a$ let $V = (b-a)U + a$. In an earlier section we saw that $V$ has the uniform distribution on $(a, b)$. But let's see what's involved in confirming that result using our new formula.\n",
    "\n",
    "First it is a good idea to be clear about the possible values of $V$. Since the possible values of $U$ are in $(0, 1)$, the possible values of $V$ are in $(a, b)$.\n",
    "\n",
    "At $v \\in (a, b)$, the density of $V$ is\n",
    "\n",
    "$$\n",
    "f_V(v) ~ = ~ f_U\\big{(} \\frac{v - a}{b-a} \\big{)} \\frac{1}{b-a} ~ = ~\n",
    "1 \\cdot \\frac{1}{b-a} ~ = ~ \\frac{1}{b-a}\n",
    "$$\n",
    "\n",
    "That's the uniform density on $(a, b)$."
   ]
  },
  {
   "cell_type": "code",
   "execution_count": 3,
   "metadata": {
    "collapsed": true
   },
   "outputs": [],
   "source": []
  }
 ],
 "metadata": {
  "celltoolbar": "Tags",
  "kernelspec": {
   "display_name": "Python 3",
   "language": "python",
   "name": "python3"
  },
  "language_info": {
   "codemirror_mode": {
    "name": "ipython",
    "version": 3
   },
   "file_extension": ".py",
   "mimetype": "text/x-python",
   "name": "python",
   "nbconvert_exporter": "python",
   "pygments_lexer": "ipython3",
   "version": "3.8.10"
  }
 },
 "nbformat": 4,
 "nbformat_minor": 1
}