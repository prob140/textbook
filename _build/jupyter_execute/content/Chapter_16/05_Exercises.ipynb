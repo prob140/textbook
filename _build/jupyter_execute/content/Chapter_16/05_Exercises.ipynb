{
 "cells": [
  {
   "cell_type": "markdown",
   "metadata": {},
   "source": [
    "## Exercises ##"
   ]
  },
  {
   "cell_type": "markdown",
   "metadata": {},
   "source": [
    "**1.** Let $X$ have density $f_X(x) = 2x$ for $0 < x < 1$. Find the density of\n",
    "\n",
    "(a) $5X - 3$\n",
    "\n",
    "(b) $4X^3$\n",
    "\n",
    "(c) $X/(1+X)$"
   ]
  },
  {
   "cell_type": "markdown",
   "metadata": {},
   "source": [
    "**2.** Let $X$ have density $f(x) = 2x^{-3}e^{-x^{-2}}$ on the positive real numbers. Find the density of $X^4$."
   ]
  },
  {
   "cell_type": "markdown",
   "metadata": {},
   "source": [
    "**3.** For a fixed $\\alpha > 0$ let $X$ have the Pareto density given by\n",
    "\n",
    "$$f(x) ~ = ~ \\frac{\\alpha}{x^{\\alpha+1}}, ~~ x > 1$$\n",
    "\n",
    "Find the density of $\\log(X)$. Recognize this as one of the famous ones and provide its name and parameters."
   ]
  },
  {
   "cell_type": "markdown",
   "metadata": {},
   "source": [
    "**4.** Let $X$ be a random variable. Find the density of $X^2$ if $X$ has the\n",
    "uniform distribution on $(-1, 2)$."
   ]
  },
  {
   "cell_type": "markdown",
   "metadata": {},
   "source": [
    "**5.** Let $U$ have the uniform $(0, 1)$ distribution. For $\\lambda > 0$, find a function of $U$ that has the exponential $(\\lambda)$ distribution."
   ]
  },
  {
   "cell_type": "markdown",
   "metadata": {},
   "source": [
    "**6.** Let $Z$ be standard normal.\n",
    "\n",
    "(a) Use the change of variable formula to find the density of $1/Z$. Why do you not have to worry about the event $Z = 0$?\n",
    "\n",
    "(b) A student who doesn’t like the change of variable formula decides to first find the cdf of $1/Z$ and then differentiate it to get the density. That’s a fine plan. The student starts out by writing $P(1/Z < x) = P(1/x < Z)$ and immediately the course staff say, “Are you sure?” What is the problem with what the student wrote?\n",
    "\n",
    "(c) For all $x$, find $P(1/Z < x)$.\n",
    "\n",
    "(d) Check by differentiation that your answer to (c) is consistent with your answer to (a)."
   ]
  },
  {
   "cell_type": "markdown",
   "metadata": {},
   "source": [
    "**7.** Let the random variable $X$ have cdf $F$ and let the random variable $Y$ have cdf $G$. You can assume that both $F$ and $G$ are continuous and increasing.\n",
    "\n",
    "(a) Find a function $h$ such that the random variable $h(X)$ has the uniform $(0, 1)$ distribution.\n",
    "\n",
    "(b) Use Part (a) to find a function $g$ such that the random variable $g(X)$ has the same distribution as $Y$."
   ]
  },
  {
   "cell_type": "code",
   "execution_count": null,
   "metadata": {},
   "outputs": [],
   "source": []
  }
 ],
 "metadata": {
  "kernelspec": {
   "display_name": "Python 3",
   "language": "python",
   "name": "python3"
  },
  "language_info": {
   "codemirror_mode": {
    "name": "ipython",
    "version": 3
   },
   "file_extension": ".py",
   "mimetype": "text/x-python",
   "name": "python",
   "nbconvert_exporter": "python",
   "pygments_lexer": "ipython3",
   "version": "3.8.10"
  }
 },
 "nbformat": 4,
 "nbformat_minor": 2
}