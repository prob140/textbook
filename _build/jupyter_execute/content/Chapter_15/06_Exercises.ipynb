{
 "cells": [
  {
   "cell_type": "markdown",
   "metadata": {},
   "source": [
    "## Exercises ##"
   ]
  },
  {
   "cell_type": "markdown",
   "metadata": {},
   "source": [
    "**1.** Let $X$ have density given by\n",
    "\n",
    "$$f(x) ~ = ~ \n",
    "\\begin{cases}\n",
    "c(1 - x^2), ~~ -1 < x < 1 \\\\\n",
    "0 ~~~~~ \\text{otherwise}\n",
    "\\end{cases}$$\n",
    "\n",
    "Find\n",
    "\n",
    "(a) $c$\n",
    "\n",
    "(b) the cdf of $X$\n",
    "\n",
    "(c) $P(\\vert X \\vert > 0.5)$\n",
    "\n",
    "(d) $E(X)$\n",
    "\n",
    "(e) $SD(X)$"
   ]
  },
  {
   "cell_type": "markdown",
   "metadata": {},
   "source": [
    "**2.** A Zoom call starts at 10:00. Suppose I join the call at a time uniformly distributed over the interval 10:00 to 10:05, and you join the call at an independent time normally distributed with mean 10:03 and SD $0.5$ minutes. What is the chance that we both miss the first two minutes of the call?"
   ]
  },
  {
   "cell_type": "markdown",
   "metadata": {},
   "source": [
    "**3.** Let $U_1, U_2, \\ldots, U_n$ be i.i.d. uniform on the interval $(-1, 1)$. Assume $n$ is large.\n",
    "\n",
    "(a) Let $M_n = \\min(U_1, U_2, \\ldots, U_n)$. For $-1 < x < 1$, find or approximate $P(M_n > x)$.\n",
    "\n",
    "(b) Let $A_n = \\frac{1}{n}\\sum_{i=1}^n U_i$. For $-1 < x < 1$, find or approximate $P(A_n > x)$."
   ]
  },
  {
   "cell_type": "markdown",
   "metadata": {},
   "source": [
    "**4.** In each of Parts (a) and (b), find $P(X > 4E(X))$ if you can. If you can’t, then approximate it if you can, and if you can’t approximate it, then provide the best upper and lower bounds that you can find.\n",
    "\n",
    "(a) $X$ is a non-negative random variable\n",
    "\n",
    "(b) $X$ has the exponential $(\\lambda)$ distribution"
   ]
  },
  {
   "cell_type": "markdown",
   "metadata": {},
   "source": [
    "**5.** Let $X$ have the exponential $(\\lambda)$ distribution and let $c$ be a positive constant. Let $Y=cX$. Find the survival function of $Y$ and hence identify the distribution of $Y$."
   ]
  },
  {
   "cell_type": "markdown",
   "metadata": {},
   "source": [
    "**6.** For $i = 1, 2, \\ldots, n$, let $X_i$ have the exponential $(\\lambda_i)$ distribution, and assume that $X_1, X_2, \\ldots, X_n$ are independent.\n",
    "\n",
    "Let $M = \\min(X_1, X_2, \\ldots, X_n)$. Find the distribution of $M$. Recognize it as one of the famous ones and provide its name and parameters."
   ]
  },
  {
   "cell_type": "markdown",
   "metadata": {},
   "source": [
    "**7.** For fixed $\\alpha > 2$, a random variable $T$ has the *Pareto* distribution with shape parameter $\\alpha$ and possible values $(1, \\infty)$ if the density of $T$ is given by\n",
    "\n",
    "$$f_T(t) ~ = ~ c t^{-(\\alpha + 1)}, ~~~ t > 1$$.\n",
    "\n",
    "(a) Find $c$.\n",
    "\n",
    "(b) Find the cdf of $T$.\n",
    "\n",
    "(c) Find $E(T)$.\n",
    "\n",
    "(d) Find $Var(T)$."
   ]
  },
  {
   "cell_type": "markdown",
   "metadata": {},
   "source": [
    "**8.** Let $X$ be a random variable describing the relative change of Bitcoin in a year: a $1$ dollar investment in bitcoin will be worth $X$ dollars at the end of the year. Jason buys $100$ dollars worth of bitcoin. Let $Y$ be the profit made on this investment at the end of the year. For example, if $X=0.9$, then the profit is $-10$ dollars, and if $X=1.1$, the profit is $10$ dollars.\n",
    "\n",
    "Assume that $X$ has the density, expectation, and variance given below. (This is a *lognormal* distribution, which you will encounter later in the course.)\n",
    "\n",
    "$$f_X(x) = \\frac{1}{x\\sqrt{2\\pi}} e^{-\\frac{(\\ln x)^2}{2}}, ~~ x > 0 ~~~~~~~~~~~E(X) = 1 ~~~~~~~~~~~ Var(X) = e^2-e$$.\n",
    "\n",
    "(a) Let $F_X$ be the cdf of $X$ and $F_Y$ the cdf of $Y$. Without doing any integrals, write $F_Y$ in terms of $F_X$.\n",
    "\n",
    "(b) Use Part (a) to find $f_Y$, the density of $Y$.\n",
    "\n",
    "(c) Without doing any integrals, find $E(Y)$ and $SD(Y)$."
   ]
  },
  {
   "cell_type": "markdown",
   "metadata": {},
   "source": [
    "**9.** Let $X$ have the *bilateral exponential* density given by\n",
    "\n",
    "$$f_X(x) ~ = ~  \\frac{1}{2}e^{-|x|}, ~~~~ -\\infty < x < \\infty$$\n",
    "\n",
    "Use what you know about the exponential density to find, *without integration*,\n",
    "\n",
    "(a) the cdf of $X$\n",
    "\n",
    "(b) $E(X)$\n",
    "\n",
    "(c) $Var(X)$"
   ]
  },
  {
   "cell_type": "markdown",
   "metadata": {},
   "source": [
    "**10.** Let $T$ have the exponential $(\\lambda)$ distribution and let $X$ be the integer part of $T$. Find the distribution of $X$. Identify it as one of the famous ones and find its name and parameters."
   ]
  },
  {
   "cell_type": "markdown",
   "metadata": {},
   "source": [
    "**11.** Let $T$ be a non-negative random variable that has density $f$. For each $t > 0$, let $S(t) = P(T > t)$. Show that $E(T) = \\int_0^\\infty S(t)dt$.\n",
    "\n",
    "[Write $S(t)$ as an integral of $f$, then switch the order of integration.]"
   ]
  },
  {
   "cell_type": "code",
   "execution_count": null,
   "metadata": {},
   "outputs": [],
   "source": []
  }
 ],
 "metadata": {
  "kernelspec": {
   "display_name": "Python 3",
   "language": "python",
   "name": "python3"
  },
  "language_info": {
   "codemirror_mode": {
    "name": "ipython",
    "version": 3
   },
   "file_extension": ".py",
   "mimetype": "text/x-python",
   "name": "python",
   "nbconvert_exporter": "python",
   "pygments_lexer": "ipython3",
   "version": "3.8.10"
  }
 },
 "nbformat": 4,
 "nbformat_minor": 2
}