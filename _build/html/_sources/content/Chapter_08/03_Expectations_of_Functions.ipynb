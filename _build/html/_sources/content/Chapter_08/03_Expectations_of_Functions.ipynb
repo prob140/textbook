{
 "cells": [
  {
   "cell_type": "code",
   "execution_count": 1,
   "metadata": {
    "collapsed": true,
    "tags": [
     "remove_cell"
    ]
   },
   "outputs": [],
   "source": [
    "# HIDDEN\n",
    "from datascience import *\n",
    "from prob140 import *\n",
    "import numpy as np\n",
    "import matplotlib.pyplot as plt\n",
    "plt.style.use('fivethirtyeight')\n",
    "%matplotlib inline\n",
    "import math\n",
    "from scipy import stats\n",
    "from scipy import misc"
   ]
  },
  {
   "cell_type": "markdown",
   "metadata": {},
   "source": [
    "## Expectations of Functions ##"
   ]
  },
  {
   "cell_type": "markdown",
   "metadata": {},
   "source": [
    "Once we have a random variable, we often want to work with functions of it. For example, if a random variables is an estimator, we usually want to see how far it is from the value it is trying to estimate. For example, we might want to see how far a random variable $X$ is from the number 10. That's a function of $X$. Let's call it $Y$. Then\n",
    "\n",
    "$$\n",
    "Y = |X - 10|\n",
    "$$\n",
    "\n",
    "This section is about finding the expectation of a function of a random variable whose distribution you know. Throughout, we will assume that all the expectations that we are discussing are well defined.\n",
    "\n",
    "In what follows, let $X$ be a random variable whose distribution (and hence also expectation) are known."
   ]
  },
  {
   "cell_type": "markdown",
   "metadata": {},
   "source": [
    "### Linear Function Rule ###\n",
    "\n",
    "Let $X$ be a random variable with expectation $E(X)$ and let $Y = aX + b$ for some constants $a$ and $b$. \n",
    "\n",
    "This kind of transformation happens for example when you change units of measurement. \n",
    "\n",
    "- If you switch from Celsius to Fahreneheit, then $a = 9/5$ and $b = 32$. \n",
    "- If you switch from inches to centimeters, then $a = 2.54$ and $b = 0$.\n",
    "\n",
    "We can find $E(Y)$ by applying the definition of expectation on the domain $\\Omega$. For every $\\omega \\in \\Omega$, we have $Y(\\omega) = aX(\\omega) + b$. So\n",
    "\n",
    "$$\n",
    "\\begin{align*}\n",
    "E(Y) ~ &= ~ \\sum_{\\text{all }\\omega} (aX(\\omega)+b)P(\\omega) \\\\\n",
    "&= ~a \\sum_{\\text{all }\\omega} X(\\omega)P(\\omega ) + ~b \\sum_{\\text{all }\\omega} P(\\omega )\\\\\n",
    "&= ~aE(X) + b\n",
    "\\end{align*}\n",
    "$$\n",
    "\n",
    "For example, $E(2X - 3) = 2E(X) - 3$. Also $E(X/2) = E(X)/2$, and $E(1 - X) = 1 - E(X)$.\n",
    "\n",
    "The expectation of a linear transformation of $X$ is the linear transformation of the expectation of $X$. This is a handy result as we will often be transforming variables linearly."
   ]
  },
  {
   "cell_type": "markdown",
   "metadata": {},
   "source": [
    "```{admonition} Quick Check\n",
    "Let $X$ be a random variable with $E(X) = 5$.\n",
    "\n",
    "Find $E(20 + 2X - (10 - X))$.\n",
    "\n",
    "```"
   ]
  },
  {
   "cell_type": "markdown",
   "metadata": {},
   "source": [
    "```{admonition} Answer\n",
    ":class: dropdown\n",
    "$25$\n",
    "\n",
    "```"
   ]
  },
  {
   "cell_type": "markdown",
   "metadata": {},
   "source": [
    "But expectation behaves differently under non-linear transformation."
   ]
  },
  {
   "cell_type": "code",
   "execution_count": 6,
   "metadata": {
    "tags": [
     "remove-input",
     "hide-output"
    ]
   },
   "outputs": [
    {
     "data": {
      "text/html": [
       "\n",
       "        <iframe\n",
       "            width=\"400\"\n",
       "            height=\"300\"\n",
       "            src=\"https://www.youtube.com/embed/BWNa1Ri7eII\"\n",
       "            frameborder=\"0\"\n",
       "            allowfullscreen\n",
       "        ></iframe>\n",
       "        "
      ],
      "text/plain": [
       "<IPython.lib.display.YouTubeVideo at 0x10bd3f040>"
      ]
     },
     "execution_count": 6,
     "metadata": {},
     "output_type": "execute_result"
    }
   ],
   "source": [
    "# VIDEO: Non-linear Function: Observation\n",
    "from IPython.display import YouTubeVideo\n",
    "\n",
    "YouTubeVideo('BWNa1Ri7eII')"
   ]
  },
  {
   "cell_type": "markdown",
   "metadata": {},
   "source": [
    "### Non-linear Function Rule ###\n",
    "Now let $Y = g(X)$ where $g$ is any numerical function. Remember that $X$ is a function on $\\Omega$. So the function that defines the random variable $Y$ is a *composition*:\n",
    "\n",
    "$$\n",
    "Y(\\omega) = (g \\circ X) (\\omega) ~~~~~~~~~ \\text{for } \\omega \\in \\Omega\n",
    "$$\n",
    "\n",
    "This allows us to write $E(Y)$ in three equivalent ways:\n",
    "\n",
    "**On the range of $Y$**\n",
    "\n",
    "$$\n",
    "E(Y) =  \\sum_{\\text{all }y} yP(Y=y)\n",
    "$$\n",
    "\n",
    "**On the domain $\\Omega$**\n",
    "\n",
    "$$\n",
    "E(Y) = E(g(X)) = \\sum_{\\omega \\in \\Omega} (g \\circ X) (\\omega) P(\\omega)\n",
    "$$\n",
    "\n",
    "**On the range of $X$**\n",
    "\n",
    "$$\n",
    "E(Y) = E(g(X)) = \\sum_{\\text{all }x} g(x)P(X=x)\n",
    "$$\n",
    "\n",
    "As before, it is a straightforward matter of grouping to show that all the forms are equivalent.\n",
    "\n",
    "The first form looks the simplest, but there's a catch: you need to first find $P(Y=y)$. The second form involves an unnecessarily high level of detail.\n",
    "\n",
    "The third form is the one to use. It uses the known distribution of $X$. It says that to find $E(Y)$ where $Y = g(X)$ for some function $g$:\n",
    "- Take a generic value $x$ of $X$.\n",
    "- Apply $g$ to $x$; this $g(x)$ is a generic value of $Y$.\n",
    "- Weight $g(x)$ by $P(X=x)$, which is known.\n",
    "- Do this for all $x$ and add. The sum is $E(Y)$.\n",
    "\n",
    "The crucial thing to note about this method is that **we didn't have to first find the distribution of $Y$**. That saves us a lot of work. "
   ]
  },
  {
   "cell_type": "code",
   "execution_count": 5,
   "metadata": {
    "tags": [
     "remove-input",
     "hide-output"
    ]
   },
   "outputs": [
    {
     "data": {
      "text/html": [
       "\n",
       "        <iframe\n",
       "            width=\"400\"\n",
       "            height=\"300\"\n",
       "            src=\"https://www.youtube.com/embed/jVBrCMCzO3o\"\n",
       "            frameborder=\"0\"\n",
       "            allowfullscreen\n",
       "        ></iframe>\n",
       "        "
      ],
      "text/plain": [
       "<IPython.lib.display.YouTubeVideo at 0x10bbfee20>"
      ]
     },
     "execution_count": 5,
     "metadata": {},
     "output_type": "execute_result"
    }
   ],
   "source": [
    "# VIDEO: Non-linear Function: Calculation\n",
    "\n",
    "YouTubeVideo('jVBrCMCzO3o')"
   ]
  },
  {
   "cell_type": "markdown",
   "metadata": {},
   "source": [
    "Let's see how our method works in some examples."
   ]
  },
  {
   "cell_type": "markdown",
   "metadata": {},
   "source": [
    "### $Y = \\vert X-3 \\vert$ ###\n",
    "Let $X$ have a distribution we worked with earlier:"
   ]
  },
  {
   "cell_type": "code",
   "execution_count": 2,
   "metadata": {},
   "outputs": [
    {
     "data": {
      "text/html": [
       "<table border=\"1\" class=\"dataframe\">\n",
       "    <thead>\n",
       "        <tr>\n",
       "            <th>x</th> <th>P(X=x)</th>\n",
       "        </tr>\n",
       "    </thead>\n",
       "    <tbody>\n",
       "        <tr>\n",
       "            <td>1   </td> <td>0.15  </td>\n",
       "        </tr>\n",
       "        <tr>\n",
       "            <td>2   </td> <td>0.25  </td>\n",
       "        </tr>\n",
       "        <tr>\n",
       "            <td>3   </td> <td>0.3   </td>\n",
       "        </tr>\n",
       "        <tr>\n",
       "            <td>4   </td> <td>0.2   </td>\n",
       "        </tr>\n",
       "        <tr>\n",
       "            <td>5   </td> <td>0.1   </td>\n",
       "        </tr>\n",
       "    </tbody>\n",
       "</table>"
      ],
      "text/plain": [
       "x    | P(X=x)\n",
       "1    | 0.15\n",
       "2    | 0.25\n",
       "3    | 0.3\n",
       "4    | 0.2\n",
       "5    | 0.1"
      ]
     },
     "execution_count": 2,
     "metadata": {},
     "output_type": "execute_result"
    }
   ],
   "source": [
    "x = np.arange(1, 6)\n",
    "probs = make_array(0.15, 0.25, 0.3, 0.2, 0.1)\n",
    "dist = Table().values(x).probability(probs)\n",
    "dist = dist.relabel('Value', 'x').relabel('Probability', 'P(X=x)')\n",
    "dist"
   ]
  },
  {
   "cell_type": "markdown",
   "metadata": {},
   "source": [
    "Let $g$ be the function defined by $g(x) = \\vert x-3 \\vert$, and let $Y = g(X)$. In other words, $Y = \\vert X - 3 \\vert$. \n",
    "\n",
    "To calculate $E(Y)$, we first have to create a column that transforms the values of $X$ into values of $Y$:"
   ]
  },
  {
   "cell_type": "code",
   "execution_count": 3,
   "metadata": {},
   "outputs": [
    {
     "data": {
      "text/html": [
       "<table border=\"1\" class=\"dataframe\">\n",
       "    <thead>\n",
       "        <tr>\n",
       "            <th>x</th> <th>g(x)</th> <th>P(X=x)</th>\n",
       "        </tr>\n",
       "    </thead>\n",
       "    <tbody>\n",
       "        <tr>\n",
       "            <td>1   </td> <td>2   </td> <td>0.15  </td>\n",
       "        </tr>\n",
       "        <tr>\n",
       "            <td>2   </td> <td>1   </td> <td>0.25  </td>\n",
       "        </tr>\n",
       "        <tr>\n",
       "            <td>3   </td> <td>0   </td> <td>0.3   </td>\n",
       "        </tr>\n",
       "        <tr>\n",
       "            <td>4   </td> <td>1   </td> <td>0.2   </td>\n",
       "        </tr>\n",
       "        <tr>\n",
       "            <td>5   </td> <td>2   </td> <td>0.1   </td>\n",
       "        </tr>\n",
       "    </tbody>\n",
       "</table>"
      ],
      "text/plain": [
       "x    | g(x) | P(X=x)\n",
       "1    | 2    | 0.15\n",
       "2    | 1    | 0.25\n",
       "3    | 0    | 0.3\n",
       "4    | 1    | 0.2\n",
       "5    | 2    | 0.1"
      ]
     },
     "execution_count": 3,
     "metadata": {},
     "output_type": "execute_result"
    }
   ],
   "source": [
    "dist_with_Y = dist.with_column('g(x)', np.abs(dist.column('x')-3)).move_to_end('P(X=x)')\n",
    "\n",
    "dist_with_Y"
   ]
  },
  {
   "cell_type": "markdown",
   "metadata": {},
   "source": [
    "To get $E(Y)$, find the appropriate weighed average: multiply the `g(x)` and `P(X=x)` columns, and add. The calculation shows that $E(Y) = 0.95$."
   ]
  },
  {
   "cell_type": "code",
   "execution_count": 4,
   "metadata": {},
   "outputs": [
    {
     "data": {
      "text/plain": [
       "0.94999999999999996"
      ]
     },
     "execution_count": 4,
     "metadata": {},
     "output_type": "execute_result"
    }
   ],
   "source": [
    "ev_Y = sum(dist_with_Y.column('g(x)') * dist_with_Y.column('P(X=x)'))\n",
    "ev_Y"
   ]
  },
  {
   "cell_type": "markdown",
   "metadata": {},
   "source": [
    "### $Y = \\min(X, 3)$ ###\n",
    "Let $X$ be as above, but now let $Y = \\min(X, 3)$. We want $E(Y)$. What we know is the distribution of $X$:"
   ]
  },
  {
   "cell_type": "code",
   "execution_count": 5,
   "metadata": {},
   "outputs": [
    {
     "data": {
      "text/html": [
       "<table border=\"1\" class=\"dataframe\">\n",
       "    <thead>\n",
       "        <tr>\n",
       "            <th>x</th> <th>P(X=x)</th>\n",
       "        </tr>\n",
       "    </thead>\n",
       "    <tbody>\n",
       "        <tr>\n",
       "            <td>1   </td> <td>0.15  </td>\n",
       "        </tr>\n",
       "        <tr>\n",
       "            <td>2   </td> <td>0.25  </td>\n",
       "        </tr>\n",
       "        <tr>\n",
       "            <td>3   </td> <td>0.3   </td>\n",
       "        </tr>\n",
       "        <tr>\n",
       "            <td>4   </td> <td>0.2   </td>\n",
       "        </tr>\n",
       "        <tr>\n",
       "            <td>5   </td> <td>0.1   </td>\n",
       "        </tr>\n",
       "    </tbody>\n",
       "</table>"
      ],
      "text/plain": [
       "x    | P(X=x)\n",
       "1    | 0.15\n",
       "2    | 0.25\n",
       "3    | 0.3\n",
       "4    | 0.2\n",
       "5    | 0.1"
      ]
     },
     "execution_count": 5,
     "metadata": {},
     "output_type": "execute_result"
    }
   ],
   "source": [
    "dist"
   ]
  },
  {
   "cell_type": "markdown",
   "metadata": {},
   "source": [
    "To find $E(Y)$ we can just go row by row and replace the value of $x$ by the value of $\\min(x, 3)$, and then find the weighted average:"
   ]
  },
  {
   "cell_type": "code",
   "execution_count": 6,
   "metadata": {},
   "outputs": [
    {
     "data": {
      "text/plain": [
       "2.45"
      ]
     },
     "execution_count": 6,
     "metadata": {},
     "output_type": "execute_result"
    }
   ],
   "source": [
    "ev_Y = 1*0.15 + 2*0.25 + 3*0.3 + 3*0.2 + 3*0.1\n",
    "ev_Y"
   ]
  },
  {
   "cell_type": "markdown",
   "metadata": {},
   "source": [
    "### $E(X(X-1))$ for a Poisson Variable $X$ ###\n",
    "\n",
    "Let $X$ have the Poisson $(\\mu)$ distribution. \n",
    "\n",
    "$$\n",
    "\\begin{align*}\n",
    "E(X(X-1)) &= \\sum_{k=0}^\\infty k(k-1) e^{-\\mu} \\frac{\\mu^k}{k!} \\\\ \\\\\n",
    "&= e^{-\\mu} \\mu^2 \\sum_{k=2}^\\infty \\frac{\\mu^{k-2}}{(k-2)!} \\\\ \\\\\n",
    "&= e^{-\\mu}\\mu^2 e^\\mu \\\\ \\\\\n",
    "&= \\mu^2\n",
    "\\end{align*}\n",
    "$$\n",
    "\n",
    "In the next section we will use this to find $E(X^2)$. For now, notice that \n",
    "\n",
    "$$\n",
    "E(X^2) ~ = ~ \\sum_{k=0}^\\infty k^2 e^{-\\mu} \\frac{\\mu^k}{k!} ~ \\ge ~ \\sum_{k=0}^\\infty k(k-1) e^{-\\mu} \\frac{\\mu^k}{k!} ~ = ~ E(X(X-1)) ~ = ~ \\mu^2\n",
    "$$\n",
    "\n",
    "Since $E(X) = \\mu$, we have $E(X^2) \\ge (E(X))^2$. We will see later that this inequality is true for all random variables for which the expected square is finite."
   ]
  },
  {
   "cell_type": "code",
   "execution_count": 7,
   "metadata": {
    "collapsed": true
   },
   "outputs": [],
   "source": []
  }
 ],
 "metadata": {
  "anaconda-cloud": {},
  "celltoolbar": "Tags",
  "kernelspec": {
   "display_name": "Python 3",
   "language": "python",
   "name": "python3"
  },
  "language_info": {
   "codemirror_mode": {
    "name": "ipython",
    "version": 3
   },
   "file_extension": ".py",
   "mimetype": "text/x-python",
   "name": "python",
   "nbconvert_exporter": "python",
   "pygments_lexer": "ipython3",
   "version": "3.8.3"
  }
 },
 "nbformat": 4,
 "nbformat_minor": 1
}
