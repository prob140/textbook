{
 "cells": [
  {
   "cell_type": "markdown",
   "metadata": {},
   "source": [
    "## Exercises ##"
   ]
  },
  {
   "cell_type": "markdown",
   "metadata": {},
   "source": [
    "**1.** Two radioactive substances emit $\\alpha$-particles independently of each other. A counter records a Poisson $(5.41)$ number of particles from one substance and a Poisson $(3.87)$ number of particles from the other. Find the chance that the counter records at most four particles."
   ]
  },
  {
   "cell_type": "markdown",
   "metadata": {},
   "source": [
    "**2.** A gambler places two different kinds of bets. All her bets are independent of each other.\n",
    "\n",
    "- She has chance $1/n$ of winning the first kind of bet. She decides to place this bet $n$ times.\n",
    "- She has chance $1/m$ of winning the second kind of bet. She decides to place this bet $m$ times.\n",
    "\n",
    "Suppose $m \\ne n$ and assume both $m$ and $n$ are large.\n",
    "\n",
    "Let $T$ be the total number of bets the gambler wins. Find or approximate the distribution of $T$. Your answer should be one of the famous distributions along with the appropriate parameters."
   ]
  },
  {
   "cell_type": "markdown",
   "metadata": {},
   "source": [
    "**3.** In the first hour that a bank opens, the customers who enter are of three kinds: those who only require teller service, those who only want to use the ATM, and those who only require special services (neither the tellers nor the ATM). Assume that the numbers of customers of the three kinds are independent of each other and also that:\n",
    "\n",
    "- the number that only require teller service has the Poisson (6) distribution,\n",
    "- the number that only want to use the ATM has the Poisson (2) distribution, and\n",
    "- the number that only require special services has the Poisson (1) distribution.\n",
    "\n",
    "Suppose you observe the bank in the first hour that it opens. In each part below, find the chance of the event described.\n",
    "\n",
    "(a) 12 customers enter the bank\n",
    "\n",
    "(b) more than 12 customers enter the bank\n",
    "\n",
    "(c) customers do enter but none requires special services"
   ]
  },
  {
   "cell_type": "markdown",
   "metadata": {},
   "source": [
    "**4.** On every page of a book, the number of misprints has the Poisson $(\\mu)$ distribution, and misprints on different pages are independent of each other.\n",
    "\n",
    "(a) What is the distribution of the number of misprints on the first 20 pages?\n",
    "\n",
    "(b) A proof-reader reads the book starting at Page 1. Assume that the proof-reader finds every misprint. What is the chance that he finds the fifth misprint on Page 21?\n",
    "\n",
    "(c) I also read the book starting at Page 1. Assume that I notice each misprint with chance $3/4$ independently of all other misprints. What is the chance that I notice at least one misprint on the first 20 pages and also miss at least one misprint on those pages?\n"
   ]
  },
  {
   "cell_type": "markdown",
   "metadata": {},
   "source": [
    "**5.** Let $X_1, X_2, \\ldots, X_n$ be i.i.d. Poisson $(\\lambda)$ random variables, and let $S_n = X_1 + X_2 + \\cdots + X_n$.\n",
    "\n",
    "Let $A_n = S_n/n$ be the *sample average*. For a non-negative integer $k$, find $P(A_n \\le k)$.\n"
   ]
  },
  {
   "cell_type": "markdown",
   "metadata": {},
   "source": [
    "**6.** Use consecutive odds ratios to find the mode of the Poisson($\\mu$) distribution. Be careful about the case where $\\mu$ is an integer."
   ]
  },
  {
   "cell_type": "markdown",
   "metadata": {},
   "source": [
    "**7.** Each car that I see has chance 0.2 of being a hybrid and chance 0.1 of being electric, independently of all other cars. \n",
    "\n",
    "(a) Suppose I see $15$ cars. Find the chance that I see 3 hybrid cars, 2 electric cars,\n",
    "and 10 cars of other types.\n",
    "\n",
    "(b) Suppose the number of cars I see has the Poisson $(15)$ distribution. Find the chance that I see 3 hybrid cars, 2 electric cars,\n",
    "and 10 cars of other types."
   ]
  },
  {
   "cell_type": "markdown",
   "metadata": {},
   "source": [
    "**8.** Suppose you have $N$ balls where $N$ has the Poisson $(\\lambda)$ distribution. Each ball is thrown into into one of $m$ bins chosen uniformly at random, independent of all other balls. Find $P(\\text{there is an empty bin})$."
   ]
  },
  {
   "cell_type": "code",
   "execution_count": null,
   "metadata": {},
   "outputs": [],
   "source": []
  }
 ],
 "metadata": {
  "kernelspec": {
   "display_name": "Python 3",
   "language": "python",
   "name": "python3"
  },
  "language_info": {
   "codemirror_mode": {
    "name": "ipython",
    "version": 3
   },
   "file_extension": ".py",
   "mimetype": "text/x-python",
   "name": "python",
   "nbconvert_exporter": "python",
   "pygments_lexer": "ipython3",
   "version": "3.8.3"
  }
 },
 "nbformat": 4,
 "nbformat_minor": 4
}
